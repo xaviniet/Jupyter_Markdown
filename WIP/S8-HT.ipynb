{
 "cells": [
  {
   "cell_type": "markdown",
   "id": "coral-spotlight",
   "metadata": {},
   "source": [
    "# Tasca del test d'hipòtesis\n",
    "\n",
    "**Descripció**  \n",
    "Aprèn a realitzar test d'hipòtesis amb Python."
   ]
  },
  {
   "cell_type": "code",
   "execution_count": 1,
   "id": "c4df1dfc-79ed-412b-934f-20d858cd5561",
   "metadata": {},
   "outputs": [],
   "source": [
    "import pandas as pd\n",
    "import numpy as np\n",
    "import random\n",
    "import statistics as st\n",
    "import scipy \n",
    "\n",
    "import matplotlib.pyplot as plt\n",
    "import seaborn as sns\n",
    "\n",
    "from collections import Counter\n",
    "\n",
    "import warnings\n",
    "warnings.simplefilter('ignore')"
   ]
  },
  {
   "cell_type": "code",
   "execution_count": 2,
   "id": "75a1b6bb-d932-48e7-8927-f1085f6aa2ea",
   "metadata": {},
   "outputs": [],
   "source": [
    "PATH = '../data-sources/'\n",
    "\n",
    "dtypes = {'position':'category', 'team':'category'}\n",
    "mlb = pd.read_csv(PATH+'mlbBat10.txt', sep='\\t', dtype=dtypes)\n"
   ]
  },
  {
   "cell_type": "markdown",
   "id": "2ee07db9-531e-4f67-af13-a58e8ec6495d",
   "metadata": {},
   "source": [
    "Recordem les dades [mlbBat10.txt](./data-sources/mlbBat10.txt). La descripció dels camps la trobem [aquí](https://www.openintro.org/data/index.php?data=mlbbat10)\n",
    "\n",
    "Format\n",
    "A data frame with 1199 observations on the following 19 variables.\n",
    "\n",
    "|camp|descripció|\n",
    "|-|-|\n",
    "|**name**|Player name|\n",
    "|**team**|Team abbreviation|\n",
    "|**position**|Player position|\n",
    "|**G** game|Number of games|\n",
    "|**AB** at_bat|Number of at bats|\n",
    "|**R** run|Number of runs|\n",
    "|**H** hit|Number of hits|\n",
    "|**2B** double|Number of doubles|\n",
    "|**3B** triple|Number of triples|\n",
    "|**HR** home_run|Number of home runs|\n",
    "|**RBI** rbi|Number of runs batted in|\n",
    "|**TB** total_base|Total bases, computed as 3HR + 23B + 1*2B + H|\n",
    "|**BB** walk|Number of walks|\n",
    "|**SO** strike_out|Number of strikeouts|\n",
    "|**SB** stolen_base|Number of stolen bases|\n",
    "|**CS** caught_stealing|Number of times caught stealing|\n",
    "|**OBP** obp|On base percentage|\n",
    "|**SLG** slg|Slugging percentage (total_base / at_bat)|\n",
    "|**AVG** bat_avg|Batting average|"
   ]
  },
  {
   "cell_type": "code",
   "execution_count": 3,
   "id": "eb2754d9-bb4a-444d-b239-74191e375a10",
   "metadata": {},
   "outputs": [
    {
     "data": {
      "text/html": [
       "<div>\n",
       "<style scoped>\n",
       "    .dataframe tbody tr th:only-of-type {\n",
       "        vertical-align: middle;\n",
       "    }\n",
       "\n",
       "    .dataframe tbody tr th {\n",
       "        vertical-align: top;\n",
       "    }\n",
       "\n",
       "    .dataframe thead th {\n",
       "        text-align: right;\n",
       "    }\n",
       "</style>\n",
       "<table border=\"1\" class=\"dataframe\">\n",
       "  <thead>\n",
       "    <tr style=\"text-align: right;\">\n",
       "      <th></th>\n",
       "      <th>count</th>\n",
       "      <th>mean</th>\n",
       "      <th>std</th>\n",
       "      <th>min</th>\n",
       "      <th>25%</th>\n",
       "      <th>50%</th>\n",
       "      <th>75%</th>\n",
       "      <th>max</th>\n",
       "    </tr>\n",
       "  </thead>\n",
       "  <tbody>\n",
       "    <tr>\n",
       "      <th>G</th>\n",
       "      <td>1199.0</td>\n",
       "      <td>50.534612</td>\n",
       "      <td>49.544371</td>\n",
       "      <td>1.0</td>\n",
       "      <td>8.0</td>\n",
       "      <td>31.000</td>\n",
       "      <td>84.000</td>\n",
       "      <td>162.0</td>\n",
       "    </tr>\n",
       "    <tr>\n",
       "      <th>AB</th>\n",
       "      <td>1199.0</td>\n",
       "      <td>137.909091</td>\n",
       "      <td>188.126913</td>\n",
       "      <td>0.0</td>\n",
       "      <td>1.0</td>\n",
       "      <td>37.000</td>\n",
       "      <td>225.000</td>\n",
       "      <td>680.0</td>\n",
       "    </tr>\n",
       "    <tr>\n",
       "      <th>R</th>\n",
       "      <td>1199.0</td>\n",
       "      <td>17.771476</td>\n",
       "      <td>27.051262</td>\n",
       "      <td>0.0</td>\n",
       "      <td>0.0</td>\n",
       "      <td>3.000</td>\n",
       "      <td>26.500</td>\n",
       "      <td>115.0</td>\n",
       "    </tr>\n",
       "    <tr>\n",
       "      <th>H</th>\n",
       "      <td>1199.0</td>\n",
       "      <td>35.491243</td>\n",
       "      <td>51.908498</td>\n",
       "      <td>0.0</td>\n",
       "      <td>0.0</td>\n",
       "      <td>6.000</td>\n",
       "      <td>56.000</td>\n",
       "      <td>214.0</td>\n",
       "    </tr>\n",
       "    <tr>\n",
       "      <th>2B</th>\n",
       "      <td>1199.0</td>\n",
       "      <td>7.077565</td>\n",
       "      <td>10.812941</td>\n",
       "      <td>0.0</td>\n",
       "      <td>0.0</td>\n",
       "      <td>1.000</td>\n",
       "      <td>11.000</td>\n",
       "      <td>49.0</td>\n",
       "    </tr>\n",
       "    <tr>\n",
       "      <th>3B</th>\n",
       "      <td>1199.0</td>\n",
       "      <td>0.722269</td>\n",
       "      <td>1.601990</td>\n",
       "      <td>0.0</td>\n",
       "      <td>0.0</td>\n",
       "      <td>0.000</td>\n",
       "      <td>1.000</td>\n",
       "      <td>14.0</td>\n",
       "    </tr>\n",
       "    <tr>\n",
       "      <th>HR</th>\n",
       "      <td>1199.0</td>\n",
       "      <td>3.847373</td>\n",
       "      <td>7.372345</td>\n",
       "      <td>0.0</td>\n",
       "      <td>0.0</td>\n",
       "      <td>0.000</td>\n",
       "      <td>4.000</td>\n",
       "      <td>54.0</td>\n",
       "    </tr>\n",
       "    <tr>\n",
       "      <th>RBI</th>\n",
       "      <td>1199.0</td>\n",
       "      <td>16.920767</td>\n",
       "      <td>26.636637</td>\n",
       "      <td>0.0</td>\n",
       "      <td>0.0</td>\n",
       "      <td>2.000</td>\n",
       "      <td>25.000</td>\n",
       "      <td>126.0</td>\n",
       "    </tr>\n",
       "    <tr>\n",
       "      <th>TB</th>\n",
       "      <td>1199.0</td>\n",
       "      <td>55.555463</td>\n",
       "      <td>83.717936</td>\n",
       "      <td>0.0</td>\n",
       "      <td>0.0</td>\n",
       "      <td>8.000</td>\n",
       "      <td>82.500</td>\n",
       "      <td>351.0</td>\n",
       "    </tr>\n",
       "    <tr>\n",
       "      <th>BB</th>\n",
       "      <td>1199.0</td>\n",
       "      <td>13.159299</td>\n",
       "      <td>20.737459</td>\n",
       "      <td>0.0</td>\n",
       "      <td>0.0</td>\n",
       "      <td>2.000</td>\n",
       "      <td>20.000</td>\n",
       "      <td>114.0</td>\n",
       "    </tr>\n",
       "    <tr>\n",
       "      <th>SO</th>\n",
       "      <td>1199.0</td>\n",
       "      <td>28.612177</td>\n",
       "      <td>38.441364</td>\n",
       "      <td>0.0</td>\n",
       "      <td>1.0</td>\n",
       "      <td>10.000</td>\n",
       "      <td>44.000</td>\n",
       "      <td>211.0</td>\n",
       "    </tr>\n",
       "    <tr>\n",
       "      <th>SB</th>\n",
       "      <td>1199.0</td>\n",
       "      <td>2.467890</td>\n",
       "      <td>6.480130</td>\n",
       "      <td>0.0</td>\n",
       "      <td>0.0</td>\n",
       "      <td>0.000</td>\n",
       "      <td>1.000</td>\n",
       "      <td>68.0</td>\n",
       "    </tr>\n",
       "    <tr>\n",
       "      <th>CS</th>\n",
       "      <td>1199.0</td>\n",
       "      <td>0.941618</td>\n",
       "      <td>2.161646</td>\n",
       "      <td>0.0</td>\n",
       "      <td>0.0</td>\n",
       "      <td>0.000</td>\n",
       "      <td>1.000</td>\n",
       "      <td>18.0</td>\n",
       "    </tr>\n",
       "    <tr>\n",
       "      <th>OBP</th>\n",
       "      <td>1199.0</td>\n",
       "      <td>0.205531</td>\n",
       "      <td>0.173192</td>\n",
       "      <td>0.0</td>\n",
       "      <td>0.0</td>\n",
       "      <td>0.255</td>\n",
       "      <td>0.324</td>\n",
       "      <td>1.0</td>\n",
       "    </tr>\n",
       "    <tr>\n",
       "      <th>SLG</th>\n",
       "      <td>1199.0</td>\n",
       "      <td>0.237613</td>\n",
       "      <td>0.236077</td>\n",
       "      <td>0.0</td>\n",
       "      <td>0.0</td>\n",
       "      <td>0.273</td>\n",
       "      <td>0.394</td>\n",
       "      <td>4.0</td>\n",
       "    </tr>\n",
       "    <tr>\n",
       "      <th>AVG</th>\n",
       "      <td>1199.0</td>\n",
       "      <td>0.159374</td>\n",
       "      <td>0.144587</td>\n",
       "      <td>0.0</td>\n",
       "      <td>0.0</td>\n",
       "      <td>0.195</td>\n",
       "      <td>0.259</td>\n",
       "      <td>1.0</td>\n",
       "    </tr>\n",
       "  </tbody>\n",
       "</table>\n",
       "</div>"
      ],
      "text/plain": [
       "      count        mean         std  min  25%     50%      75%    max\n",
       "G    1199.0   50.534612   49.544371  1.0  8.0  31.000   84.000  162.0\n",
       "AB   1199.0  137.909091  188.126913  0.0  1.0  37.000  225.000  680.0\n",
       "R    1199.0   17.771476   27.051262  0.0  0.0   3.000   26.500  115.0\n",
       "H    1199.0   35.491243   51.908498  0.0  0.0   6.000   56.000  214.0\n",
       "2B   1199.0    7.077565   10.812941  0.0  0.0   1.000   11.000   49.0\n",
       "3B   1199.0    0.722269    1.601990  0.0  0.0   0.000    1.000   14.0\n",
       "HR   1199.0    3.847373    7.372345  0.0  0.0   0.000    4.000   54.0\n",
       "RBI  1199.0   16.920767   26.636637  0.0  0.0   2.000   25.000  126.0\n",
       "TB   1199.0   55.555463   83.717936  0.0  0.0   8.000   82.500  351.0\n",
       "BB   1199.0   13.159299   20.737459  0.0  0.0   2.000   20.000  114.0\n",
       "SO   1199.0   28.612177   38.441364  0.0  1.0  10.000   44.000  211.0\n",
       "SB   1199.0    2.467890    6.480130  0.0  0.0   0.000    1.000   68.0\n",
       "CS   1199.0    0.941618    2.161646  0.0  0.0   0.000    1.000   18.0\n",
       "OBP  1199.0    0.205531    0.173192  0.0  0.0   0.255    0.324    1.0\n",
       "SLG  1199.0    0.237613    0.236077  0.0  0.0   0.273    0.394    4.0\n",
       "AVG  1199.0    0.159374    0.144587  0.0  0.0   0.195    0.259    1.0"
      ]
     },
     "execution_count": 3,
     "metadata": {},
     "output_type": "execute_result"
    }
   ],
   "source": [
    "mlb.describe().T"
   ]
  },
  {
   "cell_type": "code",
   "execution_count": 4,
   "id": "636a7a01-01f1-4bf5-86e9-d07ce13fcfa7",
   "metadata": {},
   "outputs": [
    {
     "name": "stdout",
     "output_type": "stream",
     "text": [
      "<class 'pandas.core.frame.DataFrame'>\n",
      "RangeIndex: 1199 entries, 0 to 1198\n",
      "Data columns (total 19 columns):\n",
      " #   Column    Non-Null Count  Dtype   \n",
      "---  ------    --------------  -----   \n",
      " 0   name      1199 non-null   object  \n",
      " 1   team      1199 non-null   category\n",
      " 2   position  1199 non-null   category\n",
      " 3   G         1199 non-null   int64   \n",
      " 4   AB        1199 non-null   int64   \n",
      " 5   R         1199 non-null   int64   \n",
      " 6   H         1199 non-null   int64   \n",
      " 7   2B        1199 non-null   int64   \n",
      " 8   3B        1199 non-null   int64   \n",
      " 9   HR        1199 non-null   int64   \n",
      " 10  RBI       1199 non-null   int64   \n",
      " 11  TB        1199 non-null   int64   \n",
      " 12  BB        1199 non-null   int64   \n",
      " 13  SO        1199 non-null   int64   \n",
      " 14  SB        1199 non-null   int64   \n",
      " 15  CS        1199 non-null   int64   \n",
      " 16  OBP       1199 non-null   float64 \n",
      " 17  SLG       1199 non-null   float64 \n",
      " 18  AVG       1199 non-null   float64 \n",
      "dtypes: category(2), float64(3), int64(13), object(1)\n",
      "memory usage: 163.4+ KB\n"
     ]
    }
   ],
   "source": [
    "mlb.info()"
   ]
  },
  {
   "cell_type": "code",
   "execution_count": 5,
   "id": "a6e4e3a1-3b9d-492c-b2af-6299ba1155f7",
   "metadata": {},
   "outputs": [
    {
     "data": {
      "text/html": [
       "<div>\n",
       "<style scoped>\n",
       "    .dataframe tbody tr th:only-of-type {\n",
       "        vertical-align: middle;\n",
       "    }\n",
       "\n",
       "    .dataframe tbody tr th {\n",
       "        vertical-align: top;\n",
       "    }\n",
       "\n",
       "    .dataframe thead th {\n",
       "        text-align: right;\n",
       "    }\n",
       "</style>\n",
       "<table border=\"1\" class=\"dataframe\">\n",
       "  <thead>\n",
       "    <tr style=\"text-align: right;\">\n",
       "      <th></th>\n",
       "      <th>name</th>\n",
       "      <th>team</th>\n",
       "      <th>position</th>\n",
       "      <th>G</th>\n",
       "      <th>AB</th>\n",
       "      <th>R</th>\n",
       "      <th>H</th>\n",
       "      <th>2B</th>\n",
       "      <th>3B</th>\n",
       "      <th>HR</th>\n",
       "      <th>RBI</th>\n",
       "      <th>TB</th>\n",
       "      <th>BB</th>\n",
       "      <th>SO</th>\n",
       "      <th>SB</th>\n",
       "      <th>CS</th>\n",
       "      <th>OBP</th>\n",
       "      <th>SLG</th>\n",
       "      <th>AVG</th>\n",
       "    </tr>\n",
       "  </thead>\n",
       "  <tbody>\n",
       "    <tr>\n",
       "      <th>0</th>\n",
       "      <td>I Suzuki</td>\n",
       "      <td>SEA</td>\n",
       "      <td>OF</td>\n",
       "      <td>162</td>\n",
       "      <td>680</td>\n",
       "      <td>74</td>\n",
       "      <td>214</td>\n",
       "      <td>30</td>\n",
       "      <td>3</td>\n",
       "      <td>6</td>\n",
       "      <td>43</td>\n",
       "      <td>268</td>\n",
       "      <td>45</td>\n",
       "      <td>86</td>\n",
       "      <td>42</td>\n",
       "      <td>9</td>\n",
       "      <td>0.359</td>\n",
       "      <td>0.394</td>\n",
       "      <td>0.315</td>\n",
       "    </tr>\n",
       "    <tr>\n",
       "      <th>1</th>\n",
       "      <td>D Jeter</td>\n",
       "      <td>NYY</td>\n",
       "      <td>SS</td>\n",
       "      <td>157</td>\n",
       "      <td>663</td>\n",
       "      <td>111</td>\n",
       "      <td>179</td>\n",
       "      <td>30</td>\n",
       "      <td>3</td>\n",
       "      <td>10</td>\n",
       "      <td>67</td>\n",
       "      <td>245</td>\n",
       "      <td>63</td>\n",
       "      <td>106</td>\n",
       "      <td>18</td>\n",
       "      <td>5</td>\n",
       "      <td>0.340</td>\n",
       "      <td>0.370</td>\n",
       "      <td>0.270</td>\n",
       "    </tr>\n",
       "    <tr>\n",
       "      <th>2</th>\n",
       "      <td>M Young</td>\n",
       "      <td>TEX</td>\n",
       "      <td>3B</td>\n",
       "      <td>157</td>\n",
       "      <td>656</td>\n",
       "      <td>99</td>\n",
       "      <td>186</td>\n",
       "      <td>36</td>\n",
       "      <td>3</td>\n",
       "      <td>21</td>\n",
       "      <td>91</td>\n",
       "      <td>291</td>\n",
       "      <td>50</td>\n",
       "      <td>115</td>\n",
       "      <td>4</td>\n",
       "      <td>2</td>\n",
       "      <td>0.330</td>\n",
       "      <td>0.444</td>\n",
       "      <td>0.284</td>\n",
       "    </tr>\n",
       "    <tr>\n",
       "      <th>3</th>\n",
       "      <td>J Pierre</td>\n",
       "      <td>CWS</td>\n",
       "      <td>OF</td>\n",
       "      <td>160</td>\n",
       "      <td>651</td>\n",
       "      <td>96</td>\n",
       "      <td>179</td>\n",
       "      <td>18</td>\n",
       "      <td>3</td>\n",
       "      <td>1</td>\n",
       "      <td>47</td>\n",
       "      <td>206</td>\n",
       "      <td>45</td>\n",
       "      <td>47</td>\n",
       "      <td>68</td>\n",
       "      <td>18</td>\n",
       "      <td>0.341</td>\n",
       "      <td>0.316</td>\n",
       "      <td>0.275</td>\n",
       "    </tr>\n",
       "    <tr>\n",
       "      <th>4</th>\n",
       "      <td>R Weeks</td>\n",
       "      <td>MIL</td>\n",
       "      <td>2B</td>\n",
       "      <td>160</td>\n",
       "      <td>651</td>\n",
       "      <td>112</td>\n",
       "      <td>175</td>\n",
       "      <td>32</td>\n",
       "      <td>4</td>\n",
       "      <td>29</td>\n",
       "      <td>83</td>\n",
       "      <td>302</td>\n",
       "      <td>76</td>\n",
       "      <td>184</td>\n",
       "      <td>11</td>\n",
       "      <td>4</td>\n",
       "      <td>0.366</td>\n",
       "      <td>0.464</td>\n",
       "      <td>0.269</td>\n",
       "    </tr>\n",
       "  </tbody>\n",
       "</table>\n",
       "</div>"
      ],
      "text/plain": [
       "       name team position    G   AB    R    H  2B  3B  HR  RBI   TB  BB   SO  \\\n",
       "0  I Suzuki  SEA       OF  162  680   74  214  30   3   6   43  268  45   86   \n",
       "1   D Jeter  NYY       SS  157  663  111  179  30   3  10   67  245  63  106   \n",
       "2   M Young  TEX       3B  157  656   99  186  36   3  21   91  291  50  115   \n",
       "3  J Pierre  CWS       OF  160  651   96  179  18   3   1   47  206  45   47   \n",
       "4   R Weeks  MIL       2B  160  651  112  175  32   4  29   83  302  76  184   \n",
       "\n",
       "   SB  CS    OBP    SLG    AVG  \n",
       "0  42   9  0.359  0.394  0.315  \n",
       "1  18   5  0.340  0.370  0.270  \n",
       "2   4   2  0.330  0.444  0.284  \n",
       "3  68  18  0.341  0.316  0.275  \n",
       "4  11   4  0.366  0.464  0.269  "
      ]
     },
     "execution_count": 5,
     "metadata": {},
     "output_type": "execute_result"
    }
   ],
   "source": [
    "mlb.head()"
   ]
  },
  {
   "cell_type": "code",
   "execution_count": 6,
   "id": "8bcd84d2-b871-47a9-9195-f1034e8fbf1a",
   "metadata": {},
   "outputs": [
    {
     "data": {
      "image/png": "[encoded data removed]",
      "text/plain": [
       "<Figure size 1080x2520 with 16 Axes>"
      ]
     },
     "metadata": {
      "needs_background": "light"
     },
     "output_type": "display_data"
    }
   ],
   "source": [
    "cols_num = mlb._get_numeric_data().columns\n",
    "\n",
    "fig, axes = plt.subplots(len(cols_num)//2, 2, figsize=(15,35))\n",
    "\n",
    "for col, ax in zip(cols_num, axes.flatten()):\n",
    "    sns.kdeplot(mlb[col], shade=True, ax=ax)\n",
    "#     ax.set_title(col)\n",
    "\n"
   ]
  },
  {
   "cell_type": "code",
   "execution_count": 7,
   "id": "fafca45a-7aee-428f-b8c5-26d12a7de7a4",
   "metadata": {},
   "outputs": [
    {
     "data": {
      "text/plain": [
       "array([[1.        , 0.99999882],\n",
       "       [0.99999882, 1.        ]])"
      ]
     },
     "execution_count": 7,
     "metadata": {},
     "output_type": "execute_result"
    }
   ],
   "source": [
    "np.corrcoef(mlb.AVG, (mlb.H/mlb.AB).fillna(0))"
   ]
  },
  {
   "cell_type": "code",
   "execution_count": 8,
   "id": "55c9b790-0d9c-40e8-adf3-1d624ea1e610",
   "metadata": {},
   "outputs": [
    {
     "data": {
      "text/plain": [
       "214      1\n",
       "200      1\n",
       "197      1\n",
       "189      2\n",
       "188      1\n",
       "      ... \n",
       "4       23\n",
       "3       29\n",
       "2       32\n",
       "1       65\n",
       "0      407\n",
       "Name: H, Length: 176, dtype: int64"
      ]
     },
     "execution_count": 8,
     "metadata": {},
     "output_type": "execute_result"
    }
   ],
   "source": [
    "mlb.H.value_counts().sort_index(ascending=False)"
   ]
  },
  {
   "cell_type": "markdown",
   "id": "industrial-heavy",
   "metadata": {},
   "source": [
    "## Nivell 1\n",
    "### Exercici 1\n",
    "Agafa un conjunt de dades de tema esportiu que t'agradi i selecciona un atribut del conjunt de dades. Calcula el p-valor i digues si rebutja la hipòtesi nul·la agafant un alfa de 5%. \n",
    "\n",
    "Hem escollit el Mlbbat10.txt, i l'hem carregat (la separació entre camps es un tabulador)\n",
    "\n",
    "- Agafem l'atribut ```AVG```\n"
   ]
  },
  {
   "cell_type": "code",
   "execution_count": 9,
   "id": "0ace2ba1-90d8-4d0d-9ca7-ea4425bbe3af",
   "metadata": {},
   "outputs": [
    {
     "data": {
      "text/plain": [
       "<seaborn.axisgrid.FacetGrid at 0x148e26880>"
      ]
     },
     "execution_count": 9,
     "metadata": {},
     "output_type": "execute_result"
    },
    {
     "data": {
      "image/png": "[encoded data removed]",
      "text/plain": [
       "<Figure size 360x360 with 1 Axes>"
      ]
     },
     "metadata": {
      "needs_background": "light"
     },
     "output_type": "display_data"
    }
   ],
   "source": [
    "dades = mlb.AVG\n",
    "sns.displot(dades, kind='hist')"
   ]
  },
  {
   "cell_type": "markdown",
   "id": "7ecb767f-b339-411a-8ce6-83daf84d2f93",
   "metadata": {},
   "source": [
    "Observem que no hi sembla una distribució normal. Ho comprovem, fent una hipòtesi:\n",
    "\n",
    "$$ \\begin{align}\n",
    "&\\text{H}_0 : X \\sim \\mathcal{N}(\\mu, \\sigma^2) \\\\\n",
    "&\\text{H}_1 : X \\nsim \\mathcal{N}(\\mu, \\sigma^2) \\\\\n",
    "&\\alpha = 0.05\n",
    "\\end{align}\n",
    "$$\n",
    "\n",
    "Bàsicament definim la hipòtesi nul·la com que la distribució _X_ es normal. \n"
   ]
  },
  {
   "cell_type": "code",
   "execution_count": 10,
   "id": "9cd47469-5ce0-481b-8e73-5759422e16ae",
   "metadata": {},
   "outputs": [
    {
     "name": "stdout",
     "output_type": "stream",
     "text": [
      "p = 5.88119e-88\n",
      "Podem rebutjar la hipòtesi nul·la\n"
     ]
    }
   ],
   "source": [
    "\n",
    "k2, p = scipy.stats.normaltest(dades)\n",
    "alpha = 0.05\n",
    "print(\"p = {:g}\".format(p))\n",
    "if p < alpha:  \n",
    "    print(\"Podem rebutjar la hipòtesi nul·la\")\n",
    "else:\n",
    "    print(\"No podem rebutjar la hipòtesi nul·la\")"
   ]
  },
  {
   "cell_type": "markdown",
   "id": "f6f29c17-9197-4b70-ba29-24fd4098cb8a",
   "metadata": {},
   "source": [
    "##### Considerarem els jugadors que, al menys, han provat 10 batades ```mlb.AB >= 10```."
   ]
  },
  {
   "cell_type": "code",
   "execution_count": 11,
   "id": "215d5f3b-e5ac-4d7d-aba8-0b67bab00efc",
   "metadata": {},
   "outputs": [
    {
     "name": "stdout",
     "output_type": "stream",
     "text": [
      "p = 1.75007e-20\n",
      "Podem rebutjar la hipòtesi nul·la\n"
     ]
    },
    {
     "data": {
      "image/png": "[encoded data removed]",
      "text/plain": [
       "<Figure size 360x360 with 1 Axes>"
      ]
     },
     "metadata": {
      "needs_background": "light"
     },
     "output_type": "display_data"
    }
   ],
   "source": [
    "filtre = mlb.AB >= 10\n",
    "dades = mlb[filtre].AVG.copy()\n",
    "sns.displot(dades, kind='hist')\n",
    "\n",
    "k2, p = scipy.stats.normaltest(dades)\n",
    "alpha = 0.05\n",
    "print(\"p = {:g}\".format(p))\n",
    "if p < alpha:  \n",
    "    print(\"Podem rebutjar la hipòtesi nul·la\")\n",
    "else:\n",
    "    print(\"No podem rebutjar la hipòtesi nul·la\")"
   ]
  },
  {
   "cell_type": "code",
   "execution_count": 12,
   "id": "3ad292b5-5833-4b4e-8fbf-bb64d8480c1e",
   "metadata": {},
   "outputs": [
    {
     "name": "stdout",
     "output_type": "stream",
     "text": [
      "p = 3.6604912627398814e-16\n",
      "Podem rebutjar la hipòtesi nul·la\n"
     ]
    }
   ],
   "source": [
    "# Shapiro-Wilk\n",
    "\n",
    "k2, p = scipy.stats.shapiro(dades)\n",
    "alpha = 0.05\n",
    "print(f'p = {p}')\n",
    "if p < alpha:  \n",
    "    print(\"Podem rebutjar la hipòtesi nul·la\")\n",
    "else:\n",
    "    print(\"No podem rebutjar la hipòtesi nul·la\")"
   ]
  },
  {
   "cell_type": "markdown",
   "id": "operational-sustainability",
   "metadata": {},
   "source": [
    "## Nivell 2\n",
    "### Exercici 2\n",
    "Continua amb el conjunt de dades de tema esportiu que t'agradi i selecciona dos atributs del conjunt de dades. Calcula el p-valor i digues si rebutja la hipòtesi nul·la agafant un alfa de 5%."
   ]
  },
  {
   "cell_type": "markdown",
   "id": "9dba24bf-df7b-4912-b4aa-48d05581d9f4",
   "metadata": {},
   "source": [
    "Seleccionem el camp `AVG` i definim la hipòtesi:\n",
    "\n",
    "- $H_0$: $ \\mu_p \\ge \\mu_o \\equiv \\mu_p - \\mu_o \\ge 0$ els jugadors a la posició Pitcher que han batejat 10 cops o més tenen el mateix, o més, percentatge de bateig que la resta que han batejat 10 cops o més\n",
    "\n",
    "- $H_1$: $ \\mu_p \\lt \\mu_o \\equiv \\mu_p - \\mu_o < 0$ els Pitchers tenen pitjor percentatge de bateig que la resta (amb bateig de 10 cops o més)\n",
    "\n",
    "$\\alpha = 0.05$ \n",
    "\n"
   ]
  },
  {
   "cell_type": "markdown",
   "id": "81aad1fd-6c30-4183-9b46-322362fc0e64",
   "metadata": {},
   "source": [
    "#### Fem servir el test de Welch (no podem asumir que les variances siguin iguals)\n",
    "\n",
    "Informació sobre el [test de Welch ](https://en.wikipedia.org/wiki/Welch%27s_t-test)\n",
    "$$\n",
    "\\textit{T}(\\textbf{X}, \\textbf{Y}) = \\frac{\\left| \\bar{X} - \\bar{Y} \\right|}{\\sqrt{\\frac{s_x^2}{n_x}+\\frac{s_y^2}{n_y}}}\n",
    "$$\n",
    "\n",
    "i els degrees of freedom:\n",
    "\n",
    "$$\n",
    "\\textit{v} = \\bigg(\\frac{s_x^2}{n_x}+\\frac{s_y^2}{n_y}\\bigg)^2 / \\bigg( \\frac{(s_x^2/n_x)^2}{n_x-1} + \\frac{(s_y^2/n_y)^2}{n_y-1}\n",
    "\\bigg)\n",
    "$$\n",
    "\n",
    "s'implementa a [scikit-learn](https://docs.scipy.org/doc/scipy/reference/generated/scipy.stats.ttest_ind.html) amb el paràmetre ```equal_var = False```\n"
   ]
  },
  {
   "cell_type": "code",
   "execution_count": 13,
   "id": "05929429-9f31-4a97-892d-82fa661f6ecd",
   "metadata": {},
   "outputs": [
    {
     "name": "stdout",
     "output_type": "stream",
     "text": [
      "p = 4.1851613754637484e-08\n",
      "valor estadística: -6.822597490399954\n",
      "Podem rebutjar la hipòtesi nul·la\n"
     ]
    }
   ],
   "source": [
    "filtre = mlb.AB >= 10\n",
    "dades = mlb[filtre].copy()\n",
    "sample = dades.sample(200)\n",
    "pitcher = sample.position == 'P'\n",
    "\n",
    "alpha = 0.05\n",
    "\n",
    "sample_p = sample[pitcher].AVG\n",
    "sample_np = sample[~pitcher].AVG\n",
    "\n",
    "st, p = scipy.stats.ttest_ind(sample_p,sample_np, equal_var=False, alternative='less')\n",
    "\n",
    "print(f'p = {p}\\nvalor estadística: {st}')\n",
    "if p < alpha:  \n",
    "    print(\"Podem rebutjar la hipòtesi nul·la\")\n",
    "else:\n",
    "    print(\"No podem rebutjar la hipòtesi nul·la\")"
   ]
  },
  {
   "cell_type": "markdown",
   "id": "397dfcf6-c554-4746-b472-ae660f2360f9",
   "metadata": {},
   "source": [
    "#### Provem amb bootstraping\n",
    "\n",
    "> Ens basarem en diversos documents, però especialment en [aquest](https://www.cienciadedatos.net/documentos/pystats04-bootstrapping-python.html)\n",
    "\n",
    "Com es tracta de mostres obtingudes de forma aleatòria, amb individus de cadascun dels grups, el mètode de bootstrapping es adeqüat.\n",
    "\n",
    "Generem un camp per a segmentar pitchers dels altres"
   ]
  },
  {
   "cell_type": "code",
   "execution_count": 14,
   "id": "8b93b2a0-a24e-4388-8975-c9e7351263cc",
   "metadata": {},
   "outputs": [],
   "source": [
    "filtre = mlb.AB >=10\n",
    "dades = mlb[filtre].copy()\n",
    "pitcher = dades.position == 'P'\n",
    "dades['pos'] = 'NP'\n",
    "dades.pos.loc[pitcher] = 'P'"
   ]
  },
  {
   "cell_type": "code",
   "execution_count": 15,
   "id": "96819ff7-16a3-45da-9bec-91394aae705b",
   "metadata": {},
   "outputs": [
    {
     "data": {
      "text/html": [
       "<div>\n",
       "<style scoped>\n",
       "    .dataframe tbody tr th:only-of-type {\n",
       "        vertical-align: middle;\n",
       "    }\n",
       "\n",
       "    .dataframe tbody tr th {\n",
       "        vertical-align: top;\n",
       "    }\n",
       "\n",
       "    .dataframe thead th {\n",
       "        text-align: right;\n",
       "    }\n",
       "</style>\n",
       "<table border=\"1\" class=\"dataframe\">\n",
       "  <thead>\n",
       "    <tr style=\"text-align: right;\">\n",
       "      <th></th>\n",
       "      <th>count</th>\n",
       "      <th>mean</th>\n",
       "      <th>std</th>\n",
       "      <th>min</th>\n",
       "      <th>25%</th>\n",
       "      <th>50%</th>\n",
       "      <th>75%</th>\n",
       "      <th>max</th>\n",
       "    </tr>\n",
       "    <tr>\n",
       "      <th>pos</th>\n",
       "      <th></th>\n",
       "      <th></th>\n",
       "      <th></th>\n",
       "      <th></th>\n",
       "      <th></th>\n",
       "      <th></th>\n",
       "      <th></th>\n",
       "      <th></th>\n",
       "    </tr>\n",
       "  </thead>\n",
       "  <tbody>\n",
       "    <tr>\n",
       "      <th>NP</th>\n",
       "      <td>620.0</td>\n",
       "      <td>0.242360</td>\n",
       "      <td>0.049460</td>\n",
       "      <td>0.0</td>\n",
       "      <td>0.21275</td>\n",
       "      <td>0.250</td>\n",
       "      <td>0.275</td>\n",
       "      <td>0.4</td>\n",
       "    </tr>\n",
       "    <tr>\n",
       "      <th>P</th>\n",
       "      <td>117.0</td>\n",
       "      <td>0.142333</td>\n",
       "      <td>0.080151</td>\n",
       "      <td>0.0</td>\n",
       "      <td>0.09100</td>\n",
       "      <td>0.136</td>\n",
       "      <td>0.179</td>\n",
       "      <td>0.4</td>\n",
       "    </tr>\n",
       "  </tbody>\n",
       "</table>\n",
       "</div>"
      ],
      "text/plain": [
       "     count      mean       std  min      25%    50%    75%  max\n",
       "pos                                                            \n",
       "NP   620.0  0.242360  0.049460  0.0  0.21275  0.250  0.275  0.4\n",
       "P    117.0  0.142333  0.080151  0.0  0.09100  0.136  0.179  0.4"
      ]
     },
     "execution_count": 15,
     "metadata": {},
     "output_type": "execute_result"
    }
   ],
   "source": [
    "dades.groupby('pos').AVG.describe()"
   ]
  },
  {
   "cell_type": "code",
   "execution_count": 16,
   "id": "d11a630a-672c-4f9e-b28d-6726e2d57222",
   "metadata": {},
   "outputs": [
    {
     "name": "stdout",
     "output_type": "stream",
     "text": [
      "-0.10002634408602154\n"
     ]
    }
   ],
   "source": [
    "# diferència observada\n",
    "\n",
    "dif_obs = dades[pitcher].AVG.mean() - dades[~pitcher].AVG.mean()\n",
    "print(dif_obs)"
   ]
  },
  {
   "cell_type": "code",
   "execution_count": 17,
   "id": "37f959bf-718e-475d-93d8-8673261cbe1c",
   "metadata": {},
   "outputs": [],
   "source": [
    "len_p = len(dades[pitcher])\n",
    "len_np = len(dades[~pitcher])"
   ]
  },
  {
   "cell_type": "code",
   "execution_count": 18,
   "id": "281d588a-852d-4bbf-a537-360b3dabde12",
   "metadata": {},
   "outputs": [],
   "source": [
    "diffs = []\n",
    "for _ in range(10000):\n",
    "    resample = np.random.choice(dades.AVG, size=len(dades), replace=True)\n",
    "    estadistica1 = np.mean(resample[:len_p])\n",
    "    estadistica2 = np.mean(resample[len_p:])\n",
    "    diffs.append(estadistica1-estadistica2)"
   ]
  },
  {
   "cell_type": "code",
   "execution_count": 19,
   "id": "8432a634-be3b-43a4-9896-5243cc6017eb",
   "metadata": {},
   "outputs": [
    {
     "data": {
      "image/png": "[encoded data removed]",
      "text/plain": [
       "<Figure size 432x288 with 1 Axes>"
      ]
     },
     "metadata": {
      "needs_background": "light"
     },
     "output_type": "display_data"
    }
   ],
   "source": [
    "g = sns.kdeplot(diffs, shade=True)\n",
    "g.axvline(x=dif_obs, c='crimson', label='diferència observada')\n",
    "g.set_title('distribució de bootstrapping')\n",
    "g.set_xlabel('diferència de mitjanes')\n",
    "g.set_ylabel('densitat')\n",
    "g.legend(loc='upper center')\n",
    "sns.despine()"
   ]
  },
  {
   "cell_type": "code",
   "execution_count": 20,
   "id": "0b236d76-9d89-4a06-a99e-979189540f93",
   "metadata": {},
   "outputs": [
    {
     "name": "stdout",
     "output_type": "stream",
     "text": [
      "p-value sin corrección: 0.0\n",
      "p-value con corrección: 9.999000099990002e-05\n"
     ]
    }
   ],
   "source": [
    "# P-value empírico con y sin corrección\n",
    "# ==============================================================================\n",
    "p_value = (sum(np.abs(diffs) > np.abs(dif_obs)))/len(diffs)\n",
    "p_value_correc = (sum(np.abs(diffs) > np.abs(dif_obs)) + 1)/(len(diffs) + 1)\n",
    "print(f\"p-value sin corrección: {p_value}\")\n",
    "print(f\"p-value con corrección: {p_value_correc}\")"
   ]
  },
  {
   "cell_type": "markdown",
   "id": "2560735e-bcaa-45df-90e7-bc639e09dadb",
   "metadata": {},
   "source": [
    "#### Intervals de confiança per a la diferència entre poblacions.\n",
    "\n",
    "L'algoritme de bootstrapping per calcular intervals de confiança de la diferència entre dues poblacions es:\n",
    "1- Generar una nova pseudo-mostra del grup A de la mateixa mida que la original $n_A$ i utilitzant només observacions d'aquest grup\n",
    "2- Generar una nova pseudo-mostra del grup B de la mateixa mida que la original $n_B$ i utilitzant només observacions d'aquest grup\n",
    "3- Calculem la diferència de la estadística entre les dues noves pseudo-mostres.\n",
    "4- Iterem els pasos 1, 2 i 3 moltes vegades, guardant la diferència calculada a cada iteració. \n",
    "\n",
    "> La distribució dels valors generats representa la diferència de la estadística si ambdues mostres provenen de dues poblacions diferents. Aquesta distribució tendirà a estar centrada en el vertader valor de la diferència entre ambdues poblacions.\n",
    "\n",
    "A partir de la distribución obtenida, generar un intervalo de confianza para el parámetro poblacional. Las mismas consideraciones explicadas para intervalos de confianza en una única población se aplican también a la diferencia entre poblaciones."
   ]
  },
  {
   "cell_type": "code",
   "execution_count": 21,
   "id": "3d225fed-d380-4b87-91d4-3b25c05e9184",
   "metadata": {},
   "outputs": [],
   "source": [
    "pitch = dades[dades.pos=='P'].AVG\n",
    "no_pitch = dades[dades.pos=='NP'].AVG\n",
    "\n",
    "size_p = pitch.size\n",
    "size_np = no_pitch.size"
   ]
  },
  {
   "cell_type": "code",
   "execution_count": 22,
   "id": "a4466920-4af0-4eaf-91c4-966d3e822340",
   "metadata": {},
   "outputs": [
    {
     "name": "stdout",
     "output_type": "stream",
     "text": [
      "-0.10002634408602154\n"
     ]
    }
   ],
   "source": [
    "# diferència observada\n",
    "\n",
    "dif_obs = pitch.mean() - no_pitch.mean()\n",
    "print(dif_obs)"
   ]
  },
  {
   "cell_type": "code",
   "execution_count": 23,
   "id": "d0d4d051-b849-4de8-8aa5-39a2bfd509bb",
   "metadata": {},
   "outputs": [],
   "source": [
    "# bootstrapping\n",
    "diffs = []\n",
    "for _ in range(10000):\n",
    "    p = np.random.choice(pitch, size=size_p, replace=True)\n",
    "    no_p = np.random.choice(no_pitch, size=size_np, replace=True)\n",
    "    \n",
    "    diffs.append(p.mean()-no_p.mean())\n",
    "    "
   ]
  },
  {
   "cell_type": "code",
   "execution_count": 24,
   "id": "c8ab4477-c918-4f82-a718-c718468683c5",
   "metadata": {},
   "outputs": [
    {
     "data": {
      "image/png": "[encoded data removed]",
      "text/plain": [
       "<Figure size 576x432 with 1 Axes>"
      ]
     },
     "metadata": {
      "needs_background": "light"
     },
     "output_type": "display_data"
    }
   ],
   "source": [
    "fig, ax = plt.subplots(figsize=(8,6))\n",
    "sns.kdeplot(diffs, ax=ax)\n",
    "\n",
    "low, high = np.quantile(diffs, [0.025, 0.975])\n",
    "x = ax.lines[-1].get_xdata()\n",
    "y = ax.lines[-1].get_ydata()\n",
    "\n",
    "ax.vlines(low, 0, np.interp(low, x, y), linestyle='--', alpha=0.5)\n",
    "ax.vlines(high, 0, np.interp(high, x, y), linestyle='--', alpha=0.5)\n",
    "ax.fill_between(x, 0, y, where= ((x>low) & (x<high)), alpha=0.3)\n",
    "ax.axvline(dif_obs, color='crimson', label='dif. obs.')\n",
    "ax.set_title('Interval bootstrapping basat en percentils')\n",
    "ax.legend()\n",
    "plt.show()"
   ]
  },
  {
   "cell_type": "markdown",
   "id": "95d9930e-4a01-4a5a-b4d3-f3f2123842b9",
   "metadata": {},
   "source": [
    "#### Conclusions\n",
    " "
   ]
  },
  {
   "cell_type": "markdown",
   "id": "115f64a2-7f60-409b-9766-20f846f4e6e3",
   "metadata": {},
   "source": [
    "> Hem mostrat 3 formes diferents de calcular estadístiques i posar a prova la hipòtesi. En els 3 casos els resultats son coherents i la conclusió es que podem rebutjar amb força seguretat la hipotesi nul·la. \n",
    "\n",
    "Per tant, acceptarem la hipòtesi alternativa que els els pitchers tenen una mitjana de batada menor que la resta de jugadors (tenint en compte un mínim de 10 intents de batada)"
   ]
  },
  {
   "cell_type": "markdown",
   "id": "regulation-consultation",
   "metadata": {},
   "source": [
    "## Nivell 3\n",
    "### Exercici 3\n",
    "\n",
    "Continua amb el conjunt de dades de tema esportiu que t'agradi i selecciona tres atributs del conjunt de dades. Calcula el p-valor i digues si rebutja la hipòtesi nul·la agafant un alfa de 5%."
   ]
  },
  {
   "cell_type": "markdown",
   "id": "8895c0fd-94fc-449a-878f-7a67fe8f522e",
   "metadata": {},
   "source": [
    "The null hypothesis (H0) of ANOVA is that there is no difference among group means. The alternate hypothesis (Ha) is that at least one group differs significantly from the overall mean of the dependent variable."
   ]
  },
  {
   "cell_type": "markdown",
   "id": "7451afdb-711c-46e7-b106-54cb36846b8d",
   "metadata": {},
   "source": [
    "En aquest cas, la hipòtesi serà que no hi ha diferències entre les mitjanes dels diferents jugadors de cada equip que han anat al punt de batada al menys 10 cops.\n",
    "\n",
    "- $H_0$: No hi ha diferències entre les mitjanes de cada equip\n",
    "- $H_1$: Hi ha diferències en, al menys, un dels grups"
   ]
  },
  {
   "cell_type": "code",
   "execution_count": 25,
   "id": "1620e790-e171-49ce-9d8e-fc1aebce7b03",
   "metadata": {},
   "outputs": [],
   "source": [
    "# filtrem el dataset pels que han fet 10 o més batades\n",
    "\n",
    "filtre = mlb.AB >= 10\n",
    "dades = mlb[filtre].copy()\n"
   ]
  },
  {
   "cell_type": "code",
   "execution_count": 26,
   "id": "c4d7f1c4-00f1-4820-a0b0-94ad722c8ce7",
   "metadata": {},
   "outputs": [
    {
     "data": {
      "text/plain": [
       "Text(0.5, 1.0, 'Mitjanes per equip')"
      ]
     },
     "execution_count": 26,
     "metadata": {},
     "output_type": "execute_result"
    },
    {
     "data": {
      "image/png": "[encoded data removed]",
      "text/plain": [
       "<Figure size 720x576 with 1 Axes>"
      ]
     },
     "metadata": {
      "needs_background": "light"
     },
     "output_type": "display_data"
    }
   ],
   "source": [
    "# grafiquem per equip\n",
    "fig, ax = plt.subplots(figsize=(10,8))\n",
    "ax = sns.boxplot(data=dades, x='team', y='AVG', palette='Blues')\n",
    "ax.set_title('Mitjanes per equip')"
   ]
  },
  {
   "cell_type": "markdown",
   "id": "73a60de9-cb7c-4fe8-88cf-cef5a6f2c987",
   "metadata": {},
   "source": [
    "#### Describim els diferents grups"
   ]
  },
  {
   "cell_type": "code",
   "execution_count": 27,
   "id": "9d7c452c-fe8b-4193-896c-6f4113948083",
   "metadata": {
    "tags": []
   },
   "outputs": [
    {
     "data": {
      "text/html": [
       "<div>\n",
       "<style scoped>\n",
       "    .dataframe tbody tr th:only-of-type {\n",
       "        vertical-align: middle;\n",
       "    }\n",
       "\n",
       "    .dataframe tbody tr th {\n",
       "        vertical-align: top;\n",
       "    }\n",
       "\n",
       "    .dataframe thead th {\n",
       "        text-align: right;\n",
       "    }\n",
       "</style>\n",
       "<table border=\"1\" class=\"dataframe\">\n",
       "  <thead>\n",
       "    <tr style=\"text-align: right;\">\n",
       "      <th></th>\n",
       "      <th>count</th>\n",
       "      <th>mean</th>\n",
       "      <th>std</th>\n",
       "      <th>min</th>\n",
       "      <th>25%</th>\n",
       "      <th>50%</th>\n",
       "      <th>75%</th>\n",
       "      <th>max</th>\n",
       "    </tr>\n",
       "    <tr>\n",
       "      <th>team</th>\n",
       "      <th></th>\n",
       "      <th></th>\n",
       "      <th></th>\n",
       "      <th></th>\n",
       "      <th></th>\n",
       "      <th></th>\n",
       "      <th></th>\n",
       "      <th></th>\n",
       "    </tr>\n",
       "  </thead>\n",
       "  <tbody>\n",
       "    <tr>\n",
       "      <th>ARI</th>\n",
       "      <td>25.0</td>\n",
       "      <td>0.224320</td>\n",
       "      <td>0.061869</td>\n",
       "      <td>0.078</td>\n",
       "      <td>0.19800</td>\n",
       "      <td>0.2330</td>\n",
       "      <td>0.26100</td>\n",
       "      <td>0.364</td>\n",
       "    </tr>\n",
       "    <tr>\n",
       "      <th>ATL</th>\n",
       "      <td>25.0</td>\n",
       "      <td>0.219000</td>\n",
       "      <td>0.075488</td>\n",
       "      <td>0.000</td>\n",
       "      <td>0.18500</td>\n",
       "      <td>0.2400</td>\n",
       "      <td>0.26500</td>\n",
       "      <td>0.321</td>\n",
       "    </tr>\n",
       "    <tr>\n",
       "      <th>BAL</th>\n",
       "      <td>21.0</td>\n",
       "      <td>0.248619</td>\n",
       "      <td>0.040703</td>\n",
       "      <td>0.140</td>\n",
       "      <td>0.21400</td>\n",
       "      <td>0.2490</td>\n",
       "      <td>0.28100</td>\n",
       "      <td>0.300</td>\n",
       "    </tr>\n",
       "    <tr>\n",
       "      <th>BOS</th>\n",
       "      <td>25.0</td>\n",
       "      <td>0.240680</td>\n",
       "      <td>0.049084</td>\n",
       "      <td>0.133</td>\n",
       "      <td>0.21100</td>\n",
       "      <td>0.2500</td>\n",
       "      <td>0.27000</td>\n",
       "      <td>0.321</td>\n",
       "    </tr>\n",
       "    <tr>\n",
       "      <th>CHC</th>\n",
       "      <td>23.0</td>\n",
       "      <td>0.220522</td>\n",
       "      <td>0.069646</td>\n",
       "      <td>0.065</td>\n",
       "      <td>0.17300</td>\n",
       "      <td>0.2410</td>\n",
       "      <td>0.26750</td>\n",
       "      <td>0.308</td>\n",
       "    </tr>\n",
       "    <tr>\n",
       "      <th>CIN</th>\n",
       "      <td>29.0</td>\n",
       "      <td>0.239207</td>\n",
       "      <td>0.065869</td>\n",
       "      <td>0.091</td>\n",
       "      <td>0.20700</td>\n",
       "      <td>0.2630</td>\n",
       "      <td>0.28500</td>\n",
       "      <td>0.333</td>\n",
       "    </tr>\n",
       "    <tr>\n",
       "      <th>CLE</th>\n",
       "      <td>21.0</td>\n",
       "      <td>0.242476</td>\n",
       "      <td>0.039828</td>\n",
       "      <td>0.190</td>\n",
       "      <td>0.22100</td>\n",
       "      <td>0.2310</td>\n",
       "      <td>0.26000</td>\n",
       "      <td>0.357</td>\n",
       "    </tr>\n",
       "    <tr>\n",
       "      <th>COL</th>\n",
       "      <td>28.0</td>\n",
       "      <td>0.227250</td>\n",
       "      <td>0.074856</td>\n",
       "      <td>0.075</td>\n",
       "      <td>0.17000</td>\n",
       "      <td>0.2480</td>\n",
       "      <td>0.27925</td>\n",
       "      <td>0.343</td>\n",
       "    </tr>\n",
       "    <tr>\n",
       "      <th>CWS</th>\n",
       "      <td>20.0</td>\n",
       "      <td>0.254500</td>\n",
       "      <td>0.055905</td>\n",
       "      <td>0.091</td>\n",
       "      <td>0.23700</td>\n",
       "      <td>0.2655</td>\n",
       "      <td>0.28250</td>\n",
       "      <td>0.333</td>\n",
       "    </tr>\n",
       "    <tr>\n",
       "      <th>DET</th>\n",
       "      <td>19.0</td>\n",
       "      <td>0.260526</td>\n",
       "      <td>0.038981</td>\n",
       "      <td>0.185</td>\n",
       "      <td>0.23600</td>\n",
       "      <td>0.2560</td>\n",
       "      <td>0.28650</td>\n",
       "      <td>0.328</td>\n",
       "    </tr>\n",
       "    <tr>\n",
       "      <th>FLA</th>\n",
       "      <td>29.0</td>\n",
       "      <td>0.207138</td>\n",
       "      <td>0.086269</td>\n",
       "      <td>0.000</td>\n",
       "      <td>0.17000</td>\n",
       "      <td>0.2200</td>\n",
       "      <td>0.26800</td>\n",
       "      <td>0.326</td>\n",
       "    </tr>\n",
       "    <tr>\n",
       "      <th>HOU</th>\n",
       "      <td>28.0</td>\n",
       "      <td>0.211036</td>\n",
       "      <td>0.070200</td>\n",
       "      <td>0.000</td>\n",
       "      <td>0.18800</td>\n",
       "      <td>0.2210</td>\n",
       "      <td>0.25600</td>\n",
       "      <td>0.308</td>\n",
       "    </tr>\n",
       "    <tr>\n",
       "      <th>KC</th>\n",
       "      <td>20.0</td>\n",
       "      <td>0.262200</td>\n",
       "      <td>0.037902</td>\n",
       "      <td>0.189</td>\n",
       "      <td>0.23675</td>\n",
       "      <td>0.2600</td>\n",
       "      <td>0.29875</td>\n",
       "      <td>0.318</td>\n",
       "    </tr>\n",
       "    <tr>\n",
       "      <th>LAA</th>\n",
       "      <td>25.0</td>\n",
       "      <td>0.215520</td>\n",
       "      <td>0.077074</td>\n",
       "      <td>0.067</td>\n",
       "      <td>0.17200</td>\n",
       "      <td>0.2380</td>\n",
       "      <td>0.25800</td>\n",
       "      <td>0.400</td>\n",
       "    </tr>\n",
       "    <tr>\n",
       "      <th>LAD</th>\n",
       "      <td>30.0</td>\n",
       "      <td>0.199567</td>\n",
       "      <td>0.085823</td>\n",
       "      <td>0.036</td>\n",
       "      <td>0.14350</td>\n",
       "      <td>0.2265</td>\n",
       "      <td>0.26575</td>\n",
       "      <td>0.311</td>\n",
       "    </tr>\n",
       "    <tr>\n",
       "      <th>MIL</th>\n",
       "      <td>23.0</td>\n",
       "      <td>0.228174</td>\n",
       "      <td>0.077088</td>\n",
       "      <td>0.000</td>\n",
       "      <td>0.20450</td>\n",
       "      <td>0.2500</td>\n",
       "      <td>0.26700</td>\n",
       "      <td>0.327</td>\n",
       "    </tr>\n",
       "    <tr>\n",
       "      <th>MIN</th>\n",
       "      <td>20.0</td>\n",
       "      <td>0.251250</td>\n",
       "      <td>0.055057</td>\n",
       "      <td>0.146</td>\n",
       "      <td>0.22025</td>\n",
       "      <td>0.2660</td>\n",
       "      <td>0.28625</td>\n",
       "      <td>0.345</td>\n",
       "    </tr>\n",
       "    <tr>\n",
       "      <th>NYM</th>\n",
       "      <td>32.0</td>\n",
       "      <td>0.215000</td>\n",
       "      <td>0.074522</td>\n",
       "      <td>0.000</td>\n",
       "      <td>0.18300</td>\n",
       "      <td>0.2140</td>\n",
       "      <td>0.26000</td>\n",
       "      <td>0.400</td>\n",
       "    </tr>\n",
       "    <tr>\n",
       "      <th>NYY</th>\n",
       "      <td>22.0</td>\n",
       "      <td>0.244091</td>\n",
       "      <td>0.041690</td>\n",
       "      <td>0.167</td>\n",
       "      <td>0.21525</td>\n",
       "      <td>0.2555</td>\n",
       "      <td>0.27075</td>\n",
       "      <td>0.319</td>\n",
       "    </tr>\n",
       "    <tr>\n",
       "      <th>OAK</th>\n",
       "      <td>23.0</td>\n",
       "      <td>0.231043</td>\n",
       "      <td>0.048061</td>\n",
       "      <td>0.129</td>\n",
       "      <td>0.19300</td>\n",
       "      <td>0.2390</td>\n",
       "      <td>0.27250</td>\n",
       "      <td>0.294</td>\n",
       "    </tr>\n",
       "    <tr>\n",
       "      <th>PHI</th>\n",
       "      <td>26.0</td>\n",
       "      <td>0.222269</td>\n",
       "      <td>0.068204</td>\n",
       "      <td>0.077</td>\n",
       "      <td>0.19050</td>\n",
       "      <td>0.2355</td>\n",
       "      <td>0.27500</td>\n",
       "      <td>0.333</td>\n",
       "    </tr>\n",
       "    <tr>\n",
       "      <th>PIT</th>\n",
       "      <td>30.0</td>\n",
       "      <td>0.192867</td>\n",
       "      <td>0.091839</td>\n",
       "      <td>0.038</td>\n",
       "      <td>0.11850</td>\n",
       "      <td>0.2065</td>\n",
       "      <td>0.25600</td>\n",
       "      <td>0.400</td>\n",
       "    </tr>\n",
       "    <tr>\n",
       "      <th>SD</th>\n",
       "      <td>26.0</td>\n",
       "      <td>0.226577</td>\n",
       "      <td>0.050074</td>\n",
       "      <td>0.111</td>\n",
       "      <td>0.20100</td>\n",
       "      <td>0.2405</td>\n",
       "      <td>0.26625</td>\n",
       "      <td>0.298</td>\n",
       "    </tr>\n",
       "    <tr>\n",
       "      <th>SEA</th>\n",
       "      <td>24.0</td>\n",
       "      <td>0.210333</td>\n",
       "      <td>0.044578</td>\n",
       "      <td>0.094</td>\n",
       "      <td>0.19050</td>\n",
       "      <td>0.2125</td>\n",
       "      <td>0.23750</td>\n",
       "      <td>0.315</td>\n",
       "    </tr>\n",
       "    <tr>\n",
       "      <th>SF</th>\n",
       "      <td>25.0</td>\n",
       "      <td>0.222680</td>\n",
       "      <td>0.065994</td>\n",
       "      <td>0.100</td>\n",
       "      <td>0.17900</td>\n",
       "      <td>0.2480</td>\n",
       "      <td>0.26800</td>\n",
       "      <td>0.305</td>\n",
       "    </tr>\n",
       "    <tr>\n",
       "      <th>STL</th>\n",
       "      <td>29.0</td>\n",
       "      <td>0.224621</td>\n",
       "      <td>0.074417</td>\n",
       "      <td>0.000</td>\n",
       "      <td>0.18500</td>\n",
       "      <td>0.2310</td>\n",
       "      <td>0.27600</td>\n",
       "      <td>0.359</td>\n",
       "    </tr>\n",
       "    <tr>\n",
       "      <th>TB</th>\n",
       "      <td>20.0</td>\n",
       "      <td>0.229900</td>\n",
       "      <td>0.035628</td>\n",
       "      <td>0.179</td>\n",
       "      <td>0.19750</td>\n",
       "      <td>0.2335</td>\n",
       "      <td>0.25400</td>\n",
       "      <td>0.307</td>\n",
       "    </tr>\n",
       "    <tr>\n",
       "      <th>TEX</th>\n",
       "      <td>22.0</td>\n",
       "      <td>0.248318</td>\n",
       "      <td>0.063815</td>\n",
       "      <td>0.091</td>\n",
       "      <td>0.21325</td>\n",
       "      <td>0.2600</td>\n",
       "      <td>0.28550</td>\n",
       "      <td>0.359</td>\n",
       "    </tr>\n",
       "    <tr>\n",
       "      <th>TOR</th>\n",
       "      <td>19.0</td>\n",
       "      <td>0.230947</td>\n",
       "      <td>0.043133</td>\n",
       "      <td>0.143</td>\n",
       "      <td>0.20550</td>\n",
       "      <td>0.2460</td>\n",
       "      <td>0.25950</td>\n",
       "      <td>0.281</td>\n",
       "    </tr>\n",
       "    <tr>\n",
       "      <th>WSH</th>\n",
       "      <td>28.0</td>\n",
       "      <td>0.203036</td>\n",
       "      <td>0.076323</td>\n",
       "      <td>0.040</td>\n",
       "      <td>0.14700</td>\n",
       "      <td>0.2255</td>\n",
       "      <td>0.26650</td>\n",
       "      <td>0.307</td>\n",
       "    </tr>\n",
       "  </tbody>\n",
       "</table>\n",
       "</div>"
      ],
      "text/plain": [
       "      count      mean       std    min      25%     50%      75%    max\n",
       "team                                                                   \n",
       "ARI    25.0  0.224320  0.061869  0.078  0.19800  0.2330  0.26100  0.364\n",
       "ATL    25.0  0.219000  0.075488  0.000  0.18500  0.2400  0.26500  0.321\n",
       "BAL    21.0  0.248619  0.040703  0.140  0.21400  0.2490  0.28100  0.300\n",
       "BOS    25.0  0.240680  0.049084  0.133  0.21100  0.2500  0.27000  0.321\n",
       "CHC    23.0  0.220522  0.069646  0.065  0.17300  0.2410  0.26750  0.308\n",
       "CIN    29.0  0.239207  0.065869  0.091  0.20700  0.2630  0.28500  0.333\n",
       "CLE    21.0  0.242476  0.039828  0.190  0.22100  0.2310  0.26000  0.357\n",
       "COL    28.0  0.227250  0.074856  0.075  0.17000  0.2480  0.27925  0.343\n",
       "CWS    20.0  0.254500  0.055905  0.091  0.23700  0.2655  0.28250  0.333\n",
       "DET    19.0  0.260526  0.038981  0.185  0.23600  0.2560  0.28650  0.328\n",
       "FLA    29.0  0.207138  0.086269  0.000  0.17000  0.2200  0.26800  0.326\n",
       "HOU    28.0  0.211036  0.070200  0.000  0.18800  0.2210  0.25600  0.308\n",
       "KC     20.0  0.262200  0.037902  0.189  0.23675  0.2600  0.29875  0.318\n",
       "LAA    25.0  0.215520  0.077074  0.067  0.17200  0.2380  0.25800  0.400\n",
       "LAD    30.0  0.199567  0.085823  0.036  0.14350  0.2265  0.26575  0.311\n",
       "MIL    23.0  0.228174  0.077088  0.000  0.20450  0.2500  0.26700  0.327\n",
       "MIN    20.0  0.251250  0.055057  0.146  0.22025  0.2660  0.28625  0.345\n",
       "NYM    32.0  0.215000  0.074522  0.000  0.18300  0.2140  0.26000  0.400\n",
       "NYY    22.0  0.244091  0.041690  0.167  0.21525  0.2555  0.27075  0.319\n",
       "OAK    23.0  0.231043  0.048061  0.129  0.19300  0.2390  0.27250  0.294\n",
       "PHI    26.0  0.222269  0.068204  0.077  0.19050  0.2355  0.27500  0.333\n",
       "PIT    30.0  0.192867  0.091839  0.038  0.11850  0.2065  0.25600  0.400\n",
       "SD     26.0  0.226577  0.050074  0.111  0.20100  0.2405  0.26625  0.298\n",
       "SEA    24.0  0.210333  0.044578  0.094  0.19050  0.2125  0.23750  0.315\n",
       "SF     25.0  0.222680  0.065994  0.100  0.17900  0.2480  0.26800  0.305\n",
       "STL    29.0  0.224621  0.074417  0.000  0.18500  0.2310  0.27600  0.359\n",
       "TB     20.0  0.229900  0.035628  0.179  0.19750  0.2335  0.25400  0.307\n",
       "TEX    22.0  0.248318  0.063815  0.091  0.21325  0.2600  0.28550  0.359\n",
       "TOR    19.0  0.230947  0.043133  0.143  0.20550  0.2460  0.25950  0.281\n",
       "WSH    28.0  0.203036  0.076323  0.040  0.14700  0.2255  0.26650  0.307"
      ]
     },
     "execution_count": 27,
     "metadata": {},
     "output_type": "execute_result"
    }
   ],
   "source": [
    "summary_t = dades.groupby('team').AVG.describe()\n",
    "summary_t"
   ]
  },
  {
   "cell_type": "code",
   "execution_count": 28,
   "id": "183a43a9-3168-4c22-884f-28b042aa3c48",
   "metadata": {},
   "outputs": [],
   "source": [
    "# llista amb els valors de cada equip\n",
    "list_t = []\n",
    "equips = dades.team.unique()\n",
    "for t in equips:\n",
    "    list_t.append( dades[dades.team == t].AVG.to_list())"
   ]
  },
  {
   "cell_type": "code",
   "execution_count": 29,
   "id": "adede079-e2f9-45f0-92a2-09fff1dc3a3a",
   "metadata": {},
   "outputs": [
    {
     "data": {
      "text/plain": [
       "F_onewayResult(statistic=1.8140824349210605, pvalue=0.005882479007080758)"
      ]
     },
     "execution_count": 29,
     "metadata": {},
     "output_type": "execute_result"
    }
   ],
   "source": [
    "# ANOVA\n",
    "\n",
    "scipy.stats.f_oneway(*list_t)"
   ]
  },
  {
   "cell_type": "markdown",
   "id": "468af87f-957e-49a8-9643-7cdc16437ac4",
   "metadata": {},
   "source": [
    "Segons la documentació de [scipy](https://docs.scipy.org/doc/scipy/reference/generated/scipy.stats.f_oneway.html)\n",
    "\n",
    "The ANOVA test has important assumptions that must be satisfied in order\n",
    "for the associated p-value to be valid.\n",
    "\n",
    "1. The samples are independent.\n",
    "2. Each sample is from a normally distributed population.\n",
    "3. The population standard deviations of the groups are all equal.  This\n",
    "   property is known as homoscedasticity.\n",
    "\n",
    "If these assumptions are not true for a given set of data, it may still\n",
    "be possible to use the Kruskal-Wallis H-test (`scipy.stats.kruskal`)\n",
    "although with some loss of power."
   ]
  },
  {
   "cell_type": "code",
   "execution_count": 30,
   "id": "4232351c-7015-40fe-90c8-d02a188da87b",
   "metadata": {},
   "outputs": [
    {
     "name": "stdout",
     "output_type": "stream",
     "text": [
      "p-value: 0.00039661679228945423\n"
     ]
    }
   ],
   "source": [
    "# comprovem que les desviacions estandard dels grups son equivalents. Toca test\n",
    "\n",
    "res, p = scipy.stats.levene(*list_t)\n",
    "print(f'p-value: {p}')"
   ]
  },
  {
   "cell_type": "markdown",
   "id": "1f427d8f-1e7e-4f9c-9e17-4f18e479670a",
   "metadata": {},
   "source": [
    "per tant, veient que el p-value del test es tant baix, assumim que els grups no tenen la propietat de la Homoscedasticitat. \n",
    "Aplicarem un altre test per tal de posar a prova la hipòtesi"
   ]
  },
  {
   "cell_type": "code",
   "execution_count": 31,
   "id": "495f735a-eb12-4205-816b-ef775ebba4fb",
   "metadata": {},
   "outputs": [
    {
     "name": "stdout",
     "output_type": "stream",
     "text": [
      "Kruskal-Wallis test:\n",
      "\testadística: 47.25216241207483\tp-value: 0.017547901486531448\n"
     ]
    }
   ],
   "source": [
    "res, p = scipy.stats.kruskal(*list_t)\n",
    "print(f'Kruskal-Wallis test:\\n\\testadística: {res}\\tp-value: {p}')"
   ]
  },
  {
   "cell_type": "markdown",
   "id": "927fee2e-98d1-4e56-8aed-da13a04d912d",
   "metadata": {},
   "source": [
    "**Conclusió**\n",
    "Rebutjem la hipòtesi nul·la"
   ]
  },
  {
   "cell_type": "markdown",
   "id": "1a8e87da-a108-4725-bccb-2137a854b004",
   "metadata": {},
   "source": [
    "#### Amb statsmodels"
   ]
  },
  {
   "cell_type": "code",
   "execution_count": 32,
   "id": "fcf299dd-e68c-4cd5-8ab0-55af0220c9c9",
   "metadata": {},
   "outputs": [
    {
     "name": "stdout",
     "output_type": "stream",
     "text": [
      "             df    sum_sq   mean_sq         F    PR(>F)\n",
      "team       29.0  0.224685  0.007748  1.814082  0.005882\n",
      "Residual  707.0  3.019529  0.004271       NaN       NaN\n"
     ]
    }
   ],
   "source": [
    "import statsmodels.api as sm\n",
    "from statsmodels.formula.api import ols\n",
    "\n",
    "lm = ols('AVG ~ team', data=dades).fit()\n",
    "\n",
    "table = sm.stats.anova_lm(lm)\n",
    "print(table)"
   ]
  },
  {
   "cell_type": "markdown",
   "id": "b941a730-af47-4260-8489-196b702ba88c",
   "metadata": {},
   "source": [
    "Observem el mateix p-value que fent servir scipy. \n",
    "No provarem el test de Kruskal-Wallis ja que la [documentació](https://www.statsmodels.org/devel/generated/statsmodels.sandbox.stats.multicomp.MultiComparison.kruskal.html) ens diu que es el mateix que a scipy."
   ]
  },
  {
   "cell_type": "markdown",
   "id": "47b372da-7789-4e77-a26f-38f19c86611d",
   "metadata": {},
   "source": [
    "#### Provem amb més paràmetres\n",
    "**position**"
   ]
  },
  {
   "cell_type": "markdown",
   "id": "5e6bd5f1-8e94-46d4-b2a1-e8b3400233b0",
   "metadata": {},
   "source": [
    "Plantejem la hipòtesi que els percentatges de bateig per posició son diferents.\n",
    "- $H_0$: Les mitjanes de batada dels grups son iguals\n",
    "- $H_1$: Hi ha almenys una mitjana de batada que no es igual\n",
    "\n",
    "$\\alpha = 0.05$"
   ]
  },
  {
   "cell_type": "code",
   "execution_count": 33,
   "id": "34fcc42e-15a6-4552-a9bd-c7cb48278a35",
   "metadata": {},
   "outputs": [
    {
     "name": "stdout",
     "output_type": "stream",
     "text": [
      "             df    sum_sq   mean_sq          F        PR(>F)\n",
      "position    8.0  1.032530  0.129066  42.483598  7.305441e-56\n",
      "Residual  728.0  2.211683  0.003038        NaN           NaN\n"
     ]
    }
   ],
   "source": [
    "import statsmodels.api as sm\n",
    "from statsmodels.formula.api import ols\n",
    "import statsmodels.stats.multicomp as mc\n",
    "\n",
    "lm = ols('AVG ~ position', data=dades).fit()\n",
    "\n",
    "table = sm.stats.anova_lm(lm)\n",
    "print(table)"
   ]
  },
  {
   "cell_type": "markdown",
   "id": "e4e62dd4-3400-48cb-b7ec-2c4404d8a4e7",
   "metadata": {},
   "source": [
    "La probabilitat es molt baixa, així que tenim força per rebutjar la $H_0$"
   ]
  },
  {
   "cell_type": "markdown",
   "id": "d352adf8-a592-47cf-95d1-c0847b7ba34a",
   "metadata": {},
   "source": [
    "#### Comparem posicions"
   ]
  },
  {
   "cell_type": "code",
   "execution_count": 34,
   "id": "3ec8f765-d8bf-471d-92c8-99fa57380555",
   "metadata": {
    "tags": []
   },
   "outputs": [
    {
     "data": {
      "text/html": [
       "<table class=\"simpletable\">\n",
       "<caption>Multiple Comparison of Means - Tukey HSD, FWER=0.05</caption>\n",
       "<tr>\n",
       "  <th>group1</th> <th>group2</th> <th>meandiff</th>  <th>p-adj</th>  <th>lower</th>   <th>upper</th>  <th>reject</th>\n",
       "</tr>\n",
       "<tr>\n",
       "     <td>-</td>     <td>1B</td>    <td>0.0669</td>   <td>0.309</td> <td>-0.0214</td> <td>0.1552</td>   <td>False</td>\n",
       "</tr>\n",
       "<tr>\n",
       "     <td>-</td>     <td>2B</td>     <td>0.088</td>  <td>0.0517</td> <td>-0.0003</td> <td>0.1763</td>   <td>False</td>\n",
       "</tr>\n",
       "<tr>\n",
       "     <td>-</td>     <td>3B</td>    <td>0.0772</td>  <td>0.1408</td> <td>-0.011</td>  <td>0.1654</td>   <td>False</td>\n",
       "</tr>\n",
       "<tr>\n",
       "     <td>-</td>      <td>C</td>     <td>0.066</td>   <td>0.314</td> <td>-0.0214</td> <td>0.1534</td>   <td>False</td>\n",
       "</tr>\n",
       "<tr>\n",
       "     <td>-</td>     <td>DH</td>    <td>0.0748</td>  <td>0.2232</td> <td>-0.0175</td> <td>0.1672</td>   <td>False</td>\n",
       "</tr>\n",
       "<tr>\n",
       "     <td>-</td>     <td>OF</td>    <td>0.0774</td>  <td>0.1228</td> <td>-0.0091</td> <td>0.1639</td>   <td>False</td>\n",
       "</tr>\n",
       "<tr>\n",
       "     <td>-</td>      <td>P</td>    <td>-0.0254</td>   <td>0.9</td>  <td>-0.1126</td> <td>0.0618</td>   <td>False</td>\n",
       "</tr>\n",
       "<tr>\n",
       "     <td>-</td>     <td>SS</td>    <td>0.0748</td>  <td>0.1739</td> <td>-0.0135</td> <td>0.1631</td>   <td>False</td>\n",
       "</tr>\n",
       "<tr>\n",
       "    <td>1B</td>     <td>2B</td>     <td>0.021</td>  <td>0.4139</td> <td>-0.0088</td> <td>0.0509</td>   <td>False</td>\n",
       "</tr>\n",
       "<tr>\n",
       "    <td>1B</td>     <td>3B</td>    <td>0.0103</td>    <td>0.9</td>  <td>-0.0192</td> <td>0.0398</td>   <td>False</td>\n",
       "</tr>\n",
       "<tr>\n",
       "    <td>1B</td>      <td>C</td>    <td>-0.0009</td>   <td>0.9</td>  <td>-0.028</td>  <td>0.0261</td>   <td>False</td>\n",
       "</tr>\n",
       "<tr>\n",
       "    <td>1B</td>     <td>DH</td>    <td>0.0079</td>    <td>0.9</td>  <td>-0.0324</td> <td>0.0482</td>   <td>False</td>\n",
       "</tr>\n",
       "<tr>\n",
       "    <td>1B</td>     <td>OF</td>    <td>0.0104</td>    <td>0.9</td>  <td>-0.0136</td> <td>0.0345</td>   <td>False</td>\n",
       "</tr>\n",
       "<tr>\n",
       "    <td>1B</td>      <td>P</td>    <td>-0.0923</td>  <td>0.001</td> <td>-0.1187</td> <td>-0.066</td>   <td>True</td> \n",
       "</tr>\n",
       "<tr>\n",
       "    <td>1B</td>     <td>SS</td>    <td>0.0079</td>    <td>0.9</td>  <td>-0.022</td>  <td>0.0377</td>   <td>False</td>\n",
       "</tr>\n",
       "<tr>\n",
       "    <td>2B</td>     <td>3B</td>    <td>-0.0108</td>   <td>0.9</td>  <td>-0.0403</td> <td>0.0188</td>   <td>False</td>\n",
       "</tr>\n",
       "<tr>\n",
       "    <td>2B</td>      <td>C</td>    <td>-0.022</td>  <td>0.2198</td> <td>-0.049</td>  <td>0.0051</td>   <td>False</td>\n",
       "</tr>\n",
       "<tr>\n",
       "    <td>2B</td>     <td>DH</td>    <td>-0.0131</td>   <td>0.9</td>  <td>-0.0534</td> <td>0.0271</td>   <td>False</td>\n",
       "</tr>\n",
       "<tr>\n",
       "    <td>2B</td>     <td>OF</td>    <td>-0.0106</td>   <td>0.9</td>  <td>-0.0347</td> <td>0.0134</td>   <td>False</td>\n",
       "</tr>\n",
       "<tr>\n",
       "    <td>2B</td>      <td>P</td>    <td>-0.1134</td>  <td>0.001</td> <td>-0.1398</td> <td>-0.087</td>   <td>True</td> \n",
       "</tr>\n",
       "<tr>\n",
       "    <td>2B</td>     <td>SS</td>    <td>-0.0132</td>   <td>0.9</td>  <td>-0.043</td>  <td>0.0167</td>   <td>False</td>\n",
       "</tr>\n",
       "<tr>\n",
       "    <td>3B</td>      <td>C</td>    <td>-0.0112</td>   <td>0.9</td>  <td>-0.0379</td> <td>0.0155</td>   <td>False</td>\n",
       "</tr>\n",
       "<tr>\n",
       "    <td>3B</td>     <td>DH</td>    <td>-0.0024</td>   <td>0.9</td>  <td>-0.0424</td> <td>0.0377</td>   <td>False</td>\n",
       "</tr>\n",
       "<tr>\n",
       "    <td>3B</td>     <td>OF</td>    <td>0.0002</td>    <td>0.9</td>  <td>-0.0235</td> <td>0.0238</td>   <td>False</td>\n",
       "</tr>\n",
       "<tr>\n",
       "    <td>3B</td>      <td>P</td>    <td>-0.1026</td>  <td>0.001</td> <td>-0.1287</td> <td>-0.0766</td>  <td>True</td> \n",
       "</tr>\n",
       "<tr>\n",
       "    <td>3B</td>     <td>SS</td>    <td>-0.0024</td>   <td>0.9</td>  <td>-0.0319</td> <td>0.0271</td>   <td>False</td>\n",
       "</tr>\n",
       "<tr>\n",
       "     <td>C</td>     <td>DH</td>    <td>0.0089</td>    <td>0.9</td>  <td>-0.0294</td> <td>0.0471</td>   <td>False</td>\n",
       "</tr>\n",
       "<tr>\n",
       "     <td>C</td>     <td>OF</td>    <td>0.0114</td>  <td>0.7009</td> <td>-0.0091</td> <td>0.0318</td>   <td>False</td>\n",
       "</tr>\n",
       "<tr>\n",
       "     <td>C</td>      <td>P</td>    <td>-0.0914</td>  <td>0.001</td> <td>-0.1146</td> <td>-0.0682</td>  <td>True</td> \n",
       "</tr>\n",
       "<tr>\n",
       "     <td>C</td>     <td>SS</td>    <td>0.0088</td>    <td>0.9</td>  <td>-0.0182</td> <td>0.0359</td>   <td>False</td>\n",
       "</tr>\n",
       "<tr>\n",
       "    <td>DH</td>     <td>OF</td>    <td>0.0025</td>    <td>0.9</td>  <td>-0.0337</td> <td>0.0387</td>   <td>False</td>\n",
       "</tr>\n",
       "<tr>\n",
       "    <td>DH</td>      <td>P</td>    <td>-0.1003</td>  <td>0.001</td> <td>-0.138</td>  <td>-0.0625</td>  <td>True</td> \n",
       "</tr>\n",
       "<tr>\n",
       "    <td>DH</td>     <td>SS</td>     <td>-0.0</td>     <td>0.9</td>  <td>-0.0403</td> <td>0.0402</td>   <td>False</td>\n",
       "</tr>\n",
       "<tr>\n",
       "    <td>OF</td>      <td>P</td>    <td>-0.1028</td>  <td>0.001</td> <td>-0.1224</td> <td>-0.0832</td>  <td>True</td> \n",
       "</tr>\n",
       "<tr>\n",
       "    <td>OF</td>     <td>SS</td>    <td>-0.0026</td>   <td>0.9</td>  <td>-0.0266</td> <td>0.0215</td>   <td>False</td>\n",
       "</tr>\n",
       "<tr>\n",
       "     <td>P</td>     <td>SS</td>    <td>0.1002</td>   <td>0.001</td> <td>0.0738</td>  <td>0.1266</td>   <td>True</td> \n",
       "</tr>\n",
       "</table>"
      ],
      "text/plain": [
       "<class 'statsmodels.iolib.table.SimpleTable'>"
      ]
     },
     "execution_count": 34,
     "metadata": {},
     "output_type": "execute_result"
    }
   ],
   "source": [
    "\n",
    "comp = mc.MultiComparison(dades.AVG, dades.position )\n",
    "post_hoc_res = comp.tukeyhsd()\n",
    "post_hoc_res.summary()"
   ]
  },
  {
   "cell_type": "markdown",
   "id": "fa7b9124-e7b1-4255-8938-7ef4abe09ac5",
   "metadata": {},
   "source": [
    "**Conclusions**  \n",
    "Observem que hi al comparar per parells, hi ha casos en que no rebutjariem la $H_0$.\n",
    "\n",
    "Tot i això, la hipòtesi plantejada en aquest cas, ens permet acceptar la alternativa que les mitjanes de batada per posició són diferents segons la posició."
   ]
  }
 ],
 "metadata": {
  "kernelspec": {
   "display_name": "Python 3",
   "language": "python",
   "name": "python3"
  },
  "language_info": {
   "codemirror_mode": {
    "name": "ipython",
    "version": 3
   },
   "file_extension": ".py",
   "mimetype": "text/x-python",
   "name": "python",
   "nbconvert_exporter": "python",
   "pygments_lexer": "ipython3",
   "version": "3.8.10"
  }
 },
 "nbformat": 4,
 "nbformat_minor": 5
}
