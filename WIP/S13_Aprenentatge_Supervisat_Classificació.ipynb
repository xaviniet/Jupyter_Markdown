{
 "cells": [
  {
   "cell_type": "markdown",
   "id": "enormous-validation",
   "metadata": {},
   "source": [
    "# Aprenentage Supervisat - Classificació\n",
    "**Descripció**. \n",
    "Anem a practicar i a familiaritzar-nos amb algoritmes de classificació."
   ]
  },
  {
   "cell_type": "code",
   "execution_count": 1,
   "id": "0be212d6-665e-4a47-850a-0a283b182730",
   "metadata": {},
   "outputs": [],
   "source": [
    "\n",
    "import numpy as np\n",
    "import pandas as pd\n",
    "\n",
    "import matplotlib.pyplot as plt\n",
    "import seaborn as sns\n",
    "\n",
    "\n",
    "from sklearn.preprocessing import StandardScaler, RobustScaler\n",
    "from sklearn.preprocessing import PowerTransformer, OneHotEncoder\n",
    "from sklearn.model_selection import train_test_split\n",
    "\n",
    "from tqdm.notebook import tqdm\n",
    "from IPython.display import display, Markdown\n",
    "\n",
    "from utils import SinCosTransformer\n",
    "\n",
    "import time\n",
    "import warnings\n",
    "warnings.simplefilter('ignore')\n",
    "\n",
    "SEED = 42\n",
    "TEST_SIZE = 0.2\n",
    "TESTING = True"
   ]
  },
  {
   "cell_type": "markdown",
   "id": "f14c275e-2262-4256-bcf2-1c641cb15dbf",
   "metadata": {},
   "source": [
    "### Carreguem les dades"
   ]
  },
  {
   "cell_type": "code",
   "execution_count": 2,
   "id": "f2fad8bb-b1c3-4050-bcd5-c9b78e451ce5",
   "metadata": {},
   "outputs": [],
   "source": [
    "dfdelays = pd.read_pickle('../data/S11-CleanDelayedFlights.pickle')"
   ]
  },
  {
   "cell_type": "code",
   "execution_count": 3,
   "id": "828347de-e3ec-40c2-af5f-d10a7b21f310",
   "metadata": {},
   "outputs": [],
   "source": [
    "dfdelays['Delayed'] = (dfdelays.ArrDelay > 0).astype('int')"
   ]
  },
  {
   "cell_type": "code",
   "execution_count": 4,
   "id": "225feb99-31dc-49f0-9c64-7410636d53d5",
   "metadata": {},
   "outputs": [
    {
     "data": {
      "text/plain": [
       "(96419, 88)"
      ]
     },
     "execution_count": 4,
     "metadata": {},
     "output_type": "execute_result"
    }
   ],
   "source": [
    "# Fem un sample de les dades per fer el procés més ràpid \n",
    "\n",
    "if TESTING:\n",
    "    dfdelays = dfdelays.sample(frac=0.05, random_state=SEED)\n",
    "    \n",
    "dfdelays.shape"
   ]
  },
  {
   "cell_type": "markdown",
   "id": "0119a741-c33d-49fd-93ce-b04f94181fea",
   "metadata": {},
   "source": [
    "### Separem en train test"
   ]
  },
  {
   "cell_type": "code",
   "execution_count": 5,
   "id": "5ffd6c86-5143-4b8b-a600-0318c58087ab",
   "metadata": {},
   "outputs": [],
   "source": [
    "\n",
    "\n",
    "target = ['Delayed']\n",
    "\n",
    "cols = [col for col in dfdelays.columns if col not in target]\n",
    "\n",
    "X_train, X_test, y_train, y_test = train_test_split(dfdelays[cols], dfdelays[target], test_size=TEST_SIZE, random_state=SEED )"
   ]
  },
  {
   "cell_type": "code",
   "execution_count": 6,
   "id": "b4d2dee2-4af6-45cc-9a3f-4e2bb2e77f98",
   "metadata": {},
   "outputs": [
    {
     "data": {
      "text/plain": [
       "((77135, 87), (19284, 87), (77135, 1), (19284, 1))"
      ]
     },
     "execution_count": 6,
     "metadata": {},
     "output_type": "execute_result"
    }
   ],
   "source": [
    "X_train.shape, X_test.shape, y_train.shape, y_test.shape"
   ]
  },
  {
   "cell_type": "markdown",
   "id": "e9142769-8f30-47d8-97de-0d99c1556e69",
   "metadata": {},
   "source": [
    "### Preprocés"
   ]
  },
  {
   "cell_type": "code",
   "execution_count": 7,
   "id": "91e98978-d546-4cf2-b1c6-9dadd5d76c00",
   "metadata": {
    "tags": []
   },
   "outputs": [],
   "source": [
    "# columnes originals\n",
    "\n",
    "base_cols = ['Year', 'Month', 'DayofMonth', 'DayOfWeek', \n",
    "             'DepTime', 'CRSDepTime', 'ArrTime', 'CRSArrTime', \n",
    "             'UniqueCarrier', 'AirTime', 'DepDelay', \n",
    "             'Origin', 'Dest', 'Distance', 'TaxiIn', 'TaxiOut', \n",
    "             'CRSElapsedTime_c', 'ActualElapsedTime_c']\n"
   ]
  },
  {
   "cell_type": "code",
   "execution_count": 8,
   "id": "25266510-2bfc-4e70-80fd-b6556e6e9403",
   "metadata": {},
   "outputs": [],
   "source": [
    "cols_exp4 = ['ActualElapsedTime', 'CRSElapsedTime', 'AirTime', \n",
    "            'DepDelay', 'Origin', 'Dest', 'UniqueCarrier', 'Distance', \n",
    "            'carrier_name', 'Name_Origin', 'Name_Dest', \n",
    "            'CRSElapsedTime_c', 'ActualElapsedTime_c', \n",
    "            'DepartureTime', 'CRSDepartureTime', \n",
    "            'ArrivalTime', 'CRSArrivalTime', \n",
    "            'Dep_hourlyf', 'Dep_dailyf', 'Arr_dailyf', 'Arr_hourlyf',    \n",
    "            'Origin_lat', 'Origin_long', 'Dest_lat', 'Dest_long', \n",
    "            'velocity', 'CRSvelocity', \n",
    "            'DepartureTime_hour_sin', 'DepartureTime_hour_cos', 'DepartureTime_day_sin', 'DepartureTime_day_cos', \n",
    "            'DepartureTime_dayofweek_sin', 'DepartureTime_dayofweek_cos', 'DepartureTime_month_sin', 'DepartureTime_month_cos', \n",
    "            'CRSDepartureTime_hour_sin', 'CRSDepartureTime_hour_cos', 'CRSDepartureTime_day_sin', 'CRSDepartureTime_day_cos', \n",
    "            'CRSDepartureTime_dayofweek_sin', 'CRSDepartureTime_dayofweek_cos', 'CRSDepartureTime_month_sin', 'CRSDepartureTime_month_cos', \n",
    "            'ArrivalTime_hour_sin', 'ArrivalTime_hour_cos', 'ArrivalTime_day_sin', 'ArrivalTime_day_cos', \n",
    "            'ArrivalTime_dayofweek_sin', 'ArrivalTime_dayofweek_cos', 'ArrivalTime_month_sin', 'ArrivalTime_month_cos', \n",
    "            'CRSArrivalTime_hour_sin', 'CRSArrivalTime_hour_cos', 'CRSArrivalTime_day_sin', 'CRSArrivalTime_day_cos', \n",
    "            'CRSArrivalTime_dayofweek_sin', 'CRSArrivalTime_dayofweek_cos', 'CRSArrivalTime_month_sin', 'CRSArrivalTime_month_cos']\n"
   ]
  },
  {
   "cell_type": "code",
   "execution_count": 9,
   "id": "f7ceb328-3c66-472a-9cdb-490d8f188000",
   "metadata": {},
   "outputs": [],
   "source": [
    "# amb columes noves\n",
    "cols_exp5 = ['DepDelay',  'Distance', \n",
    "            'UniqueCarrier', \n",
    "            'CRSElapsedTime_c', 'ActualElapsedTime_c', \n",
    "            'DepartureTime', 'CRSDepartureTime', \n",
    "            'ArrivalTime', 'CRSArrivalTime', \n",
    "            'Dep_hourlyf', 'Dep_dailyf', 'Arr_dailyf', 'Arr_hourlyf',    \n",
    "            'Origin_lat', 'Origin_long', 'Dest_lat', 'Dest_long', \n",
    "            'velocity', 'CRSvelocity']\n",
    "\n",
    "# Eliminem el DepDelay\n",
    "cols_exp6 = ['Distance', \n",
    "            'UniqueCarrier', 'Origin', 'Dest',\n",
    "            'CRSElapsedTime_c', 'ActualElapsedTime_c', \n",
    "            'DepartureTime', 'CRSDepartureTime', \n",
    "            'ArrivalTime', 'CRSArrivalTime', \n",
    "            'Dep_hourlyf', 'Dep_dailyf', 'Arr_dailyf', 'Arr_hourlyf',    \n",
    "            'Origin_lat', 'Origin_long', 'Dest_lat', 'Dest_long', \n",
    "            'velocity', 'CRSvelocity']\n",
    "\n",
    "# Eliminem el DepDelay, així com dades sobre el vol real, fins i tot el DepartureTime\n",
    "# No esperem un bon resultat \n",
    "cols_exp7 = ['Distance', \n",
    "            'UniqueCarrier', 'Origin', 'Dest',\n",
    "            'CRSElapsedTime_c', \n",
    "            'CRSDepartureTime', \n",
    "            'CRSArrivalTime', \n",
    "            'Dep_hourlyf', 'Dep_dailyf', 'Arr_dailyf', 'Arr_hourlyf',    \n",
    "            'Origin_lat', 'Origin_long', 'Dest_lat', 'Dest_long', \n",
    "            'CRSvelocity']"
   ]
  },
  {
   "cell_type": "markdown",
   "id": "adolescent-might",
   "metadata": {},
   "source": [
    "## Nivell 1\n",
    "### Exercici 1\n",
    "Crea almenys tres models de classificació diferents per intentar predir el millor possible l’endarreriment dels vols (ArrDelay) de DelayedFlights.csv."
   ]
  },
  {
   "cell_type": "code",
   "execution_count": 10,
   "id": "similar-separate",
   "metadata": {},
   "outputs": [],
   "source": [
    "from sklearn.model_selection import cross_val_score\n",
    "from sklearn.linear_model import LogisticRegression, RidgeClassifier\n",
    "from sklearn.tree import DecisionTreeClassifier\n",
    "from sklearn.ensemble import RandomForestClassifier, GradientBoostingClassifier\n",
    "from sklearn.neural_network import MLPClassifier\n",
    "from xgboost import XGBClassifier\n",
    "\n",
    "# mètriques\n",
    "from sklearn.metrics import accuracy_score, confusion_matrix, roc_auc_score\n",
    "from sklearn.metrics import f1_score, plot_roc_curve\n",
    "from sklearn.metrics import plot_confusion_matrix, plot_precision_recall_curve\n",
    "\n",
    "\n",
    "from sklearn.compose import ColumnTransformer\n",
    "from sklearn.pipeline import Pipeline\n"
   ]
  },
  {
   "cell_type": "markdown",
   "id": "3c39a13e-8d6d-40f2-9c64-e245d6a419cc",
   "metadata": {},
   "source": [
    "##### Preparem un parell de funcions on creem un pipeline i executem la classificació"
   ]
  },
  {
   "cell_type": "code",
   "execution_count": 11,
   "id": "19d6fc20-7122-4bb0-82cd-ab08451e5787",
   "metadata": {
    "tags": []
   },
   "outputs": [],
   "source": [
    "def make_pipeline(data, columns, model):\n",
    "    cols_num = data[columns].select_dtypes(include=['int','float']).columns.to_list()\n",
    "    cols_cat = data[columns].select_dtypes(include=['object']).columns.to_list()\n",
    "    cols_date = data[columns].select_dtypes(include=['datetime']).columns.to_list()\n",
    "    \n",
    "    ct = ColumnTransformer(\n",
    "             transformers=[('num', RobustScaler(), cols_num),\n",
    "                          ('cat', OneHotEncoder(handle_unknown='ignore'), cols_cat),\n",
    "                          ('date', SinCosTransformer(['hour','day','dayofweek','month','weekofyear']), cols_date )])\n",
    "    \n",
    "    pipeline = Pipeline( steps=[('transformer', ct),\n",
    "                               ('regr', model)])\n",
    "    \n",
    "    return pipeline\n",
    "\n",
    "# base_pipe = make_pipeline(dfdelays, base_cols, LinearRegression())\n",
    "\n",
    "# base_pipe.fit(dfdelays[base_cols], dfdelays[target])\n",
    "# y_pred_base = base_pipe.predict(dfdelays[base_cols])\n",
    "# print(f'LR r2: {r2_score(dfdelays[target], y_pred_base)}')\n",
    "# print(f'LR MSE: {mean_squared_error(dfdelays[target], y_pred_base)}')\n",
    "\n",
    "def run_experiment(train, test=None, columns=[], model=LogisticRegression(), ax=None, title=None):\n",
    "    if test is None:\n",
    "        X_train, X_test, y_train, y_test = train_test_split(train, \n",
    "                                                        test_size=TEST_SIZE, random_state=SEED)\n",
    "    else:\n",
    "        X_train, y_train = train\n",
    "        X_test, y_test = test\n",
    "        \n",
    "    pipe = make_pipeline(X_train, columns, model)\n",
    "    \n",
    "    pipe.fit(X_train, y_train)\n",
    "    y_pred = pipe.predict(X_test)\n",
    "    \n",
    "    if ax:\n",
    "        disp = plot_roc_curve(pipe, X_test, y_test, \n",
    "                              ax=ax, name=model.__class__.__name__)\n",
    "        ax.set_title(title)\n",
    "        \n",
    "    return accuracy_score(y_test, y_pred), \\\n",
    "            roc_auc_score(y_test, y_pred), \\\n",
    "            f1_score(y_test, y_pred), \\\n",
    "            confusion_matrix(y_test, y_pred)\n",
    "    \n",
    "    "
   ]
  },
  {
   "cell_type": "code",
   "execution_count": 20,
   "id": "2142dda7-52ea-4d53-bffd-e3593ca0f0e5",
   "metadata": {},
   "outputs": [],
   "source": [
    "class_weight= {0: 8., 1:1.}\n",
    "\n",
    "models = {'lr': LogisticRegression(),\n",
    "          'lr2': LogisticRegression(class_weight=class_weight,max_iter=200, random_state=SEED),\n",
    "         'ridge': RidgeClassifier(),\n",
    "         'tree': DecisionTreeClassifier(max_depth=7, random_state=SEED),\n",
    "         'tree2': DecisionTreeClassifier(max_depth=10, random_state=SEED),\n",
    "         'rf': RandomForestClassifier(max_depth=7, n_jobs=-1, random_state=SEED),\n",
    "         'gb': GradientBoostingClassifier( random_state=SEED, criterion='mse'),\n",
    "         'gb2': GradientBoostingClassifier(n_estimators=500, learning_rate=0.01, random_state=SEED, criterion='mse'),\n",
    "         'nn': MLPClassifier(hidden_layer_sizes=(100,50,25)),\n",
    "         'nn2': MLPClassifier(hidden_layer_sizes=(64,32), random_state=SEED),\n",
    "         'xgb': XGBClassifier(n_jobs=-1, objective='binary:logistic',\n",
    "                             eval_metric=['logloss','auc'])}\n",
    "\n",
    "\n",
    "# params = {  'lr': {'fit_intercept':False, 'normalize': True},\n",
    "#             'ridge': {'alpha':np.linspace(), 'solver':{'auto', 'svd', 'cholesky', 'lsqr', 'sparse_cg', 'sag', 'saga'}},\n",
    "#             'hub': {},\n",
    "#             'tree': {},\n",
    "#             'rf': {} \n",
    "#             'gb': {} \n",
    "#             'nn': {} \n",
    "#             'xgb': {}\n",
    "#          }"
   ]
  },
  {
   "cell_type": "markdown",
   "id": "7ceae96b-bd95-41e8-b19b-d89580cdaae0",
   "metadata": {},
   "source": [
    "#### Comprovem l'accuracy si tot fossin retrassos"
   ]
  },
  {
   "cell_type": "code",
   "execution_count": 21,
   "id": "959669fa-0e6b-41a3-b783-f36bb7ab78d1",
   "metadata": {},
   "outputs": [
    {
     "data": {
      "text/markdown": [
       "#### Accuracy: 0.89354"
      ],
      "text/plain": [
       "<IPython.core.display.Markdown object>"
      ]
     },
     "metadata": {},
     "output_type": "display_data"
    }
   ],
   "source": [
    "display(Markdown(f'#### Accuracy: {accuracy_score(y_test, np.ones(y_test.shape)):.5f}'))"
   ]
  },
  {
   "cell_type": "markdown",
   "id": "27ab5d0f-8d93-48a3-b225-f109db00b470",
   "metadata": {},
   "source": [
    "Veiem que per perquè l'algoritme sigui útil hauria de millorar l'accuracy obtingut de considerar tots els vols com a retrassats.\n",
    "Farem uns experiments per veure com es porten els diferents algoritmes amb diferents features:\n",
    "\n",
    "#### Experiments - Features escollits\n",
    "\n",
    "- **Exp. min**: Només amb DepDelay\n",
    "- **base**: Amb les dades originals netejades\n",
    "- **exp. 3**: Amb només 'DepDelay', 'Distance','Origin', 'Dest', 'UniqueCarrier'\n",
    "- **exercici 5**. Noves columnes. Velocitat, Latitut i Longitut dels aeroports, Numero de vols per hora i dia a l'aeroport de Sortida i Arribada\n",
    "- **ND exp. 6**: com el 5 però sense el DepDelay\n",
    "- **ND exp. 7**: Eliminem el DepDelay, així com dades sobre el vol real, fins i tot el DepartureTime. No esperem un bon resultat Experiments sense DepDelay"
   ]
  },
  {
   "cell_type": "code",
   "execution_count": 22,
   "id": "67758ab8-b2e5-42f3-8e27-4e17659be48d",
   "metadata": {},
   "outputs": [],
   "source": [
    "experiments = { 'Exp. min': ['DepDelay'],\n",
    "              'base': base_cols, \n",
    "              'exp. 3': ['DepDelay', 'Distance','Origin', 'Dest', 'UniqueCarrier'],\n",
    "              'exercici 5': cols_exp5 ,\n",
    "               'ND exp. 6': cols_exp6,\n",
    "               'ND exp. 7': cols_exp7 }"
   ]
  },
  {
   "cell_type": "code",
   "execution_count": null,
   "id": "599945d5-edd2-4ba2-a13b-c6099e2a7bfb",
   "metadata": {
    "tags": []
   },
   "outputs": [
    {
     "data": {
      "application/vnd.jupyter.widget-view+json": {
       "model_id": "535f34be71994f99a07e2a9f63eaba4d",
       "version_major": 2,
       "version_minor": 0
      },
      "text/plain": [
       "0it [00:00, ?it/s]"
      ]
     },
     "metadata": {},
     "output_type": "display_data"
    },
    {
     "data": {
      "application/vnd.jupyter.widget-view+json": {
       "model_id": "099e015de8a746afa790e8da531a59a8",
       "version_major": 2,
       "version_minor": 0
      },
      "text/plain": [
       "  0%|          | 0/11 [00:00<?, ?it/s]"
      ]
     },
     "metadata": {},
     "output_type": "display_data"
    },
    {
     "data": {
      "application/vnd.jupyter.widget-view+json": {
       "model_id": "fe9a36f7435c462e82f070c696cfb988",
       "version_major": 2,
       "version_minor": 0
      },
      "text/plain": [
       "  0%|          | 0/11 [00:00<?, ?it/s]"
      ]
     },
     "metadata": {},
     "output_type": "display_data"
    },
    {
     "data": {
      "application/vnd.jupyter.widget-view+json": {
       "model_id": "58b0028fd6fe49848833abdea3901057",
       "version_major": 2,
       "version_minor": 0
      },
      "text/plain": [
       "  0%|          | 0/11 [00:00<?, ?it/s]"
      ]
     },
     "metadata": {},
     "output_type": "display_data"
    },
    {
     "data": {
      "application/vnd.jupyter.widget-view+json": {
       "model_id": "a56e7187c3c94418a0167871bcd0e50c",
       "version_major": 2,
       "version_minor": 0
      },
      "text/plain": [
       "  0%|          | 0/11 [00:00<?, ?it/s]"
      ]
     },
     "metadata": {},
     "output_type": "display_data"
    }
   ],
   "source": [
    "results = []\n",
    "\n",
    "fig, ax = plt.subplots(len(experiments), figsize=(10,35))\n",
    "\n",
    "for i, (exp, cols) in tqdm(enumerate(experiments.items())):\n",
    "    for name, model in tqdm(models.items()):\n",
    "#         print(f'{exp}: {model.__class__.__name__}')\n",
    "        t0 = time.time()\n",
    "        acc, auc, f1, conf_mat = run_experiment((X_train, y_train), (X_test, y_test), \n",
    "                                            cols, model, ax=ax[i], title=exp)\n",
    "        results.append([name, acc, auc, conf_mat, len(cols) ,time.time()-t0, exp])\n",
    "#         print(f'{exp} {name}: {model.__class__.__name__} \\n\\tMSE: {mse}\\n\\tR2 : {r2}')\n",
    "\n",
    "dfresults =  pd.DataFrame(results, columns=['model','acc', 'auc', 'f1','conf_mat', 'num_feat','time', 'experiment'])\n",
    "# dfresults"
   ]
  },
  {
   "cell_type": "code",
   "execution_count": null,
   "id": "0a7ecf68-faec-421f-969f-bc2c22048dc4",
   "metadata": {},
   "outputs": [],
   "source": [
    "dfresults.pivot(index=['model'],values=['acc','auc','conf_mat','num_feat','time'],columns=['experiment'])\\\n",
    "            .style.set_properties(**{'background-color':'lightyellow'}, subset=['acc'])\\\n",
    "                .set_properties(**{'background-color':'lightgreen'}, subset=['auc'])\\\n",
    "                .highlight_max(axis=0, subset=['acc','auc'])\n",
    "#             .set_properties(**{'background-color':'cyan'}, subset=['conf_mat'])\n",
    "#             .highlight_min(axis=0, subset=['mse','time'])\\\n",
    "#             .highlight_max(axis=0, subset=['r2'])\n",
    "\n"
   ]
  },
  {
   "cell_type": "code",
   "execution_count": null,
   "id": "0f0c0b0d-b0cd-46b7-ae06-3bd82714bdc3",
   "metadata": {},
   "outputs": [],
   "source": []
  },
  {
   "cell_type": "markdown",
   "id": "under-botswana",
   "metadata": {},
   "source": [
    "### Exercici 2\n",
    "Crea una nova variable segons si el vol ha arribat tard o no (ArrDelay > 0)."
   ]
  },
  {
   "cell_type": "markdown",
   "id": "d1ec87be-e1bf-4b70-8c01-34243977af2b",
   "metadata": {},
   "source": [
    "<div class=\"alert-info\">\n",
    "    <strong>Info: </strong>Creada previament.</div>\n",
    "\n"
   ]
  },
  {
   "cell_type": "markdown",
   "id": "valued-washington",
   "metadata": {},
   "source": [
    "### Exercici 3\n",
    "Compara els models de classificació utilitzant la precisió (accuracy), una matriu de confiança i d’altres mètriques més avançades."
   ]
  },
  {
   "cell_type": "code",
   "execution_count": null,
   "id": "demonstrated-carry",
   "metadata": {},
   "outputs": [],
   "source": [
    "pipe_xgb = make_pipeline(X_train, experiments['ND exp. 6'], models['xgb'])"
   ]
  },
  {
   "cell_type": "code",
   "execution_count": null,
   "id": "8bdb59b0-14df-403b-be59-04822f6ee522",
   "metadata": {},
   "outputs": [],
   "source": [
    "pipe_xgb.fit(X_train, y_train)\n",
    "pipe_xgb.predict(X_test)"
   ]
  },
  {
   "cell_type": "code",
   "execution_count": null,
   "id": "44b6c19c-b3d2-4c6f-99b0-4b1ab10419d9",
   "metadata": {},
   "outputs": [],
   "source": [
    "disp = plot_confusion_matrix(pipe_xgb,X_test,y_test)\n",
    "disp.ax_.set_title('xgb')\n",
    "\n",
    "#     disp = plot_confusion_matrix(classifier, X_test, y_test,\n",
    "#                                  display_labels=class_names,\n",
    "#                                  cmap=plt.cm.Blues,\n",
    "#                                  normalize=normalize)\n",
    "#     disp.ax_.set_title(title)"
   ]
  },
  {
   "cell_type": "code",
   "execution_count": null,
   "id": "61241fca-0b16-47cb-9f30-76940d60477b",
   "metadata": {},
   "outputs": [],
   "source": [
    "plot_roc_curve(pipe_xgb,X_test,y_test)\n",
    "plot_roc_curve(pipe_xgb,X_test,y_test)"
   ]
  },
  {
   "cell_type": "code",
   "execution_count": null,
   "id": "50c36a31-f66a-4b47-aa3f-f95d79c1e8d8",
   "metadata": {},
   "outputs": [],
   "source": [
    "roc_auc_score(y_test, np.ones(y_test.shape))"
   ]
  },
  {
   "cell_type": "code",
   "execution_count": null,
   "id": "e67fc041-3f45-4e09-af4b-05ebeb38ab4b",
   "metadata": {},
   "outputs": [],
   "source": [
    "dfresults"
   ]
  },
  {
   "cell_type": "code",
   "execution_count": null,
   "id": "fa412886-a96f-4aa7-b22e-674f4a8c6035",
   "metadata": {},
   "outputs": [],
   "source": [
    "# g = sns.heatmap(dfresults.loc[0, 'conf_mat'], annot=True, \n",
    "#                 cbar=False, fmt='', linewidths=5, cmap='Blues')\n",
    "# g.xaxis.set_label_text('Predicted')\n",
    "# g.yaxis.set_label_text('True')\n",
    "# t = g.set_title(dfresults.loc[0, 'model']+ ' '+dfresults.loc[0, 'experiment'])"
   ]
  },
  {
   "cell_type": "code",
   "execution_count": null,
   "id": "3bab8f1b-2ffd-423b-a7cc-fb69053253f6",
   "metadata": {},
   "outputs": [],
   "source": [
    "def draw_heatmap(*args, **kwargs):\n",
    "    data = kwargs.pop('data')\n",
    "    d = data.conf_mat\n",
    "    sns.heatmap(*d.values, **kwargs)\n",
    "\n",
    "g = sns.FacetGrid(dfresults, col='experiment', row='model', )\n",
    "# g.map(sns.heatmap, dfresults['conf_mat'])\n",
    "\n",
    "\n",
    "g.map_dataframe(draw_heatmap, 'conf_mat', annot=True, fmt='', cbar=False,\n",
    "               annot_kws={\"fontsize\":18}, cmap='Blues')\n",
    "\n",
    "#     data = kwargs.pop('data')\n",
    "#     d = data.pivot(index=args[1], columns=args[0], values=args[2])\n",
    "#     sns.heatmap(d, **kwargs)"
   ]
  },
  {
   "cell_type": "markdown",
   "id": "continued-silver",
   "metadata": {},
   "source": [
    "### Exercici 4\n",
    "Entrena’ls utilitzant els diferents paràmetres que admeten."
   ]
  },
  {
   "cell_type": "code",
   "execution_count": null,
   "id": "corresponding-significance",
   "metadata": {},
   "outputs": [],
   "source": []
  },
  {
   "cell_type": "markdown",
   "id": "divided-insulation",
   "metadata": {},
   "source": [
    "### Exercici 5\n",
    "Compara el seu rendiment utilitzant l’aproximació traint/test o utilitzant totes les dades (validació interna -CV-)."
   ]
  },
  {
   "cell_type": "code",
   "execution_count": null,
   "id": "6c8fbcf0-cdb4-4395-ab82-13a35b0421b3",
   "metadata": {
    "tags": []
   },
   "outputs": [],
   "source": [
    "from sklearn.model_selection import StratifiedKFold, StratifiedShuffleSplit\n",
    "from sklearn.model_selection import cross_val_score, cross_validate\n",
    "\n",
    "cv = 5\n",
    "X = dfdelays\n",
    "y = dfdelays[target]\n",
    "\n",
    "results = []\n",
    "# models = {'xgb': XGBClassifier(n_jobs=-1)}\n",
    "for exp, cols in tqdm(experiments.items()):\n",
    "    for name, model in tqdm(models.items()):\n",
    "        t0 = time.time()\n",
    "#         print(model)\n",
    "        pipe = make_pipeline(X, cols, model )\n",
    "        score = cross_validate(pipe, X[cols], y, cv=cv, \n",
    "                               scoring=['accuracy','f1'],\n",
    "                               n_jobs=2, verbose=1,  )\n",
    "    #     results[model] = [scores, scores.mean, t]\n",
    "        results.append([name, \n",
    "                        score['test_accuracy'].mean(),\n",
    "                        score['test_f1'].mean(),\n",
    "                        len(cols), \n",
    "                        score['fit_time'].sum(),\n",
    "                        exp])\n",
    "    "
   ]
  },
  {
   "cell_type": "code",
   "execution_count": null,
   "id": "b25a4fed-42d4-4c97-9870-7003c8fece4b",
   "metadata": {},
   "outputs": [],
   "source": [
    "dfcvresults = pd.DataFrame(results, \n",
    "                           columns=['model','accuracy','f1', 'num_feat','cv_time','experiment'])"
   ]
  },
  {
   "cell_type": "code",
   "execution_count": null,
   "id": "2ceec33c-5446-4d33-a7a8-e585ed19ef99",
   "metadata": {},
   "outputs": [],
   "source": [
    "dfcvresults.pivot(index=['model'],values=['accuracy','f1','num_feat','cv_time'],columns=['experiment'])\\\n",
    "            .style.set_properties(**{'background-color':'lightyellow'}, subset=['accuracy'])\\\n",
    "                .set_properties(**{'background-color':'lightgreen'}, subset=['f1'])\\\n",
    "                .highlight_max(axis=0, subset=['accuracy','f1'])\n",
    "#             .set_properties(**{'background-color':'cyan'}, subset=['conf_mat'])\n",
    "#             .highlight_min(axis=0, subset=['mse','time'])\\\n",
    "#             .highlight_max(axis=0, subset=['r2'])\n",
    "\n",
    "\n"
   ]
  },
  {
   "cell_type": "code",
   "execution_count": null,
   "id": "strategic-norman",
   "metadata": {
    "tags": []
   },
   "outputs": [],
   "source": [
    "dfcvresults"
   ]
  },
  {
   "cell_type": "markdown",
   "id": "loaded-sterling",
   "metadata": {},
   "source": [
    "## Nivell 2\n",
    "### Exercici 6\n",
    "Realitza algun procés d’enginyeria de variables per millorar-ne la predicció"
   ]
  },
  {
   "cell_type": "markdown",
   "id": "58d4fc91-4d07-4432-9bb5-8a5b0499fbb9",
   "metadata": {},
   "source": [
    "<div class=\"alert-info\">\n",
    "    <strong>Info: </strong>Resultat Experiment 5 </div>\n"
   ]
  },
  {
   "cell_type": "code",
   "execution_count": null,
   "id": "specific-sigma",
   "metadata": {},
   "outputs": [],
   "source": []
  },
  {
   "cell_type": "markdown",
   "id": "integrated-inside",
   "metadata": {},
   "source": [
    "## Nivell 3\n",
    "### Exercici 7\n",
    "No utilitzis la variable DepDelay a l’hora de fer prediccions"
   ]
  },
  {
   "cell_type": "markdown",
   "id": "8f223b2d-f8c4-42b4-92ed-ba225b2ace34",
   "metadata": {},
   "source": [
    "<div class=\"alert-info\">\n",
    "    <strong>Info: </strong>Resultat Experiments 6 i 7</div>\n",
    "\n"
   ]
  },
  {
   "cell_type": "code",
   "execution_count": null,
   "id": "governmental-revision",
   "metadata": {},
   "outputs": [],
   "source": []
  }
 ],
 "metadata": {
  "kernelspec": {
   "display_name": "Python 3",
   "language": "python",
   "name": "python3"
  },
  "language_info": {
   "codemirror_mode": {
    "name": "ipython",
    "version": 3
   },
   "file_extension": ".py",
   "mimetype": "text/x-python",
   "name": "python",
   "nbconvert_exporter": "python",
   "pygments_lexer": "ipython3",
   "version": "3.8.10"
  }
 },
 "nbformat": 4,
 "nbformat_minor": 5
}
