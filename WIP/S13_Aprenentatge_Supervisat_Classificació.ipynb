{
 "cells": [
  {
   "cell_type": "markdown",
   "id": "enormous-validation",
   "metadata": {},
   "source": [
    "# Aprenentage Supervisat - Classificació\n",
    "**Descripció**. \n",
    "Anem a practicar i a familiaritzar-nos amb algoritmes de classificació."
   ]
  },
  {
   "cell_type": "markdown",
   "id": "adolescent-might",
   "metadata": {},
   "source": [
    "## Nivell 1\n",
    "### Exercici 1\n",
    "Crea almenys tres models de classificació diferents per intentar predir el millor possible l’endarreriment dels vols (ArrDelay) de DelayedFlights.csv."
   ]
  },
  {
   "cell_type": "code",
   "execution_count": null,
   "id": "similar-separate",
   "metadata": {},
   "outputs": [],
   "source": []
  },
  {
   "cell_type": "markdown",
   "id": "under-botswana",
   "metadata": {},
   "source": [
    "### Exercici 2\n",
    "Crea una nova variable segons si el vol ha arribat tard o no (ArrDelay > 0)."
   ]
  },
  {
   "cell_type": "code",
   "execution_count": null,
   "id": "speaking-behavior",
   "metadata": {},
   "outputs": [],
   "source": []
  },
  {
   "cell_type": "markdown",
   "id": "valued-washington",
   "metadata": {},
   "source": [
    "### Exercici 3\n",
    "Compara els models de classificació utilitzant la precisió (accuracy), una matriu de confiança i d’altres mètriques més avançades."
   ]
  },
  {
   "cell_type": "code",
   "execution_count": null,
   "id": "demonstrated-carry",
   "metadata": {},
   "outputs": [],
   "source": []
  },
  {
   "cell_type": "markdown",
   "id": "continued-silver",
   "metadata": {},
   "source": [
    "### Exercici 4\n",
    "Entrena’ls utilitzant els diferents paràmetres que admeten."
   ]
  },
  {
   "cell_type": "code",
   "execution_count": null,
   "id": "corresponding-significance",
   "metadata": {},
   "outputs": [],
   "source": []
  },
  {
   "cell_type": "markdown",
   "id": "divided-insulation",
   "metadata": {},
   "source": [
    "### Exercici 5\n",
    "Compara el seu rendiment utilitzant l’aproximació traint/test o utilitzant totes les dades (validació interna)."
   ]
  },
  {
   "cell_type": "code",
   "execution_count": null,
   "id": "strategic-norman",
   "metadata": {},
   "outputs": [],
   "source": []
  },
  {
   "cell_type": "markdown",
   "id": "loaded-sterling",
   "metadata": {},
   "source": [
    "## Nivell 2\n",
    "### Exercici 6\n",
    "Realitza algun procés d’enginyeria de variables per millorar-ne la predicció"
   ]
  },
  {
   "cell_type": "code",
   "execution_count": null,
   "id": "specific-sigma",
   "metadata": {},
   "outputs": [],
   "source": []
  },
  {
   "cell_type": "markdown",
   "id": "integrated-inside",
   "metadata": {},
   "source": [
    "## Nivell 3\n",
    "### Exercici 7\n",
    "No utilitzis la variable DepDelay a l’hora de fer prediccions"
   ]
  },
  {
   "cell_type": "code",
   "execution_count": null,
   "id": "governmental-revision",
   "metadata": {},
   "outputs": [],
   "source": []
  }
 ],
 "metadata": {
  "kernelspec": {
   "display_name": "udacity_dsnd",
   "language": "python",
   "name": "udacity_dsnd"
  },
  "language_info": {
   "codemirror_mode": {
    "name": "ipython",
    "version": 3
   },
   "file_extension": ".py",
   "mimetype": "text/x-python",
   "name": "python",
   "nbconvert_exporter": "python",
   "pygments_lexer": "ipython3",
   "version": "3.9.0"
  }
 },
 "nbformat": 4,
 "nbformat_minor": 5
}
