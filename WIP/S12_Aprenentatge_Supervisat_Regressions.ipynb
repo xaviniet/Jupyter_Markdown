{
 "cells": [
  {
   "cell_type": "markdown",
   "id": "original-dinner",
   "metadata": {},
   "source": [
    "# Aprenentatge Supervisat - Regressions\n",
    "\n",
    "**Descripció**\n",
    "\n",
    "Anem a practicar i a familiaritzar-nos amb regressions"
   ]
  },
  {
   "cell_type": "markdown",
   "id": "ideal-arnold",
   "metadata": {},
   "source": [
    "## Nivell 1\n",
    "\n",
    "### Exercici 1\n",
    "Crea almenys tres models de regressió diferents per intentar predir el millor possible l’endarreriment dels vols (ArrDelay) de DelayedFlights.csv."
   ]
  },
  {
   "cell_type": "code",
   "execution_count": null,
   "id": "frequent-debate",
   "metadata": {},
   "outputs": [],
   "source": []
  },
  {
   "cell_type": "markdown",
   "id": "sensitive-beverage",
   "metadata": {},
   "source": [
    "### Exercici 2\n",
    "Compara’ls en base al MSE i al R2 ."
   ]
  },
  {
   "cell_type": "code",
   "execution_count": null,
   "id": "seven-there",
   "metadata": {},
   "outputs": [],
   "source": []
  },
  {
   "cell_type": "markdown",
   "id": "healthy-marathon",
   "metadata": {},
   "source": [
    "### Exercici 3\n",
    "Entrena’ls utilitzant els diferents paràmetres que admeten."
   ]
  },
  {
   "cell_type": "code",
   "execution_count": null,
   "id": "available-particle",
   "metadata": {},
   "outputs": [],
   "source": []
  },
  {
   "cell_type": "markdown",
   "id": "dynamic-event",
   "metadata": {},
   "source": [
    "### Exercici 4\n",
    "Compara el seu rendiment utilitzant l’aproximació traint/test o utilitzant totes les dades (validació interna)"
   ]
  },
  {
   "cell_type": "code",
   "execution_count": null,
   "id": "muslim-boston",
   "metadata": {},
   "outputs": [],
   "source": []
  },
  {
   "cell_type": "markdown",
   "id": "continuous-recognition",
   "metadata": {},
   "source": [
    "## Nivell 2\n",
    "### Exercici 5\n",
    "Realitza algun procés d’enginyeria de variables per millorar-ne la predicció"
   ]
  },
  {
   "cell_type": "code",
   "execution_count": null,
   "id": "potential-gregory",
   "metadata": {},
   "outputs": [],
   "source": []
  },
  {
   "cell_type": "markdown",
   "id": "expressed-sellers",
   "metadata": {},
   "source": [
    "## Nivell 3\n",
    "### Exercici 6\n",
    "No utilitzis la variable DepDelay a l’hora de fer prediccions"
   ]
  },
  {
   "cell_type": "code",
   "execution_count": null,
   "id": "surrounded-toilet",
   "metadata": {},
   "outputs": [],
   "source": []
  }
 ],
 "metadata": {
  "kernelspec": {
   "display_name": "udacity_dsnd",
   "language": "python",
   "name": "udacity_dsnd"
  },
  "language_info": {
   "codemirror_mode": {
    "name": "ipython",
    "version": 3
   },
   "file_extension": ".py",
   "mimetype": "text/x-python",
   "name": "python",
   "nbconvert_exporter": "python",
   "pygments_lexer": "ipython3",
   "version": "3.9.0"
  }
 },
 "nbformat": 4,
 "nbformat_minor": 5
}
