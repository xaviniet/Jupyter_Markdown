{
 "cells": [
  {
   "cell_type": "markdown",
   "id": "original-dinner",
   "metadata": {},
   "source": [
    "# Aprenentatge Supervisat - Regressions\n",
    "\n",
    "**Descripció**\n",
    "\n",
    "Anem a practicar i a familiaritzar-nos amb regressions"
   ]
  },
  {
   "cell_type": "code",
   "execution_count": 1,
   "id": "38f2ea86-eaa0-492e-8af2-1d8067236b1a",
   "metadata": {},
   "outputs": [],
   "source": [
    "\n",
    "import numpy as np\n",
    "import pandas as pd\n",
    "\n",
    "import matplotlib.pyplot as plt\n",
    "import seaborn as sns\n",
    "\n",
    "import time\n",
    "\n",
    "from sklearn.preprocessing import StandardScaler, RobustScaler \n",
    "from sklearn.preprocessing import PowerTransformer, OneHotEncoder\n",
    "from sklearn.model_selection import train_test_split\n",
    "\n",
    "from tqdm.notebook import tqdm\n",
    "\n",
    "from utils import SinCosTransformer\n",
    "\n",
    "import warnings\n",
    "warnings.simplefilter('ignore')\n",
    "\n",
    "SEED = 42\n",
    "TEST_SIZE = 0.2\n",
    "TESTING = True"
   ]
  },
  {
   "cell_type": "markdown",
   "id": "490a1be0-335f-4b60-b52c-09c87ad2abaa",
   "metadata": {},
   "source": [
    "### Carreguem les dades"
   ]
  },
  {
   "cell_type": "code",
   "execution_count": 2,
   "id": "48035510-ec63-44a0-a56b-9f1dde4f6338",
   "metadata": {},
   "outputs": [],
   "source": [
    "dfdelays = pd.read_pickle('../data/S11-CleanDelayedFlights.pickle')"
   ]
  },
  {
   "cell_type": "code",
   "execution_count": 3,
   "id": "d0036ada-2ce6-4b6c-ada2-669cce0cc69b",
   "metadata": {},
   "outputs": [
    {
     "data": {
      "text/plain": [
       "(96419, 87)"
      ]
     },
     "execution_count": 3,
     "metadata": {},
     "output_type": "execute_result"
    }
   ],
   "source": [
    "# Fem un sample de les dades per fer el procés més ràpid \n",
    "\n",
    "if TESTING:\n",
    "    dfdelays = dfdelays.sample(frac=0.05, random_state=SEED)\n",
    "    \n",
    "dfdelays.shape"
   ]
  },
  {
   "cell_type": "markdown",
   "id": "353ecb36-b8ab-4dc7-aada-9dce74067100",
   "metadata": {},
   "source": [
    "### Separem en train test"
   ]
  },
  {
   "cell_type": "code",
   "execution_count": 4,
   "id": "eac04d11-34ac-4f1a-a670-6e88249b5849",
   "metadata": {},
   "outputs": [],
   "source": [
    "target = ['ArrDelay']\n",
    "\n",
    "cols = [col for col in dfdelays.columns if col not in target]\n",
    "\n",
    "X_train, X_test, y_train, y_test = train_test_split(dfdelays[cols], dfdelays[target], test_size=TEST_SIZE, random_state=SEED )"
   ]
  },
  {
   "cell_type": "code",
   "execution_count": 5,
   "id": "fc871ca2-b768-4f40-a021-f4635f5431aa",
   "metadata": {},
   "outputs": [
    {
     "data": {
      "text/plain": [
       "((77135, 86), (19284, 86), (77135, 1), (19284, 1))"
      ]
     },
     "execution_count": 5,
     "metadata": {},
     "output_type": "execute_result"
    }
   ],
   "source": [
    "X_train.shape, X_test.shape, y_train.shape, y_test.shape"
   ]
  },
  {
   "cell_type": "markdown",
   "id": "56bb0d6c-7413-4189-8d9f-6089cf2d86cf",
   "metadata": {},
   "source": [
    "### Preprocés"
   ]
  },
  {
   "cell_type": "code",
   "execution_count": 6,
   "id": "7c053c6f-3c7f-45e4-bad4-20b1344c5d92",
   "metadata": {
    "tags": []
   },
   "outputs": [],
   "source": [
    "# columnes originals\n",
    "\n",
    "base_cols = ['Year', 'Month', 'DayofMonth', 'DayOfWeek', \n",
    "             'DepTime', 'CRSDepTime', 'ArrTime', 'CRSArrTime', \n",
    "             'UniqueCarrier', 'AirTime', 'DepDelay', \n",
    "             'Origin', 'Dest', 'Distance', 'TaxiIn', 'TaxiOut', \n",
    "             'CRSElapsedTime_c', 'ActualElapsedTime_c']\n"
   ]
  },
  {
   "cell_type": "code",
   "execution_count": 7,
   "id": "2bc19205-69db-4da4-bc9b-eb9f399ea3bb",
   "metadata": {},
   "outputs": [],
   "source": [
    "cols_exp4 = ['ActualElapsedTime', 'CRSElapsedTime', 'AirTime', \n",
    "            'DepDelay', 'Origin', 'Dest', 'UniqueCarrier', 'Distance', \n",
    "            'carrier_name', 'Name_Origin', 'Name_Dest', \n",
    "            'CRSElapsedTime_c', 'ActualElapsedTime_c', \n",
    "            'DepartureTime', 'CRSDepartureTime', \n",
    "            'ArrivalTime', 'CRSArrivalTime', \n",
    "            'Dep_hourlyf', 'Dep_dailyf', 'Arr_dailyf', 'Arr_hourlyf',    \n",
    "            'Origin_lat', 'Origin_long', 'Dest_lat', 'Dest_long', \n",
    "            'velocity', 'CRSvelocity', \n",
    "            'DepartureTime_hour_sin', 'DepartureTime_hour_cos', 'DepartureTime_day_sin', 'DepartureTime_day_cos', \n",
    "            'DepartureTime_dayofweek_sin', 'DepartureTime_dayofweek_cos', 'DepartureTime_month_sin', 'DepartureTime_month_cos', \n",
    "            'CRSDepartureTime_hour_sin', 'CRSDepartureTime_hour_cos', 'CRSDepartureTime_day_sin', 'CRSDepartureTime_day_cos', \n",
    "            'CRSDepartureTime_dayofweek_sin', 'CRSDepartureTime_dayofweek_cos', 'CRSDepartureTime_month_sin', 'CRSDepartureTime_month_cos', \n",
    "            'ArrivalTime_hour_sin', 'ArrivalTime_hour_cos', 'ArrivalTime_day_sin', 'ArrivalTime_day_cos', \n",
    "            'ArrivalTime_dayofweek_sin', 'ArrivalTime_dayofweek_cos', 'ArrivalTime_month_sin', 'ArrivalTime_month_cos', \n",
    "            'CRSArrivalTime_hour_sin', 'CRSArrivalTime_hour_cos', 'CRSArrivalTime_day_sin', 'CRSArrivalTime_day_cos', \n",
    "            'CRSArrivalTime_dayofweek_sin', 'CRSArrivalTime_dayofweek_cos', 'CRSArrivalTime_month_sin', 'CRSArrivalTime_month_cos']\n"
   ]
  },
  {
   "cell_type": "code",
   "execution_count": 8,
   "id": "1e60c79e-aecf-45dc-9b13-9d750744d203",
   "metadata": {},
   "outputs": [],
   "source": [
    "# amb columes noves\n",
    "cols_exp5 = ['DepDelay',  'Distance', \n",
    "            'UniqueCarrier', \n",
    "            'CRSElapsedTime_c', 'ActualElapsedTime_c', \n",
    "            'DepartureTime', 'CRSDepartureTime', \n",
    "            'ArrivalTime', 'CRSArrivalTime', \n",
    "            'Dep_hourlyf', 'Dep_dailyf', 'Arr_dailyf', 'Arr_hourlyf',    \n",
    "            'Origin_lat', 'Origin_long', 'Dest_lat', 'Dest_long', \n",
    "            'velocity', 'CRSvelocity']\n",
    "\n",
    "# Eliminem el DepDelay\n",
    "cols_exp6 = ['Distance', \n",
    "            'UniqueCarrier', \n",
    "            'CRSElapsedTime_c', 'ActualElapsedTime_c', \n",
    "            'DepartureTime', 'CRSDepartureTime', \n",
    "            'ArrivalTime', 'CRSArrivalTime', \n",
    "            'Dep_hourlyf', 'Dep_dailyf', 'Arr_dailyf', 'Arr_hourlyf',    \n",
    "            'Origin_lat', 'Origin_long', 'Dest_lat', 'Dest_long', \n",
    "            'velocity', 'CRSvelocity']\n",
    "\n",
    "# Eliminem el DepDelay, així com dades sobre el vol real, fins i tot el DepartureTime\n",
    "# No esperem un bon resultat \n",
    "cols_exp7 = ['Distance', \n",
    "            'UniqueCarrier', 'Origin', 'Dest',\n",
    "            'CRSElapsedTime_c', \n",
    "            'CRSDepartureTime', \n",
    "            'CRSArrivalTime', \n",
    "            'Dep_hourlyf', 'Dep_dailyf', 'Arr_dailyf', 'Arr_hourlyf',    \n",
    "            'Origin_lat', 'Origin_long', 'Dest_lat', 'Dest_long', \n",
    "            'CRSvelocity']"
   ]
  },
  {
   "cell_type": "markdown",
   "id": "ideal-arnold",
   "metadata": {},
   "source": [
    "## Nivell 1\n",
    "\n",
    "### Exercici 1\n",
    "Crea almenys tres models de regressió diferents per intentar predir el millor possible l’endarreriment dels vols (ArrDelay) de DelayedFlights.csv."
   ]
  },
  {
   "cell_type": "code",
   "execution_count": 9,
   "id": "2f7c9576-b817-474a-b23a-a9304bd4b7ad",
   "metadata": {},
   "outputs": [],
   "source": [
    "from sklearn.model_selection import cross_val_score\n",
    "from sklearn.linear_model import LinearRegression, Ridge, HuberRegressor, GammaRegressor\n",
    "from sklearn.svm import SVR\n",
    "from sklearn.tree import DecisionTreeRegressor\n",
    "from sklearn.ensemble import RandomForestRegressor, GradientBoostingRegressor\n",
    "from sklearn.neural_network import MLPRegressor\n",
    "\n",
    "from xgboost import XGBRegressor\n",
    "\n",
    "# metriques\n",
    "from sklearn.metrics import mean_squared_error, r2_score\n",
    "\n",
    "from sklearn.compose import ColumnTransformer\n",
    "from sklearn.pipeline import Pipeline"
   ]
  },
  {
   "cell_type": "markdown",
   "id": "2a351cf8-f925-4832-95ee-d48b01d8c390",
   "metadata": {},
   "source": [
    "Crearem aquests models:\n",
    "- LinearRegression\n",
    "- Rigde\n",
    "- HuberRegressor (ourlier-robust)\n",
    "- DecisionTreeRegressor\n",
    "- RandomForestRegressor\n",
    "- GradientBoostingRegressor\n",
    "- MLPRegressor\n",
    "- XGBoostRegressor\n"
   ]
  },
  {
   "cell_type": "markdown",
   "id": "e32d1a54-9880-46c0-9c59-6c9c42b3994e",
   "metadata": {},
   "source": [
    "##### Preparem un parell de funcions on creem un pipeline i executem la regressió"
   ]
  },
  {
   "cell_type": "code",
   "execution_count": 10,
   "id": "e9ddc9ab-2a05-4318-ab18-439d4e01c7cc",
   "metadata": {},
   "outputs": [],
   "source": [
    "def make_pipeline(data, columns, model):\n",
    "    cols_num = data[columns].select_dtypes(include=['int','float']).columns.to_list()\n",
    "    cols_cat = data[columns].select_dtypes(include=['object']).columns.to_list()\n",
    "    cols_date = data[columns].select_dtypes(include=['datetime']).columns.to_list()\n",
    "    \n",
    "    ct = ColumnTransformer(\n",
    "             transformers=[('num', RobustScaler(), cols_num),\n",
    "                          ('cat', OneHotEncoder(handle_unknown='ignore'), cols_cat),\n",
    "                          ('date', SinCosTransformer(['hour','day','dayofweek','month']), cols_date )])\n",
    "    \n",
    "    pipeline = Pipeline( steps=[('transformer', ct),\n",
    "                               ('regr', model)])\n",
    "    \n",
    "    return pipeline\n",
    "\n",
    "# base_pipe = make_pipeline(dfdelays, base_cols, LinearRegression())\n",
    "\n",
    "# base_pipe.fit(dfdelays[base_cols], dfdelays[target])\n",
    "# y_pred_base = base_pipe.predict(dfdelays[base_cols])\n",
    "# print(f'LR r2: {r2_score(dfdelays[target], y_pred_base)}')\n",
    "# print(f'LR MSE: {mean_squared_error(dfdelays[target], y_pred_base)}')\n",
    "\n",
    "def run_experiment(train, test=None, columns=[], model=LinearRegression()):\n",
    "    if test is None:\n",
    "        X_train, X_test, y_train, y_test = train_test_split(train, \n",
    "                                                        test_size=TEST_SIZE, random_state=SEED)\n",
    "    else:\n",
    "        X_train, y_train = train\n",
    "        X_test, y_test = test\n",
    "        \n",
    "    pipe = make_pipeline(X_train, columns, model)\n",
    "    \n",
    "    pipe.fit(X_train, y_train)\n",
    "    y_pred = pipe.predict(X_test)\n",
    "    \n",
    "    return mean_squared_error(y_test, y_pred), r2_score(y_test, y_pred)\n",
    "    \n",
    "    "
   ]
  },
  {
   "cell_type": "code",
   "execution_count": 11,
   "id": "d5f67283-b762-4ca0-939d-e707fcf12b1d",
   "metadata": {},
   "outputs": [],
   "source": [
    "models = {'lr': LinearRegression(),\n",
    "         'ridge': Ridge(),\n",
    "         'hub': HuberRegressor(),\n",
    "         'tree': DecisionTreeRegressor(max_depth=7, random_state=SEED),\n",
    "         'rf': RandomForestRegressor(max_depth=7, n_jobs=-1, random_state=SEED),\n",
    "         'gb': GradientBoostingRegressor( random_state=SEED, criterion='mse'),\n",
    "         'nn': MLPRegressor(hidden_layer_sizes=(100,50,25)),\n",
    "         'xgb': XGBRegressor(n_jobs=-1)}\n",
    "\n",
    "\n",
    "# params = {  'lr': {'fit_intercept':False, 'normalize': True},\n",
    "#             'ridge': {'alpha':np.linspace(), 'solver':{'auto', 'svd', 'cholesky', 'lsqr', 'sparse_cg', 'sag', 'saga'}},\n",
    "#             'hub': {},\n",
    "#             'tree': {},\n",
    "#             'rf': {} \n",
    "#             'gb': {} \n",
    "#             'nn': {} \n",
    "#             'xgb': {}\n",
    "#          }"
   ]
  },
  {
   "cell_type": "markdown",
   "id": "56b240d0-5aa6-435d-b3b2-3ef873e1785f",
   "metadata": {},
   "source": [
    "\n",
    "#### Experiments - Features escollits\n",
    "\n",
    "- **Exp. min**: Només amb DepDelay\n",
    "- **base**: Amb les dades originals netejades\n",
    "- **exp. 3**: Amb només 'DepDelay', 'Distance','Origin', 'Dest', 'UniqueCarrier'\n",
    "- **exercici 5**. Noves columnes. Velocitat, Latitut i Longitut dels aeroports, Numero de vols per hora i dia a l'aeroport de Sortida i Arribada\n",
    "- **ND exp. 6**: com el 5 però sense el DepDelay\n",
    "- **ND exp. 7**: Eliminem el DepDelay, així com dades sobre el vol real, fins i tot el DepartureTime. No esperem un bon resultat Experiments sense DepDelay"
   ]
  },
  {
   "cell_type": "code",
   "execution_count": 12,
   "id": "529ca35a-7e66-40a9-adfc-6e1951c03ec4",
   "metadata": {},
   "outputs": [],
   "source": [
    "experiments = { 'Exp. min': ['DepDelay'],\n",
    "              'base': base_cols, \n",
    "              'exp. 3': ['DepDelay', 'Distance','Origin', 'Dest', 'UniqueCarrier'],\n",
    "              'exercici 5': cols_exp5,\n",
    "               'ND exp. 6': cols_exp6,\n",
    "               'ND exp. 7': cols_exp7 }"
   ]
  },
  {
   "cell_type": "code",
   "execution_count": 13,
   "id": "1c425cec-979c-4bcd-b372-0fda35da5ca5",
   "metadata": {
    "tags": []
   },
   "outputs": [
    {
     "data": {
      "application/vnd.jupyter.widget-view+json": {
       "model_id": "72c5016f97d2450dbc499027b106f48d",
       "version_major": 2,
       "version_minor": 0
      },
      "text/plain": [
       "  0%|          | 0/6 [00:00<?, ?it/s]"
      ]
     },
     "metadata": {},
     "output_type": "display_data"
    },
    {
     "data": {
      "application/vnd.jupyter.widget-view+json": {
       "model_id": "a79ffd5ed0914fa7a2a4f806dc26fe92",
       "version_major": 2,
       "version_minor": 0
      },
      "text/plain": [
       "  0%|          | 0/8 [00:00<?, ?it/s]"
      ]
     },
     "metadata": {},
     "output_type": "display_data"
    },
    {
     "data": {
      "application/vnd.jupyter.widget-view+json": {
       "model_id": "064e4248a64248969129b17ee45be84c",
       "version_major": 2,
       "version_minor": 0
      },
      "text/plain": [
       "  0%|          | 0/8 [00:00<?, ?it/s]"
      ]
     },
     "metadata": {},
     "output_type": "display_data"
    },
    {
     "data": {
      "application/vnd.jupyter.widget-view+json": {
       "model_id": "70b4effed4b2488cb882930a3a6aa78f",
       "version_major": 2,
       "version_minor": 0
      },
      "text/plain": [
       "  0%|          | 0/8 [00:00<?, ?it/s]"
      ]
     },
     "metadata": {},
     "output_type": "display_data"
    },
    {
     "data": {
      "application/vnd.jupyter.widget-view+json": {
       "model_id": "bd71ad3598fd43d49d5dd1955aead085",
       "version_major": 2,
       "version_minor": 0
      },
      "text/plain": [
       "  0%|          | 0/8 [00:00<?, ?it/s]"
      ]
     },
     "metadata": {},
     "output_type": "display_data"
    },
    {
     "data": {
      "application/vnd.jupyter.widget-view+json": {
       "model_id": "b515005331dd476d9ac4705f06d5f7fb",
       "version_major": 2,
       "version_minor": 0
      },
      "text/plain": [
       "  0%|          | 0/8 [00:00<?, ?it/s]"
      ]
     },
     "metadata": {},
     "output_type": "display_data"
    },
    {
     "data": {
      "application/vnd.jupyter.widget-view+json": {
       "model_id": "f44d405d9d8b44dbb57415eb570bd941",
       "version_major": 2,
       "version_minor": 0
      },
      "text/plain": [
       "  0%|          | 0/8 [00:00<?, ?it/s]"
      ]
     },
     "metadata": {},
     "output_type": "display_data"
    }
   ],
   "source": [
    "results = []\n",
    "\n",
    "for exp, cols in tqdm(experiments.items()):\n",
    "    for name, model in tqdm(models.items()):\n",
    "#         print(f'{exp}: {model.__class__.__name__}')\n",
    "        t0 = time.time()\n",
    "        mse, r2 = run_experiment((X_train, y_train), (X_test, y_test), cols, model)\n",
    "        results.append([name, mse, r2, len(X_train.shape[-1]) ,time.time()-t0, exp])\n",
    "#         print(f'{exp} {name}: {model.__class__.__name__} \\n\\tMSE: {mse}\\n\\tR2 : {r2}')\n",
    "\n",
    "dfresults =  pd.DataFrame(results, columns=['model','mse', 'r2', 'num_feat','time', 'experiment'])\n",
    "# dfresults"
   ]
  },
  {
   "cell_type": "code",
   "execution_count": 14,
   "id": "37571765-f758-4167-b047-a5629c88f1eb",
   "metadata": {},
   "outputs": [
    {
     "data": {
      "text/html": [
       "<style  type=\"text/css\" >\n",
       "#T_19074_row0_col0,#T_19074_row0_col1,#T_19074_row0_col2,#T_19074_row0_col3,#T_19074_row0_col4,#T_19074_row0_col5,#T_19074_row1_col0,#T_19074_row1_col1,#T_19074_row1_col2,#T_19074_row1_col4,#T_19074_row1_col5,#T_19074_row2_col0,#T_19074_row2_col1,#T_19074_row2_col2,#T_19074_row2_col3,#T_19074_row2_col4,#T_19074_row2_col5,#T_19074_row3_col2,#T_19074_row3_col3,#T_19074_row3_col5,#T_19074_row4_col0,#T_19074_row4_col1,#T_19074_row4_col2,#T_19074_row4_col3,#T_19074_row4_col4,#T_19074_row4_col5,#T_19074_row5_col0,#T_19074_row5_col1,#T_19074_row5_col2,#T_19074_row5_col3,#T_19074_row5_col4,#T_19074_row6_col0,#T_19074_row6_col1,#T_19074_row6_col2,#T_19074_row6_col3,#T_19074_row6_col4,#T_19074_row6_col5,#T_19074_row7_col0,#T_19074_row7_col1,#T_19074_row7_col3,#T_19074_row7_col4,#T_19074_row7_col5{\n",
       "            background-color:  lightyellow;\n",
       "        }#T_19074_row0_col6,#T_19074_row0_col7,#T_19074_row0_col8,#T_19074_row0_col9,#T_19074_row0_col10,#T_19074_row0_col11,#T_19074_row1_col6,#T_19074_row1_col7,#T_19074_row1_col8,#T_19074_row1_col10,#T_19074_row1_col11,#T_19074_row2_col6,#T_19074_row2_col7,#T_19074_row2_col8,#T_19074_row2_col9,#T_19074_row2_col10,#T_19074_row2_col11,#T_19074_row3_col8,#T_19074_row3_col9,#T_19074_row3_col11,#T_19074_row4_col6,#T_19074_row4_col7,#T_19074_row4_col8,#T_19074_row4_col9,#T_19074_row4_col10,#T_19074_row4_col11,#T_19074_row5_col6,#T_19074_row5_col7,#T_19074_row5_col8,#T_19074_row5_col9,#T_19074_row5_col10,#T_19074_row6_col6,#T_19074_row6_col7,#T_19074_row6_col8,#T_19074_row6_col9,#T_19074_row6_col10,#T_19074_row6_col11,#T_19074_row7_col6,#T_19074_row7_col7,#T_19074_row7_col9,#T_19074_row7_col10,#T_19074_row7_col11{\n",
       "            background-color:  lightgreen;\n",
       "        }#T_19074_row0_col18,#T_19074_row0_col19,#T_19074_row0_col20,#T_19074_row0_col21,#T_19074_row0_col22,#T_19074_row0_col23,#T_19074_row1_col18,#T_19074_row1_col19,#T_19074_row1_col20,#T_19074_row1_col21,#T_19074_row1_col22,#T_19074_row1_col23,#T_19074_row2_col18,#T_19074_row2_col19,#T_19074_row2_col20,#T_19074_row2_col21,#T_19074_row2_col22,#T_19074_row2_col23,#T_19074_row3_col18,#T_19074_row3_col19,#T_19074_row3_col20,#T_19074_row3_col21,#T_19074_row3_col22,#T_19074_row3_col23,#T_19074_row4_col18,#T_19074_row4_col19,#T_19074_row4_col20,#T_19074_row4_col21,#T_19074_row4_col22,#T_19074_row4_col23,#T_19074_row6_col18,#T_19074_row6_col19,#T_19074_row6_col20,#T_19074_row6_col21,#T_19074_row6_col22,#T_19074_row6_col23,#T_19074_row7_col18,#T_19074_row7_col19,#T_19074_row7_col20,#T_19074_row7_col21,#T_19074_row7_col22,#T_19074_row7_col23{\n",
       "            background-color:  cyan;\n",
       "        }#T_19074_row1_col3,#T_19074_row3_col0,#T_19074_row3_col1,#T_19074_row3_col4,#T_19074_row5_col5,#T_19074_row7_col2{\n",
       "            background-color:  lightyellow;\n",
       "            background-color:  yellow;\n",
       "        }#T_19074_row1_col9,#T_19074_row3_col6,#T_19074_row3_col7,#T_19074_row3_col10,#T_19074_row5_col11,#T_19074_row7_col8{\n",
       "            background-color:  lightgreen;\n",
       "            background-color:  yellow;\n",
       "        }#T_19074_row5_col18,#T_19074_row5_col19,#T_19074_row5_col20,#T_19074_row5_col21,#T_19074_row5_col22,#T_19074_row5_col23{\n",
       "            background-color:  cyan;\n",
       "            background-color:  yellow;\n",
       "        }</style><table id=\"T_19074_\" ><thead>    <tr>        <th class=\"blank level0\" ></th>        <th class=\"col_heading level0 col0\" colspan=\"6\">mse</th>        <th class=\"col_heading level0 col6\" colspan=\"6\">r2</th>        <th class=\"col_heading level0 col12\" colspan=\"6\">num_feat</th>        <th class=\"col_heading level0 col18\" colspan=\"6\">time</th>    </tr>    <tr>        <th class=\"index_name level1\" >experiment</th>        <th class=\"col_heading level1 col0\" >Exp. min</th>        <th class=\"col_heading level1 col1\" >ND exp. 6</th>        <th class=\"col_heading level1 col2\" >ND exp. 7</th>        <th class=\"col_heading level1 col3\" >base</th>        <th class=\"col_heading level1 col4\" >exercici 5</th>        <th class=\"col_heading level1 col5\" >exp. 3</th>        <th class=\"col_heading level1 col6\" >Exp. min</th>        <th class=\"col_heading level1 col7\" >ND exp. 6</th>        <th class=\"col_heading level1 col8\" >ND exp. 7</th>        <th class=\"col_heading level1 col9\" >base</th>        <th class=\"col_heading level1 col10\" >exercici 5</th>        <th class=\"col_heading level1 col11\" >exp. 3</th>        <th class=\"col_heading level1 col12\" >Exp. min</th>        <th class=\"col_heading level1 col13\" >ND exp. 6</th>        <th class=\"col_heading level1 col14\" >ND exp. 7</th>        <th class=\"col_heading level1 col15\" >base</th>        <th class=\"col_heading level1 col16\" >exercici 5</th>        <th class=\"col_heading level1 col17\" >exp. 3</th>        <th class=\"col_heading level1 col18\" >Exp. min</th>        <th class=\"col_heading level1 col19\" >ND exp. 6</th>        <th class=\"col_heading level1 col20\" >ND exp. 7</th>        <th class=\"col_heading level1 col21\" >base</th>        <th class=\"col_heading level1 col22\" >exercici 5</th>        <th class=\"col_heading level1 col23\" >exp. 3</th>    </tr>    <tr>        <th class=\"index_name level0\" >model</th>        <th class=\"blank\" ></th>        <th class=\"blank\" ></th>        <th class=\"blank\" ></th>        <th class=\"blank\" ></th>        <th class=\"blank\" ></th>        <th class=\"blank\" ></th>        <th class=\"blank\" ></th>        <th class=\"blank\" ></th>        <th class=\"blank\" ></th>        <th class=\"blank\" ></th>        <th class=\"blank\" ></th>        <th class=\"blank\" ></th>        <th class=\"blank\" ></th>        <th class=\"blank\" ></th>        <th class=\"blank\" ></th>        <th class=\"blank\" ></th>        <th class=\"blank\" ></th>        <th class=\"blank\" ></th>        <th class=\"blank\" ></th>        <th class=\"blank\" ></th>        <th class=\"blank\" ></th>        <th class=\"blank\" ></th>        <th class=\"blank\" ></th>        <th class=\"blank\" ></th>    </tr></thead><tbody>\n",
       "                <tr>\n",
       "                        <th id=\"T_19074_level0_row0\" class=\"row_heading level0 row0\" >gb</th>\n",
       "                        <td id=\"T_19074_row0_col0\" class=\"data row0 col0\" >308.95194</td>\n",
       "                        <td id=\"T_19074_row0_col1\" class=\"data row0 col1\" >605.94365</td>\n",
       "                        <td id=\"T_19074_row0_col2\" class=\"data row0 col2\" >2931.81217</td>\n",
       "                        <td id=\"T_19074_row0_col3\" class=\"data row0 col3\" >77.69414</td>\n",
       "                        <td id=\"T_19074_row0_col4\" class=\"data row0 col4\" >40.75552</td>\n",
       "                        <td id=\"T_19074_row0_col5\" class=\"data row0 col5\" >300.33437</td>\n",
       "                        <td id=\"T_19074_row0_col6\" class=\"data row0 col6\" >0.90486</td>\n",
       "                        <td id=\"T_19074_row0_col7\" class=\"data row0 col7\" >0.81339</td>\n",
       "                        <td id=\"T_19074_row0_col8\" class=\"data row0 col8\" >0.09712</td>\n",
       "                        <td id=\"T_19074_row0_col9\" class=\"data row0 col9\" >0.97607</td>\n",
       "                        <td id=\"T_19074_row0_col10\" class=\"data row0 col10\" >0.98745</td>\n",
       "                        <td id=\"T_19074_row0_col11\" class=\"data row0 col11\" >0.90751</td>\n",
       "                        <td id=\"T_19074_row0_col12\" class=\"data row0 col12\" >1.00000</td>\n",
       "                        <td id=\"T_19074_row0_col13\" class=\"data row0 col13\" >18.00000</td>\n",
       "                        <td id=\"T_19074_row0_col14\" class=\"data row0 col14\" >16.00000</td>\n",
       "                        <td id=\"T_19074_row0_col15\" class=\"data row0 col15\" >18.00000</td>\n",
       "                        <td id=\"T_19074_row0_col16\" class=\"data row0 col16\" >19.00000</td>\n",
       "                        <td id=\"T_19074_row0_col17\" class=\"data row0 col17\" >5.00000</td>\n",
       "                        <td id=\"T_19074_row0_col18\" class=\"data row0 col18\" >1.01820</td>\n",
       "                        <td id=\"T_19074_row0_col19\" class=\"data row0 col19\" >31.89541</td>\n",
       "                        <td id=\"T_19074_row0_col20\" class=\"data row0 col20\" >20.35487</td>\n",
       "                        <td id=\"T_19074_row0_col21\" class=\"data row0 col21\" >13.42548</td>\n",
       "                        <td id=\"T_19074_row0_col22\" class=\"data row0 col22\" >32.64439</td>\n",
       "                        <td id=\"T_19074_row0_col23\" class=\"data row0 col23\" >3.40789</td>\n",
       "            </tr>\n",
       "            <tr>\n",
       "                        <th id=\"T_19074_level0_row1\" class=\"row_heading level0 row1\" >hub</th>\n",
       "                        <td id=\"T_19074_row1_col0\" class=\"data row1 col0\" >313.67305</td>\n",
       "                        <td id=\"T_19074_row1_col1\" class=\"data row1 col1\" >1891.45255</td>\n",
       "                        <td id=\"T_19074_row1_col2\" class=\"data row1 col2\" >3076.40194</td>\n",
       "                        <td id=\"T_19074_row1_col3\" class=\"data row1 col3\" >9.15496</td>\n",
       "                        <td id=\"T_19074_row1_col4\" class=\"data row1 col4\" >9.22454</td>\n",
       "                        <td id=\"T_19074_row1_col5\" class=\"data row1 col5\" >305.51735</td>\n",
       "                        <td id=\"T_19074_row1_col6\" class=\"data row1 col6\" >0.90340</td>\n",
       "                        <td id=\"T_19074_row1_col7\" class=\"data row1 col7\" >0.41751</td>\n",
       "                        <td id=\"T_19074_row1_col8\" class=\"data row1 col8\" >0.05259</td>\n",
       "                        <td id=\"T_19074_row1_col9\" class=\"data row1 col9\" >0.99718</td>\n",
       "                        <td id=\"T_19074_row1_col10\" class=\"data row1 col10\" >0.99716</td>\n",
       "                        <td id=\"T_19074_row1_col11\" class=\"data row1 col11\" >0.90591</td>\n",
       "                        <td id=\"T_19074_row1_col12\" class=\"data row1 col12\" >1.00000</td>\n",
       "                        <td id=\"T_19074_row1_col13\" class=\"data row1 col13\" >18.00000</td>\n",
       "                        <td id=\"T_19074_row1_col14\" class=\"data row1 col14\" >16.00000</td>\n",
       "                        <td id=\"T_19074_row1_col15\" class=\"data row1 col15\" >18.00000</td>\n",
       "                        <td id=\"T_19074_row1_col16\" class=\"data row1 col16\" >19.00000</td>\n",
       "                        <td id=\"T_19074_row1_col17\" class=\"data row1 col17\" >5.00000</td>\n",
       "                        <td id=\"T_19074_row1_col18\" class=\"data row1 col18\" >0.06624</td>\n",
       "                        <td id=\"T_19074_row1_col19\" class=\"data row1 col19\" >2.16027</td>\n",
       "                        <td id=\"T_19074_row1_col20\" class=\"data row1 col20\" >1.45415</td>\n",
       "                        <td id=\"T_19074_row1_col21\" class=\"data row1 col21\" >1.04509</td>\n",
       "                        <td id=\"T_19074_row1_col22\" class=\"data row1 col22\" >2.29813</td>\n",
       "                        <td id=\"T_19074_row1_col23\" class=\"data row1 col23\" >0.66447</td>\n",
       "            </tr>\n",
       "            <tr>\n",
       "                        <th id=\"T_19074_level0_row2\" class=\"row_heading level0 row2\" >lr</th>\n",
       "                        <td id=\"T_19074_row2_col0\" class=\"data row2 col0\" >307.81740</td>\n",
       "                        <td id=\"T_19074_row2_col1\" class=\"data row2 col1\" >1788.59158</td>\n",
       "                        <td id=\"T_19074_row2_col2\" class=\"data row2 col2\" >2957.69304</td>\n",
       "                        <td id=\"T_19074_row2_col3\" class=\"data row2 col3\" >9.45941</td>\n",
       "                        <td id=\"T_19074_row2_col4\" class=\"data row2 col4\" >8.94258</td>\n",
       "                        <td id=\"T_19074_row2_col5\" class=\"data row2 col5\" >298.73530</td>\n",
       "                        <td id=\"T_19074_row2_col6\" class=\"data row2 col6\" >0.90520</td>\n",
       "                        <td id=\"T_19074_row2_col7\" class=\"data row2 col7\" >0.44919</td>\n",
       "                        <td id=\"T_19074_row2_col8\" class=\"data row2 col8\" >0.08915</td>\n",
       "                        <td id=\"T_19074_row2_col9\" class=\"data row2 col9\" >0.99709</td>\n",
       "                        <td id=\"T_19074_row2_col10\" class=\"data row2 col10\" >0.99725</td>\n",
       "                        <td id=\"T_19074_row2_col11\" class=\"data row2 col11\" >0.90800</td>\n",
       "                        <td id=\"T_19074_row2_col12\" class=\"data row2 col12\" >1.00000</td>\n",
       "                        <td id=\"T_19074_row2_col13\" class=\"data row2 col13\" >18.00000</td>\n",
       "                        <td id=\"T_19074_row2_col14\" class=\"data row2 col14\" >16.00000</td>\n",
       "                        <td id=\"T_19074_row2_col15\" class=\"data row2 col15\" >18.00000</td>\n",
       "                        <td id=\"T_19074_row2_col16\" class=\"data row2 col16\" >19.00000</td>\n",
       "                        <td id=\"T_19074_row2_col17\" class=\"data row2 col17\" >5.00000</td>\n",
       "                        <td id=\"T_19074_row2_col18\" class=\"data row2 col18\" >0.02361</td>\n",
       "                        <td id=\"T_19074_row2_col19\" class=\"data row2 col19\" >0.58776</td>\n",
       "                        <td id=\"T_19074_row2_col20\" class=\"data row2 col20\" >2.29345</td>\n",
       "                        <td id=\"T_19074_row2_col21\" class=\"data row2 col21\" >3.60088</td>\n",
       "                        <td id=\"T_19074_row2_col22\" class=\"data row2 col22\" >0.64946</td>\n",
       "                        <td id=\"T_19074_row2_col23\" class=\"data row2 col23\" >0.42058</td>\n",
       "            </tr>\n",
       "            <tr>\n",
       "                        <th id=\"T_19074_level0_row3\" class=\"row_heading level0 row3\" >nn</th>\n",
       "                        <td id=\"T_19074_row3_col0\" class=\"data row3 col0\" >307.62209</td>\n",
       "                        <td id=\"T_19074_row3_col1\" class=\"data row3 col1\" >277.71489</td>\n",
       "                        <td id=\"T_19074_row3_col2\" class=\"data row3 col2\" >4488.50746</td>\n",
       "                        <td id=\"T_19074_row3_col3\" class=\"data row3 col3\" >16.42906</td>\n",
       "                        <td id=\"T_19074_row3_col4\" class=\"data row3 col4\" >8.73080</td>\n",
       "                        <td id=\"T_19074_row3_col5\" class=\"data row3 col5\" >355.76755</td>\n",
       "                        <td id=\"T_19074_row3_col6\" class=\"data row3 col6\" >0.90526</td>\n",
       "                        <td id=\"T_19074_row3_col7\" class=\"data row3 col7\" >0.91447</td>\n",
       "                        <td id=\"T_19074_row3_col8\" class=\"data row3 col8\" >-0.38228</td>\n",
       "                        <td id=\"T_19074_row3_col9\" class=\"data row3 col9\" >0.99494</td>\n",
       "                        <td id=\"T_19074_row3_col10\" class=\"data row3 col10\" >0.99731</td>\n",
       "                        <td id=\"T_19074_row3_col11\" class=\"data row3 col11\" >0.89044</td>\n",
       "                        <td id=\"T_19074_row3_col12\" class=\"data row3 col12\" >1.00000</td>\n",
       "                        <td id=\"T_19074_row3_col13\" class=\"data row3 col13\" >18.00000</td>\n",
       "                        <td id=\"T_19074_row3_col14\" class=\"data row3 col14\" >16.00000</td>\n",
       "                        <td id=\"T_19074_row3_col15\" class=\"data row3 col15\" >18.00000</td>\n",
       "                        <td id=\"T_19074_row3_col16\" class=\"data row3 col16\" >19.00000</td>\n",
       "                        <td id=\"T_19074_row3_col17\" class=\"data row3 col17\" >5.00000</td>\n",
       "                        <td id=\"T_19074_row3_col18\" class=\"data row3 col18\" >49.30249</td>\n",
       "                        <td id=\"T_19074_row3_col19\" class=\"data row3 col19\" >1351.62443</td>\n",
       "                        <td id=\"T_19074_row3_col20\" class=\"data row3 col20\" >343.17271</td>\n",
       "                        <td id=\"T_19074_row3_col21\" class=\"data row3 col21\" >770.38053</td>\n",
       "                        <td id=\"T_19074_row3_col22\" class=\"data row3 col22\" >534.70054</td>\n",
       "                        <td id=\"T_19074_row3_col23\" class=\"data row3 col23\" >730.18726</td>\n",
       "            </tr>\n",
       "            <tr>\n",
       "                        <th id=\"T_19074_level0_row4\" class=\"row_heading level0 row4\" >rf</th>\n",
       "                        <td id=\"T_19074_row4_col0\" class=\"data row4 col0\" >308.62856</td>\n",
       "                        <td id=\"T_19074_row4_col1\" class=\"data row4 col1\" >1674.02712</td>\n",
       "                        <td id=\"T_19074_row4_col2\" class=\"data row4 col2\" >2965.58696</td>\n",
       "                        <td id=\"T_19074_row4_col3\" class=\"data row4 col3\" >148.40314</td>\n",
       "                        <td id=\"T_19074_row4_col4\" class=\"data row4 col4\" >127.34001</td>\n",
       "                        <td id=\"T_19074_row4_col5\" class=\"data row4 col5\" >305.67032</td>\n",
       "                        <td id=\"T_19074_row4_col6\" class=\"data row4 col6\" >0.90495</td>\n",
       "                        <td id=\"T_19074_row4_col7\" class=\"data row4 col7\" >0.48447</td>\n",
       "                        <td id=\"T_19074_row4_col8\" class=\"data row4 col8\" >0.08672</td>\n",
       "                        <td id=\"T_19074_row4_col9\" class=\"data row4 col9\" >0.95430</td>\n",
       "                        <td id=\"T_19074_row4_col10\" class=\"data row4 col10\" >0.96078</td>\n",
       "                        <td id=\"T_19074_row4_col11\" class=\"data row4 col11\" >0.90587</td>\n",
       "                        <td id=\"T_19074_row4_col12\" class=\"data row4 col12\" >1.00000</td>\n",
       "                        <td id=\"T_19074_row4_col13\" class=\"data row4 col13\" >18.00000</td>\n",
       "                        <td id=\"T_19074_row4_col14\" class=\"data row4 col14\" >16.00000</td>\n",
       "                        <td id=\"T_19074_row4_col15\" class=\"data row4 col15\" >18.00000</td>\n",
       "                        <td id=\"T_19074_row4_col16\" class=\"data row4 col16\" >19.00000</td>\n",
       "                        <td id=\"T_19074_row4_col17\" class=\"data row4 col17\" >5.00000</td>\n",
       "                        <td id=\"T_19074_row4_col18\" class=\"data row4 col18\" >0.35986</td>\n",
       "                        <td id=\"T_19074_row4_col19\" class=\"data row4 col19\" >9.49850</td>\n",
       "                        <td id=\"T_19074_row4_col20\" class=\"data row4 col20\" >8.92360</td>\n",
       "                        <td id=\"T_19074_row4_col21\" class=\"data row4 col21\" >5.73457</td>\n",
       "                        <td id=\"T_19074_row4_col22\" class=\"data row4 col22\" >9.90225</td>\n",
       "                        <td id=\"T_19074_row4_col23\" class=\"data row4 col23\" >1.81470</td>\n",
       "            </tr>\n",
       "            <tr>\n",
       "                        <th id=\"T_19074_level0_row5\" class=\"row_heading level0 row5\" >ridge</th>\n",
       "                        <td id=\"T_19074_row5_col0\" class=\"data row5 col0\" >307.81774</td>\n",
       "                        <td id=\"T_19074_row5_col1\" class=\"data row5 col1\" >1787.77343</td>\n",
       "                        <td id=\"T_19074_row5_col2\" class=\"data row5 col2\" >2945.41400</td>\n",
       "                        <td id=\"T_19074_row5_col3\" class=\"data row5 col3\" >9.18924</td>\n",
       "                        <td id=\"T_19074_row5_col4\" class=\"data row5 col4\" >8.94421</td>\n",
       "                        <td id=\"T_19074_row5_col5\" class=\"data row5 col5\" >298.58634</td>\n",
       "                        <td id=\"T_19074_row5_col6\" class=\"data row5 col6\" >0.90520</td>\n",
       "                        <td id=\"T_19074_row5_col7\" class=\"data row5 col7\" >0.44944</td>\n",
       "                        <td id=\"T_19074_row5_col8\" class=\"data row5 col8\" >0.09293</td>\n",
       "                        <td id=\"T_19074_row5_col9\" class=\"data row5 col9\" >0.99717</td>\n",
       "                        <td id=\"T_19074_row5_col10\" class=\"data row5 col10\" >0.99725</td>\n",
       "                        <td id=\"T_19074_row5_col11\" class=\"data row5 col11\" >0.90805</td>\n",
       "                        <td id=\"T_19074_row5_col12\" class=\"data row5 col12\" >1.00000</td>\n",
       "                        <td id=\"T_19074_row5_col13\" class=\"data row5 col13\" >18.00000</td>\n",
       "                        <td id=\"T_19074_row5_col14\" class=\"data row5 col14\" >16.00000</td>\n",
       "                        <td id=\"T_19074_row5_col15\" class=\"data row5 col15\" >18.00000</td>\n",
       "                        <td id=\"T_19074_row5_col16\" class=\"data row5 col16\" >19.00000</td>\n",
       "                        <td id=\"T_19074_row5_col17\" class=\"data row5 col17\" >5.00000</td>\n",
       "                        <td id=\"T_19074_row5_col18\" class=\"data row5 col18\" >0.01186</td>\n",
       "                        <td id=\"T_19074_row5_col19\" class=\"data row5 col19\" >0.44348</td>\n",
       "                        <td id=\"T_19074_row5_col20\" class=\"data row5 col20\" >0.71050</td>\n",
       "                        <td id=\"T_19074_row5_col21\" class=\"data row5 col21\" >0.23589</td>\n",
       "                        <td id=\"T_19074_row5_col22\" class=\"data row5 col22\" >0.45591</td>\n",
       "                        <td id=\"T_19074_row5_col23\" class=\"data row5 col23\" >0.08351</td>\n",
       "            </tr>\n",
       "            <tr>\n",
       "                        <th id=\"T_19074_level0_row6\" class=\"row_heading level0 row6\" >tree</th>\n",
       "                        <td id=\"T_19074_row6_col0\" class=\"data row6 col0\" >309.77058</td>\n",
       "                        <td id=\"T_19074_row6_col1\" class=\"data row6 col1\" >1928.94979</td>\n",
       "                        <td id=\"T_19074_row6_col2\" class=\"data row6 col2\" >3014.18825</td>\n",
       "                        <td id=\"T_19074_row6_col3\" class=\"data row6 col3\" >169.83027</td>\n",
       "                        <td id=\"T_19074_row6_col4\" class=\"data row6 col4\" >170.28759</td>\n",
       "                        <td id=\"T_19074_row6_col5\" class=\"data row6 col5\" >313.94944</td>\n",
       "                        <td id=\"T_19074_row6_col6\" class=\"data row6 col6\" >0.90460</td>\n",
       "                        <td id=\"T_19074_row6_col7\" class=\"data row6 col7\" >0.40596</td>\n",
       "                        <td id=\"T_19074_row6_col8\" class=\"data row6 col8\" >0.07175</td>\n",
       "                        <td id=\"T_19074_row6_col9\" class=\"data row6 col9\" >0.94770</td>\n",
       "                        <td id=\"T_19074_row6_col10\" class=\"data row6 col10\" >0.94756</td>\n",
       "                        <td id=\"T_19074_row6_col11\" class=\"data row6 col11\" >0.90332</td>\n",
       "                        <td id=\"T_19074_row6_col12\" class=\"data row6 col12\" >1.00000</td>\n",
       "                        <td id=\"T_19074_row6_col13\" class=\"data row6 col13\" >18.00000</td>\n",
       "                        <td id=\"T_19074_row6_col14\" class=\"data row6 col14\" >16.00000</td>\n",
       "                        <td id=\"T_19074_row6_col15\" class=\"data row6 col15\" >18.00000</td>\n",
       "                        <td id=\"T_19074_row6_col16\" class=\"data row6 col16\" >19.00000</td>\n",
       "                        <td id=\"T_19074_row6_col17\" class=\"data row6 col17\" >5.00000</td>\n",
       "                        <td id=\"T_19074_row6_col18\" class=\"data row6 col18\" >0.02369</td>\n",
       "                        <td id=\"T_19074_row6_col19\" class=\"data row6 col19\" >1.09129</td>\n",
       "                        <td id=\"T_19074_row6_col20\" class=\"data row6 col20\" >0.90108</td>\n",
       "                        <td id=\"T_19074_row6_col21\" class=\"data row6 col21\" >0.56938</td>\n",
       "                        <td id=\"T_19074_row6_col22\" class=\"data row6 col22\" >1.09821</td>\n",
       "                        <td id=\"T_19074_row6_col23\" class=\"data row6 col23\" >0.18988</td>\n",
       "            </tr>\n",
       "            <tr>\n",
       "                        <th id=\"T_19074_level0_row7\" class=\"row_heading level0 row7\" >xgb</th>\n",
       "                        <td id=\"T_19074_row7_col0\" class=\"data row7 col0\" >309.79072</td>\n",
       "                        <td id=\"T_19074_row7_col1\" class=\"data row7 col1\" >327.01005</td>\n",
       "                        <td id=\"T_19074_row7_col2\" class=\"data row7 col2\" >2863.13859</td>\n",
       "                        <td id=\"T_19074_row7_col3\" class=\"data row7 col3\" >19.11803</td>\n",
       "                        <td id=\"T_19074_row7_col4\" class=\"data row7 col4\" >19.98640</td>\n",
       "                        <td id=\"T_19074_row7_col5\" class=\"data row7 col5\" >301.08739</td>\n",
       "                        <td id=\"T_19074_row7_col6\" class=\"data row7 col6\" >0.90460</td>\n",
       "                        <td id=\"T_19074_row7_col7\" class=\"data row7 col7\" >0.89929</td>\n",
       "                        <td id=\"T_19074_row7_col8\" class=\"data row7 col8\" >0.11827</td>\n",
       "                        <td id=\"T_19074_row7_col9\" class=\"data row7 col9\" >0.99411</td>\n",
       "                        <td id=\"T_19074_row7_col10\" class=\"data row7 col10\" >0.99384</td>\n",
       "                        <td id=\"T_19074_row7_col11\" class=\"data row7 col11\" >0.90728</td>\n",
       "                        <td id=\"T_19074_row7_col12\" class=\"data row7 col12\" >1.00000</td>\n",
       "                        <td id=\"T_19074_row7_col13\" class=\"data row7 col13\" >18.00000</td>\n",
       "                        <td id=\"T_19074_row7_col14\" class=\"data row7 col14\" >16.00000</td>\n",
       "                        <td id=\"T_19074_row7_col15\" class=\"data row7 col15\" >18.00000</td>\n",
       "                        <td id=\"T_19074_row7_col16\" class=\"data row7 col16\" >19.00000</td>\n",
       "                        <td id=\"T_19074_row7_col17\" class=\"data row7 col17\" >5.00000</td>\n",
       "                        <td id=\"T_19074_row7_col18\" class=\"data row7 col18\" >3.82419</td>\n",
       "                        <td id=\"T_19074_row7_col19\" class=\"data row7 col19\" >6.07717</td>\n",
       "                        <td id=\"T_19074_row7_col20\" class=\"data row7 col20\" >4.60606</td>\n",
       "                        <td id=\"T_19074_row7_col21\" class=\"data row7 col21\" >7.29725</td>\n",
       "                        <td id=\"T_19074_row7_col22\" class=\"data row7 col22\" >6.22462</td>\n",
       "                        <td id=\"T_19074_row7_col23\" class=\"data row7 col23\" >2.46436</td>\n",
       "            </tr>\n",
       "    </tbody></table>"
      ],
      "text/plain": [
       "<pandas.io.formats.style.Styler at 0x14b434d00>"
      ]
     },
     "execution_count": 14,
     "metadata": {},
     "output_type": "execute_result"
    }
   ],
   "source": [
    "dfresults.pivot(index=['model'],values=['mse','r2','num_feat','time'],columns=['experiment'])\\\n",
    "            .style.format(\"{:.5f}\")\\\n",
    "            .set_properties(**{'background-color':'lightyellow'}, subset=['mse'])\\\n",
    "            .set_properties(**{'background-color':'lightgreen'}, subset=['r2'])\\\n",
    "            .set_properties(**{'background-color':'cyan'}, subset=['time'])\\\n",
    "            .highlight_min(axis=0, subset=['mse','time'])\\\n",
    "            .highlight_max(axis=0, subset=['r2'])\n"
   ]
  },
  {
   "cell_type": "markdown",
   "id": "sensitive-beverage",
   "metadata": {},
   "source": [
    "### Exercici 2\n",
    "Compara’ls en base al MSE i al R2.\n",
    "\n",
    "<div class=\"alert-info\">\n",
    "Fet durant l'exercici anterior\n",
    "</div>\n",
    "\n",
    "\n",
    "<!-- <span style=\"color:red\">Mirar l'exercici anterior</span> -->"
   ]
  },
  {
   "cell_type": "markdown",
   "id": "healthy-marathon",
   "metadata": {},
   "source": [
    "### Exercici 3\n",
    "Entrena’ls utilitzant els diferents paràmetres que admeten."
   ]
  },
  {
   "cell_type": "code",
   "execution_count": 15,
   "id": "available-particle",
   "metadata": {},
   "outputs": [],
   "source": [
    "from sklearn.model_selection import GridSearchCV, RandomizedSearchCV\n",
    "from sklearn.model_selection import KFold\n",
    "\n",
    "model = XGBRegressor()\n",
    "\n",
    "grid = {\n",
    "        'regr__objective': ['reg:squarederror'],\n",
    "        'regr__colsample_bytree': [0.2, 0.5, 1],\n",
    "#         'regr__subsample': [0.7, 1],\n",
    "#         'regr__learning_rate': [0.05, 0.1, 0.3],\n",
    "        'regr__max_depth': [3, 6, 8],\n",
    "        'regr__min_child_weight': [0, 1, 10],\n",
    "        'regr__n_estimators' : [700, 1000, 5000]\n",
    "    }\n",
    "\n",
    "fold = KFold(n_splits=3)\n",
    "\n",
    "pipe = make_pipeline(X_train, cols_exp4, model)"
   ]
  },
  {
   "cell_type": "code",
   "execution_count": 16,
   "id": "d3080abf-2941-4b79-9031-789bcc112740",
   "metadata": {},
   "outputs": [],
   "source": [
    "grid = RandomizedSearchCV(pipe, grid, n_iter=10,\n",
    "                scoring=['neg_mean_squared_error','r2'], cv=fold,\n",
    "                verbose=2, refit='r2', n_jobs=-1)\n",
    "\n"
   ]
  },
  {
   "cell_type": "code",
   "execution_count": 17,
   "id": "ecd19e6a-4b96-49f3-a5a0-54b813e241b2",
   "metadata": {
    "collapsed": true,
    "jupyter": {
     "outputs_hidden": true
    },
    "tags": []
   },
   "outputs": [
    {
     "name": "stdout",
     "output_type": "stream",
     "text": [
      "Fitting 3 folds for each of 10 candidates, totalling 30 fits\n"
     ]
    },
    {
     "ename": "KeyboardInterrupt",
     "evalue": "",
     "output_type": "error",
     "traceback": [
      "\u001b[0;31m---------------------------------------------------------------------------\u001b[0m",
      "\u001b[0;31mKeyboardInterrupt\u001b[0m                         Traceback (most recent call last)",
      "\u001b[0;32m<timed eval>\u001b[0m in \u001b[0;36m<module>\u001b[0;34m\u001b[0m\n",
      "\u001b[0;32m/opt/homebrew/Caskroom/miniforge/base/envs/py38_ds/lib/python3.8/site-packages/sklearn/utils/validation.py\u001b[0m in \u001b[0;36minner_f\u001b[0;34m(*args, **kwargs)\u001b[0m\n\u001b[1;32m     61\u001b[0m             \u001b[0mextra_args\u001b[0m \u001b[0;34m=\u001b[0m \u001b[0mlen\u001b[0m\u001b[0;34m(\u001b[0m\u001b[0margs\u001b[0m\u001b[0;34m)\u001b[0m \u001b[0;34m-\u001b[0m \u001b[0mlen\u001b[0m\u001b[0;34m(\u001b[0m\u001b[0mall_args\u001b[0m\u001b[0;34m)\u001b[0m\u001b[0;34m\u001b[0m\u001b[0;34m\u001b[0m\u001b[0m\n\u001b[1;32m     62\u001b[0m             \u001b[0;32mif\u001b[0m \u001b[0mextra_args\u001b[0m \u001b[0;34m<=\u001b[0m \u001b[0;36m0\u001b[0m\u001b[0;34m:\u001b[0m\u001b[0;34m\u001b[0m\u001b[0;34m\u001b[0m\u001b[0m\n\u001b[0;32m---> 63\u001b[0;31m                 \u001b[0;32mreturn\u001b[0m \u001b[0mf\u001b[0m\u001b[0;34m(\u001b[0m\u001b[0;34m*\u001b[0m\u001b[0margs\u001b[0m\u001b[0;34m,\u001b[0m \u001b[0;34m**\u001b[0m\u001b[0mkwargs\u001b[0m\u001b[0;34m)\u001b[0m\u001b[0;34m\u001b[0m\u001b[0;34m\u001b[0m\u001b[0m\n\u001b[0m\u001b[1;32m     64\u001b[0m \u001b[0;34m\u001b[0m\u001b[0m\n\u001b[1;32m     65\u001b[0m             \u001b[0;31m# extra_args > 0\u001b[0m\u001b[0;34m\u001b[0m\u001b[0;34m\u001b[0m\u001b[0;34m\u001b[0m\u001b[0m\n",
      "\u001b[0;32m/opt/homebrew/Caskroom/miniforge/base/envs/py38_ds/lib/python3.8/site-packages/sklearn/model_selection/_search.py\u001b[0m in \u001b[0;36mfit\u001b[0;34m(self, X, y, groups, **fit_params)\u001b[0m\n\u001b[1;32m    839\u001b[0m                 \u001b[0;32mreturn\u001b[0m \u001b[0mresults\u001b[0m\u001b[0;34m\u001b[0m\u001b[0;34m\u001b[0m\u001b[0m\n\u001b[1;32m    840\u001b[0m \u001b[0;34m\u001b[0m\u001b[0m\n\u001b[0;32m--> 841\u001b[0;31m             \u001b[0mself\u001b[0m\u001b[0;34m.\u001b[0m\u001b[0m_run_search\u001b[0m\u001b[0;34m(\u001b[0m\u001b[0mevaluate_candidates\u001b[0m\u001b[0;34m)\u001b[0m\u001b[0;34m\u001b[0m\u001b[0;34m\u001b[0m\u001b[0m\n\u001b[0m\u001b[1;32m    842\u001b[0m \u001b[0;34m\u001b[0m\u001b[0m\n\u001b[1;32m    843\u001b[0m             \u001b[0;31m# multimetric is determined here because in the case of a callable\u001b[0m\u001b[0;34m\u001b[0m\u001b[0;34m\u001b[0m\u001b[0;34m\u001b[0m\u001b[0m\n",
      "\u001b[0;32m/opt/homebrew/Caskroom/miniforge/base/envs/py38_ds/lib/python3.8/site-packages/sklearn/model_selection/_search.py\u001b[0m in \u001b[0;36m_run_search\u001b[0;34m(self, evaluate_candidates)\u001b[0m\n\u001b[1;32m   1631\u001b[0m     \u001b[0;32mdef\u001b[0m \u001b[0m_run_search\u001b[0m\u001b[0;34m(\u001b[0m\u001b[0mself\u001b[0m\u001b[0;34m,\u001b[0m \u001b[0mevaluate_candidates\u001b[0m\u001b[0;34m)\u001b[0m\u001b[0;34m:\u001b[0m\u001b[0;34m\u001b[0m\u001b[0;34m\u001b[0m\u001b[0m\n\u001b[1;32m   1632\u001b[0m         \u001b[0;34m\"\"\"Search n_iter candidates from param_distributions\"\"\"\u001b[0m\u001b[0;34m\u001b[0m\u001b[0;34m\u001b[0m\u001b[0m\n\u001b[0;32m-> 1633\u001b[0;31m         evaluate_candidates(ParameterSampler(\n\u001b[0m\u001b[1;32m   1634\u001b[0m             \u001b[0mself\u001b[0m\u001b[0;34m.\u001b[0m\u001b[0mparam_distributions\u001b[0m\u001b[0;34m,\u001b[0m \u001b[0mself\u001b[0m\u001b[0;34m.\u001b[0m\u001b[0mn_iter\u001b[0m\u001b[0;34m,\u001b[0m\u001b[0;34m\u001b[0m\u001b[0;34m\u001b[0m\u001b[0m\n\u001b[1;32m   1635\u001b[0m             random_state=self.random_state))\n",
      "\u001b[0;32m/opt/homebrew/Caskroom/miniforge/base/envs/py38_ds/lib/python3.8/site-packages/sklearn/model_selection/_search.py\u001b[0m in \u001b[0;36mevaluate_candidates\u001b[0;34m(candidate_params, cv, more_results)\u001b[0m\n\u001b[1;32m    793\u001b[0m                               n_splits, n_candidates, n_candidates * n_splits))\n\u001b[1;32m    794\u001b[0m \u001b[0;34m\u001b[0m\u001b[0m\n\u001b[0;32m--> 795\u001b[0;31m                 out = parallel(delayed(_fit_and_score)(clone(base_estimator),\n\u001b[0m\u001b[1;32m    796\u001b[0m                                                        \u001b[0mX\u001b[0m\u001b[0;34m,\u001b[0m \u001b[0my\u001b[0m\u001b[0;34m,\u001b[0m\u001b[0;34m\u001b[0m\u001b[0;34m\u001b[0m\u001b[0m\n\u001b[1;32m    797\u001b[0m                                                        \u001b[0mtrain\u001b[0m\u001b[0;34m=\u001b[0m\u001b[0mtrain\u001b[0m\u001b[0;34m,\u001b[0m \u001b[0mtest\u001b[0m\u001b[0;34m=\u001b[0m\u001b[0mtest\u001b[0m\u001b[0;34m,\u001b[0m\u001b[0;34m\u001b[0m\u001b[0;34m\u001b[0m\u001b[0m\n",
      "\u001b[0;32m/opt/homebrew/Caskroom/miniforge/base/envs/py38_ds/lib/python3.8/site-packages/joblib/parallel.py\u001b[0m in \u001b[0;36m__call__\u001b[0;34m(self, iterable)\u001b[0m\n\u001b[1;32m   1052\u001b[0m \u001b[0;34m\u001b[0m\u001b[0m\n\u001b[1;32m   1053\u001b[0m             \u001b[0;32mwith\u001b[0m \u001b[0mself\u001b[0m\u001b[0;34m.\u001b[0m\u001b[0m_backend\u001b[0m\u001b[0;34m.\u001b[0m\u001b[0mretrieval_context\u001b[0m\u001b[0;34m(\u001b[0m\u001b[0;34m)\u001b[0m\u001b[0;34m:\u001b[0m\u001b[0;34m\u001b[0m\u001b[0;34m\u001b[0m\u001b[0m\n\u001b[0;32m-> 1054\u001b[0;31m                 \u001b[0mself\u001b[0m\u001b[0;34m.\u001b[0m\u001b[0mretrieve\u001b[0m\u001b[0;34m(\u001b[0m\u001b[0;34m)\u001b[0m\u001b[0;34m\u001b[0m\u001b[0;34m\u001b[0m\u001b[0m\n\u001b[0m\u001b[1;32m   1055\u001b[0m             \u001b[0;31m# Make sure that we get a last message telling us we are done\u001b[0m\u001b[0;34m\u001b[0m\u001b[0;34m\u001b[0m\u001b[0;34m\u001b[0m\u001b[0m\n\u001b[1;32m   1056\u001b[0m             \u001b[0melapsed_time\u001b[0m \u001b[0;34m=\u001b[0m \u001b[0mtime\u001b[0m\u001b[0;34m.\u001b[0m\u001b[0mtime\u001b[0m\u001b[0;34m(\u001b[0m\u001b[0;34m)\u001b[0m \u001b[0;34m-\u001b[0m \u001b[0mself\u001b[0m\u001b[0;34m.\u001b[0m\u001b[0m_start_time\u001b[0m\u001b[0;34m\u001b[0m\u001b[0;34m\u001b[0m\u001b[0m\n",
      "\u001b[0;32m/opt/homebrew/Caskroom/miniforge/base/envs/py38_ds/lib/python3.8/site-packages/joblib/parallel.py\u001b[0m in \u001b[0;36mretrieve\u001b[0;34m(self)\u001b[0m\n\u001b[1;32m    931\u001b[0m             \u001b[0;32mtry\u001b[0m\u001b[0;34m:\u001b[0m\u001b[0;34m\u001b[0m\u001b[0;34m\u001b[0m\u001b[0m\n\u001b[1;32m    932\u001b[0m                 \u001b[0;32mif\u001b[0m \u001b[0mgetattr\u001b[0m\u001b[0;34m(\u001b[0m\u001b[0mself\u001b[0m\u001b[0;34m.\u001b[0m\u001b[0m_backend\u001b[0m\u001b[0;34m,\u001b[0m \u001b[0;34m'supports_timeout'\u001b[0m\u001b[0;34m,\u001b[0m \u001b[0;32mFalse\u001b[0m\u001b[0;34m)\u001b[0m\u001b[0;34m:\u001b[0m\u001b[0;34m\u001b[0m\u001b[0;34m\u001b[0m\u001b[0m\n\u001b[0;32m--> 933\u001b[0;31m                     \u001b[0mself\u001b[0m\u001b[0;34m.\u001b[0m\u001b[0m_output\u001b[0m\u001b[0;34m.\u001b[0m\u001b[0mextend\u001b[0m\u001b[0;34m(\u001b[0m\u001b[0mjob\u001b[0m\u001b[0;34m.\u001b[0m\u001b[0mget\u001b[0m\u001b[0;34m(\u001b[0m\u001b[0mtimeout\u001b[0m\u001b[0;34m=\u001b[0m\u001b[0mself\u001b[0m\u001b[0;34m.\u001b[0m\u001b[0mtimeout\u001b[0m\u001b[0;34m)\u001b[0m\u001b[0;34m)\u001b[0m\u001b[0;34m\u001b[0m\u001b[0;34m\u001b[0m\u001b[0m\n\u001b[0m\u001b[1;32m    934\u001b[0m                 \u001b[0;32melse\u001b[0m\u001b[0;34m:\u001b[0m\u001b[0;34m\u001b[0m\u001b[0;34m\u001b[0m\u001b[0m\n\u001b[1;32m    935\u001b[0m                     \u001b[0mself\u001b[0m\u001b[0;34m.\u001b[0m\u001b[0m_output\u001b[0m\u001b[0;34m.\u001b[0m\u001b[0mextend\u001b[0m\u001b[0;34m(\u001b[0m\u001b[0mjob\u001b[0m\u001b[0;34m.\u001b[0m\u001b[0mget\u001b[0m\u001b[0;34m(\u001b[0m\u001b[0;34m)\u001b[0m\u001b[0;34m)\u001b[0m\u001b[0;34m\u001b[0m\u001b[0;34m\u001b[0m\u001b[0m\n",
      "\u001b[0;32m/opt/homebrew/Caskroom/miniforge/base/envs/py38_ds/lib/python3.8/site-packages/joblib/_parallel_backends.py\u001b[0m in \u001b[0;36mwrap_future_result\u001b[0;34m(future, timeout)\u001b[0m\n\u001b[1;32m    540\u001b[0m         AsyncResults.get from multiprocessing.\"\"\"\n\u001b[1;32m    541\u001b[0m         \u001b[0;32mtry\u001b[0m\u001b[0;34m:\u001b[0m\u001b[0;34m\u001b[0m\u001b[0;34m\u001b[0m\u001b[0m\n\u001b[0;32m--> 542\u001b[0;31m             \u001b[0;32mreturn\u001b[0m \u001b[0mfuture\u001b[0m\u001b[0;34m.\u001b[0m\u001b[0mresult\u001b[0m\u001b[0;34m(\u001b[0m\u001b[0mtimeout\u001b[0m\u001b[0;34m=\u001b[0m\u001b[0mtimeout\u001b[0m\u001b[0;34m)\u001b[0m\u001b[0;34m\u001b[0m\u001b[0;34m\u001b[0m\u001b[0m\n\u001b[0m\u001b[1;32m    543\u001b[0m         \u001b[0;32mexcept\u001b[0m \u001b[0mCfTimeoutError\u001b[0m \u001b[0;32mas\u001b[0m \u001b[0me\u001b[0m\u001b[0;34m:\u001b[0m\u001b[0;34m\u001b[0m\u001b[0;34m\u001b[0m\u001b[0m\n\u001b[1;32m    544\u001b[0m             \u001b[0;32mraise\u001b[0m \u001b[0mTimeoutError\u001b[0m \u001b[0;32mfrom\u001b[0m \u001b[0me\u001b[0m\u001b[0;34m\u001b[0m\u001b[0;34m\u001b[0m\u001b[0m\n",
      "\u001b[0;32m/opt/homebrew/Caskroom/miniforge/base/envs/py38_ds/lib/python3.8/concurrent/futures/_base.py\u001b[0m in \u001b[0;36mresult\u001b[0;34m(self, timeout)\u001b[0m\n\u001b[1;32m    437\u001b[0m                     \u001b[0;32mreturn\u001b[0m \u001b[0mself\u001b[0m\u001b[0;34m.\u001b[0m\u001b[0m__get_result\u001b[0m\u001b[0;34m(\u001b[0m\u001b[0;34m)\u001b[0m\u001b[0;34m\u001b[0m\u001b[0;34m\u001b[0m\u001b[0m\n\u001b[1;32m    438\u001b[0m \u001b[0;34m\u001b[0m\u001b[0m\n\u001b[0;32m--> 439\u001b[0;31m                 \u001b[0mself\u001b[0m\u001b[0;34m.\u001b[0m\u001b[0m_condition\u001b[0m\u001b[0;34m.\u001b[0m\u001b[0mwait\u001b[0m\u001b[0;34m(\u001b[0m\u001b[0mtimeout\u001b[0m\u001b[0;34m)\u001b[0m\u001b[0;34m\u001b[0m\u001b[0;34m\u001b[0m\u001b[0m\n\u001b[0m\u001b[1;32m    440\u001b[0m \u001b[0;34m\u001b[0m\u001b[0m\n\u001b[1;32m    441\u001b[0m                 \u001b[0;32mif\u001b[0m \u001b[0mself\u001b[0m\u001b[0;34m.\u001b[0m\u001b[0m_state\u001b[0m \u001b[0;32min\u001b[0m \u001b[0;34m[\u001b[0m\u001b[0mCANCELLED\u001b[0m\u001b[0;34m,\u001b[0m \u001b[0mCANCELLED_AND_NOTIFIED\u001b[0m\u001b[0;34m]\u001b[0m\u001b[0;34m:\u001b[0m\u001b[0;34m\u001b[0m\u001b[0;34m\u001b[0m\u001b[0m\n",
      "\u001b[0;32m/opt/homebrew/Caskroom/miniforge/base/envs/py38_ds/lib/python3.8/threading.py\u001b[0m in \u001b[0;36mwait\u001b[0;34m(self, timeout)\u001b[0m\n\u001b[1;32m    300\u001b[0m         \u001b[0;32mtry\u001b[0m\u001b[0;34m:\u001b[0m    \u001b[0;31m# restore state no matter what (e.g., KeyboardInterrupt)\u001b[0m\u001b[0;34m\u001b[0m\u001b[0;34m\u001b[0m\u001b[0m\n\u001b[1;32m    301\u001b[0m             \u001b[0;32mif\u001b[0m \u001b[0mtimeout\u001b[0m \u001b[0;32mis\u001b[0m \u001b[0;32mNone\u001b[0m\u001b[0;34m:\u001b[0m\u001b[0;34m\u001b[0m\u001b[0;34m\u001b[0m\u001b[0m\n\u001b[0;32m--> 302\u001b[0;31m                 \u001b[0mwaiter\u001b[0m\u001b[0;34m.\u001b[0m\u001b[0macquire\u001b[0m\u001b[0;34m(\u001b[0m\u001b[0;34m)\u001b[0m\u001b[0;34m\u001b[0m\u001b[0;34m\u001b[0m\u001b[0m\n\u001b[0m\u001b[1;32m    303\u001b[0m                 \u001b[0mgotit\u001b[0m \u001b[0;34m=\u001b[0m \u001b[0;32mTrue\u001b[0m\u001b[0;34m\u001b[0m\u001b[0;34m\u001b[0m\u001b[0m\n\u001b[1;32m    304\u001b[0m             \u001b[0;32melse\u001b[0m\u001b[0;34m:\u001b[0m\u001b[0;34m\u001b[0m\u001b[0;34m\u001b[0m\u001b[0m\n",
      "\u001b[0;31mKeyboardInterrupt\u001b[0m: "
     ]
    }
   ],
   "source": [
    "%%time \n",
    "grid.fit(X_train,y_train)"
   ]
  },
  {
   "cell_type": "code",
   "execution_count": 18,
   "id": "c3ea72bf-24fe-4f87-8efb-d961fcfd6c4e",
   "metadata": {
    "collapsed": true,
    "jupyter": {
     "outputs_hidden": true
    },
    "tags": []
   },
   "outputs": [
    {
     "ename": "NotFittedError",
     "evalue": "This RandomizedSearchCV instance is not fitted yet. Call 'fit' with appropriate arguments before using this estimator.",
     "output_type": "error",
     "traceback": [
      "\u001b[0;31m---------------------------------------------------------------------------\u001b[0m",
      "\u001b[0;31mNotFittedError\u001b[0m                            Traceback (most recent call last)",
      "\u001b[0;32m<ipython-input-18-5b485f569318>\u001b[0m in \u001b[0;36m<module>\u001b[0;34m\u001b[0m\n\u001b[0;32m----> 1\u001b[0;31m print(f'GRID: \\nr2:{r2_score(y_test, grid.predict(X_test))} \\\n\u001b[0m\u001b[1;32m      2\u001b[0m         mse: {mean_squared_error(y_test, grid.predict(X_test))}')\n",
      "\u001b[0;32m/opt/homebrew/Caskroom/miniforge/base/envs/py38_ds/lib/python3.8/site-packages/sklearn/utils/metaestimators.py\u001b[0m in \u001b[0;36m<lambda>\u001b[0;34m(*args, **kwargs)\u001b[0m\n\u001b[1;32m    118\u001b[0m \u001b[0;34m\u001b[0m\u001b[0m\n\u001b[1;32m    119\u001b[0m         \u001b[0;31m# lambda, but not partial, allows help() to work with update_wrapper\u001b[0m\u001b[0;34m\u001b[0m\u001b[0;34m\u001b[0m\u001b[0;34m\u001b[0m\u001b[0m\n\u001b[0;32m--> 120\u001b[0;31m         \u001b[0mout\u001b[0m \u001b[0;34m=\u001b[0m \u001b[0;32mlambda\u001b[0m \u001b[0;34m*\u001b[0m\u001b[0margs\u001b[0m\u001b[0;34m,\u001b[0m \u001b[0;34m**\u001b[0m\u001b[0mkwargs\u001b[0m\u001b[0;34m:\u001b[0m \u001b[0mself\u001b[0m\u001b[0;34m.\u001b[0m\u001b[0mfn\u001b[0m\u001b[0;34m(\u001b[0m\u001b[0mobj\u001b[0m\u001b[0;34m,\u001b[0m \u001b[0;34m*\u001b[0m\u001b[0margs\u001b[0m\u001b[0;34m,\u001b[0m \u001b[0;34m**\u001b[0m\u001b[0mkwargs\u001b[0m\u001b[0;34m)\u001b[0m\u001b[0;34m\u001b[0m\u001b[0;34m\u001b[0m\u001b[0m\n\u001b[0m\u001b[1;32m    121\u001b[0m         \u001b[0;31m# update the docstring of the returned function\u001b[0m\u001b[0;34m\u001b[0m\u001b[0;34m\u001b[0m\u001b[0;34m\u001b[0m\u001b[0m\n\u001b[1;32m    122\u001b[0m         \u001b[0mupdate_wrapper\u001b[0m\u001b[0;34m(\u001b[0m\u001b[0mout\u001b[0m\u001b[0;34m,\u001b[0m \u001b[0mself\u001b[0m\u001b[0;34m.\u001b[0m\u001b[0mfn\u001b[0m\u001b[0;34m)\u001b[0m\u001b[0;34m\u001b[0m\u001b[0;34m\u001b[0m\u001b[0m\n",
      "\u001b[0;32m/opt/homebrew/Caskroom/miniforge/base/envs/py38_ds/lib/python3.8/site-packages/sklearn/model_selection/_search.py\u001b[0m in \u001b[0;36mpredict\u001b[0;34m(self, X)\u001b[0m\n\u001b[1;32m    537\u001b[0m \u001b[0;34m\u001b[0m\u001b[0m\n\u001b[1;32m    538\u001b[0m         \"\"\"\n\u001b[0;32m--> 539\u001b[0;31m         \u001b[0mself\u001b[0m\u001b[0;34m.\u001b[0m\u001b[0m_check_is_fitted\u001b[0m\u001b[0;34m(\u001b[0m\u001b[0;34m'predict'\u001b[0m\u001b[0;34m)\u001b[0m\u001b[0;34m\u001b[0m\u001b[0;34m\u001b[0m\u001b[0m\n\u001b[0m\u001b[1;32m    540\u001b[0m         \u001b[0;32mreturn\u001b[0m \u001b[0mself\u001b[0m\u001b[0;34m.\u001b[0m\u001b[0mbest_estimator_\u001b[0m\u001b[0;34m.\u001b[0m\u001b[0mpredict\u001b[0m\u001b[0;34m(\u001b[0m\u001b[0mX\u001b[0m\u001b[0;34m)\u001b[0m\u001b[0;34m\u001b[0m\u001b[0;34m\u001b[0m\u001b[0m\n\u001b[1;32m    541\u001b[0m \u001b[0;34m\u001b[0m\u001b[0m\n",
      "\u001b[0;32m/opt/homebrew/Caskroom/miniforge/base/envs/py38_ds/lib/python3.8/site-packages/sklearn/model_selection/_search.py\u001b[0m in \u001b[0;36m_check_is_fitted\u001b[0;34m(self, method_name)\u001b[0m\n\u001b[1;32m    521\u001b[0m                                  % (type(self).__name__, method_name))\n\u001b[1;32m    522\u001b[0m         \u001b[0;32melse\u001b[0m\u001b[0;34m:\u001b[0m\u001b[0;34m\u001b[0m\u001b[0;34m\u001b[0m\u001b[0m\n\u001b[0;32m--> 523\u001b[0;31m             \u001b[0mcheck_is_fitted\u001b[0m\u001b[0;34m(\u001b[0m\u001b[0mself\u001b[0m\u001b[0;34m)\u001b[0m\u001b[0;34m\u001b[0m\u001b[0;34m\u001b[0m\u001b[0m\n\u001b[0m\u001b[1;32m    524\u001b[0m \u001b[0;34m\u001b[0m\u001b[0m\n\u001b[1;32m    525\u001b[0m     \u001b[0;34m@\u001b[0m\u001b[0mif_delegate_has_method\u001b[0m\u001b[0;34m(\u001b[0m\u001b[0mdelegate\u001b[0m\u001b[0;34m=\u001b[0m\u001b[0;34m(\u001b[0m\u001b[0;34m'best_estimator_'\u001b[0m\u001b[0;34m,\u001b[0m \u001b[0;34m'estimator'\u001b[0m\u001b[0;34m)\u001b[0m\u001b[0;34m)\u001b[0m\u001b[0;34m\u001b[0m\u001b[0;34m\u001b[0m\u001b[0m\n",
      "\u001b[0;32m/opt/homebrew/Caskroom/miniforge/base/envs/py38_ds/lib/python3.8/site-packages/sklearn/utils/validation.py\u001b[0m in \u001b[0;36minner_f\u001b[0;34m(*args, **kwargs)\u001b[0m\n\u001b[1;32m     61\u001b[0m             \u001b[0mextra_args\u001b[0m \u001b[0;34m=\u001b[0m \u001b[0mlen\u001b[0m\u001b[0;34m(\u001b[0m\u001b[0margs\u001b[0m\u001b[0;34m)\u001b[0m \u001b[0;34m-\u001b[0m \u001b[0mlen\u001b[0m\u001b[0;34m(\u001b[0m\u001b[0mall_args\u001b[0m\u001b[0;34m)\u001b[0m\u001b[0;34m\u001b[0m\u001b[0;34m\u001b[0m\u001b[0m\n\u001b[1;32m     62\u001b[0m             \u001b[0;32mif\u001b[0m \u001b[0mextra_args\u001b[0m \u001b[0;34m<=\u001b[0m \u001b[0;36m0\u001b[0m\u001b[0;34m:\u001b[0m\u001b[0;34m\u001b[0m\u001b[0;34m\u001b[0m\u001b[0m\n\u001b[0;32m---> 63\u001b[0;31m                 \u001b[0;32mreturn\u001b[0m \u001b[0mf\u001b[0m\u001b[0;34m(\u001b[0m\u001b[0;34m*\u001b[0m\u001b[0margs\u001b[0m\u001b[0;34m,\u001b[0m \u001b[0;34m**\u001b[0m\u001b[0mkwargs\u001b[0m\u001b[0;34m)\u001b[0m\u001b[0;34m\u001b[0m\u001b[0;34m\u001b[0m\u001b[0m\n\u001b[0m\u001b[1;32m     64\u001b[0m \u001b[0;34m\u001b[0m\u001b[0m\n\u001b[1;32m     65\u001b[0m             \u001b[0;31m# extra_args > 0\u001b[0m\u001b[0;34m\u001b[0m\u001b[0;34m\u001b[0m\u001b[0;34m\u001b[0m\u001b[0m\n",
      "\u001b[0;32m/opt/homebrew/Caskroom/miniforge/base/envs/py38_ds/lib/python3.8/site-packages/sklearn/utils/validation.py\u001b[0m in \u001b[0;36mcheck_is_fitted\u001b[0;34m(estimator, attributes, msg, all_or_any)\u001b[0m\n\u001b[1;32m   1096\u001b[0m \u001b[0;34m\u001b[0m\u001b[0m\n\u001b[1;32m   1097\u001b[0m     \u001b[0;32mif\u001b[0m \u001b[0;32mnot\u001b[0m \u001b[0mattrs\u001b[0m\u001b[0;34m:\u001b[0m\u001b[0;34m\u001b[0m\u001b[0;34m\u001b[0m\u001b[0m\n\u001b[0;32m-> 1098\u001b[0;31m         \u001b[0;32mraise\u001b[0m \u001b[0mNotFittedError\u001b[0m\u001b[0;34m(\u001b[0m\u001b[0mmsg\u001b[0m \u001b[0;34m%\u001b[0m \u001b[0;34m{\u001b[0m\u001b[0;34m'name'\u001b[0m\u001b[0;34m:\u001b[0m \u001b[0mtype\u001b[0m\u001b[0;34m(\u001b[0m\u001b[0mestimator\u001b[0m\u001b[0;34m)\u001b[0m\u001b[0;34m.\u001b[0m\u001b[0m__name__\u001b[0m\u001b[0;34m}\u001b[0m\u001b[0;34m)\u001b[0m\u001b[0;34m\u001b[0m\u001b[0;34m\u001b[0m\u001b[0m\n\u001b[0m\u001b[1;32m   1099\u001b[0m \u001b[0;34m\u001b[0m\u001b[0m\n\u001b[1;32m   1100\u001b[0m \u001b[0;34m\u001b[0m\u001b[0m\n",
      "\u001b[0;31mNotFittedError\u001b[0m: This RandomizedSearchCV instance is not fitted yet. Call 'fit' with appropriate arguments before using this estimator."
     ]
    }
   ],
   "source": [
    "print(f'GRID: \\nr2:{r2_score(y_test, grid.predict(X_test))} \\\n",
    "        mse: {mean_squared_error(y_test, grid.predict(X_test))}')"
   ]
  },
  {
   "cell_type": "code",
   "execution_count": null,
   "id": "c1f26f0b-7574-4649-a89e-f9a6c9f7ab54",
   "metadata": {},
   "outputs": [],
   "source": [
    "grid.best_params_"
   ]
  },
  {
   "cell_type": "markdown",
   "id": "dynamic-event",
   "metadata": {},
   "source": [
    "### Exercici 4\n",
    "Compara el seu rendiment utilitzant l’aproximació traint/test o utilitzant totes les dades (validació interna)"
   ]
  },
  {
   "cell_type": "markdown",
   "id": "983c158f-4fd0-4d84-891e-ea1ad54ceee0",
   "metadata": {},
   "source": [
    "#### CV"
   ]
  },
  {
   "cell_type": "code",
   "execution_count": null,
   "id": "1a7d3ca4-3bbb-4e57-8b9c-60dba8daf49b",
   "metadata": {},
   "outputs": [],
   "source": [
    "from sklearn.metrics import SCORERS\n",
    "SCORERS.keys()"
   ]
  },
  {
   "cell_type": "code",
   "execution_count": null,
   "id": "45eb54dd-f293-4840-acd1-e81318a3ea26",
   "metadata": {},
   "outputs": [],
   "source": [
    "results = []\n",
    "\n",
    "for exp, cols in tqdm(experiments.items()):\n",
    "    for name, model in tqdm(models.items()):\n",
    "#         print(f'{exp}: {model.__class__.__name__}')\n",
    "        t0 = time.time()\n",
    "        mse, r2 = run_experiment((X_train, y_train), (X_test, y_test), cols, model)\n",
    "        results.append([name, mse, r2, len(cols) ,time.time()-t0, exp])\n",
    "#         print(f'{exp} {name}: {model.__class__.__name__} \\n\\tMSE: {mse}\\n\\tR2 : {r2}')\n",
    "\n",
    "dfresults =  pd.DataFrame(results, columns=['model','mse', 'r2', 'num_feat','time', 'experiment'])\n",
    "# dfresults"
   ]
  },
  {
   "cell_type": "code",
   "execution_count": null,
   "id": "muslim-boston",
   "metadata": {
    "tags": []
   },
   "outputs": [],
   "source": [
    "from sklearn.model_selection import StratifiedKFold, StratifiedShuffleSplit\n",
    "from sklearn.model_selection import cross_val_score, cross_validate\n",
    "\n",
    "cv = 5\n",
    "X = dfdelays\n",
    "y = dfdelays[target]\n",
    "\n",
    "results = []\n",
    "# models = {'xgb': XGBRegressor(n_jobs=-1)}\n",
    "for exp, cols in tqdm(experiments.items()):\n",
    "    for name, model in tqdm(models.items()):\n",
    "        t0 = time.time()\n",
    "#         print(model)\n",
    "        pipe = make_pipeline(X, cols, model )\n",
    "        score = cross_validate(pipe, X[cols], y, cv=cv, \n",
    "                               scoring=['neg_mean_squared_error','r2'],\n",
    "                               n_jobs=2, verbose=0,  )\n",
    "    #     results[model] = [scores, scores.mean, t]\n",
    "        results.append([name, \n",
    "                        score['test_neg_mean_squared_error'].mean(),\n",
    "                        score['test_r2'].mean(),\n",
    "                        len(cols), \n",
    "                        score['fit_time'].sum(),\n",
    "                        exp])\n",
    "    "
   ]
  },
  {
   "cell_type": "code",
   "execution_count": null,
   "id": "b030a393-1b24-4dd6-9a74-b803c714f7dd",
   "metadata": {},
   "outputs": [],
   "source": [
    "dfcvresults = pd.DataFrame(results, \n",
    "                           columns=['model','cv_neg_mse','cv_r2', 'cv_time','experiment'])\\\n"
   ]
  },
  {
   "cell_type": "code",
   "execution_count": null,
   "id": "91d97f03-3095-431b-9cd6-da75123889cb",
   "metadata": {},
   "outputs": [],
   "source": [
    "dfcvresults"
   ]
  },
  {
   "cell_type": "code",
   "execution_count": null,
   "id": "3181fafa-11e0-4b5f-b785-263509024d70",
   "metadata": {},
   "outputs": [],
   "source": [
    "dfresults.pivot(index=['model'],values=['mse','r2','num_feat','time'],columns=['experiment'])\\\n",
    "            .style.format(\"{:.5f}\")\\\n",
    "            .set_properties(**{'background-color':'lightyellow'}, subset=['mse'])\\\n",
    "            .set_properties(**{'background-color':'lightgreen'}, subset=['r2'])\\\n",
    "            .set_properties(**{'background-color':'cyan'}, subset=['time'])\\\n",
    "            .highlight_min(axis=0, subset=['mse','time'])\\\n",
    "            .highlight_max(axis=0, subset=['r2'])\n"
   ]
  },
  {
   "cell_type": "markdown",
   "id": "continuous-recognition",
   "metadata": {},
   "source": [
    "## Nivell 2\n",
    "### Exercici 5\n",
    "Realitza algun procés d’enginyeria de variables per millorar-ne la predicció"
   ]
  },
  {
   "cell_type": "markdown",
   "id": "c36b5da2-a441-499d-8cd2-86730600bc88",
   "metadata": {},
   "source": [
    "<div class=\"alert-info\">\n",
    "    <strong>Info: </strong>Resultat Experiment 5 </div>\n"
   ]
  },
  {
   "cell_type": "markdown",
   "id": "expressed-sellers",
   "metadata": {},
   "source": [
    "## Nivell 3\n",
    "### Exercici 6\n",
    "No utilitzis la variable DepDelay a l’hora de fer prediccions"
   ]
  },
  {
   "cell_type": "markdown",
   "id": "4fbb434a-292e-478a-94ca-158d645b374a",
   "metadata": {},
   "source": [
    "<div class=\"alert-info\">\n",
    "    <strong>Info: </strong>Resultat Experiments 6 i 7</div>\n",
    "\n"
   ]
  },
  {
   "cell_type": "code",
   "execution_count": null,
   "id": "273a4935-bdcb-4f25-850a-69ff1a3d918b",
   "metadata": {},
   "outputs": [],
   "source": [
    "sns.histplot(dfdelays.DepDelay)"
   ]
  },
  {
   "cell_type": "code",
   "execution_count": null,
   "id": "95eabc40-790d-4434-b8e1-6a868c9c54ec",
   "metadata": {},
   "outputs": [],
   "source": [
    "dfdelays.DepDelay.describe()"
   ]
  }
 ],
 "metadata": {
  "kernelspec": {
   "display_name": "Python 3",
   "language": "python",
   "name": "python3"
  },
  "language_info": {
   "codemirror_mode": {
    "name": "ipython",
    "version": 3
   },
   "file_extension": ".py",
   "mimetype": "text/x-python",
   "name": "python",
   "nbconvert_exporter": "python",
   "pygments_lexer": "ipython3",
   "version": "3.8.10"
  }
 },
 "nbformat": 4,
 "nbformat_minor": 5
}
