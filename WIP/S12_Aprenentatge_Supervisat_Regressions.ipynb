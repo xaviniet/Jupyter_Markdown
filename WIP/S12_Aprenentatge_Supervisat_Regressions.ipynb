{
 "cells": [
  {
   "cell_type": "markdown",
   "id": "original-dinner",
   "metadata": {},
   "source": [
    "# Aprenentatge Supervisat - Regressions\n",
    "\n",
    "**Descripció**\n",
    "\n",
    "Anem a practicar i a familiaritzar-nos amb regressions"
   ]
  },
  {
   "cell_type": "code",
   "execution_count": 4,
   "id": "38f2ea86-eaa0-492e-8af2-1d8067236b1a",
   "metadata": {},
   "outputs": [],
   "source": [
    "\n",
    "import numpy as np\n",
    "import pandas as pd\n",
    "\n",
    "import matplotlib.pyplot as plt\n",
    "import seaborn as sns\n",
    "\n",
    "import time\n",
    "\n",
    "from sklearn.preprocessing import StandardScaler, RobustScaler \n",
    "from sklearn.preprocessing import PowerTransformer, OneHotEncoder\n",
    "from sklearn.model_selection import train_test_split\n",
    "\n",
    "from tqdm.notebook import tqdm\n",
    "\n",
    "from utils import SinCosTransformer\n",
    "\n",
    "import warnings\n",
    "warnings.simplefilter('ignore')\n",
    "\n",
    "SEED = 42\n",
    "TEST_SIZE = 0.2\n",
    "TESTING = True"
   ]
  },
  {
   "cell_type": "markdown",
   "id": "490a1be0-335f-4b60-b52c-09c87ad2abaa",
   "metadata": {},
   "source": [
    "### Carreguem les dades"
   ]
  },
  {
   "cell_type": "code",
   "execution_count": 5,
   "id": "48035510-ec63-44a0-a56b-9f1dde4f6338",
   "metadata": {},
   "outputs": [],
   "source": [
    "dfdelays = pd.read_pickle('../data/S11-CleanDelayedFlights.pickle')"
   ]
  },
  {
   "cell_type": "code",
   "execution_count": 6,
   "id": "d0036ada-2ce6-4b6c-ada2-669cce0cc69b",
   "metadata": {},
   "outputs": [
    {
     "data": {
      "text/plain": [
       "(96419, 87)"
      ]
     },
     "execution_count": 6,
     "metadata": {},
     "output_type": "execute_result"
    }
   ],
   "source": [
    "# Fem un sample de les dades per fer el procés més ràpid \n",
    "\n",
    "if TESTING:\n",
    "    dfdelays = dfdelays.sample(frac=0.05, random_state=SEED)\n",
    "    \n",
    "dfdelays.shape"
   ]
  },
  {
   "cell_type": "markdown",
   "id": "353ecb36-b8ab-4dc7-aada-9dce74067100",
   "metadata": {},
   "source": [
    "### Separem en train test"
   ]
  },
  {
   "cell_type": "code",
   "execution_count": 7,
   "id": "eac04d11-34ac-4f1a-a670-6e88249b5849",
   "metadata": {},
   "outputs": [],
   "source": [
    "target = ['ArrDelay']\n",
    "\n",
    "cols = [col for col in dfdelays.columns if col not in target]\n",
    "\n",
    "X_train, X_test, y_train, y_test = train_test_split(dfdelays[cols], dfdelays[target], test_size=TEST_SIZE, random_state=SEED )"
   ]
  },
  {
   "cell_type": "code",
   "execution_count": 8,
   "id": "fc871ca2-b768-4f40-a021-f4635f5431aa",
   "metadata": {},
   "outputs": [
    {
     "data": {
      "text/plain": [
       "((77135, 86), (19284, 86), (77135, 1), (19284, 1))"
      ]
     },
     "execution_count": 8,
     "metadata": {},
     "output_type": "execute_result"
    }
   ],
   "source": [
    "X_train.shape, X_test.shape, y_train.shape, y_test.shape"
   ]
  },
  {
   "cell_type": "markdown",
   "id": "56bb0d6c-7413-4189-8d9f-6089cf2d86cf",
   "metadata": {},
   "source": [
    "### Preprocés\n",
    "\n",
    "Primer, seleccionem les columnes per als diferents experiments"
   ]
  },
  {
   "cell_type": "code",
   "execution_count": 9,
   "id": "7c053c6f-3c7f-45e4-bad4-20b1344c5d92",
   "metadata": {
    "tags": []
   },
   "outputs": [],
   "source": [
    "# columnes originals\n",
    "\n",
    "base_cols = ['Year', 'Month', 'DayofMonth', 'DayOfWeek', \n",
    "             'DepTime', 'CRSDepTime', 'ArrTime', 'CRSArrTime', \n",
    "             'UniqueCarrier', 'AirTime', 'DepDelay', \n",
    "             'Origin', 'Dest', 'Distance', 'TaxiIn', 'TaxiOut', \n",
    "             'CRSElapsedTime_c', 'ActualElapsedTime_c']\n"
   ]
  },
  {
   "cell_type": "code",
   "execution_count": 10,
   "id": "2bc19205-69db-4da4-bc9b-eb9f399ea3bb",
   "metadata": {},
   "outputs": [],
   "source": [
    "cols_exp4 = ['ActualElapsedTime', 'CRSElapsedTime', 'AirTime', \n",
    "            'DepDelay', 'Origin', 'Dest', 'UniqueCarrier', 'Distance', \n",
    "            'carrier_name', 'Name_Origin', 'Name_Dest', \n",
    "            'CRSElapsedTime_c', 'ActualElapsedTime_c', \n",
    "            'DepartureTime', 'CRSDepartureTime', \n",
    "            'ArrivalTime', 'CRSArrivalTime', \n",
    "            'Dep_hourlyf', 'Dep_dailyf', 'Arr_dailyf', 'Arr_hourlyf',    \n",
    "            'Origin_lat', 'Origin_long', 'Dest_lat', 'Dest_long', \n",
    "            'velocity', 'CRSvelocity', \n",
    "            'DepartureTime_hour_sin', 'DepartureTime_hour_cos', 'DepartureTime_day_sin', 'DepartureTime_day_cos', \n",
    "            'DepartureTime_dayofweek_sin', 'DepartureTime_dayofweek_cos', 'DepartureTime_month_sin', 'DepartureTime_month_cos', \n",
    "            'CRSDepartureTime_hour_sin', 'CRSDepartureTime_hour_cos', 'CRSDepartureTime_day_sin', 'CRSDepartureTime_day_cos', \n",
    "            'CRSDepartureTime_dayofweek_sin', 'CRSDepartureTime_dayofweek_cos', 'CRSDepartureTime_month_sin', 'CRSDepartureTime_month_cos', \n",
    "            'ArrivalTime_hour_sin', 'ArrivalTime_hour_cos', 'ArrivalTime_day_sin', 'ArrivalTime_day_cos', \n",
    "            'ArrivalTime_dayofweek_sin', 'ArrivalTime_dayofweek_cos', 'ArrivalTime_month_sin', 'ArrivalTime_month_cos', \n",
    "            'CRSArrivalTime_hour_sin', 'CRSArrivalTime_hour_cos', 'CRSArrivalTime_day_sin', 'CRSArrivalTime_day_cos', \n",
    "            'CRSArrivalTime_dayofweek_sin', 'CRSArrivalTime_dayofweek_cos', 'CRSArrivalTime_month_sin', 'CRSArrivalTime_month_cos']\n"
   ]
  },
  {
   "cell_type": "code",
   "execution_count": 11,
   "id": "1e60c79e-aecf-45dc-9b13-9d750744d203",
   "metadata": {},
   "outputs": [],
   "source": [
    "# amb columes noves\n",
    "cols_exp5 = ['DepDelay',  'Distance', \n",
    "            'UniqueCarrier', \n",
    "            'CRSElapsedTime_c', 'ActualElapsedTime_c', \n",
    "            'DepartureTime', 'CRSDepartureTime', \n",
    "            'ArrivalTime', 'CRSArrivalTime', \n",
    "            'Dep_hourlyf', 'Dep_dailyf', 'Arr_dailyf', 'Arr_hourlyf',    \n",
    "            'Origin_lat', 'Origin_long', 'Dest_lat', 'Dest_long', \n",
    "            'velocity', 'CRSvelocity']\n",
    "\n",
    "# Eliminem el DepDelay\n",
    "cols_exp6 = ['Distance', \n",
    "            'UniqueCarrier', \n",
    "            'CRSElapsedTime_c', 'ActualElapsedTime_c', \n",
    "            'DepartureTime', 'CRSDepartureTime', \n",
    "            'ArrivalTime', 'CRSArrivalTime', \n",
    "            'Dep_hourlyf', 'Dep_dailyf', 'Arr_dailyf', 'Arr_hourlyf',    \n",
    "            'Origin_lat', 'Origin_long', 'Dest_lat', 'Dest_long', \n",
    "            'velocity', 'CRSvelocity']\n",
    "\n",
    "# Eliminem el DepDelay, així com dades sobre el vol real, fins i tot el DepartureTime\n",
    "# No esperem un bon resultat \n",
    "cols_exp7 = ['Distance', \n",
    "            'UniqueCarrier', 'Origin', 'Dest',\n",
    "            'CRSElapsedTime_c', \n",
    "            'CRSDepartureTime', \n",
    "            'CRSArrivalTime', \n",
    "            'Dep_hourlyf', 'Dep_dailyf', 'Arr_dailyf', 'Arr_hourlyf',    \n",
    "            'Origin_lat', 'Origin_long', 'Dest_lat', 'Dest_long', \n",
    "            'CRSvelocity']"
   ]
  },
  {
   "cell_type": "markdown",
   "id": "ideal-arnold",
   "metadata": {},
   "source": [
    "## Nivell 1\n",
    "\n",
    "### Exercici 1\n",
    "Crea almenys tres models de regressió diferents per intentar predir el millor possible l’endarreriment dels vols (ArrDelay) de DelayedFlights.csv."
   ]
  },
  {
   "cell_type": "markdown",
   "id": "caddeebf-e18f-484d-a422-13e0c68138e2",
   "metadata": {},
   "source": [
    "Utilitzarem pipelines i una funció per a executar els experiments amb diferents models."
   ]
  },
  {
   "cell_type": "code",
   "execution_count": 15,
   "id": "2f7c9576-b817-474a-b23a-a9304bd4b7ad",
   "metadata": {},
   "outputs": [],
   "source": [
    "from sklearn.model_selection import cross_val_score\n",
    "from sklearn.linear_model import LinearRegression, Ridge, HuberRegressor, GammaRegressor\n",
    "from sklearn.svm import SVR\n",
    "from sklearn.tree import DecisionTreeRegressor\n",
    "from sklearn.ensemble import RandomForestRegressor, GradientBoostingRegressor\n",
    "from sklearn.neural_network import MLPRegressor\n",
    "\n",
    "from xgboost import XGBRegressor\n",
    "\n",
    "# metriques\n",
    "from sklearn.metrics import mean_squared_error, r2_score\n",
    "\n",
    "from sklearn.compose import ColumnTransformer\n",
    "from sklearn.pipeline import Pipeline"
   ]
  },
  {
   "cell_type": "markdown",
   "id": "2a351cf8-f925-4832-95ee-d48b01d8c390",
   "metadata": {},
   "source": [
    "Crearem aquests models:\n",
    "- LinearRegression\n",
    "- Rigde\n",
    "- HuberRegressor (ourlier-robust)\n",
    "- DecisionTreeRegressor\n",
    "- RandomForestRegressor\n",
    "- GradientBoostingRegressor\n",
    "- MLPRegressor\n",
    "- XGBoostRegressor\n"
   ]
  },
  {
   "cell_type": "markdown",
   "id": "e32d1a54-9880-46c0-9c59-6c9c42b3994e",
   "metadata": {},
   "source": [
    "##### Preparem un parell de funcions on creem un pipeline i executem la regressió"
   ]
  },
  {
   "cell_type": "code",
   "execution_count": 13,
   "id": "e9ddc9ab-2a05-4318-ab18-439d4e01c7cc",
   "metadata": {},
   "outputs": [],
   "source": [
    "def make_pipeline(data, columns, model):\n",
    "    cols_num = data[columns].select_dtypes(include=['int','float']).columns.to_list()\n",
    "    cols_cat = data[columns].select_dtypes(include=['object']).columns.to_list()\n",
    "    cols_date = data[columns].select_dtypes(include=['datetime']).columns.to_list()\n",
    "    \n",
    "    ct = ColumnTransformer(\n",
    "             transformers=[('num', RobustScaler(), cols_num),\n",
    "                          ('cat', OneHotEncoder(handle_unknown='ignore'), cols_cat),\n",
    "                          ('date', SinCosTransformer(['hour','day','dayofweek','month']), cols_date )])\n",
    "    \n",
    "    pipeline = Pipeline( steps=[('transformer', ct),\n",
    "                               ('regr', model)])\n",
    "    \n",
    "    return pipeline\n",
    "\n",
    "# base_pipe = make_pipeline(dfdelays, base_cols, LinearRegression())\n",
    "\n",
    "# base_pipe.fit(dfdelays[base_cols], dfdelays[target])\n",
    "# y_pred_base = base_pipe.predict(dfdelays[base_cols])\n",
    "# print(f'LR r2: {r2_score(dfdelays[target], y_pred_base)}')\n",
    "# print(f'LR MSE: {mean_squared_error(dfdelays[target], y_pred_base)}')\n",
    "\n",
    "def run_experiment(train, test=None, columns=[], model=LinearRegression()):\n",
    "    if test is None:\n",
    "        X_train, X_test, y_train, y_test = train_test_split(train, \n",
    "                                                        test_size=TEST_SIZE, random_state=SEED)\n",
    "    else:\n",
    "        X_train, y_train = train\n",
    "        X_test, y_test = test\n",
    "        \n",
    "    pipe = make_pipeline(X_train, columns, model)\n",
    "    \n",
    "    pipe.fit(X_train, y_train)\n",
    "    y_pred = pipe.predict(X_test)\n",
    "    \n",
    "    return mean_squared_error(y_test, y_pred), r2_score(y_test, y_pred)\n",
    "    \n",
    "    "
   ]
  },
  {
   "cell_type": "code",
   "execution_count": 18,
   "id": "d5f67283-b762-4ca0-939d-e707fcf12b1d",
   "metadata": {},
   "outputs": [],
   "source": [
    "models = {'lr': LinearRegression(),\n",
    "          'lr2': LinearRegression(normalize=True),\n",
    "          'ridge': Ridge(),\n",
    "          'hub': HuberRegressor(),\n",
    "          'tree': DecisionTreeRegressor(max_depth=7, random_state=SEED),\n",
    "          'tree2': DecisionTreeRegressor(max_depth=10, random_state=SEED),\n",
    "          'rf': RandomForestRegressor(max_depth=7, n_jobs=-1, random_state=SEED),\n",
    "          'gb': GradientBoostingRegressor( random_state=SEED, criterion='mse'),\n",
    "          'gb2': GradientBoostingRegressor( n_estimators=500, learning_rate=0.01, random_state=SEED, criterion='mse'),\n",
    "          'nn': MLPRegressor(hidden_layer_sizes=(100,50,25)),\n",
    "          'nn2':MLPRegressor(hidden_layer_sizes=(64,32)),\n",
    "          'xgb': XGBRegressor(n_jobs=-1)}\n",
    "\n",
    "\n",
    "# params = {  'lr': {'fit_intercept':False, 'normalize': True},\n",
    "#             'ridge': {'alpha':np.linspace(), 'solver':{'auto', 'svd', 'cholesky', 'lsqr', 'sparse_cg', 'sag', 'saga'}},\n",
    "#             'hub': {},\n",
    "#             'tree': {},\n",
    "#             'rf': {} \n",
    "#             'gb': {} \n",
    "#             'nn': {} \n",
    "#             'xgb': {}\n",
    "#          }"
   ]
  },
  {
   "cell_type": "markdown",
   "id": "56b240d0-5aa6-435d-b3b2-3ef873e1785f",
   "metadata": {},
   "source": [
    "\n",
    "#### Experiments - Features escollits\n",
    "\n",
    "- **Exp. min**: Només amb DepDelay\n",
    "- **base**: Amb les dades originals netejades\n",
    "- **exp. 3**: Amb només 'DepDelay', 'Distance','Origin', 'Dest', 'UniqueCarrier'\n",
    "- **exercici 5**. Noves columnes. Velocitat, Latitut i Longitut dels aeroports, Numero de vols per hora i dia a l'aeroport de Sortida i Arribada\n",
    "- **ND exp. 6**: com el 5 però sense el DepDelay\n",
    "- **ND exp. 7**: Eliminem el DepDelay, així com dades sobre el vol real, fins i tot el DepartureTime. No esperem un bon resultat Experiments sense DepDelay"
   ]
  },
  {
   "cell_type": "code",
   "execution_count": 19,
   "id": "529ca35a-7e66-40a9-adfc-6e1951c03ec4",
   "metadata": {},
   "outputs": [],
   "source": [
    "experiments = { 'Exp. min': ['DepDelay'],\n",
    "              'base': base_cols, \n",
    "              'exp. 3': ['DepDelay', 'Distance','Origin', 'Dest', 'UniqueCarrier'],\n",
    "              'exercici 5': cols_exp5,\n",
    "               'ND exp. 6': cols_exp6,\n",
    "               'ND exp. 7': cols_exp7 }"
   ]
  },
  {
   "cell_type": "code",
   "execution_count": 21,
   "id": "1c425cec-979c-4bcd-b372-0fda35da5ca5",
   "metadata": {
    "tags": []
   },
   "outputs": [
    {
     "data": {
      "application/vnd.jupyter.widget-view+json": {
       "model_id": "3388645cd5cd4c329b72c5269e0d9ceb",
       "version_major": 2,
       "version_minor": 0
      },
      "text/plain": [
       "  0%|          | 0/6 [00:00<?, ?it/s]"
      ]
     },
     "metadata": {},
     "output_type": "display_data"
    },
    {
     "data": {
      "application/vnd.jupyter.widget-view+json": {
       "model_id": "33b2645f2209475fa92fc9cff972d59b",
       "version_major": 2,
       "version_minor": 0
      },
      "text/plain": [
       "  0%|          | 0/11 [00:00<?, ?it/s]"
      ]
     },
     "metadata": {},
     "output_type": "display_data"
    },
    {
     "data": {
      "application/vnd.jupyter.widget-view+json": {
       "model_id": "22e0ff2690264f51af4d37a5a193cd3c",
       "version_major": 2,
       "version_minor": 0
      },
      "text/plain": [
       "  0%|          | 0/11 [00:00<?, ?it/s]"
      ]
     },
     "metadata": {},
     "output_type": "display_data"
    },
    {
     "data": {
      "application/vnd.jupyter.widget-view+json": {
       "model_id": "351fe203c526423d8e1b6f4192679ecf",
       "version_major": 2,
       "version_minor": 0
      },
      "text/plain": [
       "  0%|          | 0/11 [00:00<?, ?it/s]"
      ]
     },
     "metadata": {},
     "output_type": "display_data"
    },
    {
     "data": {
      "application/vnd.jupyter.widget-view+json": {
       "model_id": "5a23a72ba140453b946323a3f9551125",
       "version_major": 2,
       "version_minor": 0
      },
      "text/plain": [
       "  0%|          | 0/11 [00:00<?, ?it/s]"
      ]
     },
     "metadata": {},
     "output_type": "display_data"
    },
    {
     "data": {
      "application/vnd.jupyter.widget-view+json": {
       "model_id": "349715c66ff1480e88bdf260571549c6",
       "version_major": 2,
       "version_minor": 0
      },
      "text/plain": [
       "  0%|          | 0/11 [00:00<?, ?it/s]"
      ]
     },
     "metadata": {},
     "output_type": "display_data"
    },
    {
     "data": {
      "application/vnd.jupyter.widget-view+json": {
       "model_id": "dd2d40d5e560437892e41c637239d8fe",
       "version_major": 2,
       "version_minor": 0
      },
      "text/plain": [
       "  0%|          | 0/11 [00:00<?, ?it/s]"
      ]
     },
     "metadata": {},
     "output_type": "display_data"
    }
   ],
   "source": [
    "results = []\n",
    "\n",
    "for exp, cols in tqdm(experiments.items()):\n",
    "    for name, model in tqdm(models.items()):\n",
    "#         print(f'{exp}: {model.__class__.__name__}')\n",
    "        t0 = time.time()\n",
    "        mse, r2 = run_experiment((X_train, y_train), (X_test, y_test), cols, model)\n",
    "        results.append([name, mse, r2, len(cols) ,time.time()-t0, exp])\n",
    "#         print(f'{exp} {name}: {model.__class__.__name__} \\n\\tMSE: {mse}\\n\\tR2 : {r2}')\n",
    "\n",
    "dfresults =  pd.DataFrame(results, columns=['model','mse', 'r2', 'num_feat','time', 'experiment'])\n",
    "# dfresults"
   ]
  },
  {
   "cell_type": "code",
   "execution_count": 22,
   "id": "37571765-f758-4167-b047-a5629c88f1eb",
   "metadata": {},
   "outputs": [
    {
     "data": {
      "text/html": [
       "<style  type=\"text/css\" >\n",
       "#T_03f74_row0_col0,#T_03f74_row0_col1,#T_03f74_row0_col2,#T_03f74_row0_col3,#T_03f74_row0_col4,#T_03f74_row0_col5,#T_03f74_row1_col0,#T_03f74_row1_col1,#T_03f74_row1_col2,#T_03f74_row1_col3,#T_03f74_row1_col4,#T_03f74_row1_col5,#T_03f74_row2_col0,#T_03f74_row2_col1,#T_03f74_row2_col2,#T_03f74_row2_col4,#T_03f74_row2_col5,#T_03f74_row3_col0,#T_03f74_row3_col1,#T_03f74_row3_col2,#T_03f74_row3_col3,#T_03f74_row3_col4,#T_03f74_row3_col5,#T_03f74_row4_col1,#T_03f74_row4_col2,#T_03f74_row4_col3,#T_03f74_row4_col4,#T_03f74_row4_col5,#T_03f74_row5_col0,#T_03f74_row5_col2,#T_03f74_row5_col3,#T_03f74_row5_col5,#T_03f74_row6_col0,#T_03f74_row6_col1,#T_03f74_row6_col2,#T_03f74_row6_col3,#T_03f74_row6_col4,#T_03f74_row6_col5,#T_03f74_row7_col0,#T_03f74_row7_col1,#T_03f74_row7_col2,#T_03f74_row7_col3,#T_03f74_row7_col4,#T_03f74_row8_col0,#T_03f74_row8_col1,#T_03f74_row8_col2,#T_03f74_row8_col3,#T_03f74_row8_col4,#T_03f74_row8_col5,#T_03f74_row9_col0,#T_03f74_row9_col1,#T_03f74_row9_col2,#T_03f74_row9_col3,#T_03f74_row9_col4,#T_03f74_row9_col5,#T_03f74_row10_col0,#T_03f74_row10_col1,#T_03f74_row10_col3,#T_03f74_row10_col4,#T_03f74_row10_col5{\n",
       "            background-color:  lightyellow;\n",
       "        }#T_03f74_row0_col6,#T_03f74_row0_col7,#T_03f74_row0_col8,#T_03f74_row0_col9,#T_03f74_row0_col10,#T_03f74_row0_col11,#T_03f74_row1_col6,#T_03f74_row1_col7,#T_03f74_row1_col8,#T_03f74_row1_col9,#T_03f74_row1_col10,#T_03f74_row1_col11,#T_03f74_row2_col6,#T_03f74_row2_col7,#T_03f74_row2_col8,#T_03f74_row2_col10,#T_03f74_row2_col11,#T_03f74_row3_col6,#T_03f74_row3_col7,#T_03f74_row3_col8,#T_03f74_row3_col9,#T_03f74_row3_col10,#T_03f74_row3_col11,#T_03f74_row4_col7,#T_03f74_row4_col8,#T_03f74_row4_col9,#T_03f74_row4_col10,#T_03f74_row4_col11,#T_03f74_row5_col6,#T_03f74_row5_col8,#T_03f74_row5_col9,#T_03f74_row5_col11,#T_03f74_row6_col6,#T_03f74_row6_col7,#T_03f74_row6_col8,#T_03f74_row6_col9,#T_03f74_row6_col10,#T_03f74_row6_col11,#T_03f74_row7_col6,#T_03f74_row7_col7,#T_03f74_row7_col8,#T_03f74_row7_col9,#T_03f74_row7_col10,#T_03f74_row8_col6,#T_03f74_row8_col7,#T_03f74_row8_col8,#T_03f74_row8_col9,#T_03f74_row8_col10,#T_03f74_row8_col11,#T_03f74_row9_col6,#T_03f74_row9_col7,#T_03f74_row9_col8,#T_03f74_row9_col9,#T_03f74_row9_col10,#T_03f74_row9_col11,#T_03f74_row10_col6,#T_03f74_row10_col7,#T_03f74_row10_col9,#T_03f74_row10_col10,#T_03f74_row10_col11{\n",
       "            background-color:  lightgreen;\n",
       "        }#T_03f74_row0_col18,#T_03f74_row0_col19,#T_03f74_row0_col20,#T_03f74_row0_col21,#T_03f74_row0_col22,#T_03f74_row0_col23,#T_03f74_row1_col18,#T_03f74_row1_col19,#T_03f74_row1_col20,#T_03f74_row1_col21,#T_03f74_row1_col22,#T_03f74_row1_col23,#T_03f74_row2_col18,#T_03f74_row2_col19,#T_03f74_row2_col20,#T_03f74_row2_col21,#T_03f74_row2_col22,#T_03f74_row2_col23,#T_03f74_row3_col18,#T_03f74_row3_col19,#T_03f74_row3_col21,#T_03f74_row3_col22,#T_03f74_row3_col23,#T_03f74_row4_col18,#T_03f74_row4_col19,#T_03f74_row4_col20,#T_03f74_row4_col21,#T_03f74_row4_col22,#T_03f74_row4_col23,#T_03f74_row5_col18,#T_03f74_row5_col19,#T_03f74_row5_col20,#T_03f74_row5_col21,#T_03f74_row5_col22,#T_03f74_row5_col23,#T_03f74_row6_col18,#T_03f74_row6_col19,#T_03f74_row6_col20,#T_03f74_row6_col21,#T_03f74_row6_col22,#T_03f74_row6_col23,#T_03f74_row7_col20,#T_03f74_row8_col18,#T_03f74_row8_col19,#T_03f74_row8_col20,#T_03f74_row8_col21,#T_03f74_row8_col22,#T_03f74_row8_col23,#T_03f74_row9_col18,#T_03f74_row9_col19,#T_03f74_row9_col20,#T_03f74_row9_col21,#T_03f74_row9_col22,#T_03f74_row9_col23,#T_03f74_row10_col18,#T_03f74_row10_col19,#T_03f74_row10_col20,#T_03f74_row10_col21,#T_03f74_row10_col22,#T_03f74_row10_col23{\n",
       "            background-color:  cyan;\n",
       "        }#T_03f74_row2_col3,#T_03f74_row4_col0,#T_03f74_row5_col1,#T_03f74_row5_col4,#T_03f74_row7_col5,#T_03f74_row10_col2{\n",
       "            background-color:  lightyellow;\n",
       "            background-color:  yellow;\n",
       "        }#T_03f74_row2_col9,#T_03f74_row4_col6,#T_03f74_row5_col7,#T_03f74_row5_col10,#T_03f74_row7_col11,#T_03f74_row10_col8{\n",
       "            background-color:  lightgreen;\n",
       "            background-color:  yellow;\n",
       "        }#T_03f74_row3_col20,#T_03f74_row7_col18,#T_03f74_row7_col19,#T_03f74_row7_col21,#T_03f74_row7_col22,#T_03f74_row7_col23{\n",
       "            background-color:  cyan;\n",
       "            background-color:  yellow;\n",
       "        }</style><table id=\"T_03f74_\" ><thead>    <tr>        <th class=\"blank level0\" ></th>        <th class=\"col_heading level0 col0\" colspan=\"6\">mse</th>        <th class=\"col_heading level0 col6\" colspan=\"6\">r2</th>        <th class=\"col_heading level0 col12\" colspan=\"6\">num_feat</th>        <th class=\"col_heading level0 col18\" colspan=\"6\">time</th>    </tr>    <tr>        <th class=\"index_name level1\" >experiment</th>        <th class=\"col_heading level1 col0\" >Exp. min</th>        <th class=\"col_heading level1 col1\" >ND exp. 6</th>        <th class=\"col_heading level1 col2\" >ND exp. 7</th>        <th class=\"col_heading level1 col3\" >base</th>        <th class=\"col_heading level1 col4\" >exercici 5</th>        <th class=\"col_heading level1 col5\" >exp. 3</th>        <th class=\"col_heading level1 col6\" >Exp. min</th>        <th class=\"col_heading level1 col7\" >ND exp. 6</th>        <th class=\"col_heading level1 col8\" >ND exp. 7</th>        <th class=\"col_heading level1 col9\" >base</th>        <th class=\"col_heading level1 col10\" >exercici 5</th>        <th class=\"col_heading level1 col11\" >exp. 3</th>        <th class=\"col_heading level1 col12\" >Exp. min</th>        <th class=\"col_heading level1 col13\" >ND exp. 6</th>        <th class=\"col_heading level1 col14\" >ND exp. 7</th>        <th class=\"col_heading level1 col15\" >base</th>        <th class=\"col_heading level1 col16\" >exercici 5</th>        <th class=\"col_heading level1 col17\" >exp. 3</th>        <th class=\"col_heading level1 col18\" >Exp. min</th>        <th class=\"col_heading level1 col19\" >ND exp. 6</th>        <th class=\"col_heading level1 col20\" >ND exp. 7</th>        <th class=\"col_heading level1 col21\" >base</th>        <th class=\"col_heading level1 col22\" >exercici 5</th>        <th class=\"col_heading level1 col23\" >exp. 3</th>    </tr>    <tr>        <th class=\"index_name level0\" >model</th>        <th class=\"blank\" ></th>        <th class=\"blank\" ></th>        <th class=\"blank\" ></th>        <th class=\"blank\" ></th>        <th class=\"blank\" ></th>        <th class=\"blank\" ></th>        <th class=\"blank\" ></th>        <th class=\"blank\" ></th>        <th class=\"blank\" ></th>        <th class=\"blank\" ></th>        <th class=\"blank\" ></th>        <th class=\"blank\" ></th>        <th class=\"blank\" ></th>        <th class=\"blank\" ></th>        <th class=\"blank\" ></th>        <th class=\"blank\" ></th>        <th class=\"blank\" ></th>        <th class=\"blank\" ></th>        <th class=\"blank\" ></th>        <th class=\"blank\" ></th>        <th class=\"blank\" ></th>        <th class=\"blank\" ></th>        <th class=\"blank\" ></th>        <th class=\"blank\" ></th>    </tr></thead><tbody>\n",
       "                <tr>\n",
       "                        <th id=\"T_03f74_level0_row0\" class=\"row_heading level0 row0\" >gb</th>\n",
       "                        <td id=\"T_03f74_row0_col0\" class=\"data row0 col0\" >308.95194</td>\n",
       "                        <td id=\"T_03f74_row0_col1\" class=\"data row0 col1\" >605.94365</td>\n",
       "                        <td id=\"T_03f74_row0_col2\" class=\"data row0 col2\" >2931.81217</td>\n",
       "                        <td id=\"T_03f74_row0_col3\" class=\"data row0 col3\" >77.69414</td>\n",
       "                        <td id=\"T_03f74_row0_col4\" class=\"data row0 col4\" >40.75552</td>\n",
       "                        <td id=\"T_03f74_row0_col5\" class=\"data row0 col5\" >300.33437</td>\n",
       "                        <td id=\"T_03f74_row0_col6\" class=\"data row0 col6\" >0.90486</td>\n",
       "                        <td id=\"T_03f74_row0_col7\" class=\"data row0 col7\" >0.81339</td>\n",
       "                        <td id=\"T_03f74_row0_col8\" class=\"data row0 col8\" >0.09712</td>\n",
       "                        <td id=\"T_03f74_row0_col9\" class=\"data row0 col9\" >0.97607</td>\n",
       "                        <td id=\"T_03f74_row0_col10\" class=\"data row0 col10\" >0.98745</td>\n",
       "                        <td id=\"T_03f74_row0_col11\" class=\"data row0 col11\" >0.90751</td>\n",
       "                        <td id=\"T_03f74_row0_col12\" class=\"data row0 col12\" >86.00000</td>\n",
       "                        <td id=\"T_03f74_row0_col13\" class=\"data row0 col13\" >86.00000</td>\n",
       "                        <td id=\"T_03f74_row0_col14\" class=\"data row0 col14\" >86.00000</td>\n",
       "                        <td id=\"T_03f74_row0_col15\" class=\"data row0 col15\" >86.00000</td>\n",
       "                        <td id=\"T_03f74_row0_col16\" class=\"data row0 col16\" >86.00000</td>\n",
       "                        <td id=\"T_03f74_row0_col17\" class=\"data row0 col17\" >86.00000</td>\n",
       "                        <td id=\"T_03f74_row0_col18\" class=\"data row0 col18\" >0.99210</td>\n",
       "                        <td id=\"T_03f74_row0_col19\" class=\"data row0 col19\" >29.91473</td>\n",
       "                        <td id=\"T_03f74_row0_col20\" class=\"data row0 col20\" >20.29439</td>\n",
       "                        <td id=\"T_03f74_row0_col21\" class=\"data row0 col21\" >13.47702</td>\n",
       "                        <td id=\"T_03f74_row0_col22\" class=\"data row0 col22\" >30.90397</td>\n",
       "                        <td id=\"T_03f74_row0_col23\" class=\"data row0 col23\" >3.36496</td>\n",
       "            </tr>\n",
       "            <tr>\n",
       "                        <th id=\"T_03f74_level0_row1\" class=\"row_heading level0 row1\" >gb2</th>\n",
       "                        <td id=\"T_03f74_row1_col0\" class=\"data row1 col0\" >309.08169</td>\n",
       "                        <td id=\"T_03f74_row1_col1\" class=\"data row1 col1\" >1122.45820</td>\n",
       "                        <td id=\"T_03f74_row1_col2\" class=\"data row1 col2\" >2971.79566</td>\n",
       "                        <td id=\"T_03f74_row1_col3\" class=\"data row1 col3\" >134.60066</td>\n",
       "                        <td id=\"T_03f74_row1_col4\" class=\"data row1 col4\" >118.19865</td>\n",
       "                        <td id=\"T_03f74_row1_col5\" class=\"data row1 col5\" >304.12308</td>\n",
       "                        <td id=\"T_03f74_row1_col6\" class=\"data row1 col6\" >0.90482</td>\n",
       "                        <td id=\"T_03f74_row1_col7\" class=\"data row1 col7\" >0.65433</td>\n",
       "                        <td id=\"T_03f74_row1_col8\" class=\"data row1 col8\" >0.08481</td>\n",
       "                        <td id=\"T_03f74_row1_col9\" class=\"data row1 col9\" >0.95855</td>\n",
       "                        <td id=\"T_03f74_row1_col10\" class=\"data row1 col10\" >0.96360</td>\n",
       "                        <td id=\"T_03f74_row1_col11\" class=\"data row1 col11\" >0.90634</td>\n",
       "                        <td id=\"T_03f74_row1_col12\" class=\"data row1 col12\" >86.00000</td>\n",
       "                        <td id=\"T_03f74_row1_col13\" class=\"data row1 col13\" >86.00000</td>\n",
       "                        <td id=\"T_03f74_row1_col14\" class=\"data row1 col14\" >86.00000</td>\n",
       "                        <td id=\"T_03f74_row1_col15\" class=\"data row1 col15\" >86.00000</td>\n",
       "                        <td id=\"T_03f74_row1_col16\" class=\"data row1 col16\" >86.00000</td>\n",
       "                        <td id=\"T_03f74_row1_col17\" class=\"data row1 col17\" >86.00000</td>\n",
       "                        <td id=\"T_03f74_row1_col18\" class=\"data row1 col18\" >4.99973</td>\n",
       "                        <td id=\"T_03f74_row1_col19\" class=\"data row1 col19\" >146.89895</td>\n",
       "                        <td id=\"T_03f74_row1_col20\" class=\"data row1 col20\" >102.53302</td>\n",
       "                        <td id=\"T_03f74_row1_col21\" class=\"data row1 col21\" >66.51752</td>\n",
       "                        <td id=\"T_03f74_row1_col22\" class=\"data row1 col22\" >152.36239</td>\n",
       "                        <td id=\"T_03f74_row1_col23\" class=\"data row1 col23\" >17.23506</td>\n",
       "            </tr>\n",
       "            <tr>\n",
       "                        <th id=\"T_03f74_level0_row2\" class=\"row_heading level0 row2\" >hub</th>\n",
       "                        <td id=\"T_03f74_row2_col0\" class=\"data row2 col0\" >313.67305</td>\n",
       "                        <td id=\"T_03f74_row2_col1\" class=\"data row2 col1\" >1891.45255</td>\n",
       "                        <td id=\"T_03f74_row2_col2\" class=\"data row2 col2\" >3076.40194</td>\n",
       "                        <td id=\"T_03f74_row2_col3\" class=\"data row2 col3\" >9.15496</td>\n",
       "                        <td id=\"T_03f74_row2_col4\" class=\"data row2 col4\" >9.22454</td>\n",
       "                        <td id=\"T_03f74_row2_col5\" class=\"data row2 col5\" >305.51735</td>\n",
       "                        <td id=\"T_03f74_row2_col6\" class=\"data row2 col6\" >0.90340</td>\n",
       "                        <td id=\"T_03f74_row2_col7\" class=\"data row2 col7\" >0.41751</td>\n",
       "                        <td id=\"T_03f74_row2_col8\" class=\"data row2 col8\" >0.05259</td>\n",
       "                        <td id=\"T_03f74_row2_col9\" class=\"data row2 col9\" >0.99718</td>\n",
       "                        <td id=\"T_03f74_row2_col10\" class=\"data row2 col10\" >0.99716</td>\n",
       "                        <td id=\"T_03f74_row2_col11\" class=\"data row2 col11\" >0.90591</td>\n",
       "                        <td id=\"T_03f74_row2_col12\" class=\"data row2 col12\" >86.00000</td>\n",
       "                        <td id=\"T_03f74_row2_col13\" class=\"data row2 col13\" >86.00000</td>\n",
       "                        <td id=\"T_03f74_row2_col14\" class=\"data row2 col14\" >86.00000</td>\n",
       "                        <td id=\"T_03f74_row2_col15\" class=\"data row2 col15\" >86.00000</td>\n",
       "                        <td id=\"T_03f74_row2_col16\" class=\"data row2 col16\" >86.00000</td>\n",
       "                        <td id=\"T_03f74_row2_col17\" class=\"data row2 col17\" >86.00000</td>\n",
       "                        <td id=\"T_03f74_row2_col18\" class=\"data row2 col18\" >0.05682</td>\n",
       "                        <td id=\"T_03f74_row2_col19\" class=\"data row2 col19\" >2.04849</td>\n",
       "                        <td id=\"T_03f74_row2_col20\" class=\"data row2 col20\" >1.48917</td>\n",
       "                        <td id=\"T_03f74_row2_col21\" class=\"data row2 col21\" >1.09659</td>\n",
       "                        <td id=\"T_03f74_row2_col22\" class=\"data row2 col22\" >2.05500</td>\n",
       "                        <td id=\"T_03f74_row2_col23\" class=\"data row2 col23\" >0.66768</td>\n",
       "            </tr>\n",
       "            <tr>\n",
       "                        <th id=\"T_03f74_level0_row3\" class=\"row_heading level0 row3\" >lr</th>\n",
       "                        <td id=\"T_03f74_row3_col0\" class=\"data row3 col0\" >307.81740</td>\n",
       "                        <td id=\"T_03f74_row3_col1\" class=\"data row3 col1\" >1788.64109</td>\n",
       "                        <td id=\"T_03f74_row3_col2\" class=\"data row3 col2\" >2957.74576</td>\n",
       "                        <td id=\"T_03f74_row3_col3\" class=\"data row3 col3\" >9.45986</td>\n",
       "                        <td id=\"T_03f74_row3_col4\" class=\"data row3 col4\" >8.94284</td>\n",
       "                        <td id=\"T_03f74_row3_col5\" class=\"data row3 col5\" >298.73536</td>\n",
       "                        <td id=\"T_03f74_row3_col6\" class=\"data row3 col6\" >0.90520</td>\n",
       "                        <td id=\"T_03f74_row3_col7\" class=\"data row3 col7\" >0.44917</td>\n",
       "                        <td id=\"T_03f74_row3_col8\" class=\"data row3 col8\" >0.08913</td>\n",
       "                        <td id=\"T_03f74_row3_col9\" class=\"data row3 col9\" >0.99709</td>\n",
       "                        <td id=\"T_03f74_row3_col10\" class=\"data row3 col10\" >0.99725</td>\n",
       "                        <td id=\"T_03f74_row3_col11\" class=\"data row3 col11\" >0.90800</td>\n",
       "                        <td id=\"T_03f74_row3_col12\" class=\"data row3 col12\" >86.00000</td>\n",
       "                        <td id=\"T_03f74_row3_col13\" class=\"data row3 col13\" >86.00000</td>\n",
       "                        <td id=\"T_03f74_row3_col14\" class=\"data row3 col14\" >86.00000</td>\n",
       "                        <td id=\"T_03f74_row3_col15\" class=\"data row3 col15\" >86.00000</td>\n",
       "                        <td id=\"T_03f74_row3_col16\" class=\"data row3 col16\" >86.00000</td>\n",
       "                        <td id=\"T_03f74_row3_col17\" class=\"data row3 col17\" >86.00000</td>\n",
       "                        <td id=\"T_03f74_row3_col18\" class=\"data row3 col18\" >0.01260</td>\n",
       "                        <td id=\"T_03f74_row3_col19\" class=\"data row3 col19\" >0.52092</td>\n",
       "                        <td id=\"T_03f74_row3_col20\" class=\"data row3 col20\" >0.68334</td>\n",
       "                        <td id=\"T_03f74_row3_col21\" class=\"data row3 col21\" >0.44700</td>\n",
       "                        <td id=\"T_03f74_row3_col22\" class=\"data row3 col22\" >0.56138</td>\n",
       "                        <td id=\"T_03f74_row3_col23\" class=\"data row3 col23\" >0.10073</td>\n",
       "            </tr>\n",
       "            <tr>\n",
       "                        <th id=\"T_03f74_level0_row4\" class=\"row_heading level0 row4\" >nn</th>\n",
       "                        <td id=\"T_03f74_row4_col0\" class=\"data row4 col0\" >307.76807</td>\n",
       "                        <td id=\"T_03f74_row4_col1\" class=\"data row4 col1\" >289.63788</td>\n",
       "                        <td id=\"T_03f74_row4_col2\" class=\"data row4 col2\" >4797.00860</td>\n",
       "                        <td id=\"T_03f74_row4_col3\" class=\"data row4 col3\" >15.14828</td>\n",
       "                        <td id=\"T_03f74_row4_col4\" class=\"data row4 col4\" >9.19174</td>\n",
       "                        <td id=\"T_03f74_row4_col5\" class=\"data row4 col5\" >366.44695</td>\n",
       "                        <td id=\"T_03f74_row4_col6\" class=\"data row4 col6\" >0.90522</td>\n",
       "                        <td id=\"T_03f74_row4_col7\" class=\"data row4 col7\" >0.91080</td>\n",
       "                        <td id=\"T_03f74_row4_col8\" class=\"data row4 col8\" >-0.47729</td>\n",
       "                        <td id=\"T_03f74_row4_col9\" class=\"data row4 col9\" >0.99533</td>\n",
       "                        <td id=\"T_03f74_row4_col10\" class=\"data row4 col10\" >0.99717</td>\n",
       "                        <td id=\"T_03f74_row4_col11\" class=\"data row4 col11\" >0.88715</td>\n",
       "                        <td id=\"T_03f74_row4_col12\" class=\"data row4 col12\" >86.00000</td>\n",
       "                        <td id=\"T_03f74_row4_col13\" class=\"data row4 col13\" >86.00000</td>\n",
       "                        <td id=\"T_03f74_row4_col14\" class=\"data row4 col14\" >86.00000</td>\n",
       "                        <td id=\"T_03f74_row4_col15\" class=\"data row4 col15\" >86.00000</td>\n",
       "                        <td id=\"T_03f74_row4_col16\" class=\"data row4 col16\" >86.00000</td>\n",
       "                        <td id=\"T_03f74_row4_col17\" class=\"data row4 col17\" >86.00000</td>\n",
       "                        <td id=\"T_03f74_row4_col18\" class=\"data row4 col18\" >5.02693</td>\n",
       "                        <td id=\"T_03f74_row4_col19\" class=\"data row4 col19\" >86.51463</td>\n",
       "                        <td id=\"T_03f74_row4_col20\" class=\"data row4 col20\" >198.36697</td>\n",
       "                        <td id=\"T_03f74_row4_col21\" class=\"data row4 col21\" >172.66875</td>\n",
       "                        <td id=\"T_03f74_row4_col22\" class=\"data row4 col22\" >30.30660</td>\n",
       "                        <td id=\"T_03f74_row4_col23\" class=\"data row4 col23\" >110.25620</td>\n",
       "            </tr>\n",
       "            <tr>\n",
       "                        <th id=\"T_03f74_level0_row5\" class=\"row_heading level0 row5\" >nn2</th>\n",
       "                        <td id=\"T_03f74_row5_col0\" class=\"data row5 col0\" >308.94458</td>\n",
       "                        <td id=\"T_03f74_row5_col1\" class=\"data row5 col1\" >238.78119</td>\n",
       "                        <td id=\"T_03f74_row5_col2\" class=\"data row5 col2\" >4141.95310</td>\n",
       "                        <td id=\"T_03f74_row5_col3\" class=\"data row5 col3\" >20.50530</td>\n",
       "                        <td id=\"T_03f74_row5_col4\" class=\"data row5 col4\" >8.83187</td>\n",
       "                        <td id=\"T_03f74_row5_col5\" class=\"data row5 col5\" >318.75768</td>\n",
       "                        <td id=\"T_03f74_row5_col6\" class=\"data row5 col6\" >0.90486</td>\n",
       "                        <td id=\"T_03f74_row5_col7\" class=\"data row5 col7\" >0.92646</td>\n",
       "                        <td id=\"T_03f74_row5_col8\" class=\"data row5 col8\" >-0.27556</td>\n",
       "                        <td id=\"T_03f74_row5_col9\" class=\"data row5 col9\" >0.99369</td>\n",
       "                        <td id=\"T_03f74_row5_col10\" class=\"data row5 col10\" >0.99728</td>\n",
       "                        <td id=\"T_03f74_row5_col11\" class=\"data row5 col11\" >0.90184</td>\n",
       "                        <td id=\"T_03f74_row5_col12\" class=\"data row5 col12\" >86.00000</td>\n",
       "                        <td id=\"T_03f74_row5_col13\" class=\"data row5 col13\" >86.00000</td>\n",
       "                        <td id=\"T_03f74_row5_col14\" class=\"data row5 col14\" >86.00000</td>\n",
       "                        <td id=\"T_03f74_row5_col15\" class=\"data row5 col15\" >86.00000</td>\n",
       "                        <td id=\"T_03f74_row5_col16\" class=\"data row5 col16\" >86.00000</td>\n",
       "                        <td id=\"T_03f74_row5_col17\" class=\"data row5 col17\" >86.00000</td>\n",
       "                        <td id=\"T_03f74_row5_col18\" class=\"data row5 col18\" >7.73590</td>\n",
       "                        <td id=\"T_03f74_row5_col19\" class=\"data row5 col19\" >69.59077</td>\n",
       "                        <td id=\"T_03f74_row5_col20\" class=\"data row5 col20\" >107.06849</td>\n",
       "                        <td id=\"T_03f74_row5_col21\" class=\"data row5 col21\" >249.04835</td>\n",
       "                        <td id=\"T_03f74_row5_col22\" class=\"data row5 col22\" >18.25958</td>\n",
       "                        <td id=\"T_03f74_row5_col23\" class=\"data row5 col23\" >70.20141</td>\n",
       "            </tr>\n",
       "            <tr>\n",
       "                        <th id=\"T_03f74_level0_row6\" class=\"row_heading level0 row6\" >rf</th>\n",
       "                        <td id=\"T_03f74_row6_col0\" class=\"data row6 col0\" >308.62856</td>\n",
       "                        <td id=\"T_03f74_row6_col1\" class=\"data row6 col1\" >1674.02712</td>\n",
       "                        <td id=\"T_03f74_row6_col2\" class=\"data row6 col2\" >2965.58696</td>\n",
       "                        <td id=\"T_03f74_row6_col3\" class=\"data row6 col3\" >148.40314</td>\n",
       "                        <td id=\"T_03f74_row6_col4\" class=\"data row6 col4\" >127.34001</td>\n",
       "                        <td id=\"T_03f74_row6_col5\" class=\"data row6 col5\" >305.67032</td>\n",
       "                        <td id=\"T_03f74_row6_col6\" class=\"data row6 col6\" >0.90495</td>\n",
       "                        <td id=\"T_03f74_row6_col7\" class=\"data row6 col7\" >0.48447</td>\n",
       "                        <td id=\"T_03f74_row6_col8\" class=\"data row6 col8\" >0.08672</td>\n",
       "                        <td id=\"T_03f74_row6_col9\" class=\"data row6 col9\" >0.95430</td>\n",
       "                        <td id=\"T_03f74_row6_col10\" class=\"data row6 col10\" >0.96078</td>\n",
       "                        <td id=\"T_03f74_row6_col11\" class=\"data row6 col11\" >0.90587</td>\n",
       "                        <td id=\"T_03f74_row6_col12\" class=\"data row6 col12\" >86.00000</td>\n",
       "                        <td id=\"T_03f74_row6_col13\" class=\"data row6 col13\" >86.00000</td>\n",
       "                        <td id=\"T_03f74_row6_col14\" class=\"data row6 col14\" >86.00000</td>\n",
       "                        <td id=\"T_03f74_row6_col15\" class=\"data row6 col15\" >86.00000</td>\n",
       "                        <td id=\"T_03f74_row6_col16\" class=\"data row6 col16\" >86.00000</td>\n",
       "                        <td id=\"T_03f74_row6_col17\" class=\"data row6 col17\" >86.00000</td>\n",
       "                        <td id=\"T_03f74_row6_col18\" class=\"data row6 col18\" >0.27049</td>\n",
       "                        <td id=\"T_03f74_row6_col19\" class=\"data row6 col19\" >8.82060</td>\n",
       "                        <td id=\"T_03f74_row6_col20\" class=\"data row6 col20\" >8.15912</td>\n",
       "                        <td id=\"T_03f74_row6_col21\" class=\"data row6 col21\" >6.09434</td>\n",
       "                        <td id=\"T_03f74_row6_col22\" class=\"data row6 col22\" >8.85861</td>\n",
       "                        <td id=\"T_03f74_row6_col23\" class=\"data row6 col23\" >1.67316</td>\n",
       "            </tr>\n",
       "            <tr>\n",
       "                        <th id=\"T_03f74_level0_row7\" class=\"row_heading level0 row7\" >ridge</th>\n",
       "                        <td id=\"T_03f74_row7_col0\" class=\"data row7 col0\" >307.81774</td>\n",
       "                        <td id=\"T_03f74_row7_col1\" class=\"data row7 col1\" >1787.77343</td>\n",
       "                        <td id=\"T_03f74_row7_col2\" class=\"data row7 col2\" >2945.41400</td>\n",
       "                        <td id=\"T_03f74_row7_col3\" class=\"data row7 col3\" >9.18924</td>\n",
       "                        <td id=\"T_03f74_row7_col4\" class=\"data row7 col4\" >8.94421</td>\n",
       "                        <td id=\"T_03f74_row7_col5\" class=\"data row7 col5\" >298.58634</td>\n",
       "                        <td id=\"T_03f74_row7_col6\" class=\"data row7 col6\" >0.90520</td>\n",
       "                        <td id=\"T_03f74_row7_col7\" class=\"data row7 col7\" >0.44944</td>\n",
       "                        <td id=\"T_03f74_row7_col8\" class=\"data row7 col8\" >0.09293</td>\n",
       "                        <td id=\"T_03f74_row7_col9\" class=\"data row7 col9\" >0.99717</td>\n",
       "                        <td id=\"T_03f74_row7_col10\" class=\"data row7 col10\" >0.99725</td>\n",
       "                        <td id=\"T_03f74_row7_col11\" class=\"data row7 col11\" >0.90805</td>\n",
       "                        <td id=\"T_03f74_row7_col12\" class=\"data row7 col12\" >86.00000</td>\n",
       "                        <td id=\"T_03f74_row7_col13\" class=\"data row7 col13\" >86.00000</td>\n",
       "                        <td id=\"T_03f74_row7_col14\" class=\"data row7 col14\" >86.00000</td>\n",
       "                        <td id=\"T_03f74_row7_col15\" class=\"data row7 col15\" >86.00000</td>\n",
       "                        <td id=\"T_03f74_row7_col16\" class=\"data row7 col16\" >86.00000</td>\n",
       "                        <td id=\"T_03f74_row7_col17\" class=\"data row7 col17\" >86.00000</td>\n",
       "                        <td id=\"T_03f74_row7_col18\" class=\"data row7 col18\" >0.01162</td>\n",
       "                        <td id=\"T_03f74_row7_col19\" class=\"data row7 col19\" >0.43316</td>\n",
       "                        <td id=\"T_03f74_row7_col20\" class=\"data row7 col20\" >0.70981</td>\n",
       "                        <td id=\"T_03f74_row7_col21\" class=\"data row7 col21\" >0.24777</td>\n",
       "                        <td id=\"T_03f74_row7_col22\" class=\"data row7 col22\" >0.43496</td>\n",
       "                        <td id=\"T_03f74_row7_col23\" class=\"data row7 col23\" >0.08368</td>\n",
       "            </tr>\n",
       "            <tr>\n",
       "                        <th id=\"T_03f74_level0_row8\" class=\"row_heading level0 row8\" >tree</th>\n",
       "                        <td id=\"T_03f74_row8_col0\" class=\"data row8 col0\" >309.77058</td>\n",
       "                        <td id=\"T_03f74_row8_col1\" class=\"data row8 col1\" >1928.94979</td>\n",
       "                        <td id=\"T_03f74_row8_col2\" class=\"data row8 col2\" >3014.18825</td>\n",
       "                        <td id=\"T_03f74_row8_col3\" class=\"data row8 col3\" >169.83027</td>\n",
       "                        <td id=\"T_03f74_row8_col4\" class=\"data row8 col4\" >170.28759</td>\n",
       "                        <td id=\"T_03f74_row8_col5\" class=\"data row8 col5\" >313.94944</td>\n",
       "                        <td id=\"T_03f74_row8_col6\" class=\"data row8 col6\" >0.90460</td>\n",
       "                        <td id=\"T_03f74_row8_col7\" class=\"data row8 col7\" >0.40596</td>\n",
       "                        <td id=\"T_03f74_row8_col8\" class=\"data row8 col8\" >0.07175</td>\n",
       "                        <td id=\"T_03f74_row8_col9\" class=\"data row8 col9\" >0.94770</td>\n",
       "                        <td id=\"T_03f74_row8_col10\" class=\"data row8 col10\" >0.94756</td>\n",
       "                        <td id=\"T_03f74_row8_col11\" class=\"data row8 col11\" >0.90332</td>\n",
       "                        <td id=\"T_03f74_row8_col12\" class=\"data row8 col12\" >86.00000</td>\n",
       "                        <td id=\"T_03f74_row8_col13\" class=\"data row8 col13\" >86.00000</td>\n",
       "                        <td id=\"T_03f74_row8_col14\" class=\"data row8 col14\" >86.00000</td>\n",
       "                        <td id=\"T_03f74_row8_col15\" class=\"data row8 col15\" >86.00000</td>\n",
       "                        <td id=\"T_03f74_row8_col16\" class=\"data row8 col16\" >86.00000</td>\n",
       "                        <td id=\"T_03f74_row8_col17\" class=\"data row8 col17\" >86.00000</td>\n",
       "                        <td id=\"T_03f74_row8_col18\" class=\"data row8 col18\" >0.02304</td>\n",
       "                        <td id=\"T_03f74_row8_col19\" class=\"data row8 col19\" >1.03603</td>\n",
       "                        <td id=\"T_03f74_row8_col20\" class=\"data row8 col20\" >0.90085</td>\n",
       "                        <td id=\"T_03f74_row8_col21\" class=\"data row8 col21\" >0.58324</td>\n",
       "                        <td id=\"T_03f74_row8_col22\" class=\"data row8 col22\" >1.06710</td>\n",
       "                        <td id=\"T_03f74_row8_col23\" class=\"data row8 col23\" >0.17638</td>\n",
       "            </tr>\n",
       "            <tr>\n",
       "                        <th id=\"T_03f74_level0_row9\" class=\"row_heading level0 row9\" >tree2</th>\n",
       "                        <td id=\"T_03f74_row9_col0\" class=\"data row9 col0\" >310.65780</td>\n",
       "                        <td id=\"T_03f74_row9_col1\" class=\"data row9 col1\" >1541.39738</td>\n",
       "                        <td id=\"T_03f74_row9_col2\" class=\"data row9 col2\" >3166.32469</td>\n",
       "                        <td id=\"T_03f74_row9_col3\" class=\"data row9 col3\" >149.82437</td>\n",
       "                        <td id=\"T_03f74_row9_col4\" class=\"data row9 col4\" >95.91998</td>\n",
       "                        <td id=\"T_03f74_row9_col5\" class=\"data row9 col5\" >325.35310</td>\n",
       "                        <td id=\"T_03f74_row9_col6\" class=\"data row9 col6\" >0.90433</td>\n",
       "                        <td id=\"T_03f74_row9_col7\" class=\"data row9 col7\" >0.52531</td>\n",
       "                        <td id=\"T_03f74_row9_col8\" class=\"data row9 col8\" >0.02490</td>\n",
       "                        <td id=\"T_03f74_row9_col9\" class=\"data row9 col9\" >0.95386</td>\n",
       "                        <td id=\"T_03f74_row9_col10\" class=\"data row9 col10\" >0.97046</td>\n",
       "                        <td id=\"T_03f74_row9_col11\" class=\"data row9 col11\" >0.89980</td>\n",
       "                        <td id=\"T_03f74_row9_col12\" class=\"data row9 col12\" >86.00000</td>\n",
       "                        <td id=\"T_03f74_row9_col13\" class=\"data row9 col13\" >86.00000</td>\n",
       "                        <td id=\"T_03f74_row9_col14\" class=\"data row9 col14\" >86.00000</td>\n",
       "                        <td id=\"T_03f74_row9_col15\" class=\"data row9 col15\" >86.00000</td>\n",
       "                        <td id=\"T_03f74_row9_col16\" class=\"data row9 col16\" >86.00000</td>\n",
       "                        <td id=\"T_03f74_row9_col17\" class=\"data row9 col17\" >86.00000</td>\n",
       "                        <td id=\"T_03f74_row9_col18\" class=\"data row9 col18\" >0.02274</td>\n",
       "                        <td id=\"T_03f74_row9_col19\" class=\"data row9 col19\" >1.27297</td>\n",
       "                        <td id=\"T_03f74_row9_col20\" class=\"data row9 col20\" >1.33379</td>\n",
       "                        <td id=\"T_03f74_row9_col21\" class=\"data row9 col21\" >0.96540</td>\n",
       "                        <td id=\"T_03f74_row9_col22\" class=\"data row9 col22\" >1.32924</td>\n",
       "                        <td id=\"T_03f74_row9_col23\" class=\"data row9 col23\" >0.27539</td>\n",
       "            </tr>\n",
       "            <tr>\n",
       "                        <th id=\"T_03f74_level0_row10\" class=\"row_heading level0 row10\" >xgb</th>\n",
       "                        <td id=\"T_03f74_row10_col0\" class=\"data row10 col0\" >309.79072</td>\n",
       "                        <td id=\"T_03f74_row10_col1\" class=\"data row10 col1\" >327.01005</td>\n",
       "                        <td id=\"T_03f74_row10_col2\" class=\"data row10 col2\" >2863.13859</td>\n",
       "                        <td id=\"T_03f74_row10_col3\" class=\"data row10 col3\" >19.11803</td>\n",
       "                        <td id=\"T_03f74_row10_col4\" class=\"data row10 col4\" >19.98640</td>\n",
       "                        <td id=\"T_03f74_row10_col5\" class=\"data row10 col5\" >301.08739</td>\n",
       "                        <td id=\"T_03f74_row10_col6\" class=\"data row10 col6\" >0.90460</td>\n",
       "                        <td id=\"T_03f74_row10_col7\" class=\"data row10 col7\" >0.89929</td>\n",
       "                        <td id=\"T_03f74_row10_col8\" class=\"data row10 col8\" >0.11827</td>\n",
       "                        <td id=\"T_03f74_row10_col9\" class=\"data row10 col9\" >0.99411</td>\n",
       "                        <td id=\"T_03f74_row10_col10\" class=\"data row10 col10\" >0.99384</td>\n",
       "                        <td id=\"T_03f74_row10_col11\" class=\"data row10 col11\" >0.90728</td>\n",
       "                        <td id=\"T_03f74_row10_col12\" class=\"data row10 col12\" >86.00000</td>\n",
       "                        <td id=\"T_03f74_row10_col13\" class=\"data row10 col13\" >86.00000</td>\n",
       "                        <td id=\"T_03f74_row10_col14\" class=\"data row10 col14\" >86.00000</td>\n",
       "                        <td id=\"T_03f74_row10_col15\" class=\"data row10 col15\" >86.00000</td>\n",
       "                        <td id=\"T_03f74_row10_col16\" class=\"data row10 col16\" >86.00000</td>\n",
       "                        <td id=\"T_03f74_row10_col17\" class=\"data row10 col17\" >86.00000</td>\n",
       "                        <td id=\"T_03f74_row10_col18\" class=\"data row10 col18\" >0.95969</td>\n",
       "                        <td id=\"T_03f74_row10_col19\" class=\"data row10 col19\" >5.39979</td>\n",
       "                        <td id=\"T_03f74_row10_col20\" class=\"data row10 col20\" >4.70107</td>\n",
       "                        <td id=\"T_03f74_row10_col21\" class=\"data row10 col21\" >6.96455</td>\n",
       "                        <td id=\"T_03f74_row10_col22\" class=\"data row10 col22\" >5.33268</td>\n",
       "                        <td id=\"T_03f74_row10_col23\" class=\"data row10 col23\" >1.95054</td>\n",
       "            </tr>\n",
       "    </tbody></table>"
      ],
      "text/plain": [
       "<pandas.io.formats.style.Styler at 0x10551e730>"
      ]
     },
     "execution_count": 22,
     "metadata": {},
     "output_type": "execute_result"
    }
   ],
   "source": [
    "dfresults.pivot(index=['model'],values=['mse','r2','num_feat','time'],columns=['experiment'])\\\n",
    "            .style.format(\"{:.5f}\")\\\n",
    "            .set_properties(**{'background-color':'lightyellow'}, subset=['mse'])\\\n",
    "            .set_properties(**{'background-color':'lightgreen'}, subset=['r2'])\\\n",
    "            .set_properties(**{'background-color':'cyan'}, subset=['time'])\\\n",
    "            .highlight_min(axis=0, subset=['mse','time'])\\\n",
    "            .highlight_max(axis=0, subset=['r2'])\n"
   ]
  },
  {
   "cell_type": "markdown",
   "id": "sensitive-beverage",
   "metadata": {},
   "source": [
    "### Exercici 2\n",
    "Compara’ls en base al MSE i al R2.\n",
    "\n",
    "<div class=\"alert-info\">\n",
    "Fet durant l'exercici anterior\n",
    "</div>\n",
    "\n",
    "\n",
    "<!-- <span style=\"color:red\">Mirar l'exercici anterior</span> -->"
   ]
  },
  {
   "cell_type": "markdown",
   "id": "healthy-marathon",
   "metadata": {},
   "source": [
    "### Exercici 3\n",
    "Entrena’ls utilitzant els diferents paràmetres que admeten."
   ]
  },
  {
   "cell_type": "code",
   "execution_count": 23,
   "id": "available-particle",
   "metadata": {},
   "outputs": [],
   "source": [
    "from sklearn.model_selection import GridSearchCV, RandomizedSearchCV\n",
    "from sklearn.model_selection import KFold\n",
    "\n",
    "model = XGBRegressor()\n",
    "\n",
    "grid = {\n",
    "        'regr__objective': ['reg:squarederror'],\n",
    "        'regr__colsample_bytree': [0.2, 0.5, 1],\n",
    "#         'regr__subsample': [0.7, 1],\n",
    "#         'regr__learning_rate': [0.05, 0.1, 0.3],\n",
    "        'regr__max_depth': [3, 6, 8],\n",
    "        'regr__min_child_weight': [0, 1, 10],\n",
    "        'regr__n_estimators' : [700, 1000, 5000]\n",
    "    }\n",
    "\n",
    "fold = KFold(n_splits=3)\n",
    "\n",
    "pipe = make_pipeline(X_train, cols_exp4, model)"
   ]
  },
  {
   "cell_type": "code",
   "execution_count": 24,
   "id": "d3080abf-2941-4b79-9031-789bcc112740",
   "metadata": {},
   "outputs": [],
   "source": [
    "grid = RandomizedSearchCV(pipe, grid, n_iter=10,\n",
    "                scoring=['neg_mean_squared_error','r2'], cv=fold,\n",
    "                verbose=2, refit='r2', n_jobs=-1)\n",
    "\n"
   ]
  },
  {
   "cell_type": "code",
   "execution_count": 25,
   "id": "ecd19e6a-4b96-49f3-a5a0-54b813e241b2",
   "metadata": {
    "tags": []
   },
   "outputs": [
    {
     "name": "stdout",
     "output_type": "stream",
     "text": [
      "Fitting 3 folds for each of 10 candidates, totalling 30 fits\n",
      "CPU times: user 2min 17s, sys: 22.8 s, total: 2min 39s\n",
      "Wall time: 55min 17s\n"
     ]
    },
    {
     "data": {
      "text/plain": [
       "RandomizedSearchCV(cv=KFold(n_splits=3, random_state=None, shuffle=False),\n",
       "                   estimator=Pipeline(steps=[('transformer',\n",
       "                                              ColumnTransformer(transformers=[('num',\n",
       "                                                                               RobustScaler(),\n",
       "                                                                               ['ActualElapsedTime',\n",
       "                                                                                'CRSElapsedTime',\n",
       "                                                                                'AirTime',\n",
       "                                                                                'DepDelay',\n",
       "                                                                                'Distance',\n",
       "                                                                                'CRSElapsedTime_c',\n",
       "                                                                                'ActualElapsedTime_c',\n",
       "                                                                                'Dep_hourlyf',\n",
       "                                                                                'Dep_dailyf',\n",
       "                                                                                'Arr_dailyf',\n",
       "                                                                                'Arr_hourlyf',\n",
       "                                                                                'Origin_lat',\n",
       "                                                                                'Orig...\n",
       "                                                           scale_pos_weight=None,\n",
       "                                                           subsample=None,\n",
       "                                                           tree_method=None,\n",
       "                                                           validate_parameters=None,\n",
       "                                                           verbosity=None))]),\n",
       "                   n_jobs=-1,\n",
       "                   param_distributions={'regr__colsample_bytree': [0.2, 0.5, 1],\n",
       "                                        'regr__max_depth': [3, 6, 8],\n",
       "                                        'regr__min_child_weight': [0, 1, 10],\n",
       "                                        'regr__n_estimators': [700, 1000, 5000],\n",
       "                                        'regr__objective': ['reg:squarederror']},\n",
       "                   refit='r2', scoring=['neg_mean_squared_error', 'r2'],\n",
       "                   verbose=2)"
      ]
     },
     "execution_count": 25,
     "metadata": {},
     "output_type": "execute_result"
    }
   ],
   "source": [
    "%%time \n",
    "grid.fit(X_train,y_train)"
   ]
  },
  {
   "cell_type": "code",
   "execution_count": 26,
   "id": "c3ea72bf-24fe-4f87-8efb-d961fcfd6c4e",
   "metadata": {
    "tags": []
   },
   "outputs": [
    {
     "name": "stdout",
     "output_type": "stream",
     "text": [
      "GRID: \n",
      "r2:0.9984217947762206         mse: 5.124706790026388\n"
     ]
    }
   ],
   "source": [
    "print(f'GRID: \\nr2:{r2_score(y_test, grid.predict(X_test))} \\\n",
    "        mse: {mean_squared_error(y_test, grid.predict(X_test))}')"
   ]
  },
  {
   "cell_type": "code",
   "execution_count": 27,
   "id": "c1f26f0b-7574-4649-a89e-f9a6c9f7ab54",
   "metadata": {},
   "outputs": [
    {
     "data": {
      "text/plain": [
       "{'regr__objective': 'reg:squarederror',\n",
       " 'regr__n_estimators': 700,\n",
       " 'regr__min_child_weight': 0,\n",
       " 'regr__max_depth': 3,\n",
       " 'regr__colsample_bytree': 0.5}"
      ]
     },
     "execution_count": 27,
     "metadata": {},
     "output_type": "execute_result"
    }
   ],
   "source": [
    "grid.best_params_"
   ]
  },
  {
   "cell_type": "markdown",
   "id": "dynamic-event",
   "metadata": {},
   "source": [
    "### Exercici 4\n",
    "Compara el seu rendiment utilitzant l’aproximació traint/test o utilitzant totes les dades (validació interna)"
   ]
  },
  {
   "cell_type": "markdown",
   "id": "983c158f-4fd0-4d84-891e-ea1ad54ceee0",
   "metadata": {},
   "source": [
    "#### CV"
   ]
  },
  {
   "cell_type": "code",
   "execution_count": null,
   "id": "1a7d3ca4-3bbb-4e57-8b9c-60dba8daf49b",
   "metadata": {},
   "outputs": [],
   "source": [
    "# from sklearn.metrics import SCORERS\n",
    "# SCORERS.keys()"
   ]
  },
  {
   "cell_type": "code",
   "execution_count": 29,
   "id": "45eb54dd-f293-4840-acd1-e81318a3ea26",
   "metadata": {},
   "outputs": [
    {
     "data": {
      "application/vnd.jupyter.widget-view+json": {
       "model_id": "eb249c13427b45a788c4d7dece74406d",
       "version_major": 2,
       "version_minor": 0
      },
      "text/plain": [
       "  0%|          | 0/6 [00:00<?, ?it/s]"
      ]
     },
     "metadata": {},
     "output_type": "display_data"
    },
    {
     "data": {
      "application/vnd.jupyter.widget-view+json": {
       "model_id": "d53c55fe463c4148b996eb27e6ae0e63",
       "version_major": 2,
       "version_minor": 0
      },
      "text/plain": [
       "  0%|          | 0/11 [00:00<?, ?it/s]"
      ]
     },
     "metadata": {},
     "output_type": "display_data"
    },
    {
     "data": {
      "application/vnd.jupyter.widget-view+json": {
       "model_id": "4e63a0e1d9074bfd8c168990def2f78b",
       "version_major": 2,
       "version_minor": 0
      },
      "text/plain": [
       "  0%|          | 0/11 [00:00<?, ?it/s]"
      ]
     },
     "metadata": {},
     "output_type": "display_data"
    },
    {
     "data": {
      "application/vnd.jupyter.widget-view+json": {
       "model_id": "42bc0554de7f4a4eb6c33adf5e50366b",
       "version_major": 2,
       "version_minor": 0
      },
      "text/plain": [
       "  0%|          | 0/11 [00:00<?, ?it/s]"
      ]
     },
     "metadata": {},
     "output_type": "display_data"
    },
    {
     "data": {
      "application/vnd.jupyter.widget-view+json": {
       "model_id": "e9f071690ebd494d8b65793c8c985601",
       "version_major": 2,
       "version_minor": 0
      },
      "text/plain": [
       "  0%|          | 0/11 [00:00<?, ?it/s]"
      ]
     },
     "metadata": {},
     "output_type": "display_data"
    },
    {
     "data": {
      "application/vnd.jupyter.widget-view+json": {
       "model_id": "8bc125732d61453f8057ba03d2c63c6f",
       "version_major": 2,
       "version_minor": 0
      },
      "text/plain": [
       "  0%|          | 0/11 [00:00<?, ?it/s]"
      ]
     },
     "metadata": {},
     "output_type": "display_data"
    },
    {
     "data": {
      "application/vnd.jupyter.widget-view+json": {
       "model_id": "9f42fafb9bcf4f86adda9069aaab1933",
       "version_major": 2,
       "version_minor": 0
      },
      "text/plain": [
       "  0%|          | 0/11 [00:00<?, ?it/s]"
      ]
     },
     "metadata": {},
     "output_type": "display_data"
    }
   ],
   "source": [
    "# results = []\n",
    "\n",
    "# for exp, cols in tqdm(experiments.items()):\n",
    "#     for name, model in tqdm(models.items()):\n",
    "# #         print(f'{exp}: {model.__class__.__name__}')\n",
    "#         t0 = time.time()\n",
    "#         mse, r2 = run_experiment((X_train, y_train), (X_test, y_test), cols, model)\n",
    "#         results.append([name, mse, r2, len(cols) ,time.time()-t0, exp])\n",
    "# #         print(f'{exp} {name}: {model.__class__.__name__} \\n\\tMSE: {mse}\\n\\tR2 : {r2}')\n",
    "\n",
    "# dfresults =  pd.DataFrame(results, columns=['model','mse', 'r2', 'num_feat','time', 'experiment'])\n",
    "# # dfresults"
   ]
  },
  {
   "cell_type": "code",
   "execution_count": 30,
   "id": "muslim-boston",
   "metadata": {
    "tags": []
   },
   "outputs": [
    {
     "data": {
      "application/vnd.jupyter.widget-view+json": {
       "model_id": "94a91bbdf9e84be9b131debd3c0307ad",
       "version_major": 2,
       "version_minor": 0
      },
      "text/plain": [
       "  0%|          | 0/6 [00:00<?, ?it/s]"
      ]
     },
     "metadata": {},
     "output_type": "display_data"
    },
    {
     "data": {
      "application/vnd.jupyter.widget-view+json": {
       "model_id": "10b346c819f643dfaae73a94e8a62e2a",
       "version_major": 2,
       "version_minor": 0
      },
      "text/plain": [
       "  0%|          | 0/11 [00:00<?, ?it/s]"
      ]
     },
     "metadata": {},
     "output_type": "display_data"
    },
    {
     "data": {
      "application/vnd.jupyter.widget-view+json": {
       "model_id": "9d118fba7d2b47c99679591587e5888b",
       "version_major": 2,
       "version_minor": 0
      },
      "text/plain": [
       "  0%|          | 0/11 [00:00<?, ?it/s]"
      ]
     },
     "metadata": {},
     "output_type": "display_data"
    },
    {
     "data": {
      "application/vnd.jupyter.widget-view+json": {
       "model_id": "951f513437694550b3ac6a21365dfdeb",
       "version_major": 2,
       "version_minor": 0
      },
      "text/plain": [
       "  0%|          | 0/11 [00:00<?, ?it/s]"
      ]
     },
     "metadata": {},
     "output_type": "display_data"
    },
    {
     "data": {
      "application/vnd.jupyter.widget-view+json": {
       "model_id": "becdb81c2be64064a7eb26e970161e42",
       "version_major": 2,
       "version_minor": 0
      },
      "text/plain": [
       "  0%|          | 0/11 [00:00<?, ?it/s]"
      ]
     },
     "metadata": {},
     "output_type": "display_data"
    },
    {
     "data": {
      "application/vnd.jupyter.widget-view+json": {
       "model_id": "d4a94baeb1fe48a692df45d8ac897727",
       "version_major": 2,
       "version_minor": 0
      },
      "text/plain": [
       "  0%|          | 0/11 [00:00<?, ?it/s]"
      ]
     },
     "metadata": {},
     "output_type": "display_data"
    },
    {
     "data": {
      "application/vnd.jupyter.widget-view+json": {
       "model_id": "7ebd05071cec45be86fbfa35845fa132",
       "version_major": 2,
       "version_minor": 0
      },
      "text/plain": [
       "  0%|          | 0/11 [00:00<?, ?it/s]"
      ]
     },
     "metadata": {},
     "output_type": "display_data"
    }
   ],
   "source": [
    "from sklearn.model_selection import StratifiedKFold, StratifiedShuffleSplit\n",
    "from sklearn.model_selection import cross_val_score, cross_validate\n",
    "\n",
    "cv = 5\n",
    "X = dfdelays\n",
    "y = dfdelays[target]\n",
    "\n",
    "results = []\n",
    "# models = {'xgb': XGBRegressor(n_jobs=-1)}\n",
    "for exp, cols in tqdm(experiments.items()):\n",
    "    for name, model in tqdm(models.items()):\n",
    "        t0 = time.time()\n",
    "#         print(model)\n",
    "        pipe = make_pipeline(X, cols, model )\n",
    "        score = cross_validate(pipe, X[cols], y, cv=cv, \n",
    "                               scoring=['neg_mean_squared_error','r2'],\n",
    "                               n_jobs=2, verbose=0,  )\n",
    "    #     results[model] = [scores, scores.mean, t]\n",
    "        results.append([name, \n",
    "                        score['test_neg_mean_squared_error'].mean(),\n",
    "                        score['test_r2'].mean(),\n",
    "                        len(cols), \n",
    "                        score['fit_time'].sum(),\n",
    "                        exp])\n",
    "    "
   ]
  },
  {
   "cell_type": "code",
   "execution_count": 33,
   "id": "b030a393-1b24-4dd6-9a74-b803c714f7dd",
   "metadata": {},
   "outputs": [],
   "source": [
    "dfcvresults = pd.DataFrame(results, \n",
    "                           columns=['model','cv_neg_mse','cv_r2', 'cv_num_feat','cv_time','experiment'])\n"
   ]
  },
  {
   "cell_type": "code",
   "execution_count": 34,
   "id": "91d97f03-3095-431b-9cd6-da75123889cb",
   "metadata": {},
   "outputs": [
    {
     "data": {
      "text/html": [
       "<div>\n",
       "<style scoped>\n",
       "    .dataframe tbody tr th:only-of-type {\n",
       "        vertical-align: middle;\n",
       "    }\n",
       "\n",
       "    .dataframe tbody tr th {\n",
       "        vertical-align: top;\n",
       "    }\n",
       "\n",
       "    .dataframe thead th {\n",
       "        text-align: right;\n",
       "    }\n",
       "</style>\n",
       "<table border=\"1\" class=\"dataframe\">\n",
       "  <thead>\n",
       "    <tr style=\"text-align: right;\">\n",
       "      <th></th>\n",
       "      <th>model</th>\n",
       "      <th>cv_neg_mse</th>\n",
       "      <th>cv_r2</th>\n",
       "      <th>cv_num_feat</th>\n",
       "      <th>cv_time</th>\n",
       "      <th>experiment</th>\n",
       "    </tr>\n",
       "  </thead>\n",
       "  <tbody>\n",
       "    <tr>\n",
       "      <th>0</th>\n",
       "      <td>lr</td>\n",
       "      <td>-300.458287</td>\n",
       "      <td>0.906466</td>\n",
       "      <td>1</td>\n",
       "      <td>0.042635</td>\n",
       "      <td>Exp. min</td>\n",
       "    </tr>\n",
       "    <tr>\n",
       "      <th>1</th>\n",
       "      <td>ridge</td>\n",
       "      <td>-300.458287</td>\n",
       "      <td>0.906466</td>\n",
       "      <td>1</td>\n",
       "      <td>0.034206</td>\n",
       "      <td>Exp. min</td>\n",
       "    </tr>\n",
       "    <tr>\n",
       "      <th>2</th>\n",
       "      <td>hub</td>\n",
       "      <td>-305.439850</td>\n",
       "      <td>0.904916</td>\n",
       "      <td>1</td>\n",
       "      <td>0.268205</td>\n",
       "      <td>Exp. min</td>\n",
       "    </tr>\n",
       "    <tr>\n",
       "      <th>3</th>\n",
       "      <td>tree</td>\n",
       "      <td>-301.532024</td>\n",
       "      <td>0.906141</td>\n",
       "      <td>1</td>\n",
       "      <td>0.096125</td>\n",
       "      <td>Exp. min</td>\n",
       "    </tr>\n",
       "    <tr>\n",
       "      <th>4</th>\n",
       "      <td>tree2</td>\n",
       "      <td>-303.899279</td>\n",
       "      <td>0.905407</td>\n",
       "      <td>1</td>\n",
       "      <td>0.100010</td>\n",
       "      <td>Exp. min</td>\n",
       "    </tr>\n",
       "    <tr>\n",
       "      <th>...</th>\n",
       "      <td>...</td>\n",
       "      <td>...</td>\n",
       "      <td>...</td>\n",
       "      <td>...</td>\n",
       "      <td>...</td>\n",
       "      <td>...</td>\n",
       "    </tr>\n",
       "    <tr>\n",
       "      <th>61</th>\n",
       "      <td>gb</td>\n",
       "      <td>-2910.587304</td>\n",
       "      <td>0.095371</td>\n",
       "      <td>16</td>\n",
       "      <td>104.997828</td>\n",
       "      <td>ND exp. 7</td>\n",
       "    </tr>\n",
       "    <tr>\n",
       "      <th>62</th>\n",
       "      <td>gb2</td>\n",
       "      <td>-2943.257913</td>\n",
       "      <td>0.085273</td>\n",
       "      <td>16</td>\n",
       "      <td>531.241763</td>\n",
       "      <td>ND exp. 7</td>\n",
       "    </tr>\n",
       "    <tr>\n",
       "      <th>63</th>\n",
       "      <td>nn</td>\n",
       "      <td>-4524.759042</td>\n",
       "      <td>-0.406861</td>\n",
       "      <td>16</td>\n",
       "      <td>876.029156</td>\n",
       "      <td>ND exp. 7</td>\n",
       "    </tr>\n",
       "    <tr>\n",
       "      <th>64</th>\n",
       "      <td>nn2</td>\n",
       "      <td>-3940.976217</td>\n",
       "      <td>-0.226464</td>\n",
       "      <td>16</td>\n",
       "      <td>598.775664</td>\n",
       "      <td>ND exp. 7</td>\n",
       "    </tr>\n",
       "    <tr>\n",
       "      <th>65</th>\n",
       "      <td>xgb</td>\n",
       "      <td>-2842.536350</td>\n",
       "      <td>0.116372</td>\n",
       "      <td>16</td>\n",
       "      <td>33.564232</td>\n",
       "      <td>ND exp. 7</td>\n",
       "    </tr>\n",
       "  </tbody>\n",
       "</table>\n",
       "<p>66 rows × 6 columns</p>\n",
       "</div>"
      ],
      "text/plain": [
       "    model   cv_neg_mse     cv_r2  cv_num_feat     cv_time experiment\n",
       "0      lr  -300.458287  0.906466            1    0.042635   Exp. min\n",
       "1   ridge  -300.458287  0.906466            1    0.034206   Exp. min\n",
       "2     hub  -305.439850  0.904916            1    0.268205   Exp. min\n",
       "3    tree  -301.532024  0.906141            1    0.096125   Exp. min\n",
       "4   tree2  -303.899279  0.905407            1    0.100010   Exp. min\n",
       "..    ...          ...       ...          ...         ...        ...\n",
       "61     gb -2910.587304  0.095371           16  104.997828  ND exp. 7\n",
       "62    gb2 -2943.257913  0.085273           16  531.241763  ND exp. 7\n",
       "63     nn -4524.759042 -0.406861           16  876.029156  ND exp. 7\n",
       "64    nn2 -3940.976217 -0.226464           16  598.775664  ND exp. 7\n",
       "65    xgb -2842.536350  0.116372           16   33.564232  ND exp. 7\n",
       "\n",
       "[66 rows x 6 columns]"
      ]
     },
     "execution_count": 34,
     "metadata": {},
     "output_type": "execute_result"
    }
   ],
   "source": [
    "dfcvresults"
   ]
  },
  {
   "cell_type": "code",
   "execution_count": 35,
   "id": "3181fafa-11e0-4b5f-b785-263509024d70",
   "metadata": {},
   "outputs": [
    {
     "data": {
      "text/html": [
       "<style  type=\"text/css\" >\n",
       "#T_53697_row0_col0,#T_53697_row0_col1,#T_53697_row0_col2,#T_53697_row0_col3,#T_53697_row0_col4,#T_53697_row0_col5,#T_53697_row1_col0,#T_53697_row1_col1,#T_53697_row1_col2,#T_53697_row1_col3,#T_53697_row1_col4,#T_53697_row1_col5,#T_53697_row2_col0,#T_53697_row2_col1,#T_53697_row2_col2,#T_53697_row2_col4,#T_53697_row2_col5,#T_53697_row3_col0,#T_53697_row3_col1,#T_53697_row3_col2,#T_53697_row3_col3,#T_53697_row3_col4,#T_53697_row3_col5,#T_53697_row4_col0,#T_53697_row4_col2,#T_53697_row4_col3,#T_53697_row4_col5,#T_53697_row5_col1,#T_53697_row5_col2,#T_53697_row5_col3,#T_53697_row5_col4,#T_53697_row5_col5,#T_53697_row6_col0,#T_53697_row6_col1,#T_53697_row6_col2,#T_53697_row6_col3,#T_53697_row6_col4,#T_53697_row6_col5,#T_53697_row7_col0,#T_53697_row7_col1,#T_53697_row7_col2,#T_53697_row7_col3,#T_53697_row7_col4,#T_53697_row8_col0,#T_53697_row8_col1,#T_53697_row8_col2,#T_53697_row8_col3,#T_53697_row8_col4,#T_53697_row8_col5,#T_53697_row9_col0,#T_53697_row9_col1,#T_53697_row9_col2,#T_53697_row9_col3,#T_53697_row9_col4,#T_53697_row9_col5,#T_53697_row10_col0,#T_53697_row10_col1,#T_53697_row10_col3,#T_53697_row10_col4,#T_53697_row10_col5{\n",
       "            background-color:  lightyellow;\n",
       "        }#T_53697_row0_col6,#T_53697_row0_col7,#T_53697_row0_col8,#T_53697_row0_col9,#T_53697_row0_col10,#T_53697_row0_col11,#T_53697_row1_col6,#T_53697_row1_col7,#T_53697_row1_col8,#T_53697_row1_col9,#T_53697_row1_col10,#T_53697_row1_col11,#T_53697_row2_col6,#T_53697_row2_col7,#T_53697_row2_col8,#T_53697_row2_col10,#T_53697_row2_col11,#T_53697_row3_col6,#T_53697_row3_col7,#T_53697_row3_col8,#T_53697_row3_col9,#T_53697_row3_col10,#T_53697_row3_col11,#T_53697_row4_col6,#T_53697_row4_col8,#T_53697_row4_col9,#T_53697_row4_col11,#T_53697_row5_col7,#T_53697_row5_col8,#T_53697_row5_col9,#T_53697_row5_col10,#T_53697_row5_col11,#T_53697_row6_col6,#T_53697_row6_col7,#T_53697_row6_col8,#T_53697_row6_col9,#T_53697_row6_col10,#T_53697_row6_col11,#T_53697_row7_col6,#T_53697_row7_col7,#T_53697_row7_col8,#T_53697_row7_col9,#T_53697_row7_col10,#T_53697_row8_col6,#T_53697_row8_col7,#T_53697_row8_col8,#T_53697_row8_col9,#T_53697_row8_col10,#T_53697_row8_col11,#T_53697_row9_col6,#T_53697_row9_col7,#T_53697_row9_col8,#T_53697_row9_col9,#T_53697_row9_col10,#T_53697_row9_col11,#T_53697_row10_col6,#T_53697_row10_col7,#T_53697_row10_col9,#T_53697_row10_col10,#T_53697_row10_col11{\n",
       "            background-color:  lightgreen;\n",
       "        }#T_53697_row0_col18,#T_53697_row0_col19,#T_53697_row0_col20,#T_53697_row0_col21,#T_53697_row0_col22,#T_53697_row0_col23,#T_53697_row1_col18,#T_53697_row1_col19,#T_53697_row1_col20,#T_53697_row1_col21,#T_53697_row1_col22,#T_53697_row1_col23,#T_53697_row2_col18,#T_53697_row2_col19,#T_53697_row2_col20,#T_53697_row2_col21,#T_53697_row2_col22,#T_53697_row2_col23,#T_53697_row3_col18,#T_53697_row3_col19,#T_53697_row3_col21,#T_53697_row3_col22,#T_53697_row3_col23,#T_53697_row4_col18,#T_53697_row4_col19,#T_53697_row4_col20,#T_53697_row4_col21,#T_53697_row4_col22,#T_53697_row4_col23,#T_53697_row5_col18,#T_53697_row5_col19,#T_53697_row5_col20,#T_53697_row5_col21,#T_53697_row5_col22,#T_53697_row5_col23,#T_53697_row6_col18,#T_53697_row6_col19,#T_53697_row6_col20,#T_53697_row6_col21,#T_53697_row6_col22,#T_53697_row6_col23,#T_53697_row7_col20,#T_53697_row8_col18,#T_53697_row8_col19,#T_53697_row8_col20,#T_53697_row8_col21,#T_53697_row8_col22,#T_53697_row8_col23,#T_53697_row9_col18,#T_53697_row9_col19,#T_53697_row9_col20,#T_53697_row9_col21,#T_53697_row9_col22,#T_53697_row9_col23,#T_53697_row10_col18,#T_53697_row10_col19,#T_53697_row10_col20,#T_53697_row10_col21,#T_53697_row10_col22,#T_53697_row10_col23{\n",
       "            background-color:  cyan;\n",
       "        }#T_53697_row2_col3,#T_53697_row4_col1,#T_53697_row4_col4,#T_53697_row5_col0,#T_53697_row7_col5,#T_53697_row10_col2{\n",
       "            background-color:  lightyellow;\n",
       "            background-color:  yellow;\n",
       "        }#T_53697_row2_col9,#T_53697_row4_col7,#T_53697_row4_col10,#T_53697_row5_col6,#T_53697_row7_col11,#T_53697_row10_col8{\n",
       "            background-color:  lightgreen;\n",
       "            background-color:  yellow;\n",
       "        }#T_53697_row3_col20,#T_53697_row7_col18,#T_53697_row7_col19,#T_53697_row7_col21,#T_53697_row7_col22,#T_53697_row7_col23{\n",
       "            background-color:  cyan;\n",
       "            background-color:  yellow;\n",
       "        }</style><table id=\"T_53697_\" ><thead>    <tr>        <th class=\"blank level0\" ></th>        <th class=\"col_heading level0 col0\" colspan=\"6\">mse</th>        <th class=\"col_heading level0 col6\" colspan=\"6\">r2</th>        <th class=\"col_heading level0 col12\" colspan=\"6\">num_feat</th>        <th class=\"col_heading level0 col18\" colspan=\"6\">time</th>    </tr>    <tr>        <th class=\"index_name level1\" >experiment</th>        <th class=\"col_heading level1 col0\" >Exp. min</th>        <th class=\"col_heading level1 col1\" >ND exp. 6</th>        <th class=\"col_heading level1 col2\" >ND exp. 7</th>        <th class=\"col_heading level1 col3\" >base</th>        <th class=\"col_heading level1 col4\" >exercici 5</th>        <th class=\"col_heading level1 col5\" >exp. 3</th>        <th class=\"col_heading level1 col6\" >Exp. min</th>        <th class=\"col_heading level1 col7\" >ND exp. 6</th>        <th class=\"col_heading level1 col8\" >ND exp. 7</th>        <th class=\"col_heading level1 col9\" >base</th>        <th class=\"col_heading level1 col10\" >exercici 5</th>        <th class=\"col_heading level1 col11\" >exp. 3</th>        <th class=\"col_heading level1 col12\" >Exp. min</th>        <th class=\"col_heading level1 col13\" >ND exp. 6</th>        <th class=\"col_heading level1 col14\" >ND exp. 7</th>        <th class=\"col_heading level1 col15\" >base</th>        <th class=\"col_heading level1 col16\" >exercici 5</th>        <th class=\"col_heading level1 col17\" >exp. 3</th>        <th class=\"col_heading level1 col18\" >Exp. min</th>        <th class=\"col_heading level1 col19\" >ND exp. 6</th>        <th class=\"col_heading level1 col20\" >ND exp. 7</th>        <th class=\"col_heading level1 col21\" >base</th>        <th class=\"col_heading level1 col22\" >exercici 5</th>        <th class=\"col_heading level1 col23\" >exp. 3</th>    </tr>    <tr>        <th class=\"index_name level0\" >model</th>        <th class=\"blank\" ></th>        <th class=\"blank\" ></th>        <th class=\"blank\" ></th>        <th class=\"blank\" ></th>        <th class=\"blank\" ></th>        <th class=\"blank\" ></th>        <th class=\"blank\" ></th>        <th class=\"blank\" ></th>        <th class=\"blank\" ></th>        <th class=\"blank\" ></th>        <th class=\"blank\" ></th>        <th class=\"blank\" ></th>        <th class=\"blank\" ></th>        <th class=\"blank\" ></th>        <th class=\"blank\" ></th>        <th class=\"blank\" ></th>        <th class=\"blank\" ></th>        <th class=\"blank\" ></th>        <th class=\"blank\" ></th>        <th class=\"blank\" ></th>        <th class=\"blank\" ></th>        <th class=\"blank\" ></th>        <th class=\"blank\" ></th>        <th class=\"blank\" ></th>    </tr></thead><tbody>\n",
       "                <tr>\n",
       "                        <th id=\"T_53697_level0_row0\" class=\"row_heading level0 row0\" >gb</th>\n",
       "                        <td id=\"T_53697_row0_col0\" class=\"data row0 col0\" >308.95194</td>\n",
       "                        <td id=\"T_53697_row0_col1\" class=\"data row0 col1\" >605.94365</td>\n",
       "                        <td id=\"T_53697_row0_col2\" class=\"data row0 col2\" >2931.81217</td>\n",
       "                        <td id=\"T_53697_row0_col3\" class=\"data row0 col3\" >77.69414</td>\n",
       "                        <td id=\"T_53697_row0_col4\" class=\"data row0 col4\" >40.75552</td>\n",
       "                        <td id=\"T_53697_row0_col5\" class=\"data row0 col5\" >300.33437</td>\n",
       "                        <td id=\"T_53697_row0_col6\" class=\"data row0 col6\" >0.90486</td>\n",
       "                        <td id=\"T_53697_row0_col7\" class=\"data row0 col7\" >0.81339</td>\n",
       "                        <td id=\"T_53697_row0_col8\" class=\"data row0 col8\" >0.09712</td>\n",
       "                        <td id=\"T_53697_row0_col9\" class=\"data row0 col9\" >0.97607</td>\n",
       "                        <td id=\"T_53697_row0_col10\" class=\"data row0 col10\" >0.98745</td>\n",
       "                        <td id=\"T_53697_row0_col11\" class=\"data row0 col11\" >0.90751</td>\n",
       "                        <td id=\"T_53697_row0_col12\" class=\"data row0 col12\" >1.00000</td>\n",
       "                        <td id=\"T_53697_row0_col13\" class=\"data row0 col13\" >18.00000</td>\n",
       "                        <td id=\"T_53697_row0_col14\" class=\"data row0 col14\" >16.00000</td>\n",
       "                        <td id=\"T_53697_row0_col15\" class=\"data row0 col15\" >18.00000</td>\n",
       "                        <td id=\"T_53697_row0_col16\" class=\"data row0 col16\" >19.00000</td>\n",
       "                        <td id=\"T_53697_row0_col17\" class=\"data row0 col17\" >5.00000</td>\n",
       "                        <td id=\"T_53697_row0_col18\" class=\"data row0 col18\" >1.00886</td>\n",
       "                        <td id=\"T_53697_row0_col19\" class=\"data row0 col19\" >30.58403</td>\n",
       "                        <td id=\"T_53697_row0_col20\" class=\"data row0 col20\" >20.46032</td>\n",
       "                        <td id=\"T_53697_row0_col21\" class=\"data row0 col21\" >13.32375</td>\n",
       "                        <td id=\"T_53697_row0_col22\" class=\"data row0 col22\" >30.95175</td>\n",
       "                        <td id=\"T_53697_row0_col23\" class=\"data row0 col23\" >3.34514</td>\n",
       "            </tr>\n",
       "            <tr>\n",
       "                        <th id=\"T_53697_level0_row1\" class=\"row_heading level0 row1\" >gb2</th>\n",
       "                        <td id=\"T_53697_row1_col0\" class=\"data row1 col0\" >309.08169</td>\n",
       "                        <td id=\"T_53697_row1_col1\" class=\"data row1 col1\" >1122.45820</td>\n",
       "                        <td id=\"T_53697_row1_col2\" class=\"data row1 col2\" >2971.79566</td>\n",
       "                        <td id=\"T_53697_row1_col3\" class=\"data row1 col3\" >134.60066</td>\n",
       "                        <td id=\"T_53697_row1_col4\" class=\"data row1 col4\" >118.19865</td>\n",
       "                        <td id=\"T_53697_row1_col5\" class=\"data row1 col5\" >304.12308</td>\n",
       "                        <td id=\"T_53697_row1_col6\" class=\"data row1 col6\" >0.90482</td>\n",
       "                        <td id=\"T_53697_row1_col7\" class=\"data row1 col7\" >0.65433</td>\n",
       "                        <td id=\"T_53697_row1_col8\" class=\"data row1 col8\" >0.08481</td>\n",
       "                        <td id=\"T_53697_row1_col9\" class=\"data row1 col9\" >0.95855</td>\n",
       "                        <td id=\"T_53697_row1_col10\" class=\"data row1 col10\" >0.96360</td>\n",
       "                        <td id=\"T_53697_row1_col11\" class=\"data row1 col11\" >0.90634</td>\n",
       "                        <td id=\"T_53697_row1_col12\" class=\"data row1 col12\" >1.00000</td>\n",
       "                        <td id=\"T_53697_row1_col13\" class=\"data row1 col13\" >18.00000</td>\n",
       "                        <td id=\"T_53697_row1_col14\" class=\"data row1 col14\" >16.00000</td>\n",
       "                        <td id=\"T_53697_row1_col15\" class=\"data row1 col15\" >18.00000</td>\n",
       "                        <td id=\"T_53697_row1_col16\" class=\"data row1 col16\" >19.00000</td>\n",
       "                        <td id=\"T_53697_row1_col17\" class=\"data row1 col17\" >5.00000</td>\n",
       "                        <td id=\"T_53697_row1_col18\" class=\"data row1 col18\" >5.08762</td>\n",
       "                        <td id=\"T_53697_row1_col19\" class=\"data row1 col19\" >162.07240</td>\n",
       "                        <td id=\"T_53697_row1_col20\" class=\"data row1 col20\" >108.68916</td>\n",
       "                        <td id=\"T_53697_row1_col21\" class=\"data row1 col21\" >66.98678</td>\n",
       "                        <td id=\"T_53697_row1_col22\" class=\"data row1 col22\" >153.80009</td>\n",
       "                        <td id=\"T_53697_row1_col23\" class=\"data row1 col23\" >17.24756</td>\n",
       "            </tr>\n",
       "            <tr>\n",
       "                        <th id=\"T_53697_level0_row2\" class=\"row_heading level0 row2\" >hub</th>\n",
       "                        <td id=\"T_53697_row2_col0\" class=\"data row2 col0\" >313.67305</td>\n",
       "                        <td id=\"T_53697_row2_col1\" class=\"data row2 col1\" >1891.45255</td>\n",
       "                        <td id=\"T_53697_row2_col2\" class=\"data row2 col2\" >3076.40194</td>\n",
       "                        <td id=\"T_53697_row2_col3\" class=\"data row2 col3\" >9.15496</td>\n",
       "                        <td id=\"T_53697_row2_col4\" class=\"data row2 col4\" >9.22454</td>\n",
       "                        <td id=\"T_53697_row2_col5\" class=\"data row2 col5\" >305.51735</td>\n",
       "                        <td id=\"T_53697_row2_col6\" class=\"data row2 col6\" >0.90340</td>\n",
       "                        <td id=\"T_53697_row2_col7\" class=\"data row2 col7\" >0.41751</td>\n",
       "                        <td id=\"T_53697_row2_col8\" class=\"data row2 col8\" >0.05259</td>\n",
       "                        <td id=\"T_53697_row2_col9\" class=\"data row2 col9\" >0.99718</td>\n",
       "                        <td id=\"T_53697_row2_col10\" class=\"data row2 col10\" >0.99716</td>\n",
       "                        <td id=\"T_53697_row2_col11\" class=\"data row2 col11\" >0.90591</td>\n",
       "                        <td id=\"T_53697_row2_col12\" class=\"data row2 col12\" >1.00000</td>\n",
       "                        <td id=\"T_53697_row2_col13\" class=\"data row2 col13\" >18.00000</td>\n",
       "                        <td id=\"T_53697_row2_col14\" class=\"data row2 col14\" >16.00000</td>\n",
       "                        <td id=\"T_53697_row2_col15\" class=\"data row2 col15\" >18.00000</td>\n",
       "                        <td id=\"T_53697_row2_col16\" class=\"data row2 col16\" >19.00000</td>\n",
       "                        <td id=\"T_53697_row2_col17\" class=\"data row2 col17\" >5.00000</td>\n",
       "                        <td id=\"T_53697_row2_col18\" class=\"data row2 col18\" >0.05357</td>\n",
       "                        <td id=\"T_53697_row2_col19\" class=\"data row2 col19\" >2.00432</td>\n",
       "                        <td id=\"T_53697_row2_col20\" class=\"data row2 col20\" >1.43797</td>\n",
       "                        <td id=\"T_53697_row2_col21\" class=\"data row2 col21\" >1.00156</td>\n",
       "                        <td id=\"T_53697_row2_col22\" class=\"data row2 col22\" >2.05669</td>\n",
       "                        <td id=\"T_53697_row2_col23\" class=\"data row2 col23\" >0.64767</td>\n",
       "            </tr>\n",
       "            <tr>\n",
       "                        <th id=\"T_53697_level0_row3\" class=\"row_heading level0 row3\" >lr</th>\n",
       "                        <td id=\"T_53697_row3_col0\" class=\"data row3 col0\" >307.81740</td>\n",
       "                        <td id=\"T_53697_row3_col1\" class=\"data row3 col1\" >1788.64109</td>\n",
       "                        <td id=\"T_53697_row3_col2\" class=\"data row3 col2\" >2957.74576</td>\n",
       "                        <td id=\"T_53697_row3_col3\" class=\"data row3 col3\" >9.45986</td>\n",
       "                        <td id=\"T_53697_row3_col4\" class=\"data row3 col4\" >8.94284</td>\n",
       "                        <td id=\"T_53697_row3_col5\" class=\"data row3 col5\" >298.73536</td>\n",
       "                        <td id=\"T_53697_row3_col6\" class=\"data row3 col6\" >0.90520</td>\n",
       "                        <td id=\"T_53697_row3_col7\" class=\"data row3 col7\" >0.44917</td>\n",
       "                        <td id=\"T_53697_row3_col8\" class=\"data row3 col8\" >0.08913</td>\n",
       "                        <td id=\"T_53697_row3_col9\" class=\"data row3 col9\" >0.99709</td>\n",
       "                        <td id=\"T_53697_row3_col10\" class=\"data row3 col10\" >0.99725</td>\n",
       "                        <td id=\"T_53697_row3_col11\" class=\"data row3 col11\" >0.90800</td>\n",
       "                        <td id=\"T_53697_row3_col12\" class=\"data row3 col12\" >1.00000</td>\n",
       "                        <td id=\"T_53697_row3_col13\" class=\"data row3 col13\" >18.00000</td>\n",
       "                        <td id=\"T_53697_row3_col14\" class=\"data row3 col14\" >16.00000</td>\n",
       "                        <td id=\"T_53697_row3_col15\" class=\"data row3 col15\" >18.00000</td>\n",
       "                        <td id=\"T_53697_row3_col16\" class=\"data row3 col16\" >19.00000</td>\n",
       "                        <td id=\"T_53697_row3_col17\" class=\"data row3 col17\" >5.00000</td>\n",
       "                        <td id=\"T_53697_row3_col18\" class=\"data row3 col18\" >0.01028</td>\n",
       "                        <td id=\"T_53697_row3_col19\" class=\"data row3 col19\" >0.51684</td>\n",
       "                        <td id=\"T_53697_row3_col20\" class=\"data row3 col20\" >0.69087</td>\n",
       "                        <td id=\"T_53697_row3_col21\" class=\"data row3 col21\" >0.42859</td>\n",
       "                        <td id=\"T_53697_row3_col22\" class=\"data row3 col22\" >0.52783</td>\n",
       "                        <td id=\"T_53697_row3_col23\" class=\"data row3 col23\" >0.10217</td>\n",
       "            </tr>\n",
       "            <tr>\n",
       "                        <th id=\"T_53697_level0_row4\" class=\"row_heading level0 row4\" >nn</th>\n",
       "                        <td id=\"T_53697_row4_col0\" class=\"data row4 col0\" >307.61722</td>\n",
       "                        <td id=\"T_53697_row4_col1\" class=\"data row4 col1\" >244.73395</td>\n",
       "                        <td id=\"T_53697_row4_col2\" class=\"data row4 col2\" >4158.78718</td>\n",
       "                        <td id=\"T_53697_row4_col3\" class=\"data row4 col3\" >15.48172</td>\n",
       "                        <td id=\"T_53697_row4_col4\" class=\"data row4 col4\" >8.76766</td>\n",
       "                        <td id=\"T_53697_row4_col5\" class=\"data row4 col5\" >366.18447</td>\n",
       "                        <td id=\"T_53697_row4_col6\" class=\"data row4 col6\" >0.90527</td>\n",
       "                        <td id=\"T_53697_row4_col7\" class=\"data row4 col7\" >0.92463</td>\n",
       "                        <td id=\"T_53697_row4_col8\" class=\"data row4 col8\" >-0.28074</td>\n",
       "                        <td id=\"T_53697_row4_col9\" class=\"data row4 col9\" >0.99523</td>\n",
       "                        <td id=\"T_53697_row4_col10\" class=\"data row4 col10\" >0.99730</td>\n",
       "                        <td id=\"T_53697_row4_col11\" class=\"data row4 col11\" >0.88723</td>\n",
       "                        <td id=\"T_53697_row4_col12\" class=\"data row4 col12\" >1.00000</td>\n",
       "                        <td id=\"T_53697_row4_col13\" class=\"data row4 col13\" >18.00000</td>\n",
       "                        <td id=\"T_53697_row4_col14\" class=\"data row4 col14\" >16.00000</td>\n",
       "                        <td id=\"T_53697_row4_col15\" class=\"data row4 col15\" >18.00000</td>\n",
       "                        <td id=\"T_53697_row4_col16\" class=\"data row4 col16\" >19.00000</td>\n",
       "                        <td id=\"T_53697_row4_col17\" class=\"data row4 col17\" >5.00000</td>\n",
       "                        <td id=\"T_53697_row4_col18\" class=\"data row4 col18\" >11.24414</td>\n",
       "                        <td id=\"T_53697_row4_col19\" class=\"data row4 col19\" >128.36915</td>\n",
       "                        <td id=\"T_53697_row4_col20\" class=\"data row4 col20\" >235.37953</td>\n",
       "                        <td id=\"T_53697_row4_col21\" class=\"data row4 col21\" >200.19396</td>\n",
       "                        <td id=\"T_53697_row4_col22\" class=\"data row4 col22\" >17.78920</td>\n",
       "                        <td id=\"T_53697_row4_col23\" class=\"data row4 col23\" >99.00458</td>\n",
       "            </tr>\n",
       "            <tr>\n",
       "                        <th id=\"T_53697_level0_row5\" class=\"row_heading level0 row5\" >nn2</th>\n",
       "                        <td id=\"T_53697_row5_col0\" class=\"data row5 col0\" >307.41945</td>\n",
       "                        <td id=\"T_53697_row5_col1\" class=\"data row5 col1\" >250.58739</td>\n",
       "                        <td id=\"T_53697_row5_col2\" class=\"data row5 col2\" >3648.65245</td>\n",
       "                        <td id=\"T_53697_row5_col3\" class=\"data row5 col3\" >19.78993</td>\n",
       "                        <td id=\"T_53697_row5_col4\" class=\"data row5 col4\" >8.94363</td>\n",
       "                        <td id=\"T_53697_row5_col5\" class=\"data row5 col5\" >323.17471</td>\n",
       "                        <td id=\"T_53697_row5_col6\" class=\"data row5 col6\" >0.90533</td>\n",
       "                        <td id=\"T_53697_row5_col7\" class=\"data row5 col7\" >0.92283</td>\n",
       "                        <td id=\"T_53697_row5_col8\" class=\"data row5 col8\" >-0.12364</td>\n",
       "                        <td id=\"T_53697_row5_col9\" class=\"data row5 col9\" >0.99391</td>\n",
       "                        <td id=\"T_53697_row5_col10\" class=\"data row5 col10\" >0.99725</td>\n",
       "                        <td id=\"T_53697_row5_col11\" class=\"data row5 col11\" >0.90048</td>\n",
       "                        <td id=\"T_53697_row5_col12\" class=\"data row5 col12\" >1.00000</td>\n",
       "                        <td id=\"T_53697_row5_col13\" class=\"data row5 col13\" >18.00000</td>\n",
       "                        <td id=\"T_53697_row5_col14\" class=\"data row5 col14\" >16.00000</td>\n",
       "                        <td id=\"T_53697_row5_col15\" class=\"data row5 col15\" >18.00000</td>\n",
       "                        <td id=\"T_53697_row5_col16\" class=\"data row5 col16\" >19.00000</td>\n",
       "                        <td id=\"T_53697_row5_col17\" class=\"data row5 col17\" >5.00000</td>\n",
       "                        <td id=\"T_53697_row5_col18\" class=\"data row5 col18\" >3.05280</td>\n",
       "                        <td id=\"T_53697_row5_col19\" class=\"data row5 col19\" >60.00981</td>\n",
       "                        <td id=\"T_53697_row5_col20\" class=\"data row5 col20\" >82.77966</td>\n",
       "                        <td id=\"T_53697_row5_col21\" class=\"data row5 col21\" >199.20467</td>\n",
       "                        <td id=\"T_53697_row5_col22\" class=\"data row5 col22\" >61.91574</td>\n",
       "                        <td id=\"T_53697_row5_col23\" class=\"data row5 col23\" >60.95915</td>\n",
       "            </tr>\n",
       "            <tr>\n",
       "                        <th id=\"T_53697_level0_row6\" class=\"row_heading level0 row6\" >rf</th>\n",
       "                        <td id=\"T_53697_row6_col0\" class=\"data row6 col0\" >308.62856</td>\n",
       "                        <td id=\"T_53697_row6_col1\" class=\"data row6 col1\" >1674.02712</td>\n",
       "                        <td id=\"T_53697_row6_col2\" class=\"data row6 col2\" >2965.58696</td>\n",
       "                        <td id=\"T_53697_row6_col3\" class=\"data row6 col3\" >148.40314</td>\n",
       "                        <td id=\"T_53697_row6_col4\" class=\"data row6 col4\" >127.34001</td>\n",
       "                        <td id=\"T_53697_row6_col5\" class=\"data row6 col5\" >305.67032</td>\n",
       "                        <td id=\"T_53697_row6_col6\" class=\"data row6 col6\" >0.90495</td>\n",
       "                        <td id=\"T_53697_row6_col7\" class=\"data row6 col7\" >0.48447</td>\n",
       "                        <td id=\"T_53697_row6_col8\" class=\"data row6 col8\" >0.08672</td>\n",
       "                        <td id=\"T_53697_row6_col9\" class=\"data row6 col9\" >0.95430</td>\n",
       "                        <td id=\"T_53697_row6_col10\" class=\"data row6 col10\" >0.96078</td>\n",
       "                        <td id=\"T_53697_row6_col11\" class=\"data row6 col11\" >0.90587</td>\n",
       "                        <td id=\"T_53697_row6_col12\" class=\"data row6 col12\" >1.00000</td>\n",
       "                        <td id=\"T_53697_row6_col13\" class=\"data row6 col13\" >18.00000</td>\n",
       "                        <td id=\"T_53697_row6_col14\" class=\"data row6 col14\" >16.00000</td>\n",
       "                        <td id=\"T_53697_row6_col15\" class=\"data row6 col15\" >18.00000</td>\n",
       "                        <td id=\"T_53697_row6_col16\" class=\"data row6 col16\" >19.00000</td>\n",
       "                        <td id=\"T_53697_row6_col17\" class=\"data row6 col17\" >5.00000</td>\n",
       "                        <td id=\"T_53697_row6_col18\" class=\"data row6 col18\" >0.26696</td>\n",
       "                        <td id=\"T_53697_row6_col19\" class=\"data row6 col19\" >8.99054</td>\n",
       "                        <td id=\"T_53697_row6_col20\" class=\"data row6 col20\" >8.37748</td>\n",
       "                        <td id=\"T_53697_row6_col21\" class=\"data row6 col21\" >5.49297</td>\n",
       "                        <td id=\"T_53697_row6_col22\" class=\"data row6 col22\" >8.94487</td>\n",
       "                        <td id=\"T_53697_row6_col23\" class=\"data row6 col23\" >1.65268</td>\n",
       "            </tr>\n",
       "            <tr>\n",
       "                        <th id=\"T_53697_level0_row7\" class=\"row_heading level0 row7\" >ridge</th>\n",
       "                        <td id=\"T_53697_row7_col0\" class=\"data row7 col0\" >307.81774</td>\n",
       "                        <td id=\"T_53697_row7_col1\" class=\"data row7 col1\" >1787.77343</td>\n",
       "                        <td id=\"T_53697_row7_col2\" class=\"data row7 col2\" >2945.41400</td>\n",
       "                        <td id=\"T_53697_row7_col3\" class=\"data row7 col3\" >9.18924</td>\n",
       "                        <td id=\"T_53697_row7_col4\" class=\"data row7 col4\" >8.94421</td>\n",
       "                        <td id=\"T_53697_row7_col5\" class=\"data row7 col5\" >298.58634</td>\n",
       "                        <td id=\"T_53697_row7_col6\" class=\"data row7 col6\" >0.90520</td>\n",
       "                        <td id=\"T_53697_row7_col7\" class=\"data row7 col7\" >0.44944</td>\n",
       "                        <td id=\"T_53697_row7_col8\" class=\"data row7 col8\" >0.09293</td>\n",
       "                        <td id=\"T_53697_row7_col9\" class=\"data row7 col9\" >0.99717</td>\n",
       "                        <td id=\"T_53697_row7_col10\" class=\"data row7 col10\" >0.99725</td>\n",
       "                        <td id=\"T_53697_row7_col11\" class=\"data row7 col11\" >0.90805</td>\n",
       "                        <td id=\"T_53697_row7_col12\" class=\"data row7 col12\" >1.00000</td>\n",
       "                        <td id=\"T_53697_row7_col13\" class=\"data row7 col13\" >18.00000</td>\n",
       "                        <td id=\"T_53697_row7_col14\" class=\"data row7 col14\" >16.00000</td>\n",
       "                        <td id=\"T_53697_row7_col15\" class=\"data row7 col15\" >18.00000</td>\n",
       "                        <td id=\"T_53697_row7_col16\" class=\"data row7 col16\" >19.00000</td>\n",
       "                        <td id=\"T_53697_row7_col17\" class=\"data row7 col17\" >5.00000</td>\n",
       "                        <td id=\"T_53697_row7_col18\" class=\"data row7 col18\" >0.00771</td>\n",
       "                        <td id=\"T_53697_row7_col19\" class=\"data row7 col19\" >0.42880</td>\n",
       "                        <td id=\"T_53697_row7_col20\" class=\"data row7 col20\" >0.70998</td>\n",
       "                        <td id=\"T_53697_row7_col21\" class=\"data row7 col21\" >0.22741</td>\n",
       "                        <td id=\"T_53697_row7_col22\" class=\"data row7 col22\" >0.42999</td>\n",
       "                        <td id=\"T_53697_row7_col23\" class=\"data row7 col23\" >0.08283</td>\n",
       "            </tr>\n",
       "            <tr>\n",
       "                        <th id=\"T_53697_level0_row8\" class=\"row_heading level0 row8\" >tree</th>\n",
       "                        <td id=\"T_53697_row8_col0\" class=\"data row8 col0\" >309.77058</td>\n",
       "                        <td id=\"T_53697_row8_col1\" class=\"data row8 col1\" >1928.94979</td>\n",
       "                        <td id=\"T_53697_row8_col2\" class=\"data row8 col2\" >3014.18825</td>\n",
       "                        <td id=\"T_53697_row8_col3\" class=\"data row8 col3\" >169.83027</td>\n",
       "                        <td id=\"T_53697_row8_col4\" class=\"data row8 col4\" >170.28759</td>\n",
       "                        <td id=\"T_53697_row8_col5\" class=\"data row8 col5\" >313.94944</td>\n",
       "                        <td id=\"T_53697_row8_col6\" class=\"data row8 col6\" >0.90460</td>\n",
       "                        <td id=\"T_53697_row8_col7\" class=\"data row8 col7\" >0.40596</td>\n",
       "                        <td id=\"T_53697_row8_col8\" class=\"data row8 col8\" >0.07175</td>\n",
       "                        <td id=\"T_53697_row8_col9\" class=\"data row8 col9\" >0.94770</td>\n",
       "                        <td id=\"T_53697_row8_col10\" class=\"data row8 col10\" >0.94756</td>\n",
       "                        <td id=\"T_53697_row8_col11\" class=\"data row8 col11\" >0.90332</td>\n",
       "                        <td id=\"T_53697_row8_col12\" class=\"data row8 col12\" >1.00000</td>\n",
       "                        <td id=\"T_53697_row8_col13\" class=\"data row8 col13\" >18.00000</td>\n",
       "                        <td id=\"T_53697_row8_col14\" class=\"data row8 col14\" >16.00000</td>\n",
       "                        <td id=\"T_53697_row8_col15\" class=\"data row8 col15\" >18.00000</td>\n",
       "                        <td id=\"T_53697_row8_col16\" class=\"data row8 col16\" >19.00000</td>\n",
       "                        <td id=\"T_53697_row8_col17\" class=\"data row8 col17\" >5.00000</td>\n",
       "                        <td id=\"T_53697_row8_col18\" class=\"data row8 col18\" >0.02190</td>\n",
       "                        <td id=\"T_53697_row8_col19\" class=\"data row8 col19\" >1.03621</td>\n",
       "                        <td id=\"T_53697_row8_col20\" class=\"data row8 col20\" >0.90051</td>\n",
       "                        <td id=\"T_53697_row8_col21\" class=\"data row8 col21\" >0.56984</td>\n",
       "                        <td id=\"T_53697_row8_col22\" class=\"data row8 col22\" >1.06043</td>\n",
       "                        <td id=\"T_53697_row8_col23\" class=\"data row8 col23\" >0.17496</td>\n",
       "            </tr>\n",
       "            <tr>\n",
       "                        <th id=\"T_53697_level0_row9\" class=\"row_heading level0 row9\" >tree2</th>\n",
       "                        <td id=\"T_53697_row9_col0\" class=\"data row9 col0\" >310.65780</td>\n",
       "                        <td id=\"T_53697_row9_col1\" class=\"data row9 col1\" >1541.39738</td>\n",
       "                        <td id=\"T_53697_row9_col2\" class=\"data row9 col2\" >3166.32469</td>\n",
       "                        <td id=\"T_53697_row9_col3\" class=\"data row9 col3\" >149.82437</td>\n",
       "                        <td id=\"T_53697_row9_col4\" class=\"data row9 col4\" >95.91998</td>\n",
       "                        <td id=\"T_53697_row9_col5\" class=\"data row9 col5\" >325.35310</td>\n",
       "                        <td id=\"T_53697_row9_col6\" class=\"data row9 col6\" >0.90433</td>\n",
       "                        <td id=\"T_53697_row9_col7\" class=\"data row9 col7\" >0.52531</td>\n",
       "                        <td id=\"T_53697_row9_col8\" class=\"data row9 col8\" >0.02490</td>\n",
       "                        <td id=\"T_53697_row9_col9\" class=\"data row9 col9\" >0.95386</td>\n",
       "                        <td id=\"T_53697_row9_col10\" class=\"data row9 col10\" >0.97046</td>\n",
       "                        <td id=\"T_53697_row9_col11\" class=\"data row9 col11\" >0.89980</td>\n",
       "                        <td id=\"T_53697_row9_col12\" class=\"data row9 col12\" >1.00000</td>\n",
       "                        <td id=\"T_53697_row9_col13\" class=\"data row9 col13\" >18.00000</td>\n",
       "                        <td id=\"T_53697_row9_col14\" class=\"data row9 col14\" >16.00000</td>\n",
       "                        <td id=\"T_53697_row9_col15\" class=\"data row9 col15\" >18.00000</td>\n",
       "                        <td id=\"T_53697_row9_col16\" class=\"data row9 col16\" >19.00000</td>\n",
       "                        <td id=\"T_53697_row9_col17\" class=\"data row9 col17\" >5.00000</td>\n",
       "                        <td id=\"T_53697_row9_col18\" class=\"data row9 col18\" >0.02296</td>\n",
       "                        <td id=\"T_53697_row9_col19\" class=\"data row9 col19\" >1.27892</td>\n",
       "                        <td id=\"T_53697_row9_col20\" class=\"data row9 col20\" >1.34143</td>\n",
       "                        <td id=\"T_53697_row9_col21\" class=\"data row9 col21\" >0.92670</td>\n",
       "                        <td id=\"T_53697_row9_col22\" class=\"data row9 col22\" >1.31781</td>\n",
       "                        <td id=\"T_53697_row9_col23\" class=\"data row9 col23\" >0.27471</td>\n",
       "            </tr>\n",
       "            <tr>\n",
       "                        <th id=\"T_53697_level0_row10\" class=\"row_heading level0 row10\" >xgb</th>\n",
       "                        <td id=\"T_53697_row10_col0\" class=\"data row10 col0\" >309.79072</td>\n",
       "                        <td id=\"T_53697_row10_col1\" class=\"data row10 col1\" >327.01005</td>\n",
       "                        <td id=\"T_53697_row10_col2\" class=\"data row10 col2\" >2863.13859</td>\n",
       "                        <td id=\"T_53697_row10_col3\" class=\"data row10 col3\" >19.11803</td>\n",
       "                        <td id=\"T_53697_row10_col4\" class=\"data row10 col4\" >19.98640</td>\n",
       "                        <td id=\"T_53697_row10_col5\" class=\"data row10 col5\" >301.08739</td>\n",
       "                        <td id=\"T_53697_row10_col6\" class=\"data row10 col6\" >0.90460</td>\n",
       "                        <td id=\"T_53697_row10_col7\" class=\"data row10 col7\" >0.89929</td>\n",
       "                        <td id=\"T_53697_row10_col8\" class=\"data row10 col8\" >0.11827</td>\n",
       "                        <td id=\"T_53697_row10_col9\" class=\"data row10 col9\" >0.99411</td>\n",
       "                        <td id=\"T_53697_row10_col10\" class=\"data row10 col10\" >0.99384</td>\n",
       "                        <td id=\"T_53697_row10_col11\" class=\"data row10 col11\" >0.90728</td>\n",
       "                        <td id=\"T_53697_row10_col12\" class=\"data row10 col12\" >1.00000</td>\n",
       "                        <td id=\"T_53697_row10_col13\" class=\"data row10 col13\" >18.00000</td>\n",
       "                        <td id=\"T_53697_row10_col14\" class=\"data row10 col14\" >16.00000</td>\n",
       "                        <td id=\"T_53697_row10_col15\" class=\"data row10 col15\" >18.00000</td>\n",
       "                        <td id=\"T_53697_row10_col16\" class=\"data row10 col16\" >19.00000</td>\n",
       "                        <td id=\"T_53697_row10_col17\" class=\"data row10 col17\" >5.00000</td>\n",
       "                        <td id=\"T_53697_row10_col18\" class=\"data row10 col18\" >0.90832</td>\n",
       "                        <td id=\"T_53697_row10_col19\" class=\"data row10 col19\" >5.33282</td>\n",
       "                        <td id=\"T_53697_row10_col20\" class=\"data row10 col20\" >4.80867</td>\n",
       "                        <td id=\"T_53697_row10_col21\" class=\"data row10 col21\" >7.23325</td>\n",
       "                        <td id=\"T_53697_row10_col22\" class=\"data row10 col22\" >5.46865</td>\n",
       "                        <td id=\"T_53697_row10_col23\" class=\"data row10 col23\" >1.99251</td>\n",
       "            </tr>\n",
       "    </tbody></table>"
      ],
      "text/plain": [
       "<pandas.io.formats.style.Styler at 0x15e6afa90>"
      ]
     },
     "execution_count": 35,
     "metadata": {},
     "output_type": "execute_result"
    }
   ],
   "source": [
    "dfresults.pivot(index=['model'],values=['mse','r2','num_feat','time'],columns=['experiment'])\\\n",
    "            .style.format(\"{:.5f}\")\\\n",
    "            .set_properties(**{'background-color':'lightyellow'}, subset=['mse'])\\\n",
    "            .set_properties(**{'background-color':'lightgreen'}, subset=['r2'])\\\n",
    "            .set_properties(**{'background-color':'cyan'}, subset=['time'])\\\n",
    "            .highlight_min(axis=0, subset=['mse','time'])\\\n",
    "            .highlight_max(axis=0, subset=['r2'])\n"
   ]
  },
  {
   "cell_type": "markdown",
   "id": "continuous-recognition",
   "metadata": {},
   "source": [
    "## Nivell 2\n",
    "### Exercici 5\n",
    "Realitza algun procés d’enginyeria de variables per millorar-ne la predicció"
   ]
  },
  {
   "cell_type": "markdown",
   "id": "c36b5da2-a441-499d-8cd2-86730600bc88",
   "metadata": {},
   "source": [
    "<div class=\"alert-info\">\n",
    "    <strong>Info: </strong>Resultat Experiment 5 </div>\n"
   ]
  },
  {
   "cell_type": "markdown",
   "id": "expressed-sellers",
   "metadata": {},
   "source": [
    "## Nivell 3\n",
    "### Exercici 6\n",
    "No utilitzis la variable DepDelay a l’hora de fer prediccions"
   ]
  },
  {
   "cell_type": "markdown",
   "id": "4fbb434a-292e-478a-94ca-158d645b374a",
   "metadata": {},
   "source": [
    "<div class=\"alert-info\">\n",
    "    <strong>Info: </strong>Resultat Experiments 6 i 7</div>\n",
    "\n"
   ]
  }
 ],
 "metadata": {
  "kernelspec": {
   "display_name": "Python 3",
   "language": "python",
   "name": "python3"
  },
  "language_info": {
   "codemirror_mode": {
    "name": "ipython",
    "version": 3
   },
   "file_extension": ".py",
   "mimetype": "text/x-python",
   "name": "python",
   "nbconvert_exporter": "python",
   "pygments_lexer": "ipython3",
   "version": "3.8.10"
  }
 },
 "nbformat": 4,
 "nbformat_minor": 5
}
