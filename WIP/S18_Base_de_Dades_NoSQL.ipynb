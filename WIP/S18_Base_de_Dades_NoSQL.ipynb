{
 "cells": [
  {
   "cell_type": "markdown",
   "id": "international-musical",
   "metadata": {},
   "source": [
    "# Tasca base de dades NoSQL\n",
    "**Descripció**\n",
    "Comencem a familiaritzar-nos amb bases de dades NoSQL !!! Comencem amb uns quants exercicis bàsics\n",
    "\n",
    "### Recursos\n",
    "Recursos de l'aula i [https://docs.spring.io/spring-data/mongodb/docs/current/reference/html/#reference](https://docs.spring.io/spring-data/mongodb/docs/current/reference/html/#reference) ."
   ]
  },
  {
   "cell_type": "markdown",
   "id": "induced-knitting",
   "metadata": {},
   "source": [
    "## Nivell 1\n",
    "### Exercici 1\n",
    "Crea una base de dades NoSQL utilitzant MongoDB. Afegeix-li algunes dades d'exemple que et permetin comprovar que ets capaç de processar-ne la informació de manera bàsica."
   ]
  },
  {
   "cell_type": "code",
   "execution_count": 56,
   "id": "central-rider",
   "metadata": {},
   "outputs": [],
   "source": [
    "import pymongo\n",
    "from configparser import ConfigParser\n",
    "\n",
    "import json\n",
    "\n",
    "import pandas as pd\n",
    "import matplotlib.pyplot as plt\n",
    "import seaborn as sns"
   ]
  },
  {
   "cell_type": "markdown",
   "id": "36d038ab-f025-4a43-86de-7a5470033d42",
   "metadata": {},
   "source": [
    "Tenim un fitxer de configuració on hi ha les dades de connexió\n",
    "\n",
    "```shell\n",
    "[atlas]\n",
    "host = <host>\n",
    "db = <db>\n",
    "user = <usuari>\n",
    "passwd = <password>\n",
    "```\n",
    "\n",
    "i el _llegim_"
   ]
  },
  {
   "cell_type": "code",
   "execution_count": 2,
   "id": "b191cb60-c6b1-45d4-97be-f49c236f1da4",
   "metadata": {},
   "outputs": [],
   "source": [
    "cfg = ConfigParser()\n",
    "cfg.read('../config/mongodb-atlas.cfg')\n",
    "\n",
    "host = cfg.get('atlas','host')\n",
    "db = cfg.get('atlas','db')\n",
    "user = cfg.get('atlas','user')\n",
    "passwd = cfg.get('atlas','passwd')"
   ]
  },
  {
   "cell_type": "markdown",
   "id": "mighty-subdivision",
   "metadata": {},
   "source": [
    "### Exercici 2\n",
    "Connecta la base de dades NoSQL a Python utilitzant per exemple pymongo."
   ]
  },
  {
   "cell_type": "code",
   "execution_count": 3,
   "id": "loving-marshall",
   "metadata": {},
   "outputs": [],
   "source": [
    "# connexió a Atlas (cloud) de Mongodb\n",
    "\n",
    "client = pymongo.MongoClient(f\"mongodb+srv://{user}:{passwd}@{host}/{db}?retryWrites=true&w=majority\")\n",
    "db = client.test\n"
   ]
  },
  {
   "cell_type": "code",
   "execution_count": 5,
   "id": "9426b48c-b473-4c49-9bbe-71d08143a4db",
   "metadata": {},
   "outputs": [
    {
     "data": {
      "text/plain": [
       "['sample_airbnb',\n",
       " 'sample_analytics',\n",
       " 'sample_geospatial',\n",
       " 'sample_mflix',\n",
       " 'sample_restaurants',\n",
       " 'sample_supplies',\n",
       " 'sample_training',\n",
       " 'sample_weatherdata',\n",
       " 'admin',\n",
       " 'local']"
      ]
     },
     "execution_count": 5,
     "metadata": {},
     "output_type": "execute_result"
    }
   ],
   "source": [
    "client.list_database_names()"
   ]
  },
  {
   "cell_type": "code",
   "execution_count": 9,
   "id": "eb72e063-66e4-4e0f-a208-4e9271db4612",
   "metadata": {},
   "outputs": [
    {
     "data": {
      "text/plain": [
       "25359"
      ]
     },
     "execution_count": 9,
     "metadata": {},
     "output_type": "execute_result"
    }
   ],
   "source": [
    "search = s_abnb.get_collection('restaurants').find({'borough':'Manhattan','cuisine':'Delicatessen', })\n",
    "\n",
    "search.collection.estimated_document_count()"
   ]
  },
  {
   "cell_type": "code",
   "execution_count": 10,
   "id": "e969277c-bcef-48ed-be9c-f57165688523",
   "metadata": {},
   "outputs": [
    {
     "data": {
      "text/plain": [
       "25359"
      ]
     },
     "execution_count": 10,
     "metadata": {},
     "output_type": "execute_result"
    }
   ],
   "source": [
    "search.collection.count_documents(filter={})"
   ]
  },
  {
   "cell_type": "markdown",
   "id": "d523d613-e692-4143-a2e3-6d64381b1fad",
   "metadata": {},
   "source": [
    "### Creem una Base de Dades a partir de les dades recollides d'idealista"
   ]
  },
  {
   "cell_type": "code",
   "execution_count": 11,
   "id": "abb52376-d5ea-4402-869b-4417fe3ee4df",
   "metadata": {},
   "outputs": [],
   "source": [
    "ideadb = client.idealista"
   ]
  },
  {
   "cell_type": "code",
   "execution_count": 19,
   "id": "3f7aae51-8299-4da7-9944-66b56c9db0fe",
   "metadata": {},
   "outputs": [],
   "source": [
    "with open('../scrapy/venta_viviendas.json') as file:\n",
    "    file_data = json.load(file)\n",
    "      \n",
    "\n",
    "if isinstance(file_data, list):\n",
    "    ideadb['vivendes-bcn'].insert_many(file_data)\n",
    "else:\n",
    "    print('???')"
   ]
  },
  {
   "cell_type": "code",
   "execution_count": 20,
   "id": "7839bdfb-2e48-410d-95f8-809e03e285c0",
   "metadata": {},
   "outputs": [
    {
     "data": {
      "text/plain": [
       "['idealista',\n",
       " 'sample_airbnb',\n",
       " 'sample_analytics',\n",
       " 'sample_geospatial',\n",
       " 'sample_mflix',\n",
       " 'sample_restaurants',\n",
       " 'sample_supplies',\n",
       " 'sample_training',\n",
       " 'sample_weatherdata',\n",
       " 'test',\n",
       " 'admin',\n",
       " 'local']"
      ]
     },
     "execution_count": 20,
     "metadata": {},
     "output_type": "execute_result"
    }
   ],
   "source": [
    "client.list_database_names()"
   ]
  },
  {
   "cell_type": "markdown",
   "id": "nonprofit-academy",
   "metadata": {},
   "source": [
    "## Nivell 2\n",
    "### Exercici 1\n",
    "Carega algunes consultes senzilles a un Pandas Dataframe. "
   ]
  },
  {
   "cell_type": "code",
   "execution_count": 6,
   "id": "d8ca9604-1229-4444-99b6-4271959a701a",
   "metadata": {},
   "outputs": [],
   "source": [
    "s_abnb = client.get_database(name='sample_restaurants')"
   ]
  },
  {
   "cell_type": "code",
   "execution_count": 7,
   "id": "17579ddb-0378-4600-8367-672096f9106d",
   "metadata": {},
   "outputs": [
    {
     "data": {
      "text/plain": [
       "['neighborhoods', 'restaurants']"
      ]
     },
     "execution_count": 7,
     "metadata": {},
     "output_type": "execute_result"
    }
   ],
   "source": [
    "s_abnb.list_collection_names()"
   ]
  },
  {
   "cell_type": "code",
   "execution_count": 53,
   "id": "fd007dac-56cd-4fbe-8a45-1179788fd84a",
   "metadata": {
    "tags": []
   },
   "outputs": [
    {
     "name": "stdout",
     "output_type": "stream",
     "text": [
      "{'_id': ObjectId('60f5b395536bc2cd558f97a3'), 'link': 'https://www.idealista.com/inmueble/94224032/', 'telf': '+34 932755285', 'precio': 2195000, 'nombre': 'Piso en Vila de Gràcia, Barcelona', 'habitaciones': 6, 'superficie': 427, 'otros': 'Planta 4ª exterior con ascensor', 'desc': 'Piso segregable en venta en Vila de Gràcia. En la zona más exquisita de Vila de Gràcia muy cerca de la Plaça de Narcís Oller, Gal·la Placi...'}\n",
      "{'_id': ObjectId('60f5b395536bc2cd558f97ba'), 'link': 'https://www.idealista.com/inmueble/89909378/', 'telf': '+34 932754236', 'precio': 2425000, 'nombre': 'Casa o chalet independiente en Sant Gervasi - La Bonanova, Barcelona', 'habitaciones': 6, 'superficie': 585, 'desc': 'Esta casa unifamiliar con 585 m2 construidos se encuentra en un complejo residencial de lujo de una de las zonas más exclusivas de Barcel...'}\n",
      "{'_id': ObjectId('60f5b395536bc2cd558f97ed'), 'link': 'https://www.idealista.com/inmueble/84736513/', 'telf': '+34 932931046', 'precio': 875000, 'nombre': 'Casa o chalet independiente en Vallvidrera - El Tibidabo i les Planes, Barcelona', 'habitaciones': 5, 'superficie': 455, 'desc': 'Magnífica casa de 455 m2 de superficie construida en una parcela de 600 m2. Distribuida en 3 plantas en Vallvidrera una zona privilegiada...'}\n",
      "{'_id': ObjectId('60f5b395536bc2cd558f97ef'), 'link': 'https://www.idealista.com/inmueble/91912027/', 'telf': '+34 932754215', 'precio': 3500000, 'nombre': 'Casa o chalet independiente en Pedralbes, Barcelona', 'habitaciones': 8, 'superficie': 620, 'desc': 'Acogedora casa junto a Avenida Pearson. Magnífica casa de obra vista a cuatro vientos que está ubicada en un entorno privilegiado. La finc...'}\n",
      "{'_id': ObjectId('60f5b395536bc2cd558f9807'), 'link': 'https://www.idealista.com/inmueble/94770367/', 'telf': '+34 932937573', 'precio': 1975000, 'nombre': 'Casa o chalet independiente en Vallvidrera - El Tibidabo i les Planes, Barcelona', 'habitaciones': 6, 'superficie': 409, 'desc': 'Exclusiva villa de lujo en sensacional parcela de 7.500m2 de naturaleza y bosques.. En un plácido oasis verde con espectaculares vistas a...'}\n",
      "{'_id': ObjectId('60f5b395536bc2cd558f986d'), 'link': 'https://www.idealista.com/inmueble/94658917/', 'telf': '+34 935438619', 'precio': 5900000, 'nombre': 'Chalet en Pedralbes, Barcelona', 'habitaciones': 6, 'superficie': 712, 'desc': 'EXCLUSIVA CASA CON VISTAS Y GRANDES POSIBILIDADES DE REFORMA EN PEDRALBES. FANTÁSTICA VIVIENDA CON PROYECTO Y LICENCIA DE OBRAS PARA REFOR...'}\n",
      "{'_id': ObjectId('60f5b395536bc2cd558f9894'), 'link': 'https://www.idealista.com/inmueble/94736772/', 'telf': '+34 935436496', 'precio': 2800000, 'nombre': 'Ático en Sant Gervasi - La Bonanova, Barcelona', 'habitaciones': 10, 'superficie': 466, 'otros': 'Planta 8ª exterior con ascensor', 'desc': 'Singular ático-dúplex a reformar de\\xa0 unos 430m2 a tres vientos útiles distribuidos en dos plantas, \\xa0 dispone de un total de cinco terraza...'}\n",
      "{'_id': ObjectId('60f5b395536bc2cd558f98f3'), 'link': 'https://www.idealista.com/inmueble/34591620/', 'telf': '+34 932756236', 'precio': 3000000, 'nombre': 'Chalet en Sarrià, Barcelona', 'habitaciones': 5, 'superficie': 672, 'desc': 'Esta villa completamente nueva mide 700 m² y cuenta con un estilo muy contemporáneo y acabados de alta gama, así como abundante luz natur...'}\n",
      "{'_id': ObjectId('60f5b395536bc2cd558f9991'), 'link': 'https://www.idealista.com/inmueble/92748377/', 'telf': '+34 932937430', 'precio': 3900000, 'nombre': 'Chalet en calle del Torrent de les Roses, Pedralbes, Barcelona', 'habitaciones': 5, 'superficie': 600, 'desc': 'Fantástica casa de diseño de 600m2, en un terreno de 1.100m2, todas las estancias son exteriores, mucha luz natural e inmejorables vistas...'}\n",
      "{'_id': ObjectId('60f5b395536bc2cd558f99b9'), 'link': 'https://www.idealista.com/inmueble/93227549/', 'telf': '+34 932754236', 'precio': 7450000, 'nombre': 'Casa o chalet independiente en Sarrià, Barcelona', 'habitaciones': 10, 'superficie': 1800, 'desc': 'Esta increíble casa en parcela de 2269 m2 se encuentra en la zona alta de Sarrià, cerca del fantástico entorno de Vallvidrera y el Parque...'}\n",
      "{'_id': ObjectId('60f5b395536bc2cd558f99e1'), 'link': 'https://www.idealista.com/inmueble/93122586/', 'telf': '+34 935435036', 'precio': 3200000, 'precio_ant': 3500000, 'nombre': 'Casa o chalet independiente en Sant Gervasi - La Bonanova, Barcelona', 'habitaciones': 7, 'superficie': 500, 'desc': 'El salón comedor con chimenea distribuido en dos estancias nos conduce al precioso jardín y la cocina dispone de un acceso independiente....'}\n",
      "{'_id': ObjectId('60f5b395536bc2cd558f99e8'), 'link': 'https://www.idealista.com/inmueble/89131054/', 'telf': '+34 932826472', 'precio': 5500000, 'nombre': 'Chalet en avenida del Tibidabo, 51, Sant Gervasi - La Bonanova, Barcelona', 'habitaciones': 11, 'superficie': 773, 'desc': '-También disponible en alquiler con opción a compra-. Casa reformada para estrenar en la prestigiosa Avenida del Tibidabo, con vistas a...'}\n",
      "{'_id': ObjectId('60f5b395536bc2cd558f9a0e'), 'link': 'https://www.idealista.com/inmueble/91820359/', 'telf': '+34 932754215', 'precio': 5250000, 'nombre': 'Casa o chalet independiente en Sarrià, Barcelona', 'habitaciones': 6, 'superficie': 627, 'desc': 'Maravillosa casa rehabilitada con obra finalizada.. Con unas increíbles vistas sobre la ciudad y el mar encontramos esta maravillosa casa...'}\n",
      "{'_id': ObjectId('60f5b395536bc2cd558f9a14'), 'link': 'https://www.idealista.com/inmueble/89229563/', 'telf': '+34 932754215', 'precio': 4600000, 'nombre': 'Casa o chalet independiente en Pedralbes, Barcelona', 'habitaciones': 6, 'superficie': 686, 'desc': 'Maravillosa casa en Pedralbes con vistas. En el exclusivo barrio residencial de Pedralbes, y rodeado de los mejores colegios internacional...'}\n",
      "{'_id': ObjectId('60f5b395536bc2cd558f9a3f'), 'link': 'https://www.idealista.com/inmueble/92868276/', 'telf': '+34 932827684', 'precio': 3900000, 'nombre': 'Chalet en calle del Torrent de les Roses, Pedralbes, Barcelona', 'habitaciones': 5, 'superficie': 600, 'desc': 'DOMA REAL ESTATE presenta esta exclusiva propiedad situada en el prestigioso barrio de Pedralbes, Barcelona.. Sobre un terreno de 1.100...'}\n",
      "{'_id': ObjectId('60f5b395536bc2cd558f9a7a'), 'link': 'https://www.idealista.com/inmueble/94089547/', 'telf': '+34 935438619', 'precio': 4300000, 'nombre': 'Chalet en Pedralbes, Barcelona', 'habitaciones': 6, 'superficie': 515, 'desc': 'CASA EN PEDRALBES CON JARDIN Y EXCELENTES VISTAS. FANTÁSTICA CASA EN PEDRALBES CON JARDIN Y EXCELENTES VISTAS A TODA BARCELONA. Berkshire...'}\n",
      "{'_id': ObjectId('60f5b395536bc2cd558f9a7f'), 'link': 'https://www.idealista.com/inmueble/93877327/', 'telf': '+34 932756236', 'precio': 2800000, 'nombre': 'Ático en Sant Gervasi - La Bonanova, Barcelona', 'habitaciones': 10, 'superficie': 458, 'otros': ' exterior con ascensor', 'desc': 'Magnífico ático dúplex a 3 vientos de 428 m² más 100 m² repartidos en 5 terrazas en una finca regia esquinera. Se encuentra al lado de pl...'}\n",
      "{'_id': ObjectId('60f5b395536bc2cd558f9a86'), 'link': 'https://www.idealista.com/inmueble/93523920/', 'telf': '+34 935438619', 'precio': 3500000, 'nombre': 'Chalet en Pedralbes, Barcelona', 'habitaciones': 6, 'superficie': 540, 'desc': 'CASA ÚNICA EN VENTA EN ZONA PEARSON - PEDRALBES. AMPLIA Y LUMINOSA CASA EN UNA DE LAS MEJORES ZONAS DE LA CIUDAD. Berkshire Hathaway HomeS...'}\n"
     ]
    }
   ],
   "source": [
    "search = ideadb.get_collection('vivendes-bcn').find({'superficie': { \"$gt\": 400}})\n",
    "\n",
    "for s in search:\n",
    "    print(s)\n",
    "    \n",
    "#     birth: { $gt: new Date('1950-01-01')"
   ]
  },
  {
   "cell_type": "markdown",
   "id": "11a620c4-8619-4439-8f4d-bea964ccefb7",
   "metadata": {},
   "source": [
    "#### Ho fem amb la BBDD creada d'idealista"
   ]
  },
  {
   "cell_type": "code",
   "execution_count": 25,
   "id": "4ef770cf-37b2-4c11-a7d7-7b9b397bd7c6",
   "metadata": {
    "tags": []
   },
   "outputs": [],
   "source": [
    "dfidea = pd.DataFrame(list(ideadb.get_collection('vivendes-bcn').find({})))"
   ]
  },
  {
   "cell_type": "code",
   "execution_count": 55,
   "id": "3066e18a-1e86-42b4-8e85-2929cddea9ba",
   "metadata": {},
   "outputs": [
    {
     "data": {
      "text/html": [
       "<div>\n",
       "<style scoped>\n",
       "    .dataframe tbody tr th:only-of-type {\n",
       "        vertical-align: middle;\n",
       "    }\n",
       "\n",
       "    .dataframe tbody tr th {\n",
       "        vertical-align: top;\n",
       "    }\n",
       "\n",
       "    .dataframe thead th {\n",
       "        text-align: right;\n",
       "    }\n",
       "</style>\n",
       "<table border=\"1\" class=\"dataframe\">\n",
       "  <thead>\n",
       "    <tr style=\"text-align: right;\">\n",
       "      <th></th>\n",
       "      <th>nombre</th>\n",
       "      <th>precio</th>\n",
       "      <th>habitaciones</th>\n",
       "      <th>superficie</th>\n",
       "      <th>otros</th>\n",
       "      <th>desc</th>\n",
       "    </tr>\n",
       "  </thead>\n",
       "  <tbody>\n",
       "    <tr>\n",
       "      <th>77</th>\n",
       "      <td>Piso en Vila de Gràcia, Barcelona</td>\n",
       "      <td>2195000</td>\n",
       "      <td>6.0</td>\n",
       "      <td>427</td>\n",
       "      <td>Planta 4ª exterior con ascensor</td>\n",
       "      <td>Piso segregable en venta en Vila de Gràcia. En...</td>\n",
       "    </tr>\n",
       "    <tr>\n",
       "      <th>100</th>\n",
       "      <td>Casa o chalet independiente en Sant Gervasi - ...</td>\n",
       "      <td>2425000</td>\n",
       "      <td>6.0</td>\n",
       "      <td>585</td>\n",
       "      <td>NaN</td>\n",
       "      <td>Esta casa unifamiliar con 585 m2 construidos s...</td>\n",
       "    </tr>\n",
       "    <tr>\n",
       "      <th>151</th>\n",
       "      <td>Casa o chalet independiente en Vallvidrera - E...</td>\n",
       "      <td>875000</td>\n",
       "      <td>5.0</td>\n",
       "      <td>455</td>\n",
       "      <td>NaN</td>\n",
       "      <td>Magnífica casa de 455 m2 de superficie constru...</td>\n",
       "    </tr>\n",
       "    <tr>\n",
       "      <th>153</th>\n",
       "      <td>Casa o chalet independiente en Pedralbes, Barc...</td>\n",
       "      <td>3500000</td>\n",
       "      <td>8.0</td>\n",
       "      <td>620</td>\n",
       "      <td>NaN</td>\n",
       "      <td>Acogedora casa junto a Avenida Pearson. Magníf...</td>\n",
       "    </tr>\n",
       "    <tr>\n",
       "      <th>177</th>\n",
       "      <td>Casa o chalet independiente en Vallvidrera - E...</td>\n",
       "      <td>1975000</td>\n",
       "      <td>6.0</td>\n",
       "      <td>409</td>\n",
       "      <td>NaN</td>\n",
       "      <td>Exclusiva villa de lujo en sensacional parcela...</td>\n",
       "    </tr>\n",
       "    <tr>\n",
       "      <th>279</th>\n",
       "      <td>Chalet en Pedralbes, Barcelona</td>\n",
       "      <td>5900000</td>\n",
       "      <td>6.0</td>\n",
       "      <td>712</td>\n",
       "      <td>NaN</td>\n",
       "      <td>EXCLUSIVA CASA CON VISTAS Y GRANDES POSIBILIDA...</td>\n",
       "    </tr>\n",
       "    <tr>\n",
       "      <th>318</th>\n",
       "      <td>Ático en Sant Gervasi - La Bonanova, Barcelona</td>\n",
       "      <td>2800000</td>\n",
       "      <td>10.0</td>\n",
       "      <td>466</td>\n",
       "      <td>Planta 8ª exterior con ascensor</td>\n",
       "      <td>Singular ático-dúplex a reformar de  unos 430m...</td>\n",
       "    </tr>\n",
       "    <tr>\n",
       "      <th>413</th>\n",
       "      <td>Chalet en Sarrià, Barcelona</td>\n",
       "      <td>3000000</td>\n",
       "      <td>5.0</td>\n",
       "      <td>672</td>\n",
       "      <td>NaN</td>\n",
       "      <td>Esta villa completamente nueva mide 700 m² y c...</td>\n",
       "    </tr>\n",
       "    <tr>\n",
       "      <th>571</th>\n",
       "      <td>Chalet en calle del Torrent de les Roses, Pedr...</td>\n",
       "      <td>3900000</td>\n",
       "      <td>5.0</td>\n",
       "      <td>600</td>\n",
       "      <td>NaN</td>\n",
       "      <td>Fantástica casa de diseño de 600m2, en un terr...</td>\n",
       "    </tr>\n",
       "    <tr>\n",
       "      <th>611</th>\n",
       "      <td>Casa o chalet independiente en Sarrià, Barcelona</td>\n",
       "      <td>7450000</td>\n",
       "      <td>10.0</td>\n",
       "      <td>1800</td>\n",
       "      <td>NaN</td>\n",
       "      <td>Esta increíble casa en parcela de 2269 m2 se e...</td>\n",
       "    </tr>\n",
       "    <tr>\n",
       "      <th>651</th>\n",
       "      <td>Casa o chalet independiente en Sant Gervasi - ...</td>\n",
       "      <td>3200000</td>\n",
       "      <td>7.0</td>\n",
       "      <td>500</td>\n",
       "      <td>NaN</td>\n",
       "      <td>El salón comedor con chimenea distribuido en d...</td>\n",
       "    </tr>\n",
       "    <tr>\n",
       "      <th>658</th>\n",
       "      <td>Chalet en avenida del Tibidabo, 51, Sant Gerva...</td>\n",
       "      <td>5500000</td>\n",
       "      <td>11.0</td>\n",
       "      <td>773</td>\n",
       "      <td>NaN</td>\n",
       "      <td>-También disponible en alquiler con opción a c...</td>\n",
       "    </tr>\n",
       "    <tr>\n",
       "      <th>696</th>\n",
       "      <td>Casa o chalet independiente en Sarrià, Barcelona</td>\n",
       "      <td>5250000</td>\n",
       "      <td>6.0</td>\n",
       "      <td>627</td>\n",
       "      <td>NaN</td>\n",
       "      <td>Maravillosa casa rehabilitada con obra finaliz...</td>\n",
       "    </tr>\n",
       "    <tr>\n",
       "      <th>702</th>\n",
       "      <td>Casa o chalet independiente en Pedralbes, Barc...</td>\n",
       "      <td>4600000</td>\n",
       "      <td>6.0</td>\n",
       "      <td>686</td>\n",
       "      <td>NaN</td>\n",
       "      <td>Maravillosa casa en Pedralbes con vistas. En e...</td>\n",
       "    </tr>\n",
       "    <tr>\n",
       "      <th>745</th>\n",
       "      <td>Chalet en calle del Torrent de les Roses, Pedr...</td>\n",
       "      <td>3900000</td>\n",
       "      <td>5.0</td>\n",
       "      <td>600</td>\n",
       "      <td>NaN</td>\n",
       "      <td>DOMA REAL ESTATE presenta esta exclusiva propi...</td>\n",
       "    </tr>\n",
       "    <tr>\n",
       "      <th>804</th>\n",
       "      <td>Chalet en Pedralbes, Barcelona</td>\n",
       "      <td>4300000</td>\n",
       "      <td>6.0</td>\n",
       "      <td>515</td>\n",
       "      <td>NaN</td>\n",
       "      <td>CASA EN PEDRALBES CON JARDIN Y EXCELENTES VIST...</td>\n",
       "    </tr>\n",
       "    <tr>\n",
       "      <th>809</th>\n",
       "      <td>Ático en Sant Gervasi - La Bonanova, Barcelona</td>\n",
       "      <td>2800000</td>\n",
       "      <td>10.0</td>\n",
       "      <td>458</td>\n",
       "      <td>exterior con ascensor</td>\n",
       "      <td>Magnífico ático dúplex a 3 vientos de 428 m² m...</td>\n",
       "    </tr>\n",
       "    <tr>\n",
       "      <th>816</th>\n",
       "      <td>Chalet en Pedralbes, Barcelona</td>\n",
       "      <td>3500000</td>\n",
       "      <td>6.0</td>\n",
       "      <td>540</td>\n",
       "      <td>NaN</td>\n",
       "      <td>CASA ÚNICA EN VENTA EN ZONA PEARSON - PEDRALBE...</td>\n",
       "    </tr>\n",
       "  </tbody>\n",
       "</table>\n",
       "</div>"
      ],
      "text/plain": [
       "                                                nombre   precio  habitaciones  \\\n",
       "77                   Piso en Vila de Gràcia, Barcelona  2195000           6.0   \n",
       "100  Casa o chalet independiente en Sant Gervasi - ...  2425000           6.0   \n",
       "151  Casa o chalet independiente en Vallvidrera - E...   875000           5.0   \n",
       "153  Casa o chalet independiente en Pedralbes, Barc...  3500000           8.0   \n",
       "177  Casa o chalet independiente en Vallvidrera - E...  1975000           6.0   \n",
       "279                     Chalet en Pedralbes, Barcelona  5900000           6.0   \n",
       "318     Ático en Sant Gervasi - La Bonanova, Barcelona  2800000          10.0   \n",
       "413                        Chalet en Sarrià, Barcelona  3000000           5.0   \n",
       "571  Chalet en calle del Torrent de les Roses, Pedr...  3900000           5.0   \n",
       "611   Casa o chalet independiente en Sarrià, Barcelona  7450000          10.0   \n",
       "651  Casa o chalet independiente en Sant Gervasi - ...  3200000           7.0   \n",
       "658  Chalet en avenida del Tibidabo, 51, Sant Gerva...  5500000          11.0   \n",
       "696   Casa o chalet independiente en Sarrià, Barcelona  5250000           6.0   \n",
       "702  Casa o chalet independiente en Pedralbes, Barc...  4600000           6.0   \n",
       "745  Chalet en calle del Torrent de les Roses, Pedr...  3900000           5.0   \n",
       "804                     Chalet en Pedralbes, Barcelona  4300000           6.0   \n",
       "809     Ático en Sant Gervasi - La Bonanova, Barcelona  2800000          10.0   \n",
       "816                     Chalet en Pedralbes, Barcelona  3500000           6.0   \n",
       "\n",
       "     superficie                            otros  \\\n",
       "77          427  Planta 4ª exterior con ascensor   \n",
       "100         585                              NaN   \n",
       "151         455                              NaN   \n",
       "153         620                              NaN   \n",
       "177         409                              NaN   \n",
       "279         712                              NaN   \n",
       "318         466  Planta 8ª exterior con ascensor   \n",
       "413         672                              NaN   \n",
       "571         600                              NaN   \n",
       "611        1800                              NaN   \n",
       "651         500                              NaN   \n",
       "658         773                              NaN   \n",
       "696         627                              NaN   \n",
       "702         686                              NaN   \n",
       "745         600                              NaN   \n",
       "804         515                              NaN   \n",
       "809         458            exterior con ascensor   \n",
       "816         540                              NaN   \n",
       "\n",
       "                                                  desc  \n",
       "77   Piso segregable en venta en Vila de Gràcia. En...  \n",
       "100  Esta casa unifamiliar con 585 m2 construidos s...  \n",
       "151  Magnífica casa de 455 m2 de superficie constru...  \n",
       "153  Acogedora casa junto a Avenida Pearson. Magníf...  \n",
       "177  Exclusiva villa de lujo en sensacional parcela...  \n",
       "279  EXCLUSIVA CASA CON VISTAS Y GRANDES POSIBILIDA...  \n",
       "318  Singular ático-dúplex a reformar de  unos 430m...  \n",
       "413  Esta villa completamente nueva mide 700 m² y c...  \n",
       "571  Fantástica casa de diseño de 600m2, en un terr...  \n",
       "611  Esta increíble casa en parcela de 2269 m2 se e...  \n",
       "651  El salón comedor con chimenea distribuido en d...  \n",
       "658  -También disponible en alquiler con opción a c...  \n",
       "696  Maravillosa casa rehabilitada con obra finaliz...  \n",
       "702  Maravillosa casa en Pedralbes con vistas. En e...  \n",
       "745  DOMA REAL ESTATE presenta esta exclusiva propi...  \n",
       "804  CASA EN PEDRALBES CON JARDIN Y EXCELENTES VIST...  \n",
       "809  Magnífico ático dúplex a 3 vientos de 428 m² m...  \n",
       "816  CASA ÚNICA EN VENTA EN ZONA PEARSON - PEDRALBE...  "
      ]
     },
     "execution_count": 55,
     "metadata": {},
     "output_type": "execute_result"
    }
   ],
   "source": [
    "cols = ['nombre','precio', 'habitaciones','superficie', 'otros', 'desc']\n",
    "\n",
    "mask = dfidea.superficie > 400\n",
    "dfidea.loc[mask, cols]"
   ]
  },
  {
   "cell_type": "markdown",
   "id": "intensive-antigua",
   "metadata": {},
   "source": [
    "## Nivell 3\n",
    "### Exercici 1\n",
    "Genera un resum estadístic de la informació que conté la base de dades."
   ]
  },
  {
   "cell_type": "code",
   "execution_count": 28,
   "id": "91e68d04-f643-47e1-86be-096293b70bcf",
   "metadata": {},
   "outputs": [
    {
     "name": "stdout",
     "output_type": "stream",
     "text": [
      "<class 'pandas.core.frame.DataFrame'>\n",
      "RangeIndex: 900 entries, 0 to 899\n",
      "Data columns (total 10 columns):\n",
      " #   Column        Non-Null Count  Dtype  \n",
      "---  ------        --------------  -----  \n",
      " 0   _id           900 non-null    object \n",
      " 1   link          900 non-null    object \n",
      " 2   telf          900 non-null    object \n",
      " 3   precio        900 non-null    int64  \n",
      " 4   precio_ant    139 non-null    float64\n",
      " 5   nombre        900 non-null    object \n",
      " 6   habitaciones  892 non-null    float64\n",
      " 7   superficie    900 non-null    int64  \n",
      " 8   otros         862 non-null    object \n",
      " 9   desc          900 non-null    object \n",
      "dtypes: float64(2), int64(2), object(6)\n",
      "memory usage: 70.4+ KB\n"
     ]
    }
   ],
   "source": [
    "dfidea.info()"
   ]
  },
  {
   "cell_type": "code",
   "execution_count": 30,
   "id": "442622dc-cc2e-4a77-90f0-4f2491b75a9f",
   "metadata": {},
   "outputs": [
    {
     "data": {
      "text/html": [
       "<div>\n",
       "<style scoped>\n",
       "    .dataframe tbody tr th:only-of-type {\n",
       "        vertical-align: middle;\n",
       "    }\n",
       "\n",
       "    .dataframe tbody tr th {\n",
       "        vertical-align: top;\n",
       "    }\n",
       "\n",
       "    .dataframe thead th {\n",
       "        text-align: right;\n",
       "    }\n",
       "</style>\n",
       "<table border=\"1\" class=\"dataframe\">\n",
       "  <thead>\n",
       "    <tr style=\"text-align: right;\">\n",
       "      <th></th>\n",
       "      <th>precio</th>\n",
       "      <th>precio_ant</th>\n",
       "      <th>habitaciones</th>\n",
       "      <th>superficie</th>\n",
       "    </tr>\n",
       "  </thead>\n",
       "  <tbody>\n",
       "    <tr>\n",
       "      <th>count</th>\n",
       "      <td>900.00</td>\n",
       "      <td>139.00</td>\n",
       "      <td>892.00</td>\n",
       "      <td>900.00</td>\n",
       "    </tr>\n",
       "    <tr>\n",
       "      <th>mean</th>\n",
       "      <td>738409.11</td>\n",
       "      <td>512592.12</td>\n",
       "      <td>3.26</td>\n",
       "      <td>134.86</td>\n",
       "    </tr>\n",
       "    <tr>\n",
       "      <th>std</th>\n",
       "      <td>690388.20</td>\n",
       "      <td>418420.74</td>\n",
       "      <td>1.29</td>\n",
       "      <td>105.14</td>\n",
       "    </tr>\n",
       "    <tr>\n",
       "      <th>min</th>\n",
       "      <td>99000.00</td>\n",
       "      <td>129000.00</td>\n",
       "      <td>1.00</td>\n",
       "      <td>28.00</td>\n",
       "    </tr>\n",
       "    <tr>\n",
       "      <th>25%</th>\n",
       "      <td>320000.00</td>\n",
       "      <td>257000.00</td>\n",
       "      <td>3.00</td>\n",
       "      <td>78.00</td>\n",
       "    </tr>\n",
       "    <tr>\n",
       "      <th>50%</th>\n",
       "      <td>550000.00</td>\n",
       "      <td>425000.00</td>\n",
       "      <td>3.00</td>\n",
       "      <td>109.00</td>\n",
       "    </tr>\n",
       "    <tr>\n",
       "      <th>75%</th>\n",
       "      <td>910000.00</td>\n",
       "      <td>647000.00</td>\n",
       "      <td>4.00</td>\n",
       "      <td>158.00</td>\n",
       "    </tr>\n",
       "    <tr>\n",
       "      <th>max</th>\n",
       "      <td>7450000.00</td>\n",
       "      <td>3500000.00</td>\n",
       "      <td>13.00</td>\n",
       "      <td>1800.00</td>\n",
       "    </tr>\n",
       "  </tbody>\n",
       "</table>\n",
       "</div>"
      ],
      "text/plain": [
       "           precio  precio_ant  habitaciones  superficie\n",
       "count      900.00      139.00        892.00      900.00\n",
       "mean    738409.11   512592.12          3.26      134.86\n",
       "std     690388.20   418420.74          1.29      105.14\n",
       "min      99000.00   129000.00          1.00       28.00\n",
       "25%     320000.00   257000.00          3.00       78.00\n",
       "50%     550000.00   425000.00          3.00      109.00\n",
       "75%     910000.00   647000.00          4.00      158.00\n",
       "max    7450000.00  3500000.00         13.00     1800.00"
      ]
     },
     "execution_count": 30,
     "metadata": {},
     "output_type": "execute_result"
    }
   ],
   "source": [
    "dfidea.describe().round(2)"
   ]
  },
  {
   "cell_type": "markdown",
   "id": "74b07999-2828-46c0-9bba-05bef17f8007",
   "metadata": {},
   "source": [
    "##### Pisos sense habitacions?"
   ]
  },
  {
   "cell_type": "code",
   "execution_count": 32,
   "id": "22d8eedb-3cf1-486a-87f3-501d67dcbbf7",
   "metadata": {
    "tags": []
   },
   "outputs": [
    {
     "data": {
      "text/html": [
       "<div>\n",
       "<style scoped>\n",
       "    .dataframe tbody tr th:only-of-type {\n",
       "        vertical-align: middle;\n",
       "    }\n",
       "\n",
       "    .dataframe tbody tr th {\n",
       "        vertical-align: top;\n",
       "    }\n",
       "\n",
       "    .dataframe thead th {\n",
       "        text-align: right;\n",
       "    }\n",
       "</style>\n",
       "<table border=\"1\" class=\"dataframe\">\n",
       "  <thead>\n",
       "    <tr style=\"text-align: right;\">\n",
       "      <th></th>\n",
       "      <th>nombre</th>\n",
       "      <th>precio</th>\n",
       "      <th>habitaciones</th>\n",
       "      <th>superficie</th>\n",
       "      <th>otros</th>\n",
       "      <th>desc</th>\n",
       "    </tr>\n",
       "  </thead>\n",
       "  <tbody>\n",
       "    <tr>\n",
       "      <th>20</th>\n",
       "      <td>Estudio en Vila de Gràcia, Barcelona</td>\n",
       "      <td>680000</td>\n",
       "      <td>NaN</td>\n",
       "      <td>202</td>\n",
       "      <td>Bajo exterior sin ascensor</td>\n",
       "      <td>Precioso loft cerca de Passeig de Gràcia. En u...</td>\n",
       "    </tr>\n",
       "    <tr>\n",
       "      <th>257</th>\n",
       "      <td>Estudio en El Camp d'En Grassot i Gràcia Nova,...</td>\n",
       "      <td>159000</td>\n",
       "      <td>NaN</td>\n",
       "      <td>44</td>\n",
       "      <td>Bajo exterior sin ascensor</td>\n",
       "      <td>Estudio en Vila de Gràcia. Estudio con acceso ...</td>\n",
       "    </tr>\n",
       "    <tr>\n",
       "      <th>424</th>\n",
       "      <td>Estudio en Sant Gervasi - Galvany, Barcelona</td>\n",
       "      <td>540000</td>\n",
       "      <td>NaN</td>\n",
       "      <td>102</td>\n",
       "      <td>exterior</td>\n",
       "      <td>En pleno Turó Park encontramos este magnífico ...</td>\n",
       "    </tr>\n",
       "    <tr>\n",
       "      <th>543</th>\n",
       "      <td>Estudio en calle de Sugranyes, s/n, Sants - Ba...</td>\n",
       "      <td>119000</td>\n",
       "      <td>NaN</td>\n",
       "      <td>37</td>\n",
       "      <td>Bajo exterior sin ascensor</td>\n",
       "      <td>L̲A̲ C̲A̲S̲A̲ A̲G̲E̲N̲C̲Y̲ P̲R̲E̲S̲E̲N̲T̲A̲:. ...</td>\n",
       "    </tr>\n",
       "    <tr>\n",
       "      <th>579</th>\n",
       "      <td>Ático en calle de Piquer, El Poble Sec - Parc ...</td>\n",
       "      <td>325000</td>\n",
       "      <td>NaN</td>\n",
       "      <td>28</td>\n",
       "      <td>Planta 5ª exterior con ascensor</td>\n",
       "      <td>Ático en venta CON LICENCIA TURÍSTICA en el Po...</td>\n",
       "    </tr>\n",
       "    <tr>\n",
       "      <th>597</th>\n",
       "      <td>Estudio en calle de Ferlandina, El Raval, Barc...</td>\n",
       "      <td>125000</td>\n",
       "      <td>NaN</td>\n",
       "      <td>40</td>\n",
       "      <td>Planta 3ª exterior sin ascensor</td>\n",
       "      <td>Bonito apartamento recien reformado con acabad...</td>\n",
       "    </tr>\n",
       "    <tr>\n",
       "      <th>620</th>\n",
       "      <td>Dúplex en plaza Guinardó, 10, El Guinardó, Bar...</td>\n",
       "      <td>395000</td>\n",
       "      <td>NaN</td>\n",
       "      <td>105</td>\n",
       "      <td>Bajo exterior con ascensor</td>\n",
       "      <td>Te imaginas unas viviendas diseñados para disf...</td>\n",
       "    </tr>\n",
       "    <tr>\n",
       "      <th>821</th>\n",
       "      <td>Estudio en Les Tres Torres, Barcelona</td>\n",
       "      <td>275000</td>\n",
       "      <td>NaN</td>\n",
       "      <td>96</td>\n",
       "      <td>Planta 1ª exterior con ascensor</td>\n",
       "      <td>Loft reformado en Tres Torres. En el corazón d...</td>\n",
       "    </tr>\n",
       "  </tbody>\n",
       "</table>\n",
       "</div>"
      ],
      "text/plain": [
       "                                                nombre  precio  habitaciones  \\\n",
       "20                Estudio en Vila de Gràcia, Barcelona  680000           NaN   \n",
       "257  Estudio en El Camp d'En Grassot i Gràcia Nova,...  159000           NaN   \n",
       "424       Estudio en Sant Gervasi - Galvany, Barcelona  540000           NaN   \n",
       "543  Estudio en calle de Sugranyes, s/n, Sants - Ba...  119000           NaN   \n",
       "579  Ático en calle de Piquer, El Poble Sec - Parc ...  325000           NaN   \n",
       "597  Estudio en calle de Ferlandina, El Raval, Barc...  125000           NaN   \n",
       "620  Dúplex en plaza Guinardó, 10, El Guinardó, Bar...  395000           NaN   \n",
       "821              Estudio en Les Tres Torres, Barcelona  275000           NaN   \n",
       "\n",
       "     superficie                            otros  \\\n",
       "20          202       Bajo exterior sin ascensor   \n",
       "257          44       Bajo exterior sin ascensor   \n",
       "424         102                         exterior   \n",
       "543          37       Bajo exterior sin ascensor   \n",
       "579          28  Planta 5ª exterior con ascensor   \n",
       "597          40  Planta 3ª exterior sin ascensor   \n",
       "620         105       Bajo exterior con ascensor   \n",
       "821          96  Planta 1ª exterior con ascensor   \n",
       "\n",
       "                                                  desc  \n",
       "20   Precioso loft cerca de Passeig de Gràcia. En u...  \n",
       "257  Estudio en Vila de Gràcia. Estudio con acceso ...  \n",
       "424  En pleno Turó Park encontramos este magnífico ...  \n",
       "543  L̲A̲ C̲A̲S̲A̲ A̲G̲E̲N̲C̲Y̲ P̲R̲E̲S̲E̲N̲T̲A̲:. ...  \n",
       "579  Ático en venta CON LICENCIA TURÍSTICA en el Po...  \n",
       "597  Bonito apartamento recien reformado con acabad...  \n",
       "620  Te imaginas unas viviendas diseñados para disf...  \n",
       "821  Loft reformado en Tres Torres. En el corazón d...  "
      ]
     },
     "execution_count": 32,
     "metadata": {},
     "output_type": "execute_result"
    }
   ],
   "source": [
    "cols = ['nombre','precio', 'habitaciones','superficie', 'otros', 'desc']\n",
    "dfidea[dfidea.habitaciones.isna()][cols]"
   ]
  },
  {
   "cell_type": "code",
   "execution_count": 57,
   "id": "5a62ce15-0618-481c-8ba3-a945eb2ccd9a",
   "metadata": {},
   "outputs": [
    {
     "data": {
      "text/plain": [
       "Text(0.5, 1.0, 'Rel preu/superficie amb num habitacions')"
      ]
     },
     "execution_count": 57,
     "metadata": {},
     "output_type": "execute_result"
    },
    {
     "data": {
      "image/png": "[encoded data removed]",
      "text/plain": [
       "<Figure size 1080x720 with 1 Axes>"
      ]
     },
     "metadata": {
      "needs_background": "light"
     },
     "output_type": "display_data"
    }
   ],
   "source": [
    "fig = plt.figure(figsize=(15,10))\n",
    "\n",
    "g= sns.scatterplot(data=dfidea, x='precio', y='superficie', \n",
    "                   hue='habitaciones', alpha=0.5)\n",
    "g.set_title('Rel preu/superficie amb num habitacions')"
   ]
  },
  {
   "cell_type": "code",
   "execution_count": null,
   "id": "7a0779f7-320a-4110-b567-21a99245201c",
   "metadata": {},
   "outputs": [],
   "source": []
  }
 ],
 "metadata": {
  "kernelspec": {
   "display_name": "py39_mongo",
   "language": "python",
   "name": "py39_mongo"
  },
  "language_info": {
   "codemirror_mode": {
    "name": "ipython",
    "version": 3
   },
   "file_extension": ".py",
   "mimetype": "text/x-python",
   "name": "python",
   "nbconvert_exporter": "python",
   "pygments_lexer": "ipython3",
   "version": "3.9.6"
  }
 },
 "nbformat": 4,
 "nbformat_minor": 5
}
