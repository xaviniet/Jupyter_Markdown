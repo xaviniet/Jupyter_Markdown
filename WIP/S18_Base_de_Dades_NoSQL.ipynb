{
 "cells": [
  {
   "cell_type": "markdown",
   "id": "international-musical",
   "metadata": {},
   "source": [
    "# Tasca base de dades NoSQL\n",
    "**Descripció**\n",
    "Comencem a familiaritzar-nos amb bases de dades NoSQL !!! Comencem amb uns quants exercicis bàsics\n",
    "\n",
    "### Recursos\n",
    "Recursos de l'aula i [https://docs.spring.io/spring-data/mongodb/docs/current/reference/html/#reference](https://docs.spring.io/spring-data/mongodb/docs/current/reference/html/#reference) ."
   ]
  },
  {
   "cell_type": "markdown",
   "id": "induced-knitting",
   "metadata": {},
   "source": [
    "## Nivell 1\n",
    "### Exercici 1\n",
    "Crea una base de dades NoSQL utilitzant MongoDB. Afegeix-li algunes dades d'exemple que et permetin comprovar que ets capaç de processar-ne la informació de manera bàsica."
   ]
  },
  {
   "cell_type": "code",
   "execution_count": null,
   "id": "central-rider",
   "metadata": {},
   "outputs": [],
   "source": []
  },
  {
   "cell_type": "markdown",
   "id": "mighty-subdivision",
   "metadata": {},
   "source": [
    "### Exercici 2\n",
    "Connecta la base de dades NoSQL a Python utilitzant per exemple pymongo."
   ]
  },
  {
   "cell_type": "code",
   "execution_count": null,
   "id": "loving-marshall",
   "metadata": {},
   "outputs": [],
   "source": []
  },
  {
   "cell_type": "markdown",
   "id": "nonprofit-academy",
   "metadata": {},
   "source": [
    "## Nivell 2\n",
    "### Exercici 1\n",
    "Carega algunes consultes senzilles a un Pandas Dataframe. "
   ]
  },
  {
   "cell_type": "code",
   "execution_count": null,
   "id": "oriental-rings",
   "metadata": {},
   "outputs": [],
   "source": []
  },
  {
   "cell_type": "markdown",
   "id": "intensive-antigua",
   "metadata": {},
   "source": [
    "## Nivell 3\n",
    "### Exercici 1\n",
    "Genera un resum estadístic de la informació que conté la base de dades."
   ]
  },
  {
   "cell_type": "code",
   "execution_count": null,
   "id": "composite-sponsorship",
   "metadata": {},
   "outputs": [],
   "source": []
  },
  {
   "cell_type": "code",
   "execution_count": null,
   "id": "graduate-fraction",
   "metadata": {},
   "outputs": [],
   "source": []
  }
 ],
 "metadata": {
  "kernelspec": {
   "display_name": "udacity_dsnd",
   "language": "python",
   "name": "udacity_dsnd"
  },
  "language_info": {
   "codemirror_mode": {
    "name": "ipython",
    "version": 3
   },
   "file_extension": ".py",
   "mimetype": "text/x-python",
   "name": "python",
   "nbconvert_exporter": "python",
   "pygments_lexer": "ipython3",
   "version": "3.9.0"
  }
 },
 "nbformat": 4,
 "nbformat_minor": 5
}
