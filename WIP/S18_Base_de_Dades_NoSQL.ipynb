{
 "cells": [
  {
   "cell_type": "markdown",
   "id": "international-musical",
   "metadata": {},
   "source": [
    "# Tasca base de dades NoSQL\n",
    "**Descripció**\n",
    "Comencem a familiaritzar-nos amb bases de dades NoSQL !!! Comencem amb uns quants exercicis bàsics\n",
    "\n",
    "### Recursos\n",
    "Recursos de l'aula i [https://docs.spring.io/spring-data/mongodb/docs/current/reference/html/#reference](https://docs.spring.io/spring-data/mongodb/docs/current/reference/html/#reference) ."
   ]
  },
  {
   "cell_type": "markdown",
   "id": "induced-knitting",
   "metadata": {},
   "source": [
    "## Nivell 1\n",
    "### Exercici 1\n",
    "Crea una base de dades NoSQL utilitzant MongoDB. Afegeix-li algunes dades d'exemple que et permetin comprovar que ets capaç de processar-ne la informació de manera bàsica."
   ]
  },
  {
   "cell_type": "code",
   "execution_count": 53,
   "id": "central-rider",
   "metadata": {},
   "outputs": [],
   "source": [
    "import pymongo\n",
    "from configparser import ConfigParser\n",
    "\n",
    "\n",
    "import json\n",
    "# import pandas as pd\n",
    "\n",
    "# import seaborn as sns"
   ]
  },
  {
   "cell_type": "code",
   "execution_count": 2,
   "id": "b191cb60-c6b1-45d4-97be-f49c236f1da4",
   "metadata": {},
   "outputs": [],
   "source": [
    "cfg = ConfigParser()\n",
    "cfg.read('../config/mongodb-atlas.cfg')\n",
    "\n",
    "host = cfg.get('atlas','host')\n",
    "db = cfg.get('atlas','db')\n",
    "user = cfg.get('atlas','user')\n",
    "passwd = cfg.get('atlas','passwd')"
   ]
  },
  {
   "cell_type": "markdown",
   "id": "mighty-subdivision",
   "metadata": {},
   "source": [
    "### Exercici 2\n",
    "Connecta la base de dades NoSQL a Python utilitzant per exemple pymongo."
   ]
  },
  {
   "cell_type": "code",
   "execution_count": 3,
   "id": "loving-marshall",
   "metadata": {},
   "outputs": [],
   "source": [
    "\n",
    "client = pymongo.MongoClient(f\"mongodb+srv://{user}:{passwd}@{host}/{db}?retryWrites=true&w=majority\")\n",
    "db = client.test\n"
   ]
  },
  {
   "cell_type": "code",
   "execution_count": 14,
   "id": "f3b9c367-2161-4de3-97c6-67368ba33510",
   "metadata": {},
   "outputs": [
    {
     "name": "stdout",
     "output_type": "stream",
     "text": [
      "sample_airbnb\n",
      "sample_analytics\n",
      "sample_geospatial\n",
      "sample_mflix\n",
      "sample_restaurants\n",
      "sample_supplies\n",
      "sample_training\n",
      "sample_weatherdata\n",
      "admin\n",
      "local\n"
     ]
    }
   ],
   "source": [
    "cursor = client.list_databases()\n",
    "\n",
    "for c in cursor:\n",
    "    print(c['name'])"
   ]
  },
  {
   "cell_type": "code",
   "execution_count": 18,
   "id": "9426b48c-b473-4c49-9bbe-71d08143a4db",
   "metadata": {},
   "outputs": [
    {
     "data": {
      "text/plain": [
       "['sample_airbnb',\n",
       " 'sample_analytics',\n",
       " 'sample_geospatial',\n",
       " 'sample_mflix',\n",
       " 'sample_restaurants',\n",
       " 'sample_supplies',\n",
       " 'sample_training',\n",
       " 'sample_weatherdata',\n",
       " 'admin',\n",
       " 'local']"
      ]
     },
     "execution_count": 18,
     "metadata": {},
     "output_type": "execute_result"
    }
   ],
   "source": [
    "client.list_database_names()"
   ]
  },
  {
   "cell_type": "code",
   "execution_count": 28,
   "id": "d8ca9604-1229-4444-99b6-4271959a701a",
   "metadata": {},
   "outputs": [],
   "source": [
    "s_abnb = client.get_database(name='sample_restaurants')"
   ]
  },
  {
   "cell_type": "code",
   "execution_count": 29,
   "id": "17579ddb-0378-4600-8367-672096f9106d",
   "metadata": {},
   "outputs": [
    {
     "data": {
      "text/plain": [
       "['neighborhoods', 'restaurants']"
      ]
     },
     "execution_count": 29,
     "metadata": {},
     "output_type": "execute_result"
    }
   ],
   "source": [
    "s_abnb.list_collection_names()"
   ]
  },
  {
   "cell_type": "code",
   "execution_count": 40,
   "id": "fd007dac-56cd-4fbe-8a45-1179788fd84a",
   "metadata": {},
   "outputs": [],
   "source": [
    "search = s_abnb.get_collection('restaurants').find({'borough':'Manhattan','cuisine':'Delicatessen', })\n",
    "\n",
    "for s in search:\n",
    "    print(s)"
   ]
  },
  {
   "cell_type": "code",
   "execution_count": 45,
   "id": "eb72e063-66e4-4e0f-a208-4e9271db4612",
   "metadata": {},
   "outputs": [
    {
     "data": {
      "text/plain": [
       "25359"
      ]
     },
     "execution_count": 45,
     "metadata": {},
     "output_type": "execute_result"
    }
   ],
   "source": [
    "search = s_abnb.get_collection('restaurants').find({'borough':'Manhattan','cuisine':'Delicatessen', })\n",
    "\n",
    "search.collection.estimated_document_count()"
   ]
  },
  {
   "cell_type": "code",
   "execution_count": 47,
   "id": "e969277c-bcef-48ed-be9c-f57165688523",
   "metadata": {},
   "outputs": [
    {
     "data": {
      "text/plain": [
       "25359"
      ]
     },
     "execution_count": 47,
     "metadata": {},
     "output_type": "execute_result"
    }
   ],
   "source": [
    "search.collection.count_documents(filter={})"
   ]
  },
  {
   "cell_type": "markdown",
   "id": "nonprofit-academy",
   "metadata": {},
   "source": [
    "## Nivell 2\n",
    "### Exercici 1\n",
    "Carega algunes consultes senzilles a un Pandas Dataframe. "
   ]
  },
  {
   "cell_type": "code",
   "execution_count": null,
   "id": "oriental-rings",
   "metadata": {},
   "outputs": [],
   "source": []
  },
  {
   "cell_type": "markdown",
   "id": "intensive-antigua",
   "metadata": {},
   "source": [
    "## Nivell 3\n",
    "### Exercici 1\n",
    "Genera un resum estadístic de la informació que conté la base de dades."
   ]
  },
  {
   "cell_type": "code",
   "execution_count": 50,
   "id": "composite-sponsorship",
   "metadata": {},
   "outputs": [
    {
     "data": {
      "text/plain": [
       "['sample_airbnb',\n",
       " 'sample_analytics',\n",
       " 'sample_geospatial',\n",
       " 'sample_mflix',\n",
       " 'sample_restaurants',\n",
       " 'sample_supplies',\n",
       " 'sample_training',\n",
       " 'sample_weatherdata',\n",
       " 'admin',\n",
       " 'local']"
      ]
     },
     "execution_count": 50,
     "metadata": {},
     "output_type": "execute_result"
    }
   ],
   "source": [
    "client.list_database_names()"
   ]
  },
  {
   "cell_type": "code",
   "execution_count": 52,
   "id": "graduate-fraction",
   "metadata": {},
   "outputs": [
    {
     "data": {
      "text/plain": [
       "['posts', 'grades', 'companies', 'routes', 'trips', 'zips', 'inspections']"
      ]
     },
     "execution_count": 52,
     "metadata": {},
     "output_type": "execute_result"
    }
   ],
   "source": [
    "client.get_database('sample_training').list_collection_names()"
   ]
  }
 ],
 "metadata": {
  "kernelspec": {
   "display_name": "py39_mongo",
   "language": "python",
   "name": "py39_mongo"
  },
  "language_info": {
   "codemirror_mode": {
    "name": "ipython",
    "version": 3
   },
   "file_extension": ".py",
   "mimetype": "text/x-python",
   "name": "python",
   "nbconvert_exporter": "python",
   "pygments_lexer": "ipython3",
   "version": "3.9.6"
  }
 },
 "nbformat": 4,
 "nbformat_minor": 5
}
