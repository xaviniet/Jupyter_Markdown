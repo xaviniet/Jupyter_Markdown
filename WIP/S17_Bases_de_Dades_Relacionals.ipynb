{
 "cells": [
  {
   "cell_type": "code",
   "execution_count": 3,
   "id": "thrown-supply",
   "metadata": {
    "jupyter": {
     "source_hidden": true
    },
    "tags": []
   },
   "outputs": [
    {
     "data": {
      "text/html": [
       "<style>\n",
       "table {float:left}\n",
       "</style>\n"
      ],
      "text/plain": [
       "<IPython.core.display.HTML object>"
      ]
     },
     "metadata": {},
     "output_type": "display_data"
    }
   ],
   "source": [
    "%%html\n",
    "<style>\n",
    "table {float:left}\n",
    "</style>"
   ]
  },
  {
   "cell_type": "markdown",
   "id": "interpreted-adelaide",
   "metadata": {},
   "source": [
    "# Bases de dades relacionals\n",
    "**Descripció** \n",
    "Aprendre a crear un model relacional i diagrama entitat-relació."
   ]
  },
  {
   "cell_type": "markdown",
   "id": "crude-python",
   "metadata": {},
   "source": [
    "## Nivell 1\n",
    "### Exercici 1\n",
    "Crea una base relacional d’exemple utilitzant un document de text o a mà. Dissenya-la perquè contingui les següents taules, i estableix les relacions que consideris necessàries entre elles:\n",
    "\n",
    "|Taules|\n",
    "|:-|\n",
    "|compres (transaccions)|\n",
    "|establiments|\n",
    "|treballadors|\n",
    "|clients|\n",
    "|productes|\n",
    "|tipus de productes|"
   ]
  },
  {
   "cell_type": "markdown",
   "id": "optical-spain",
   "metadata": {},
   "source": [
    "Defineix les propietats de les relacions (1:1, 1:n, n:n), i crea algunes de les variables que podrien contenir, per exemple:\n",
    "\n",
    "\n",
    "|Taula d’establiments|\n",
    "---\n",
    "| IDestabliment (unique key)|\n",
    "| Nom|\n",
    "| Localització|\n",
    "| Superfície|"
   ]
  },
  {
   "cell_type": "code",
   "execution_count": null,
   "id": "internal-festival",
   "metadata": {},
   "outputs": [],
   "source": []
  },
  {
   "cell_type": "markdown",
   "id": "electoral-colombia",
   "metadata": {},
   "source": [
    "## Nivell 2\n",
    "\n",
    "### Exercici 2\n",
    "Utilitza un programa de creació de diagrames entitat-relació com http://dia-installer.de per crear el diagrama."
   ]
  },
  {
   "cell_type": "code",
   "execution_count": null,
   "id": "accessible-australia",
   "metadata": {},
   "outputs": [],
   "source": []
  },
  {
   "cell_type": "markdown",
   "id": "clean-hayes",
   "metadata": {},
   "source": [
    "## Nivell 3\n",
    "### Exercici 3\n",
    "Utilitza el Workbench de MySQL per crear un diagrama entitat-relació. "
   ]
  },
  {
   "cell_type": "code",
   "execution_count": null,
   "id": "hidden-conservative",
   "metadata": {},
   "outputs": [],
   "source": []
  },
  {
   "cell_type": "code",
   "execution_count": null,
   "id": "fleet-dominant",
   "metadata": {},
   "outputs": [],
   "source": []
  }
 ],
 "metadata": {
  "kernelspec": {
   "display_name": "udacity_dsnd",
   "language": "python",
   "name": "udacity_dsnd"
  },
  "language_info": {
   "codemirror_mode": {
    "name": "ipython",
    "version": 3
   },
   "file_extension": ".py",
   "mimetype": "text/x-python",
   "name": "python",
   "nbconvert_exporter": "python",
   "pygments_lexer": "ipython3",
   "version": "3.9.0"
  }
 },
 "nbformat": 4,
 "nbformat_minor": 5
}
