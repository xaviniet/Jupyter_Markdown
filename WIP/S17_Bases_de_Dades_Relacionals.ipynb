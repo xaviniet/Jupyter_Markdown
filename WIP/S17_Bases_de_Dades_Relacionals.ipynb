{
 "cells": [
  {
   "cell_type": "code",
   "execution_count": 1,
   "id": "thrown-supply",
   "metadata": {
    "tags": []
   },
   "outputs": [
    {
     "data": {
      "text/html": [
       "<style>\n",
       "table {float:center}\n",
       "</style>\n"
      ],
      "text/plain": [
       "<IPython.core.display.HTML object>"
      ]
     },
     "metadata": {},
     "output_type": "display_data"
    }
   ],
   "source": [
    "%%html\n",
    "<style>\n",
    "table {float:center}\n",
    "</style>"
   ]
  },
  {
   "cell_type": "markdown",
   "id": "interpreted-adelaide",
   "metadata": {},
   "source": [
    "# Bases de dades relacionals\n",
    "**Descripció** \n",
    "Aprendre a crear un model relacional i diagrama entitat-relació."
   ]
  },
  {
   "cell_type": "markdown",
   "id": "crude-python",
   "metadata": {},
   "source": [
    "## Nivell 1\n",
    "### Exercici 1\n",
    "Crea una base relacional d’exemple utilitzant un document de text o a mà. Dissenya-la perquè contingui les següents taules, i estableix les relacions que consideris necessàries entre elles:\n",
    "\n",
    "|Taules|\n",
    "|:-|\n",
    "|compres (transaccions)|\n",
    "|establiments|\n",
    "|treballadors|\n",
    "|clients|\n",
    "|productes|\n",
    "|tipus de productes|"
   ]
  },
  {
   "cell_type": "markdown",
   "id": "optical-spain",
   "metadata": {},
   "source": [
    "Defineix les propietats de les relacions (1:1, 1:n, n:n), i crea algunes de les variables que podrien contenir, per exemple:\n",
    "\n",
    "\n",
    "|Taula d’establiments|\n",
    "---\n",
    "| IDestabliment (unique key)|\n",
    "| Nom|\n",
    "| Localització|\n",
    "| Superfície|"
   ]
  },
  {
   "cell_type": "markdown",
   "id": "a6fcdbc2-622c-46f0-bd55-9f3ea2cd99ff",
   "metadata": {},
   "source": [
    "### Definició de les taules i variables"
   ]
  },
  {
   "cell_type": "markdown",
   "id": "bf8876dc-a30f-4aa8-913b-92d2bd8b1926",
   "metadata": {},
   "source": [
    "|||\n",
    "|:-|:-|\n",
    "|establiments|(__idestabliment__, nom, localització, superficie)|\n",
    "|compres|(__idcompra__, idclient, idtreballador, data, total, numproductes)|\n",
    "|clients|(__idclient__, dni, nom, adreça, telèfon, email)|\n",
    "|treballadors|(__idtreballador__, nom, dni, adreça, carrec, idestabliment)|\n",
    "|productes|(__idproducte__, producte, descripcio, preu, idtipus)|\n",
    "|tipus_productes|(__idtipus__, descripcio)|\n",
    "|linia_compra|(quantitat, preu, idcompra, idproducte)|\n",
    "\n",
    "> Podem observar que hem creat una nova taula (*linia_compra*) que té relacions **1:n** amb *compres* i *productes*  \n",
    "> La raó es que entre elles (*compres* i *productes*) hi havia una relació **n:n**\n"
   ]
  },
  {
   "cell_type": "markdown",
   "id": "electoral-colombia",
   "metadata": {},
   "source": [
    "## Nivell 2\n",
    "\n",
    "### Exercici 2\n",
    "Utilitza un programa de creació de diagrames entitat-relació com http://dia-installer.de per crear el diagrama.\n",
    "\n",
    "\n",
    "##### Model\n",
    "\n",
    "![diagrama-relacio.png](../images/diagrama-relacio.png)"
   ]
  },
  {
   "cell_type": "markdown",
   "id": "clean-hayes",
   "metadata": {},
   "source": [
    "## Nivell 3\n",
    "### Exercici 3\n",
    "Utilitza el Workbench de MySQL per crear un diagrama entitat-relació. \n",
    "\n",
    "\n",
    "![compres-sql](../images/compres-sql.png)"
   ]
  }
 ],
 "metadata": {
  "kernelspec": {
   "display_name": "Python 3",
   "language": "python",
   "name": "python3"
  },
  "language_info": {
   "codemirror_mode": {
    "name": "ipython",
    "version": 3
   },
   "file_extension": ".py",
   "mimetype": "text/x-python",
   "name": "python",
   "nbconvert_exporter": "python",
   "pygments_lexer": "ipython3",
   "version": "3.8.10"
  }
 },
 "nbformat": 4,
 "nbformat_minor": 5
}
