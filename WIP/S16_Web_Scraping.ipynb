{
 "cells": [
  {
   "cell_type": "markdown",
   "id": "painted-brass",
   "metadata": {},
   "source": [
    "# Tasca de web scraping\n",
    "**Descripció**\n",
    "Aprèn a realitzar web scraping."
   ]
  },
  {
   "cell_type": "markdown",
   "id": "subtle-joining",
   "metadata": {},
   "source": [
    "## Nivell 1\n",
    "### Exercici 1\n",
    "Realitza web scraping d'una pàgina de la borsa de Madrid (https://www.bolsamadrid.es)."
   ]
  },
  {
   "cell_type": "code",
   "execution_count": null,
   "id": "inside-baptist",
   "metadata": {},
   "outputs": [],
   "source": []
  },
  {
   "cell_type": "markdown",
   "id": "revised-wellington",
   "metadata": {},
   "source": [
    "## Nivell 2\n",
    "### Exercici 2\n",
    "Documenta en un word el teu conjunt de dades generat amb la informació que tenen els diferents arxius de Kaggle."
   ]
  },
  {
   "cell_type": "code",
   "execution_count": null,
   "id": "qualified-pulse",
   "metadata": {},
   "outputs": [],
   "source": []
  },
  {
   "cell_type": "markdown",
   "id": "suburban-borough",
   "metadata": {},
   "source": [
    "## Nivell 3\n",
    "### Exercici 3\n",
    "\n",
    "Tria una página web que tu vulguis i realitza web scraping mitjançant la llibreria Scrapy. "
   ]
  },
  {
   "cell_type": "code",
   "execution_count": null,
   "id": "associate-prediction",
   "metadata": {},
   "outputs": [],
   "source": []
  }
 ],
 "metadata": {
  "kernelspec": {
   "display_name": "udacity_dsnd",
   "language": "python",
   "name": "udacity_dsnd"
  },
  "language_info": {
   "codemirror_mode": {
    "name": "ipython",
    "version": 3
   },
   "file_extension": ".py",
   "mimetype": "text/x-python",
   "name": "python",
   "nbconvert_exporter": "python",
   "pygments_lexer": "ipython3",
   "version": "3.9.0"
  }
 },
 "nbformat": 4,
 "nbformat_minor": 5
}
