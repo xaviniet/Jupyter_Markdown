{
 "cells": [
  {
   "cell_type": "markdown",
   "id": "bronze-sleep",
   "metadata": {},
   "source": [
    "# Visualització interactiva amb ElasticSearch Stack\n",
    "**Descripció**. \n",
    "Comencem a familiaritzar-nos la visualització interactiva de gràfics mitjançant Kibana.\n",
    "\n",
    "\n",
    "### Recursos\n",
    "Recursos de l'aula i\n",
    "\n",
    "[![Kibana Tutorial](http://img.youtube.com/vi/gQ1c1uILyKI/0.jpg)](https://www.youtube.com/watch?v=gQ1c1uILyKI)"
   ]
  },
  {
   "cell_type": "markdown",
   "id": "featured-corporation",
   "metadata": {},
   "source": [
    "## Nivell 1\n",
    "### Exercici 1\n",
    "Descarrega't Kibana i mostra algunes gràfiques utilitzant conjunts de dades d'Exemple.\n",
    "\n",
    "\n",
    "He fet una instal·lació usant Docker amb les següents intstruccions.\n",
    "\n",
    "**Elasticsearch** \n",
    "```shell\n",
    "% docker network create elastic\n",
    "% docker pull docker.elastic.co/elasticsearch/elasticsearch:7.13.2\n",
    "% docker run --name es01-test --net elastic -p 9200:9200 -p 9300:9300 --volume=/Users/xavier/databases/elasticdata:/usr/share/elasticsearch/data -e \"discovery.type=single-node\" docker.elastic.co/elasticsearch/elasticsearch:7.13.2 \n",
    "```\n",
    "\n",
    "**Kibana**\n",
    "```shell\n",
    "% docker pull docker.elastic.co/kibana/kibana:7.13.2\n",
    "% docker run --name kib01-test --net elastic -p 5601:5601 -e \"ELASTICSEARCH_HOSTS=http://es01-test:9200\" docker.elastic.co/kibana/kibana:7.13.2\n",
    "```\n",
    "\n"
   ]
  },
  {
   "cell_type": "markdown",
   "id": "mathematical-grocery",
   "metadata": {},
   "source": [
    "## Nivell 2\n",
    "### Exercici 1\n",
    "Implementa un dashboard que visualitzi interactivament les dades que triïs.\n",
    "\n",
    "**Es pot veure el video [aquí](https://www.icloud.com/iclouddrive/0JA7Qjhsh0uFOvXV5hFC5vpIg#Sampled_Data)**"
   ]
  },
  {
   "cell_type": "markdown",
   "id": "simplified-basics",
   "metadata": {},
   "source": [
    "## Nivell 3\n",
    "### Exercici 1\n",
    "Implementa un dashboard que generi gràfics utilitzant cadascun dels diferents tipus de gràfics que ofereix Kibana.\n",
    "\n",
    "**Un video sobre l'exercici es pot trobar [aquí](https://www.icloud.com/iclouddrive/05nuozdJ-0HybQtV4lS_fFnQg#Uploaded_Data)**"
   ]
  },
  {
   "cell_type": "code",
   "execution_count": null,
   "id": "another-sunglasses",
   "metadata": {},
   "outputs": [],
   "source": []
  }
 ],
 "metadata": {
  "kernelspec": {
   "display_name": "Python 3",
   "language": "python",
   "name": "python3"
  },
  "language_info": {
   "codemirror_mode": {
    "name": "ipython",
    "version": 3
   },
   "file_extension": ".py",
   "mimetype": "text/x-python",
   "name": "python",
   "nbconvert_exporter": "python",
   "pygments_lexer": "ipython3",
   "version": "3.8.10"
  }
 },
 "nbformat": 4,
 "nbformat_minor": 5
}
