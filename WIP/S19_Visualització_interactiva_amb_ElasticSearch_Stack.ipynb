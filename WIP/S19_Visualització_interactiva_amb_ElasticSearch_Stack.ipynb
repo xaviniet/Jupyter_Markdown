{
 "cells": [
  {
   "cell_type": "markdown",
   "id": "bronze-sleep",
   "metadata": {},
   "source": [
    "# Visualització interactiva amb ElasticSearch Stack\n",
    "**Descripció**. \n",
    "Comencem a familiaritzar-nos la visualització interactiva de gràfics mitjançant Kibana.\n",
    "\n",
    "\n",
    "### Recursos\n",
    "Recursos de l'aula i\n",
    "\n",
    "[![Kibana Tutorial](http://img.youtube.com/vi/gQ1c1uILyKI/0.jpg)](https://www.youtube.com/watch?v=gQ1c1uILyKI)"
   ]
  },
  {
   "cell_type": "markdown",
   "id": "featured-corporation",
   "metadata": {},
   "source": [
    "## Nivell 1\n",
    "### Exercici 1\n",
    "Descarrega't Kibana i mostra algunes gràfiques utilitzant conjunts de dades d'Exemple."
   ]
  },
  {
   "cell_type": "code",
   "execution_count": null,
   "id": "southwest-dictionary",
   "metadata": {},
   "outputs": [],
   "source": []
  },
  {
   "cell_type": "markdown",
   "id": "mathematical-grocery",
   "metadata": {},
   "source": [
    "## Nivell 2\n",
    "### Exercici 1\n",
    "Implementa un dashboard que visualitzi interactivament les dades que triïs."
   ]
  },
  {
   "cell_type": "code",
   "execution_count": null,
   "id": "unknown-terry",
   "metadata": {},
   "outputs": [],
   "source": []
  },
  {
   "cell_type": "markdown",
   "id": "simplified-basics",
   "metadata": {},
   "source": [
    "## Nivell 3\n",
    "### Exercici 1\n",
    "Implementa un dashboard que generi gràfics utilitzant cadascun dels diferents tipus de gràfics que ofereix Kibana."
   ]
  },
  {
   "cell_type": "code",
   "execution_count": null,
   "id": "another-sunglasses",
   "metadata": {},
   "outputs": [],
   "source": []
  }
 ],
 "metadata": {
  "kernelspec": {
   "display_name": "Python 3",
   "language": "python",
   "name": "python3"
  },
  "language_info": {
   "codemirror_mode": {
    "name": "ipython",
    "version": 3
   },
   "file_extension": ".py",
   "mimetype": "text/x-python",
   "name": "python",
   "nbconvert_exporter": "python",
   "pygments_lexer": "ipython3",
   "version": "3.8.10"
  }
 },
 "nbformat": 4,
 "nbformat_minor": 5
}
