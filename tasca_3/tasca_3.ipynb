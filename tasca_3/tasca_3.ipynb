{
 "cells": [
  {
   "cell_type": "markdown",
   "metadata": {},
   "source": [
    "## Tasca 3"
   ]
  },
  {
   "cell_type": "markdown",
   "metadata": {},
   "source": [
    "### Exercici 1\n",
    "L'exercici consisteix a crear un programa que et classifiqui una variable numèrica en funció de l’escala Suspès/Aprovat/Notable/Excel·lent."
   ]
  },
  {
   "cell_type": "code",
   "execution_count": 4,
   "metadata": {},
   "outputs": [],
   "source": [
    "def nota_escalada(nota:int)->str:\n",
    "    if nota < 0:\n",
    "        print('Error')\n",
    "    elif nota < 5:\n",
    "        return 'Suspès'\n",
    "    elif nota < 7:\n",
    "        return 'Aprovat'\n",
    "    elif nota < 9:\n",
    "        return 'Notable'\n",
    "    else:\n",
    "        return 'Excel·lent'\n",
    "    "
   ]
  },
  {
   "cell_type": "code",
   "execution_count": 32,
   "metadata": {},
   "outputs": [
    {
     "data": {
      "text/plain": [
       "[' 0: Suspès',\n",
       " ' 1: Suspès',\n",
       " ' 2: Suspès',\n",
       " ' 3: Suspès',\n",
       " ' 4: Suspès',\n",
       " ' 5: Aprovat',\n",
       " ' 6: Aprovat',\n",
       " ' 7: Notable',\n",
       " ' 8: Notable',\n",
       " ' 9: Excel·lent',\n",
       " ' 10: Excel·lent']"
      ]
     },
     "execution_count": 32,
     "metadata": {},
     "output_type": "execute_result"
    }
   ],
   "source": [
    "[f' {i}: {nota_escalada(i)}' for i in range(11)]"
   ]
  },
  {
   "cell_type": "markdown",
   "metadata": {},
   "source": [
    "### Exercici 2\n",
    "\n",
    "Utilitzant el següent tutorial Programiz: [Python Input, Output and Import](https://www.programiz.com/python-programming/input-output-import) crea un programa que et pregunti dos números. T’ha de mostrar un missatge dient si el primer és més gran, el segon és més gran o són iguals."
   ]
  },
  {
   "cell_type": "code",
   "execution_count": 10,
   "metadata": {},
   "outputs": [
    {
     "name": "stdin",
     "output_type": "stream",
     "text": [
      "Entra un número:  4\n",
      "Entra un altre numero:  2\n"
     ]
    },
    {
     "name": "stdout",
     "output_type": "stream",
     "text": [
      "El primer 4 és més gran\n"
     ]
    }
   ],
   "source": [
    "num = input('Entra un número: ')\n",
    "num2 = input('Entra un altre numero: ')\n",
    "\n",
    "if num == num2:\n",
    "    print(f'{num} i {num2} són iguals')\n",
    "elif num < num2:\n",
    "    print(f'El segon {num2} és més gran')\n",
    "else:\n",
    "    print(f'El primer {num} és més gran')"
   ]
  },
  {
   "cell_type": "markdown",
   "metadata": {},
   "source": [
    "### Exercici 3\n",
    "Crea un programa que et pregunti el teu nom, i et demani un número. Si el número és 0, hauria de mostrar un missatge d’error. En cas contrari, hauria de mostrar el nom repetit tants cops com indiqui el número. Per exemple, “Joan Joan Joan”."
   ]
  },
  {
   "cell_type": "code",
   "execution_count": 7,
   "metadata": {},
   "outputs": [],
   "source": [
    "def repeteix_nom():\n",
    "    nom = input(\"Quin es el teu nom? \")\n",
    "    num = input(\"Quants cops? \")\n",
    "\n",
    "    if int(num) <= 0:\n",
    "        print(f'Error, no poden haver-hi 0 o menys repeticions')\n",
    "    else:\n",
    "        print(\" \".join([nom for _ in range(int(num))]))"
   ]
  },
  {
   "cell_type": "code",
   "execution_count": 8,
   "metadata": {},
   "outputs": [
    {
     "name": "stdin",
     "output_type": "stream",
     "text": [
      "Quin es el teu nom?  Xavier\n",
      "Quants cops?  3\n"
     ]
    },
    {
     "name": "stdout",
     "output_type": "stream",
     "text": [
      "Xavier Xavier Xavier\n"
     ]
    }
   ],
   "source": [
    "repeteix_nom()"
   ]
  },
  {
   "cell_type": "markdown",
   "metadata": {},
   "source": [
    "### Exercici 4\n",
    "Crea un programa que donada una llista qualsevol, et digui si es simètrica o no. Si ho és, que et digui quants elements té."
   ]
  },
  {
   "cell_type": "code",
   "execution_count": 10,
   "metadata": {},
   "outputs": [],
   "source": [
    "def es_simetrica(llista):\n",
    "    simetrica = True\n",
    "    for n in range(len(llista)//2):\n",
    "        if llista[n] != llista[-1-n]:\n",
    "            print('Llista no simètrica')\n",
    "            simetrica = False\n",
    "            break;\n",
    "    if simetrica:\n",
    "        print(f'Simètrica amb {len(llista)} elements')\n"
   ]
  },
  {
   "cell_type": "code",
   "execution_count": 11,
   "metadata": {},
   "outputs": [
    {
     "name": "stdout",
     "output_type": "stream",
     "text": [
      "Simètrica amb 9 elements\n",
      "Simètrica amb 8 elements\n",
      "Llista no simètrica\n"
     ]
    }
   ],
   "source": [
    "es_simetrica([1,2,3,4,5,4,3,2,1])\n",
    "es_simetrica([1,2,3,4,4,3,2,1])\n",
    "es_simetrica([3,2,4,1,2,3,4,5])"
   ]
  },
  {
   "cell_type": "code",
   "execution_count": 23,
   "metadata": {},
   "outputs": [
    {
     "name": "stdout",
     "output_type": "stream",
     "text": [
      "Simètrica amb 10 elements\n"
     ]
    }
   ],
   "source": [
    "la = [i for i in range(5)]\n",
    "es_simetrica([*la, *la[::-1]])"
   ]
  },
  {
   "cell_type": "code",
   "execution_count": 21,
   "metadata": {},
   "outputs": [
    {
     "name": "stdout",
     "output_type": "stream",
     "text": [
      "Llista no simètrica\n",
      "None\n"
     ]
    }
   ],
   "source": [
    "print(es_simetrica([1,2,3,4,5]))"
   ]
  },
  {
   "cell_type": "markdown",
   "metadata": {},
   "source": [
    "### Exercici 5\n",
    "Crea un programa que donada una llista, et digui quants números coincideixen amb la seva posició. Per exemple [3,4,2,0,2,3,6] el 2 i el 6 coincideixen."
   ]
  },
  {
   "cell_type": "code",
   "execution_count": 23,
   "metadata": {},
   "outputs": [],
   "source": [
    "def coincideix_amb_index(llista):\n",
    "    coincideix = []\n",
    "    for i, v in enumerate(llista):\n",
    "        if i==v:\n",
    "            coincideix.append(v)\n",
    "    \n",
    "    return coincideix"
   ]
  },
  {
   "cell_type": "code",
   "execution_count": 24,
   "metadata": {},
   "outputs": [
    {
     "data": {
      "text/plain": [
       "[1, 3, 9]"
      ]
     },
     "execution_count": 24,
     "metadata": {},
     "output_type": "execute_result"
    }
   ],
   "source": [
    "coincideix_amb_index([1,1,0,3,8,4,5,2,6,9])"
   ]
  }
 ],
 "metadata": {
  "kernelspec": {
   "display_name": "kaggle-melanoma",
   "language": "python",
   "name": "kaggle-melanoma"
  },
  "language_info": {
   "codemirror_mode": {
    "name": "ipython",
    "version": 3
   },
   "file_extension": ".py",
   "mimetype": "text/x-python",
   "name": "python",
   "nbconvert_exporter": "python",
   "pygments_lexer": "ipython3",
   "version": "3.7.7"
  }
 },
 "nbformat": 4,
 "nbformat_minor": 4
}
