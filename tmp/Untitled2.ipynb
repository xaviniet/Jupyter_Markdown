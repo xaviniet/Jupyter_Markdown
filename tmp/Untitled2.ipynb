{
 "cells": [
  {
   "cell_type": "code",
   "execution_count": 1,
   "id": "0d1145d2-44fd-4442-aec4-7632b5ae4589",
   "metadata": {},
   "outputs": [
    {
     "name": "stdout",
     "output_type": "stream",
     "text": [
      "make classification ...\n",
      "X_train shape: (700000, 50)\n",
      "Train LGBM classifier ...\n",
      "LGBM Training ran in 3.47373 seconds\n",
      "Test Accuracy: 0.96\n",
      "Train XGB classifier ...\n",
      "XGB Training ran in 4.20952 seconds\n",
      "Test Accuracy: 0.96\n"
     ]
    }
   ],
   "source": [
    "import numpy as np\n",
    "from sklearn.datasets import make_classification\n",
    "from sklearn.model_selection import train_test_split\n",
    "from sklearn.metrics import accuracy_score\n",
    "import time\n",
    "from lightgbm import LGBMClassifier\n",
    "from xgboost import XGBClassifier\n",
    "print('make classification ...')\n",
    "X,y = make_classification(n_samples=1000000,\n",
    "                         n_features=50,\n",
    "                         n_informative=30,\n",
    "                         n_redundant=5,\n",
    "                         n_repeated=0,\n",
    "                         n_classes=2,\n",
    "                         n_clusters_per_class=2,\n",
    "                         class_sep=1,\n",
    "                         flip_y=0.01,\n",
    "                         weights=[0.5,0.5],\n",
    "                         random_state=17)\n",
    "X_train, X_test, y_train, y_test = train_test_split(X,y,test_size=0.3,random_state=1000)\n",
    "print(f'X_train shape: {X_train.shape}')\n",
    "print(f'Train LGBM classifier ...')\n",
    "clf = LGBMClassifier(n_estimators=100,\n",
    "                     num_leaves=64,\n",
    "                     max_depth=5,\n",
    "                     learning_rate=0.1,\n",
    "                     random_state=1000,\n",
    "                     n_jobs=-1)\n",
    "start = time.time()\n",
    "clf.fit(X_train,y_train)\n",
    "elapsed = time.time() - start\n",
    "print(f'LGBM Training ran in {elapsed:.5f} seconds')\n",
    "y_pred = clf.predict(X_test)\n",
    "print(f'Test Accuracy: {accuracy_score(y_test,y_pred):.2f}')\n",
    "print(f'Train XGB classifier ...')\n",
    "clf = XGBClassifier(n_estimators=100,\n",
    "                     max_depth=5,\n",
    "                     max_leaves=64,\n",
    "                     eta=0.1,\n",
    "                     reg_lambda=0,\n",
    "                     tree_method='hist',\n",
    "                     eval_metric='logloss',\n",
    "                     use_label_encoder=False,\n",
    "                     random_state=1000,\n",
    "                     n_jobs=-1)\n",
    "start = time.time()\n",
    "clf.fit(X_train,y_train)\n",
    "elapsed = time.time() - start\n",
    "print(f'XGB Training ran in {elapsed:.5f} seconds')\n",
    "y_pred = clf.predict(X_test)\n",
    "print(f'Test Accuracy: {accuracy_score(y_test,y_pred):.2f}')"
   ]
  },
  {
   "cell_type": "code",
   "execution_count": null,
   "id": "1b2e6f65-3d7a-4978-b083-63dfdc0282ad",
   "metadata": {},
   "outputs": [],
   "source": []
  }
 ],
 "metadata": {
  "kernelspec": {
   "display_name": "Python 3",
   "language": "python",
   "name": "python3"
  },
  "language_info": {
   "codemirror_mode": {
    "name": "ipython",
    "version": 3
   },
   "file_extension": ".py",
   "mimetype": "text/x-python",
   "name": "python",
   "nbconvert_exporter": "python",
   "pygments_lexer": "ipython3",
   "version": "3.8.10"
  }
 },
 "nbformat": 4,
 "nbformat_minor": 5
}
