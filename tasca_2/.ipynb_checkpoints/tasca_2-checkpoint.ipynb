{
 "cells": [
  {
   "cell_type": "markdown",
   "metadata": {},
   "source": [
    "## Tasca 2. Comencem a familiaritzar-nos amb les estructures de dades de Python"
   ]
  },
  {
   "cell_type": "markdown",
   "metadata": {},
   "source": [
    "### Exercici 1\n",
    "\n",
    "Crea una llista que agrupi els mesos de l’any en trimestres (1T: Gener, Febrer i Març, 2T: Abril, Maig, Juny...), és a dir, una llista amb 4 llistes dins."
   ]
  },
  {
   "cell_type": "code",
   "execution_count": 2,
   "metadata": {},
   "outputs": [],
   "source": [
    "mesos_per_trimestre = [['Gener','Febrer','Març'],\n",
    "                      ['Abril','Maig','Juny'],\n",
    "                      ['Juliol','Agost','Setembre'],\n",
    "                      ['Octubre','Novembre','Desembre']]"
   ]
  },
  {
   "cell_type": "code",
   "execution_count": 3,
   "metadata": {},
   "outputs": [
    {
     "data": {
      "text/plain": [
       "4"
      ]
     },
     "execution_count": 3,
     "metadata": {},
     "output_type": "execute_result"
    }
   ],
   "source": [
    "len(mesos_per_trimestre)"
   ]
  },
  {
   "cell_type": "markdown",
   "metadata": {},
   "source": [
    "### Exercici 2\n",
    "\n",
    "Crea un codi que et permeti accedir a:\n",
    "\n",
    "- El segon més del primer trimestre  \n",
    "- Els mesos del primer trimestre  \n",
    "- Setembre i octubre  \n"
   ]
  },
  {
   "cell_type": "code",
   "execution_count": 4,
   "metadata": {},
   "outputs": [
    {
     "name": "stdout",
     "output_type": "stream",
     "text": [
      "Febrer\n"
     ]
    }
   ],
   "source": [
    "segon_mes_primer_trim = mesos_per_trimestre[0][1]\n",
    "print(segon_mes_primer_trim)"
   ]
  },
  {
   "cell_type": "code",
   "execution_count": 5,
   "metadata": {},
   "outputs": [
    {
     "name": "stdout",
     "output_type": "stream",
     "text": [
      "Mesos del primer trimestre: ['Gener', 'Febrer', 'Març']\n"
     ]
    }
   ],
   "source": [
    "print(f'Mesos del primer trimestre: {mesos_per_trimestre[0]}')"
   ]
  },
  {
   "cell_type": "code",
   "execution_count": 6,
   "metadata": {},
   "outputs": [],
   "source": [
    "def quin_mes(trimestre=None, mes_trimestre=None, num_mes=None):\n",
    "    \n",
    "    if trimestre:\n",
    "        if mes_trimestre:\n",
    "            return mesos_per_trimestre[trimestre-1][mes_trimestre-1]\n",
    "        else:\n",
    "            return mesos_per_trimestre[trimestre-1]\n",
    "    \n",
    "    if num_mes:\n",
    "        try:\n",
    "            mesos = []\n",
    "            for num in num_mes:\n",
    "                mesos.append(mesos_per_trimestre[(num-1)//3][(num-1)%3])\n",
    "            return mesos\n",
    "        except:\n",
    "            print(f'num mes {num_mes}')\n",
    "            return(mesos_per_trimestre[(num_mes-1)//3][(num_mes-1)%3])"
   ]
  },
  {
   "cell_type": "code",
   "execution_count": 13,
   "metadata": {},
   "outputs": [
    {
     "name": "stdout",
     "output_type": "stream",
     "text": [
      "El segon mes del primer trimestre es Febrer\n"
     ]
    }
   ],
   "source": [
    "print(f'El segon mes del primer trimestre es ' +\n",
    "      f'{quin_mes(trimestre=1, mes_trimestre=2)}')"
   ]
  },
  {
   "cell_type": "code",
   "execution_count": 7,
   "metadata": {},
   "outputs": [
    {
     "name": "stdout",
     "output_type": "stream",
     "text": [
      "['Gener', 'Febrer', 'Març']\n"
     ]
    }
   ],
   "source": [
    "print(quin_mes(trimestre=1))"
   ]
  },
  {
   "cell_type": "code",
   "execution_count": 19,
   "metadata": {},
   "outputs": [
    {
     "name": "stdout",
     "output_type": "stream",
     "text": [
      "['Setembre', 'Octubre']\n"
     ]
    }
   ],
   "source": [
    "\n",
    "print(quin_mes(num_mes=[9,10]))"
   ]
  },
  {
   "cell_type": "markdown",
   "metadata": {},
   "source": [
    "### Exercici 3\n",
    "Crea una llista amb nombres desordenats i respon a les següents preguntes:\n",
    "\n",
    "Quants números hi ha?  \n",
    "Quantes vegades apareix el número 3  \n",
    "Quantes vegades apareixen els nombres 3 i 4?  \n",
    "Quin és el número més gran?  \n",
    "Quins són els 3 números més petits?  \n",
    "Quin és el rang d’aquesta llista?  \n"
   ]
  },
  {
   "cell_type": "code",
   "execution_count": 25,
   "metadata": {},
   "outputs": [],
   "source": [
    "import random"
   ]
  },
  {
   "cell_type": "code",
   "execution_count": 26,
   "metadata": {},
   "outputs": [],
   "source": [
    "llista = [random.randint(0,9) for _ in range(100)]"
   ]
  },
  {
   "cell_type": "code",
   "execution_count": 27,
   "metadata": {},
   "outputs": [
    {
     "name": "stdout",
     "output_type": "stream",
     "text": [
      "Hi ha 100 números a la llista\n",
      "El 3 apareix 10 vegades\n",
      "El 3 i 4 apareixen 18 vegades\n",
      "El núnmero més gran que apareix es el 9\n",
      "Els 3 números més petits son: [0, 1, 2, 3, 4, 5, 6, 7, 8, 9]\n",
      "El rang de la llista es min: 0 i max: 9 \n"
     ]
    }
   ],
   "source": [
    "print(f'Hi ha {len(llista)} números a la llista')\n",
    "print(f'El 3 apareix {llista.count(3)} vegades')\n",
    "print(f'El 3 i 4 apareixen {llista.count(3)+llista.count(4)} vegades')\n",
    "print(f'El núnmero més gran que apareix es el {max(llista)}')\n",
    "print(f'Els 3 números més petits son: {sorted(set(llista))}')\n",
    "print(f'El rang de la llista es min: {min(llista)} i max: {max(llista)} ')"
   ]
  },
  {
   "cell_type": "code",
   "execution_count": 29,
   "metadata": {},
   "outputs": [
    {
     "name": "stdout",
     "output_type": "stream",
     "text": [
      "[79, 21, 0, 40, 89, 40, 30, 21, 30, 59, 40, 48, 59, 0, 79, 30, 40, 30, 59, 48, 67, 0, 12, 59, 48, 89, 67, 48, 30, 0, 48, 12, 89, 48, 79, 67, 30, 48, 21, 12, 48, 89, 59, 21, 30, 0, 0, 21, 89, 67, 89, 79, 67, 67, 89, 40, 79, 67, 0, 40, 0, 89, 40, 79, 12, 67, 59, 12, 0, 67, 12, 12, 67, 21, 0, 89, 67, 0, 89, 79, 21, 21, 67, 12, 79, 48, 40, 12, 48, 48, 30, 59, 30, 89, 0, 79, 59, 21, 30, 79]\n"
     ]
    }
   ],
   "source": [
    "# rang? \n",
    "print([sorted(llista).index(x) for x in llista])"
   ]
  },
  {
   "cell_type": "markdown",
   "metadata": {},
   "source": [
    "### Exercici 4\n",
    "\n",
    "Crea un diccionari de la següent forma i respon a les preguntes:\n",
    "\n",
    "compra = { \"Pomes\" : {\"Qty\": 5, \"€\": 0.42}, \"Peres\" : {\"Qty\": 3, \"€\": 0.66} }\n",
    "\n",
    "Afegeix alguna fruita més  \n",
    "Quant han costat les peres en total?  \n",
    "Quantes fruites hem comprat en total?  \n",
    "Quina és la fruita més cara?  "
   ]
  },
  {
   "cell_type": "code",
   "execution_count": 14,
   "metadata": {},
   "outputs": [],
   "source": [
    "compra = { \"Pomes\" : {\"Qty\": 5, \"€\": 0.42}, \"Peres\" : {\"Qty\": 3, \"€\": 0.66} }"
   ]
  },
  {
   "cell_type": "code",
   "execution_count": 16,
   "metadata": {},
   "outputs": [],
   "source": [
    "compra['Platans'] = {'Qty': 6, '€': 0.71}\n",
    "compra['Mandarines'] = {'Qty': 9, '€': 0.12}\n",
    "compra.update({'Taronges': {'Qty': 3, '€':0.51},\n",
    "              'Cireres': {'Qty':1, '€':3.1}})"
   ]
  },
  {
   "cell_type": "code",
   "execution_count": 20,
   "metadata": {},
   "outputs": [
    {
     "name": "stdout",
     "output_type": "stream",
     "text": [
      "1.98\n"
     ]
    }
   ],
   "source": [
    "# np.prod(list(compra['Peres'].values()))\n",
    "result = 1\n",
    "for i in list(compra['Peres'].values()):\n",
    "    result *=i\n",
    "print(result)"
   ]
  },
  {
   "cell_type": "code",
   "execution_count": 21,
   "metadata": {},
   "outputs": [
    {
     "name": "stdout",
     "output_type": "stream",
     "text": [
      "27\n"
     ]
    }
   ],
   "source": [
    "total_fruites = 0\n",
    "for k, v in compra.items():\n",
    "    total_fruites += v['Qty']\n",
    "print(total_fruites)"
   ]
  },
  {
   "cell_type": "code",
   "execution_count": 22,
   "metadata": {},
   "outputs": [
    {
     "name": "stdout",
     "output_type": "stream",
     "text": [
      "(3.1, 'Cireres')\n"
     ]
    }
   ],
   "source": [
    "mes_car = (0, '')\n",
    "for k, v in compra.items():\n",
    "    if mes_car[0] < v['€']:\n",
    "        mes_car = (v['€'], k)\n",
    "print(mes_car)\n",
    "        \n",
    "    "
   ]
  }
 ],
 "metadata": {
  "kernelspec": {
   "display_name": "kaggle-melanoma",
   "language": "python",
   "name": "kaggle-melanoma"
  },
  "language_info": {
   "codemirror_mode": {
    "name": "ipython",
    "version": 3
   },
   "file_extension": ".py",
   "mimetype": "text/x-python",
   "name": "python",
   "nbconvert_exporter": "python",
   "pygments_lexer": "ipython3",
   "version": "3.7.7"
  }
 },
 "nbformat": 4,
 "nbformat_minor": 4
}
