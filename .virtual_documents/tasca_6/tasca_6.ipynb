import numpy as np
import pandas as pd

import matplotlib.pyplot as plt
import seaborn as sns

import plotly.express as px


from datetime import datetime
import time

import warnings
warnings.simplefilter('ignore')


file = '../data/DelayedFlights.csv'
types = {'DepTime':str, 'CRSDepTime':str, 'ArrTime':str, 'CRSarrTime':str}

delayed_flights = pd.read_csv(file, dtype=types)


# importem la taula de companyies 

carrier_file = '../data/Unique_carriers.csv'
carriers = pd.read_csv(carrier_file, index_col=0).to_dict()['Description']

# i d'aeroports.

airports = pd.read_csv('http://stat-computing.org/dataexpo/2009/airports.csv', index_col=0)




airports.country.unique()


delayed_flights.Dest.nunique()


# seleccionem els aeroports que tenim al dataframe
aeroports = airports[airports.index.isin( 
                    list(set(delayed_flights.Origin.unique().tolist() + 
                    delayed_flights.Dest.unique().tolist()))
                    )]


aeroports.info()


delayed_flights.ArrDelay.hist(bins=30)


delayed_flights.Origin.map(airports.country.to_dict())


delayed_flights.head()


DELAYED_MIN = 10
NO_DELAY = 0

# Nom de la companyia
delayed_flights['carrier_name'] = delayed_flights.UniqueCarrier.map(carriers)
# Nom de l'aeroport d'Origen
delayed_flights['Name_Origin'] = delayed_flights.Origin.map(airports.airport.to_dict())
# Nom de l'aeroport de Destí
delayed_flights['Name_Dest'] = delayed_flights.Dest.map(airports.airport.to_dict())

# columnes que contenen causa del retràs
cols_retras = ['CarrierDelay','WeatherDelay','NASDelay','SecurityDelay','LateAircraftDelay']
delayed_flights[cols_retras] = delayed_flights[cols_retras].fillna(value=0.0)


# Sabem que les 2400.0 son les 00.00
delayed_flights.loc[delayed_flights.DepTime.astype(float)==2400,'DepTime'] = '0.0'

# Creem camps datetime
delayed_flights['DepartureTime'] = delayed_flights.apply(lambda x: datetime(int(x.Year), 
                                       int(x.Month), 
                                       int(x.DayofMonth), 
                                       int(x.DepTime.split('.')[0].zfill(4)[:-2]), 
                                       int(x.DepTime.split('.')[0].zfill(4)[-2:])), axis=1)

delayed_flights['CRSDepartureTime'] = delayed_flights.apply(lambda x: datetime(int(x.Year),
                                       int(x.Month), 
                                       int(x.DayofMonth), 
                                       int(x.CRSDepTime.zfill(4)[:-2]), 
                                       int(x.CRSDepTime.zfill(4)[-2:])), axis=1)

# Vols que no es van produir o es van desviar
delayed_flights['no_vol'] = delayed_flights.Cancelled + delayed_flights.Diverted

# Vols endarrerits (que el temps es més gran que el valor que hem definit previament)
delayed_flights['endarrerit'] = delayed_flights.ArrDelay > DELAYED_MIN


# delayed_flights.loc[delayed_flights.ArrDelay < DELAYED_MIN, 'ArrDelay'] = 0


for i in set(delayed_flights.Dest.unique()) - set(delayed_flights.Origin.unique()):
    print(f'{i}: {aeroports.loc[i].airport} ')


for i in set(delayed_flights.Origin.unique()) - set(delayed_flights.Dest.unique()):
    print(f'{i}: {aeroports.loc[i].airport} ')


cols = ['ActualElapsedTime', 'AirTime', 'CRSElapsedTime','DepDelay','ArrDelay']
delayed_flights[cols].describe().round(3)


def IQR(df, columns=None, q1=0.25, q3=0.75, scale=1.5):
    if columns:
        df = df[columns]
    iqr = df.quantile(q3) - df.quantile(q1)
    return ((df.quantile(q1) - scale * iqr).values, 
            (df.quantile(q3) + scale * iqr).values)    

IQR(delayed_flights, columns=cols )


# Número de vols amb retràs de més de 10 hores
print(f'Núm de vols amb retràs >10h: {delayed_flights[delayed_flights.ArrDelay > 600].endarrerit.count()}')
print(f'Sobre el total de vols: {delayed_flights[delayed_flights.ArrDelay > 600].endarrerit.count()/delayed_flights.ArrDelay.count() * 100}%')
print(f'Total vols endarrerits: {delayed_flights.endarrerit.sum()}')
print(f'% vols endarrerits: {delayed_flights.endarrerit.sum()/delayed_flights.endarrerit.count() *100}%')


delayed_flights.endarrerit.count()


delayed_flights[delayed_flights.ArrDelay>10].ArrDelay.count()


delayed_flights[delayed_flights.AirTime > 900]


columnes = ['CRSArrTime','CRSElapsedTime', 'ArrDelay','ArrTime','Distance', 'DepTime','ActualElapsedTime', 'Origin','Dest', 'Cancelled','Diverted']
delayed_flights[delayed_flights.ArrDelay < -60][columnes]


columnes = ['CRSArrTime','CRSElapsedTime', 'ArrDelay','ArrTime','Distance', 'DepTime','ActualElapsedTime', 'Origin','Dest', 'Cancelled','Diverted']
print(f'% vols sense retràs arribada: {delayed_flights[delayed_flights.ArrDelay < 0].ArrDelay.count()/delayed_flights.ArrDelay.count() * 100:.2f}%')


data = delayed_flights.UniqueCarrier.value_counts()

plt.figure(figsize=(8,12))
sns.set_style('whitegrid')
ax = sns.barplot(data=data, y=data.index.map(carriers), x=np.round(data.values/1000,0),
           palette='mako', orient='h')

ax.set_title(f'Número de Vols, any {delayed_flights.Year.unique()[0]}', 
             fontdict={'fontsize':14, 'fontweight':'bold' })

ax.set_xlabel('Número de vols (en milers)', fontdict={'fontsize':12,'color':'darkblue'})
ax.set_ylabel('Companyies aèries', fontdict={'fontsize':12, 'color':'darkblue'})
sns.despine()

# Guardem el gràfic en un png
plt.savefig('../images/t6-1_cat-num_vols.png', )


group = delayed_flights.groupby('UniqueCarrier').agg({'ArrDelay':['count','sum','mean'],'DepDelay':['sum','mean']})
# renombrem les columnes
group.columns = ['_'.join(col).strip('_') for col in group.columns.values]
# group.droplevel(0, axis=1)
group.reset_index(inplace=True)

plt.figure(figsize=(15,10))
data = group.reset_index().sort_values([('ArrDelay_count')], ascending=False)
ax = sns.barplot(data=data,
            x=data['UniqueCarrier'].map(carriers), y='ArrDelay_mean',
            palette='mako',
#             facecolor='none',
            edgecolor=sns.color_palette("mako_r", len(data.UniqueCarrier.unique())),
            )

#https://stackoverflow.com/questions/56075639/labels-are-printed-when-set-xticklabels-called
_ = ax.set_xticklabels(ax.get_xticklabels(), rotation=60, )
_ = ax.set_title("Mitjana de retràs (min) per companyia \n(ordenada per núm de vols)", 
                 fontdict={'fontsize':14, 'fontweight':'bold'})

ax.set_xlabel('Companyia aèria', fontdict={'fontsize':12, 'color':'darkblue'})
ax.set_ylabel('Mitjana (min)', fontdict={'fontsize':12, 'color':'darkblue'})
sns.despine()

plt.savefig('../images/t6-1_mitjana_retras_companyia.png')



plt.figure(figsize=(15,10))

# sns.histplot(x=delayed_flights.ArrDelay)
ax = sns.distplot(x=delayed_flights.ArrDelay)

ax.set_title('Distribució dels retrasos', fontdict={'fontsize':14, 'fontweight':'bold'})

ax.set_xlabel('Minuts', fontdict={'fontsize':12, 'color':'darkblue'})
ax.set_ylabel('Densitat', fontdict={'fontsize':12, 'color':'darkblue'})

# ax.legend(labels=['ArrDelay'], loc='lower right', borderaxespad=3, fontsize='large', labelcolor='darkblue', )
sns.despine()

plt.savefig('../images/t6-1_var_arrdelay_dens.png')


plt.figure(figsize=(15,10))

ax = sns.histplot(x=delayed_flights[delayed_flights.ArrDelay<300].ArrDelay, color='darkblue', alpha=0.5, bins=100)
ax = sns.histplot(x=delayed_flights[delayed_flights.ArrDelay<300].DepDelay, color='orange', alpha=0.3, bins=100 )

ax.set_title('Distribució dels retrasos de sortida i arribada', fontdict={'fontsize':14, 'fontweight':'bold'})

ax.set_xlabel('Minuts', fontdict={'fontsize':12, 'color':'darkblue'})
ax.set_ylabel('Quantitat de vols', fontdict={'fontsize':12, 'color':'darkblue'})
ax.legend(labels=['R. Arribada', 'R. Sortida'], loc='lower right', borderaxespad=3, fontsize='large', labelcolor='darkblue', )
sns.despine()

plt.savefig('../images/t6-1_var_distr_retras.png')


(delayed_flights.ArrDelay).describe().apply("{0:.2f}".format)


IQR(delayed_flights,['ArrDelay','DepDelay'])[1][0]


plt.figure(figsize=(15,10))
# data = delayed_flights[delayed_flights.ArrDelay < IQR(delayed_flights,['ArrDelay'])[1][0]]
data = delayed_flights
ax = sns.boxplot(data=data, y=data.UniqueCarrier.map(carriers), x='ArrDelay',
           orient='h', palette='Blues_r')

ax.set_title('Retrasos per companyia', fontdict={'fontsize':14, 'fontweight':'bold'})

ax.set_xlabel('Minuts', fontdict={'fontsize':12, 'color':'darkblue'})
ax.set_ylabel('Quantitat de vols', fontdict={'fontsize':12, 'color':'darkblue'})

sns.despine()


plt.figure(figsize=(15,10))
sns.boxenplot(data=data, x=data.UniqueCarrier.map(carriers), y='ArrDelay', palette='mako')


delayed_flights.head()


# https://seaborn.pydata.org/examples/kde_ridgeplot

plt.figure(figsize=(10,15))
# Initialize the FacetGrid object
sns.set_theme(style="white", rc={"axes.facecolor": (0, 0, 0, 0)})

pal = sns.cubehelix_palette(delayed_flights.carrier_name.nunique(), rot=-.25, light=.7, reverse=True)
data = delayed_flights[delayed_flights.ArrDelay < 60]
g = sns.FacetGrid(data, row="UniqueCarrier", hue='carrier_name', aspect=10, height=1.5, palette=pal, )

# Draw the densities in a few steps
g.map(sns.kdeplot, "ArrDelay",
      bw_adjust=.5, clip_on=False,
      fill=True, alpha=0.4, linewidth=0.)
# g.map(sns.kdeplot, "ArrDelay", clip_on=False, color="w", lw=2, bw_adjust=.5)

# Draw the densities in a few steps
g.map(sns.kdeplot, "DepDelay",
      bw_adjust=.5, clip_on=False,
      fill=True, alpha=0.4, linewidth=1.5, color='orange')
g.map(sns.kdeplot, "DepDelay", clip_on=False, color="w", lw=1, bw_adjust=.5)

g.map(plt.axhline, y=0, lw=2, clip_on=False)


# Define and use a simple function to label the plot in axes coordinates
def label(x, color, label):
    ax = plt.gca()
    ax.text(0, .2, label, fontweight="bold", color=color,
            ha="left", va="center", transform=ax.transAxes)


g.map(label, "ArrDelay")

# Set the subplots to overlap
g.fig.subplots_adjust(hspace=-.25)

# Remove axes details that don't play well with overlap
g.set_titles("")

# TITLE
# g.fig.subplots_adjust(top=0.9) # adjust the Figure in rp
g.fig.suptitle('Distribució de retràs per Companyia')

g.set(yticks=[])
g.despine(bottom=True, left=True)


plt.figure(figsize=(15,10))
sns.set_style('whitegrid')


pal = sns.cubehelix_palette(delayed_flights.carrier_name.nunique(), rot=-.25, light=.7)


mask = (delayed_flights.Cancelled == 0) & (delayed_flights.Diverted== 0)
ax = sns.boxenplot(data=delayed_flights[mask], y=delayed_flights[mask].UniqueCarrier.map(carriers), 
                 x=np.round(delayed_flights[mask].ArrDelay/60,0), orient='h', palette=pal)

# ax.set_xticklabels(ax.get_xticklabels(),rotation=60)


plt.figure(figsize=(15,10))

ax = sns.scatterplot(data=delayed_flights, x='ArrDelay', y='DepDelay', )
# ax.set(xscale="log", yscale="log")


plt.figure(figsize=(15,10))
data = group
data['carrier_name'] = data.UniqueCarrier.map(carriers)
ax = sns.scatterplot(data=data, x='ArrDelay_count', y='ArrDelay_sum', size='ArrDelay_mean',
                alpha=0.5,
                edgecolor='blue',
                palette='mako',
                linewidth=1,
                sizes=(15,500))

for line in range(0,data.shape[0]):
    ax.text(data.iloc[line].ArrDelay_count+2, data.iloc[line].ArrDelay_sum, 
           data.iloc[line].carrier_name)

_ = ax.set_title("Numero de vols i retràs acumulat ", 
                 fontdict={'fontsize':14, 'fontweight':'bold'})

ax.set_xlabel('Retràs acumulat (min)', fontdict={'fontsize':12, 'color':'darkblue'})
ax.set_ylabel('Número de vols', fontdict={'fontsize':12, 'color':'darkblue'})
ax.legend(loc='lower right', borderaxespad=3, fontsize='medium', labelcolor='black', )
sns.despine()


# Guarda la imatge en png
plt.savefig('../images/t6-1_num_vols_i_retras_ac.png')


(data.ArrDelay_sum/1000).values


plt.figure(figsize=(15,10))
data = group
data['carrier_name'] = data.UniqueCarrier.map(carriers)

ax = sns.scatterplot(data=data, x='ArrDelay_count', y='ArrDelay_sum', size='ArrDelay_mean',
                alpha=0.5,
                edgecolor='blue',
                palette='mako',
                linewidth=1,
                sizes=(15,500))

for line in range(0,data.shape[0]):
    ax.text(data.iloc[line].ArrDelay_count+2, data.iloc[line].ArrDelay_sum, 
           data.iloc[line].carrier_name, fontdict={'fontsize':10,'color':'black'})

_ = ax.set_title("Numero de vols i retràs acumulat ", 
                 fontdict={'fontsize':14, 'fontweight':'bold'})

ax.set_xlabel('Número de vols (milers)', fontdict={'fontsize':12, 'color':'darkblue'})
ax.set_ylabel('Retràs acumulat (min)', fontdict={'fontsize':12, 'color':'darkblue'})
# ax.legend(loc='lower right', borderaxespad=3, fontsize='medium', labelcolor='darkblue', )
ax.legend(loc='lower right', borderaxespad=3, fontsize='medium')
sns.despine()


# Guarda la imatge en png
plt.savefig('../images/t6-1_num_vols_i_retras_ac.png')


delayed_flights.head()


from collections import OrderedDict
dies_setmana = OrderedDict({'Monday':'Dilluns', 'Tuesday':'Dimarts', 'Wednesday':'Dimecres', 'Thursday':'Dijous',
               'Friday':'Divendres', 'Saturday':'Dissabte', 'Sunday':'Diumenge'})

delayed_flights.DepartureTime.dt.day_name().map(dies_setmana)


# from bokeh.io import output_file, show
# from bokeh.models import ColumnDataSource
# from bokeh.plotting import figure
# from bokeh.sampledata.commits import data
# from bokeh.transform import jitter

# output_file("categorical_scatter_jitter.html")

# DAYS = ['Sun', 'Sat', 'Fri', 'Thu', 'Wed', 'Tue', 'Mon']

# source = delayed_flights[['DepartureTime','Origin']]
# source['time'] = source.DepartureTime.dt.time
# source['day_name'] = source.DepartureTime.dt.day_name()
# # print(source.head())
# # print(source.head())
# p = figure(plot_width=800, plot_height=300, y_range=DAYS, x_axis_type='datetime',
#            title="Commits by Time of Day (US/Central) 2012-2016")

# p.circle(x='time', y=jitter('day_name', width=0.6, range=p.y_range),  source=source, alpha=0.3)

# p.xaxis.formatter.days = ['%Hh']
# p.x_range.range_padding = 0
# p.ygrid.grid_line_color = None

# show(p)


delayed_flights.sample(n=1000)


plt.figure(figsize=(15,10))
sns.set_theme(style="whitegrid")
ax = sns.scatterplot(data=delayed_flights, 
                x='DepDelay', y='ArrDelay', 
                hue=delayed_flights.UniqueCarrier.map(carriers))
_ = ax.set_title('Relació entre retràs de Sortida i Arribada', fontdict={'fontsize':14})

# ax.set_xlabel()
sns.despine()


plt.figure(figsize=(15,10))
ax = sns.scatterplot(data=delayed_flights, 
                x='DepDelay', y='ArrDelay', 
                hue=delayed_flights.UniqueCarrier.map(carriers),
                size='AirTime', sizes=(20,400),
                alpha=0.4,
                linewidth=1.5)
_ = ax.set_title('Relació entre retràs de Sortida i Arribada', fontdict={'fontsize':14})

sns.despine()


group['carrier_name'] = group.UniqueCarrier.map(carriers)



group.head()


g = sns.PairGrid(group.sort_values('ArrDelay_count',ascending=False),
            x_vars=group.columns[-6:-1], y_vars=['carrier_name'],
            height=10, aspect=.25)

g.map(sns.stripplot, size=14, orient='h', jitter=False, palette='flare_r', linewidth=1, edgecolor='w')

# g.set(xlim=(0,25), xlabel='Minutes', ylabel='')
titles = ['Vols Totals','Total Retràs Arribada','Mitja Retràs Arr.','Total Retràs Sortida','Mitja Retràs Sortida']
etiquetasx = ['Número'] + ['Minutos']*4
for ax, title, etiqx in zip(g.axes.flat, titles, etiquetasx):
    ax.set(title = title)
    ax.set(xlabel=etiqx)
    ax.xaxis.grid(False)
    ax.yaxis.grid(True)
    
sns.despine(left=True, bottom=True)


plt.figure(figsize=(20,15))
sns.kdeplot(x=delayed_flights.ArrDelay, hue=delayed_flights.UniqueCarrier, common_norm=False)


delayed_flights.head()


dforigins = delayed_flights.groupby('Origin').agg({'DepDelay':['sum','count','mean'],'UniqueCarrier':['nunique']})
dforigins.columns = ['_'.join(col).strip('_') for col in dforigins.columns.values]
dforigins.reset_index(inplace=True)

# dforigins[['name','lat','long']] = dforigins.Origin.map(airports[['airport','lat','long']])
dforigins['name'] = dforigins.Origin.map(airports.airport)
dforigins['lat'] = dforigins.Origin.map(airports.lat)
dforigins['long'] = dforigins.Origin.map(airports.long)

# group = delayed_flights.groupby('UniqueCarrier').agg({'ArrDelay':['count','sum','mean'],'DepDelay':['sum','mean']})
# # renombrem les columnes
# group.columns = ['_'.join(col).strip('_') for col in group.columns.values]
# # group.droplevel(0, axis=1)
# group.reset_index(inplace=True)




dforigins.describe().round(2)


plt.figure(figsize=(20,15))

m = Basemap(llcrnrlon=dforigins.long.min()-10, llcrnrlat=dforigins.lat.min()-5,
            urcrnrlon=dforigins.long.max()+10, urcrnrlat=dforigins.lat.max()+5,)
m.drawcoastlines(color='gray')
m.drawcountries(color='gray')
m.drawstates(color='gray')

g= sns.scatterplot(data=dforigins, x='long', y='lat', alpha=0.7, 
                   c=dforigins.DepDelay_mean, sizes=[1,5,10,50,100,500],
                  size=np.log(dforigins.DepDelay_count), cmap='mako')
# g= sns.scatterplot(data=agrupats, x='dest_long', y='dest_lat', alpha=0.5, size=agrupats.FlightNum, sizes=(5,500))

g.get_legend().remove()


plt.figure(figsize=(20,15))

labels=['<20k','20k-40k','40k-100k','100k-1m']
bins=[0,20000,40000,1e5,1e6]

m = Basemap(llcrnrlon=dforigins.long.min()-10, llcrnrlat=dforigins.lat.min()-5,
            urcrnrlon=dforigins.long.max()+10, urcrnrlat=dforigins.lat.max()+5,)
m.drawcoastlines(color='gray')
m.drawcountries(color='gray')
m.drawstates(color='gray')

g= sns.scatterplot(data=dforigins, x='long', y='lat', alpha=0.5, 
                  size=pd.cut(dforigins.DepDelay_count, bins=bins, labels=labels) , sizes=[50,150,300,500],
                  c=dforigins.DepDelay_mean, cmap='mako')
# g= sns.scatterplot(data=agrupats, x='dest_long', y='dest_lat', alpha=0.5, size=agrupats.FlightNum, sizes=(5,500))

g.legend()
g.set_title('Aeroports Origen i retràs mig', fontdict={'fontsize':14, 'fontweight':'bold'})


# ax.legend(labels=['ArrDelay'], loc='lower right', borderaxespad=3, fontsize='large', labelcolor='darkblue', )
sns.despine()

plt.savefig('../images/t6-1_origin_depdelay.png')
# g.get_legend().remove()



pd.cut(dforigins.DepDelay_count, bins=bins, labels=labels).hist()


dforigins.head()


dforigins.sort_values('DepDelay_count')


agrupats = delayed_flights.groupby(['Origin','Dest']).FlightNum.count().reset_index()

agrupats['orig_lat'] = agrupats.Origin.map(aeroports.lat)
agrupats['orig_long'] = agrupats.Origin.map(aeroports.long)
agrupats['dest_lat'] = agrupats.Dest.map(aeroports.lat)
agrupats['dest_long'] = agrupats.Dest.map(aeroports.long)




agrupats


import plotly.graph_objects as go
fig = go.Figure(data=go.Bar(y=[2, 3, 1]))
fig.show()


import plotly.graph_objects as go
import pandas as pd


fig = go.Figure()

fig.add_trace(go.Scattergeo(
    locationmode = 'USA-states',
    lon = aeroports['long'],
    lat = aeroports['lat'],
#     hoverinfo = ['lon','lat'],
#     hovertext = 'agrupats.Origin',
#     text = df_airports['airport'],
    mode = 'markers',
    marker = dict(
        size = 5,
        color = 'rgb(122, 0, 122)',
        line = dict(
            width = 3,
            color = 'rgba(68, 68, 68, 0)'
        )
    )))

flight_paths = []
for i in range(len(agrupats)):
    fig.add_trace(
        go.Scattergeo(
            locationmode = 'USA-states',
            lon = [agrupats['orig_long'][i], agrupats['dest_long'][i]],
            lat = [agrupats['orig_lat'][i], agrupats['dest_lat'][i]],
#             hoverinfo = ['location','name'],
#             hovertext = f'{agrupats.Origin[i]}-{agrupats.Dest[i]}: {agrupats.FlightNum[i]} vols',
            mode = 'lines',
            line = dict(width = 2,color = 'darkblue'),
            opacity = float(agrupats['FlightNum'][i]) / float(agrupats['FlightNum'].max()),

        )
    )

fig.update_layout(
    title_text = '2008. Vols.',
    autosize=True,
    width=1000,
    height=1000,
    showlegend = False,
    geo = dict(
        scope = 'north america',
        projection_type = 'azimuthal equal area',
        showland = True,
#         landcolor = 'rgb(243, 243, 243)',
        landcolor = 'rgb(255, 255, 200)',
        countrycolor = 'rgb(204, 0, 204)',
    ),
)

fig.show()


plt.figure(figsize=(15,10))
g= sns.scatterplot(data=agrupats, x='orig_long', y='orig_lat', alpha=0.1, size=agrupats.FlightNum, sizes=(5,1000))
# g= sns.scatterplot(data=agrupats, x='dest_long', y='dest_lat', alpha=0.5, size=agrupats.FlightNum, sizes=(5,500))

g.get_legend().remove()


plt.figure(figsize=(20,15))

m = Basemap(llcrnrlon=agrupats.orig_long.min()-10, llcrnrlat=agrupats.orig_lat.min()-5,
            urcrnrlon=agrupats.orig_long.max()+10, urcrnrlat=agrupats.orig_lat.max()+5,)
m.drawcoastlines(color='gray')
m.drawcountries(color='gray')
m.drawstates(color='gray')

g= sns.scatterplot(data=agrupats, x='orig_long', y='orig_lat', alpha=0.1, size=agrupats.FlightNum, sizes=(5,1000))
# g= sns.scatterplot(data=agrupats, x='dest_long', y='dest_lat', alpha=0.5, size=agrupats.FlightNum, sizes=(5,500))

g.get_legend().remove()


from mpl_toolkits.basemap import Basemap


agrupats.head()


# adaptem l'exemple de https://jakevdp.github.io/PythonDataScienceHandbook/04.13-geographic-data-with-basemap.html

# 1. Draw the map background

fig = plt.figure(figsize=(20, 10))
m = Basemap(llcrnrlon=agrupats.orig_long.min()-10, llcrnrlat=agrupats.orig_lat.min()-5,
            urcrnrlon=agrupats.orig_long.max()+10, urcrnrlat=agrupats.orig_lat.max()+5,
#             lon_0=(agrupats.orig_long.max()+agrupats.orig_long.min())/2, 
#             lat_0=(agrupats.orig_lat.max()+agrupats.orig_lat.min())/2,)
            projection='cyl', resolution='h', )
#             width=1E6, height=1.2E6)
# m.shadedrelief()
# m.drawcoastlines(color='gray')
m.drawcountries(color='gray')
m.drawstates(color='gray')

m.drawlsmask(land_color = "#e6e6e6", 
               ocean_color="#e6f7ff",
               resolution = 'h')


m.scatter(agrupats.orig_long, agrupats.orig_lat, latlon=True,
          c=np.log10(agrupats.FlightNum), s=30,
          cmap='Reds', alpha=0.5)

plt.colorbar(label=r'$\log_{10}({\rm Número Vols})$')
plt.clim(0, 5)
plt.title('Vols per aeroport Sortida')


print(agrupats.orig_lat.min(), agrupats.orig_long.min())
print(agrupats.orig_lat.max(), agrupats.orig_long.max())
print((agrupats.orig_lat.max()+agrupats.orig_lat.min())/2, (agrupats.orig_long.max()+agrupats.orig_long.min())/2)


agrupats.describe()





agrupats.sort_values(by='FlightNum')


# https://github.com/paulgb/gcmap
# https://nbviewer.jupyter.org/gist/paulgb/5851489
from gcmap import GCMapper

gcm = GCMapper(width=4096, gc_resolution=100)


gcm.set_data(agrupats.orig_long, agrupats.orig_lat, agrupats.dest_long, agrupats.dest_lat)
img = gcm.draw()
img.crop((0,0,1400,1000)).save('../images/t6_gcmap.png')



from IPython.core import display
display.Image(filename='../images/t6_gcmap.png')


vols_aeroport = delayed_flights.groupby(['Name_Origin','Name_Dest']).UniqueCarrier.count().reset_index()
vols_aeroport.columns = ['Name_Origin','Name_Dest','Vols']
vols_aeroport.head()


plt.figure(figsize=(45,30))

sns.heatmap(vols_aeroport.pivot_table(index='Name_Origin',columns='Name_Dest',values='Vols'))


vols_aeroport.pivot_table(index='Origin',columns='Dest',values='Vols', )


delayed_flights.head()


delayed_flights.info()


agrupats = delayed_flights.groupby(['Origin','Dest']).FlightNum.count().reset_index()


aeroports.head()


agrupats.head()


aeroports.reset_index()[['iata','lat','long']].rename(columns={'iata':'Origin'}).to_dict()


agrupats.Origin.map(aeroports['lat'])



