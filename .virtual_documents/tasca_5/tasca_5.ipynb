# importem llibreries

import pandas as pd
import numpy as np

import seaborn as sns
import matplotlib.pyplot as plt

from datetime import datetime
import time

import os

import warnings

warnings.simplefilter('ignore')


# Constant per convertir de milles a Km
ML_TO_KM = 1.609344

# Constant per definir els minuts en que considerem el vol retrasat
DELAYED_MIN = 0


pd.set_option('display.float_format', lambda x: '%.4f' % x)


file = '../data/DelayedFlights.csv'

types = {'DepTime':str, 'CRSDepTime':str, 'ArrTime':str, 'CRSarrTime':str}

parse_dates = [['Year','Month','DayofMonth','DepTime'], ['Year','Month','DayofMonth','ArrTime']]
dfdelays = pd.read_csv(file, dtype=types,  )

# Renombrem la primera columna 
dfdelays.columns = [ 'ind', *dfdelays.columns[1:]]
dfdelays.set_index('ind', inplace=True)

# importem la taula de companyies i les guardem en un diccionari

carrier_file = '../data/Unique_carriers.csv'
carriers = pd.read_csv(carrier_file, index_col=0).to_dict()['Description']

# importem els aeroports. Ho fem directament de la web enllaçada en el dataset de Kaggle

airports = pd.read_csv('http://stat-computing.org/dataexpo/2009/airports.csv', index_col=0).to_dict()['airport']


dfdelays.head()


dfdelays.info(verbose=True, null_counts=True)


print(f"Hi ha {dfdelays.shape[0]} registres.")
print(f'Hi ha {dfdelays.shape[1]} camps per cada registre')


dfdelays.describe()


dfdelays.isna().sum()[dfdelays.isna().sum() > 0]


act_elapsed_nans = dfdelays[dfdelays.ActualElapsedTime.isna()].isna()
act_elapsed_nans.sum()[act_elapsed_nans.sum() >0]


print(f'Hi ha {dfdelays.Cancelled.sum()} vols cancel·lats')
print(f'Hi ha {dfdelays.Diverted.sum()} vols desviats')


dfdelays[(dfdelays.Cancelled == 1) & (dfdelays.Diverted == 1)]
# No hi ha vols desviats i cancel·lats a la vegada


dfdelays[['Diverted','Cancelled']].sum().sum() == dfdelays[dfdelays.ActualElapsedTime.isna()][['Diverted','Cancelled']].sum().sum()


cols_retras = ['CarrierDelay','WeatherDelay','NASDelay','SecurityDelay','LateAircraftDelay']
dfdelays[cols_retras] = dfdelays[cols_retras].fillna(value=0.0)


mask = (dfdelays.Cancelled == 0) & (dfdelays.Diverted==0)
(dfdelays[mask].AirTime + dfdelays[mask].TaxiIn + dfdelays[mask].TaxiOut - dfdelays[mask].ActualElapsedTime).value_counts()


col_descartades = ['CarrierDelay','WeatherDelay','NASDelay','SecurityDelay','LateAircraftDelay','CancellationCode', 
                   'FlightNum','TailNum', 'AirTime','TaxiIn','TaxiOut']

# dfdelays.drop(columns=col_descartades, inplace=True)


dfdelays.head()


columnes_interes = ['ArrTime','CRSArrTime','ActualElapsedTime','CRSElapsedTime','ArrDelay','DepDelay','Distance']


dfdelays[mask][columnes_interes].describe()


dfdelays.info()


col_descartades = []

dfdelays['carrier_name'] = dfdelays.UniqueCarrier.map(carriers) 
dfdelays['Name_Origin'] = dfdelays.Origin.map(airports) 
dfdelays['Name_Dest'] = dfdelays.Dest.map(airports) 
 
col_descartades.append('UniqueCarrier') 


dfdelays['dia_add'] = False
dfdelays.loc[dfdelays.DepTime.astype(float)==2400,'DepTime']['dia_add'] = True
dfdelays.loc[dfdelays.DepTime.astype(float)==2400,'DepTime'] = '0.0'


## No cal, calcularem les arribades a partir de la sortida més el temps de vol
# # Els vols que arriben el dia següent. Hi afegirem un dia a les columnes ArrivalTime creades a partir dels camps originals (int i string)

# dfdelays['dia_add'] = dfdelays.DepTime.astype(float) > (dfdelays.ArrTime.astype(float) +100)
# dfdelays['CRSdia_add'] = dfdelays.CRSDepTime.astype(float) > (dfdelays.CRSArrTime.astype(float) +100)


dfdelays.loc[dfdelays.dia_add == True].ArrivalTime + pd.Timedelta(1,'day')



dfdelays['DepartureTime'] = dfdelays.apply(lambda x: datetime(int(x.Year), 
                                       int(x.Month), 
                                       int(x.DayofMonth), 
                                       int(x.DepTime.split('.')[0].zfill(4)[:-2]), 
                                       int(x.DepTime.split('.')[0].zfill(4)[-2:])), axis=1)

dfdelays['CRSDepartureTime'] = dfdelays.apply(lambda x: datetime(int(x.Year),
                                       int(x.Month), 
                                       int(x.DayofMonth), 
                                       int(x.CRSDepTime.zfill(4)[:-2]), 
                                       int(x.CRSDepTime.zfill(4)[-2:])), axis=1)

col_descartades.extend(['ind','Year','Month','DayofMonth','DayOfWeek','DepTime','CRSDepTime'])


dfdelays['no_vol'] = dfdelays.Cancelled + dfdelays.Diverted

dfdelays['endarrerit'] = dfdelays.ArrDelay > DELAYED_MIN

col_descartades.extend(['Cancelled','Diverted'])


dfdelays['ArrivalTime'] = dfdelays.DepartureTime + pd.to_timedelta(dfdelays.ActualElapsedTime,unit='m')
dfdelays['CRSArrivalTime'] = dfdelays.CRSDepartureTime + pd.to_timedelta(dfdelays.CRSElapsedTime,unit='m')




 print( [(k, v) for k,v in airports.items() if 'Hon' in v])


work_columns = ['DepartureTime','DepTime','CRSDepTime','ArrTime','ArrivalTime','CRSArrTime','CRSArrivalTime','ActualElapsedTime','CRSElapsedTime','DepDelay','ArrDelay']
dfdelays[(dfdelays.Origin == 'MRY') & (dfdelays.Dest == 'SFO')][work_columns]


dfdelays.CRSElapsedTime.sort_values(ascending=False)


mask = (dfdelays.no_vol == 0) & (dfdelays.Origin == 'MRY') & (dfdelays.Dest == 'SFO')
dfdelays[mask][['CRSElapsedTime','ActualElapsedTime','Origin','Dest','UniqueCarrier']].describe()


dfdelays.


dfdelays.groupby(['Origin',pd.Grouper(key='ArrivalTime',freq='d')]).DepDelay.count().sort_values()


def replace_outliers(group, val=1.5):
    q25, q50, q75 = group.quantile(.25), group.quantile(.5), group.quantile(.75)
    iqr = q75 - q25
    upb = q50 + val * iqr
    lwb = q50 - val * iqr
    outliers = (group > upb) | (group < lwb)
    group[outliers] = q50
    return group


dfdelays['CRSElapsedTime_c'] = dfdelays.groupby(['Origin','Dest']).CRSElapsedTime.transform(replace_outliers)


# Hi havia un valor de CRSElapsedTime (<0), però comprovem que era un outlier i queda corregit
mask = (dfdelays.CRSElapsedTime<0) & (dfdelays.no_vol == 0)
dfdelays[mask][['CRSElapsedTime','ActualElapsedTime','Origin','Dest','UniqueCarrier','CRSElapsedTime_c']]


dfdelays[dfdelays.AirTime == 0][['AirTime','Distance','Origin','Dest','TaxiIn','TaxiOut','ActualElapsedTime','CRSElapsedTime','UniqueCarrier','DepDelay','ArrDelay']]


def replace_zeros(group):
    zeros = group == 0
    group[zeros] = group.median()
    return group


dfdelays['AirTime'] = dfdelays.groupby(['Origin','Dest','UniqueCarrier']).AirTime.transform(replace_zeros)


dfdelays.loc[175935][['AirTime','Distance','Origin','Dest','TaxiIn','TaxiOut','ActualElapsedTime','CRSElapsedTime','UniqueCarrier','DepDelay','ArrDelay']]


dfdelays['ActualElapsedTime_c'] = dfdelays[['AirTime','TaxiIn','TaxiOut']].sum(axis=1)


dfdelays[['AirTime','Distance','Origin','Dest','TaxiIn','TaxiOut','ActualElapsedTime','ActualElapsedTime_c','CRSElapsedTime','UniqueCarrier','DepDelay','ArrDelay']].head()


# l'ActualElapsedTime no l'hauriem de modificar, ja que inclou els TaxiIn i TaxiOut que poden provocar outliers per retrasos
# dfdelays['ActualElapsedTime_c'] = dfdelays.groupby(['Origin','Dest']).ActualElapsedTime.transform(replace_outliers)
# comprovem la distribució amb els AirTime/Distance

## Tenim AirTimes a 0 --> No sembla possible

(dfdelays.Distance/dfdelays.AirTime).describe()


dfdelays[['ArrDelay','DepDelay', 'AirTime','TaxiIn','TaxiOut','Distance','Origin']].corr()


tempdf = dfdelays.groupby(['Origin',pd.Grouper(key='DepartureTime',freq='d')]).DepDelay.mean().reset_index()


tempdf.pivot(index='Origin',columns='DepartureTime', values='DepDelay').mean(axis=1).describe()


dfdelays.loc[50]


sns.countplot(dfdelays.CRSdia_add)


dfdelays.drop(dfdelays.loc[dfdelays.no_vol>0].index,axis=0, inplace=True)


dfdelays.loc[dfdelays.DepTime.astype(float) > dfdelays.ArrTime.astype(float)].sort_values('DayofMonth')


dfdelays.sort_values('CRSElapsedTime')['CRSElapsedTime']


dfdelays.sort_values('ActualElapsedTime')['ActualElapsedTime']


dfdelays.loc[437861]


(((dfdelays.DepartureTime - dfdelays.ArrivalTime).dt.total_seconds()/60) > 0).sum()


(((dfdelays.CRSDepartureTime - dfdelays.CRSArrivalTime).dt.total_seconds()/60) > -10).sum()


(dfdelays[['CarrierDelay','WeatherDelay','NASDelay','SecurityDelay','LateAircraftDelay']].sum(axis=1) - dfdelays.ArrDelay).hist()


(((dfdelays.DepartureTime - dfdelays.ArrivalTime).dt.total_seconds()/60) - dfdelays.ActualElapsedTime).hist()


(((dfdelays.DepartureTime - dfdelays.ArrivalTime).dt.total_seconds()/60) - dfdelays.ActualElapsedTime).hist()


# dfdelays.drop(columns=col_descartades, inplace=True)


dfdelays.head()


get_ipython().run_line_magic("whos", " DataFrame")


col_descartades


# mask es un filtre per escollir els vols no cancel·lats

mask = dfdelays.no_vol == 0
(dfdelays[mask].Distance / (dfdelays[mask].CRSElapsedTime)).sort_values(ascending=False)


dfdelays[dfdelays.CRSElapsedTime <= 0][['']]


mask = dfdelays.no_vol == 0
(dfdelays[mask].Distance / (dfdelays[mask].ActualElapsedTime.astype(int) /60)).sort_values(ascending=False)


dfdelays.iloc[693851]


dfdelays[mask][dfdelays.CRSElapsedTime < 10]


# No considerem els vols cancel·lats o desviats
filtre = (dfdelays.no_vol == 0)

agrupat_carrier = dfdelays[filtre].groupby(['carrier_name']).agg({'ArrDelay':['sum','count'], 'endarrerit':'sum', 'Distance':'sum'})

agrupat_carrier.columns = ['_'.join(col).strip('_') for col in agrupat_carrier.columns.values]
# group.droplevel(0, axis=1)
agrupat_carrier.reset_index(inplace=True)
agrupat_carrier.sort_values(('endarrerit_sum'),ascending=False).head(10)



dfdelays.groupby(['carrier_name'])['endarrerit'].sum().sort_values(ascending=False).head(10)


agrupat_carrier.sort_values('ArrDelay_sum', ascending=False)[['carrier_name','ArrDelay_sum']].head(10)


agrupat_carrier['distancia_h'] = (agrupat_carrier[('ArrDelay_sum')] / agrupat_carrier[('Distance_sum')])
agrupat_carrier.sort_values('distancia_h',ascending=False)[['carrier_name','distancia_h']].head(10)


agrupat_carrier['perc_retras'] = (agrupat_carrier['endarrerit_sum'] / agrupat_carrier['ArrDelay_count']) * 100
agrupat_carrier.sort_values('perc_retras', ascending=False)[['carrier_name','perc_retras']].head(10)


agrupat_carrier.sort_values('perc_retras', ascending=True)[['carrier_name','perc_retras']].head(10)


vols_llargs = dfdelays.groupby(['Origin','Dest','carrier_name'])['Distance'].first()
vols_llargs = vols_llargs.sort_values( ascending=False).reset_index()

vols_llargs.head(10)



dfdelays.sort_values(by='ArrDelay', ascending=False).head(10)



dfdelays.to_csv('../Data/CleanDelayedFlights.csv', index=False)


dfdelays.to_pickle('../Data/CleanDelayedFlights.pickle')


agrupat_carrier.to_csv('../Data/AggDelayedFlights_carrier.csv')

agrupat_airports.to_csv('../Data/AggDelayedFlights_airports.csv')


tempdf.head()


# df["Year"] = df.DATE.apply(lambda x: x.year)
# df["Month"] = df.DATE.apply(lambda x: x.strftime("%B"))
dfhm = tempdf.pivot_table(index="Origin",columns="DepartureTime",values="DepDelay", aggfunc="sum").fillna(0)
# months = ["Jan", "Feb", "Mar", "Apr", "May", "Jun", "Jul", "Aug", "Sep", "Oct", "Nov", "Dec"]#
# pt = pt.reindex_axis(months)
sns.heatmap(dfhm, annot=True)
