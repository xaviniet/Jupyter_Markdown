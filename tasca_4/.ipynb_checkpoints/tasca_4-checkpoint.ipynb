{
 "cells": [
  {
   "cell_type": "markdown",
   "metadata": {},
   "source": [
    "## Tasca 4. Pràctica amb programació numèrica"
   ]
  },
  {
   "cell_type": "code",
   "execution_count": 1,
   "metadata": {},
   "outputs": [],
   "source": [
    "import numpy as np\n",
    "import pandas as pd"
   ]
  },
  {
   "cell_type": "markdown",
   "metadata": {},
   "source": [
    "### Exercici 1\n",
    "Crea una funció que donat un Array d’una dimensió, et faci un resum estadístic bàsic de les dades. Si detecta que l’array té més d’una dimensió, ha de mostrar un missatge d’error."
   ]
  },
  {
   "cell_type": "code",
   "execution_count": 2,
   "metadata": {},
   "outputs": [],
   "source": [
    "def basic_stat(data):\n",
    "    if data.ndim == 1:\n",
    "        print(pd.DataFrame(data).describe())\n",
    "    else:\n",
    "        print(\"Error: La dimensió ha de ser 1\")"
   ]
  },
  {
   "cell_type": "code",
   "execution_count": 3,
   "metadata": {},
   "outputs": [
    {
     "name": "stdout",
     "output_type": "stream",
     "text": [
      "               0\n",
      "count   5.000000\n",
      "mean    7.800000\n",
      "std     8.526429\n",
      "min     3.000000\n",
      "25%     4.000000\n",
      "50%     4.000000\n",
      "75%     5.000000\n",
      "max    23.000000\n"
     ]
    }
   ],
   "source": [
    "basic_stat(np.array([3,4,5,23,4]))"
   ]
  },
  {
   "cell_type": "markdown",
   "metadata": {},
   "source": [
    "### Exercici 2\n",
    "Crea una funció que et generi un quadrat NxN de nombres aleatoris entre el 0 i el 100."
   ]
  },
  {
   "cell_type": "code",
   "execution_count": 4,
   "metadata": {},
   "outputs": [],
   "source": [
    "def crea_matriu(n):\n",
    "    return np.random.randint(0,101, size=(n,n))"
   ]
  },
  {
   "cell_type": "code",
   "execution_count": 5,
   "metadata": {},
   "outputs": [
    {
     "data": {
      "text/plain": [
       "array([[ 34,   5,   6,  93,  30,  58,  46,  34,  42,   7],\n",
       "       [  1, 100,  96,  46,  53,   9,   9,  45,  40,  84],\n",
       "       [ 88,  42,  14,   5,  13,  36,   1,  74,  80,   6],\n",
       "       [  4,  77,  63,  31,  53,  29,  67,  23,  56,   4],\n",
       "       [ 95,  89,  60,   7,  45,  98,  54,  89,  93,  81],\n",
       "       [ 38,  94,   4,  25,  73,  76,  76,  73,  48,  66],\n",
       "       [ 35,  64,  77,  41,  25,  22,  90,  61,  24,  24],\n",
       "       [ 37,  55,  66,  60,  98,  36,  61,  30,  29,  44],\n",
       "       [ 88,  97,  64,  21,   7,  87,  77,  96,  82,  23],\n",
       "       [ 16,  32,   4,  72,  61,  40,  70,  42,  81,  26]])"
      ]
     },
     "execution_count": 5,
     "metadata": {},
     "output_type": "execute_result"
    }
   ],
   "source": [
    "crea_matriu(10)"
   ]
  },
  {
   "cell_type": "markdown",
   "metadata": {},
   "source": [
    "### Exercici 3\n",
    "Crea una funció que donada una taula de dues dimensions, et calculi els totals per fila i els totals per columna."
   ]
  },
  {
   "cell_type": "code",
   "execution_count": 6,
   "metadata": {},
   "outputs": [],
   "source": [
    "def sumes_totals(mat):\n",
    "    if mat.ndim == 2:\n",
    "        return (mat.sum(axis=0), mat.sum(axis=1))\n",
    "    else:\n",
    "        print(\"Error: La dimensió ha de ser 2\")"
   ]
  },
  {
   "cell_type": "code",
   "execution_count": 7,
   "metadata": {},
   "outputs": [
    {
     "data": {
      "text/plain": [
       "array([[8, 8, 2, 3],\n",
       "       [3, 0, 5, 1],\n",
       "       [7, 7, 0, 5],\n",
       "       [1, 1, 0, 3]])"
      ]
     },
     "execution_count": 7,
     "metadata": {},
     "output_type": "execute_result"
    }
   ],
   "source": [
    "a = np.random.randint(0, 9, size=(4,4))\n",
    "a"
   ]
  },
  {
   "cell_type": "code",
   "execution_count": 8,
   "metadata": {},
   "outputs": [
    {
     "name": "stdout",
     "output_type": "stream",
     "text": [
      "La suma de les columnes es: [19 16  7 12]\n",
      "La suma de les files es: [21  9 19  5]\n"
     ]
    }
   ],
   "source": [
    "col, files = sumes_totals(a)\n",
    "print(f'La suma de les columnes es: {col}')\n",
    "print(f'La suma de les files es: {files}')"
   ]
  },
  {
   "cell_type": "markdown",
   "metadata": {},
   "source": [
    "### Exercici 4\n",
    "Implementa manualment una funció que calculi el coeficient de correlació. Informa’t-en sobre els seus usos i interpretació."
   ]
  },
  {
   "cell_type": "code",
   "execution_count": 23,
   "metadata": {},
   "outputs": [
    {
     "data": {
      "text/plain": [
       "array([[1.        , 0.53499681],\n",
       "       [0.53499681, 1.        ]])"
      ]
     },
     "execution_count": 23,
     "metadata": {},
     "output_type": "execute_result"
    }
   ],
   "source": [
    "np.corrcoef(np.random.randint(0,10,size=20),\n",
    "            np.random.randint(0,10,size=20))    "
   ]
  }
 ],
 "metadata": {
  "kernelspec": {
   "display_name": "Python 3",
   "language": "python",
   "name": "python3"
  },
  "language_info": {
   "codemirror_mode": {
    "name": "ipython",
    "version": 3
   },
   "file_extension": ".py",
   "mimetype": "text/x-python",
   "name": "python",
   "nbconvert_exporter": "python",
   "pygments_lexer": "ipython3",
   "version": "3.9.0"
  }
 },
 "nbformat": 4,
 "nbformat_minor": 4
}
