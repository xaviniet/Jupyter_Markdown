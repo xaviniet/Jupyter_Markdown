{
 "cells": [
  {
   "cell_type": "markdown",
   "metadata": {},
   "source": [
    "## Tasca 4. Pràctica amb programació numèrica"
   ]
  },
  {
   "cell_type": "code",
   "execution_count": 19,
   "metadata": {},
   "outputs": [],
   "source": [
    "import numpy as np\n",
    "import pandas as pd"
   ]
  },
  {
   "cell_type": "markdown",
   "metadata": {},
   "source": [
    "### Exercici 1\n",
    "Crea una funció que donat un Array d’una dimensió, et faci un resum estadístic bàsic de les dades. Si detecta que l’array té més d’una dimensió, ha de mostrar un missatge d’error."
   ]
  },
  {
   "cell_type": "code",
   "execution_count": 20,
   "metadata": {},
   "outputs": [],
   "source": [
    "def basic_stat(data):\n",
    "    if data.ndim == 1:\n",
    "        print(pd.DataFrame(data).describe())\n",
    "    else:\n",
    "        print(\"Error: La dimensió ha de ser 1\")"
   ]
  },
  {
   "cell_type": "code",
   "execution_count": 23,
   "metadata": {},
   "outputs": [
    {
     "name": "stdout",
     "output_type": "stream",
     "text": [
      "               0\n",
      "count   5.000000\n",
      "mean    7.800000\n",
      "std     8.526429\n",
      "min     3.000000\n",
      "25%     4.000000\n",
      "50%     4.000000\n",
      "75%     5.000000\n",
      "max    23.000000\n"
     ]
    }
   ],
   "source": [
    "basic_stat(np.array([3,4,5,23,4]))"
   ]
  },
  {
   "cell_type": "markdown",
   "metadata": {
    "collapsed": "true"
   },
   "source": [
    "### Exercici 2\n",
    "Crea una funció que et generi un quadrat NxN de nombres aleatoris entre el 0 i el 100."
   ]
  },
  {
   "cell_type": "code",
   "execution_count": 24,
   "metadata": {},
   "outputs": [],
   "source": [
    "def crea_matriu(n):\n",
    "    return np.random.randint(0,101, size=(n,n))"
   ]
  },
  {
   "cell_type": "code",
   "execution_count": 25,
   "metadata": {},
   "outputs": [
    {
     "data": {
      "text/plain": [
       "array([[  9,  79,  45,  35,  49,  91,  24,  59,  78,   7],\n",
       "       [ 29,  58,  23,  58,   3,  74,  35,  84,   0,  14],\n",
       "       [ 44,  68,  19,  55,  20,  52,  95,  79,  87,  48],\n",
       "       [ 32,   8,   9,  10,  59,  14,  48,  99,  17,  31],\n",
       "       [ 85,  29,  82,  19,   5,   0,   9,  91,  64,  44],\n",
       "       [100,  82,  57,   6,  30,  10,  97,  49,  28,   6],\n",
       "       [ 66,  28,  60,  26,   7,  38,  34,   9,  47,  68],\n",
       "       [ 27,  70,  39,  92,  30,  64,  30,  38,  42,  41],\n",
       "       [ 25,  16,   3,  32,  42,  65,  37,  71,  62,  54],\n",
       "       [ 62,  83,  42,  50,  53,  29,   2,   4,  54,  12]])"
      ]
     },
     "execution_count": 25,
     "metadata": {},
     "output_type": "execute_result"
    }
   ],
   "source": [
    "crea_matriu(10)"
   ]
  },
  {
   "cell_type": "markdown",
   "metadata": {},
   "source": [
    "### Exercici 3\n",
    "Crea una funció que donada una taula de dues dimensions, et calculi els totals per fila i els totals per columna."
   ]
  },
  {
   "cell_type": "code",
   "execution_count": 26,
   "metadata": {},
   "outputs": [],
   "source": [
    "def sumes_totals(mat):\n",
    "    if mat.ndim == 2:\n",
    "        return (mat.sum(axis=0), mat.sum(axis=1))\n",
    "    else:\n",
    "        print(\"Error: La dimensió ha de ser 2\")"
   ]
  },
  {
   "cell_type": "code",
   "execution_count": 27,
   "metadata": {},
   "outputs": [
    {
     "data": {
      "text/plain": [
       "array([[2, 6, 3, 1],\n",
       "       [8, 2, 3, 1],\n",
       "       [7, 0, 0, 3],\n",
       "       [4, 1, 0, 8]])"
      ]
     },
     "execution_count": 27,
     "metadata": {},
     "output_type": "execute_result"
    }
   ],
   "source": [
    "a = np.random.randint(0, 9, size=(4,4))\n",
    "a"
   ]
  },
  {
   "cell_type": "code",
   "execution_count": 30,
   "metadata": {},
   "outputs": [
    {
     "name": "stdout",
     "output_type": "stream",
     "text": [
      "La suma de les columnes es: [21  9  6 13]\n",
      "La suma de les files es: [12 14 10 13]\n"
     ]
    }
   ],
   "source": [
    "col, files = sumes_totals(a)\n",
    "print(f'La suma de les columnes es: {col}')\n",
    "print(f'La suma de les files es: {files}')"
   ]
  },
  {
   "cell_type": "markdown",
   "metadata": {},
   "source": [
    "### Exercici 4\n",
    "Implementa manualment una funció que calculi el coeficient de correlació. Informa’t-en sobre els seus usos i interpretació."
   ]
  },
  {
   "cell_type": "code",
   "execution_count": null,
   "metadata": {},
   "outputs": [],
   "source": [
    "def correlacio(a, b):\n",
    "    "
   ]
  },
  {
   "cell_type": "code",
   "execution_count": 18,
   "metadata": {},
   "outputs": [
    {
     "data": {
      "text/plain": [
       "1"
      ]
     },
     "execution_count": 18,
     "metadata": {},
     "output_type": "execute_result"
    }
   ],
   "source": [
    "a = np.zeros(2)\n",
    "a.ndim"
   ]
  },
  {
   "cell_type": "code",
   "execution_count": null,
   "metadata": {},
   "outputs": [],
   "source": []
  }
 ],
 "metadata": {
  "kernelspec": {
   "display_name": "Python 3",
   "language": "python",
   "name": "python3"
  },
  "language_info": {
   "codemirror_mode": {
    "name": "ipython",
    "version": 3
   },
   "file_extension": ".py",
   "mimetype": "text/x-python",
   "name": "python",
   "nbconvert_exporter": "python",
   "pygments_lexer": "ipython3",
   "version": "3.9.0"
  }
 },
 "nbformat": 4,
 "nbformat_minor": 4
}
