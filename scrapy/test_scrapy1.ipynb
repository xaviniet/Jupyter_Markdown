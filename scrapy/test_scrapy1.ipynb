{
 "cells": [
  {
   "cell_type": "markdown",
   "id": "01d1b45d-1402-4724-b76f-121c1caea96a",
   "metadata": {},
   "source": [
    "# First try scraping idealista\n",
    "\n",
    "\n",
    "provarem de parsejar https://www.idealista.com/venta-viviendas/barcelona-barcelona/\n",
    "i les següents 10 pàgines. No entrarem en cada pis (tot i que guardarem un enllaç per a si volem parsejar el contingut)"
   ]
  },
  {
   "cell_type": "code",
   "execution_count": null,
   "id": "a078d74c-4d14-46b1-91e8-f4af450a2378",
   "metadata": {},
   "outputs": [],
   "source": []
  },
  {
   "cell_type": "code",
   "execution_count": 1,
   "id": "a7ba6c01-07a2-46ac-b899-e49779d7de78",
   "metadata": {},
   "outputs": [],
   "source": [
    "# import pandas as pd\n",
    "\n",
    "import scrapy\n",
    "from scrapy.crawler import CrawlerProcess\n",
    "\n",
    "import logging\n",
    "import pathlib\n",
    "import re\n",
    "\n"
   ]
  },
  {
   "cell_type": "code",
   "execution_count": 2,
   "id": "d2eab483-6fb7-458e-8c74-1d856874d9d6",
   "metadata": {},
   "outputs": [],
   "source": [
    "class Vivienda(scrapy.Item):\n",
    "    links = scrapy.Field()\n",
    "    precio = scrapy.Field()\n",
    "    precio_ant = scrapy.Field()\n",
    "    nombre = scrapy.Field()\n",
    "    desc = scrapy.Field()\n",
    "    habitaciones = scrapy.Field()\n",
    "    superficie = scrapy.Field()\n",
    "    otros = scrapy.Field()"
   ]
  },
  {
   "cell_type": "code",
   "execution_count": 3,
   "id": "46eab7e7-ffc1-4919-bca3-858e7d5a0471",
   "metadata": {
    "tags": []
   },
   "outputs": [],
   "source": [
    "class IdeaSpider(scrapy.Spider):\n",
    "    name = \"idealista\"\n",
    "    start_urls = [\n",
    "        'https://www.idealista.com/venta-viviendas/barcelona-barcelona/',\n",
    "    ]\n",
    "    \n",
    "    custom_settings = {\n",
    "        'LOG_LEVEL': logging.WARNING,\n",
    "        'CLOSESPIDER_PAGECOUNT': 3,\n",
    "        'DOWNLOAD_DELAY' : 15,\n",
    "        'FEEDS': {\n",
    "                    'venta_viviendas.json': {\n",
    "                        'format': 'json',\n",
    "                        'encoding': 'utf8',\n",
    "                        'store_empty': False,\n",
    "                        'fields': None,\n",
    "                        'indent': 4,\n",
    "                        'item_export_kwargs': {\n",
    "                           'export_empty_fields': False,\n",
    "                        },\n",
    "                      },                    \n",
    "                    },\n",
    "#         'ITEM_PIPELINES': {'__main__.JsonWriterPipeline': 1}, # Used for pipeline 1\n",
    "#         'FEED_FORMAT':'json',                                 # Used for pipeline 2\n",
    "#         'FEED_URI': '~/Downloads/idearesult-1.json'                        # Used for pipeline 2\n",
    "    }\n",
    "    \n",
    "    def parse(self, response):\n",
    "        \n",
    "        for vivienda in response.xpath('//*[@id=\"main-content\"]/section[1]/article'):\n",
    "  \n",
    "            # comprovem que no sigui un anunci\n",
    "    \n",
    "            if vivienda.attrib['class'] != 'adv noHover':\n",
    "                viv = Vivienda()\n",
    "\n",
    "                viv['links'] = vivienda.xpath('.//div/a/@href').getall()\n",
    "                viv['precio'] = ''.join(re.findall(r'\\d+', vivienda.xpath('.//span [@class=\"item-price h2-simulated\"]/text()').get()))\n",
    "                if vivienda.xpath('.//span [@class=\"pricedown_price\"]/text()').get():\n",
    "                    viv['precio_ant'] = ''.join(re.findall(r'\\d+', vivienda.xpath('.//span [@class=\"pricedown_price\"]/text()').get()))\n",
    "                viv['nombre'] = vivienda.xpath('.//div[@class=\"item-info-container\"]/a/@title').get()\n",
    "\n",
    "                for det, car in zip(vivienda.xpath('.//span [@class=\"item-detail\"]/text()').getall(),\n",
    "                                    vivienda.xpath('.//span [@class=\"item-detail\"]/small/text()').getall()):\n",
    "                    if 'hab.' in car:\n",
    "                        viv['habitaciones'] = int(det)\n",
    "                    elif 'm²' in car:\n",
    "                        viv['superficie'] = int(det)\n",
    "                    else:\n",
    "                        viv['otros'] = \"\".join([det, car])\n",
    "\n",
    "                viv['desc'] = vivienda.xpath('.//div[@class=\"item-description description\"]/p//text()').get().strip().replace(\"\\n\", \". \")\n",
    "                yield viv\n",
    "            \n",
    "        # request de la pàgina següent    \n",
    "        seguent = response.xpath('//*[@id=\"main-content\"]/section[1]/div/ul/li[8]/a/@href')\n",
    "        if seguent:\n",
    "            seguent_url = response.urljoin(seguent.get())\n",
    "            request = scrapy.Request(url=seguent_url, )\n",
    "            yield request\n",
    "\n",
    "        \n"
   ]
  },
  {
   "cell_type": "markdown",
   "id": "32e39674-b580-4672-b471-9fcc6560e84f",
   "metadata": {},
   "source": [
    "links = ``` l.xpath('.//div/a/@href').getall() ```  \n",
    "precio = ```l.xpath('.//span [@class=\"item-price h2-simulated\"]/text()').get()```\n",
    "precio_ant = ```l.xpath('.//span [@class=\"pricedown_price\"]/text()').get()```\n",
    "nombre = ```l.xpath('.//div[@class=\"item-info-container\"]/a/@title').get()```  \n",
    "habitaciones =   \n",
    "superficie =\n",
    "caracter_princ = \n",
    "desc = \n",
    "\n",
    "\n",
    "```python \n",
    "In[59]: lista[0].xpath('.//div[@class=\"item-info-container\"]/a/@title').get()\n",
    "Out[59]: \"Piso en El Camp d'En Grassot i Gràcia Nova, Barcelona\"\n",
    "\n",
    "    \n",
    "In [95]: lista[0].xpath('.//span [@class=\"item-price h2-simulated\"]/text()').get()\n",
    "Out[95]: '480.000'\n",
    "\n",
    "In [97]: lista[\n",
    "Out[97]: '\\n495.000 €\\n'\n",
    "    \n",
    "In [98]: lista[0].xpath('.//span [@class=\"item-detail\"]/text()').getall()\n",
    "Out[98]: ['4 ', '126 ', 'Planta 5ª ']\n",
    "\n",
    "In [103]: lista[0].xpath('.//span [@class=\"item-detail\"]').getall()\n",
    "Out[103]: \n",
    "['<span class=\"item-detail\">4 <small>hab.</small></span>',\n",
    " '<span class=\"item-detail\">126 <small>m²</small></span>',\n",
    " '<span class=\"item-detail\">Planta 5ª <small>exterior con ascensor</small></span>']\n",
    "\n",
    "In [159]: lista[0].xpath('.//span [@class=\"item-detail\"]/text()').getall()\n",
    "Out[159]: ['4 ', '126 ', 'Planta 5ª ']\n",
    "\n",
    "In [160]: lista[0].xpath('.//span [@class=\"item-detail\"]//text()').getall()\n",
    "Out[160]: ['4 ', 'hab.', '126 ', 'm²', 'Planta 5ª ', 'exterior con ascensor']\n",
    "\n",
    "In [161]: lista[0].xpath('.//span [@class=\"item-detail\"]/small/text()').getall()\n",
    "Out[161]: ['hab.', 'm²', 'exterior con ascensor']\n",
    "\n",
    "In [162]: \n",
    "\n",
    "In [199]: lista[0].xpath('.//div[@class=\"item-description description\"]/p//text()').get().strip().re\n",
    "     ...: place(\"\\n\", \". \")\n",
    "Out[199]: 'Amplio y luminoso piso en Gràcia Nova. Luminosa y confortable vivienda de 126 m2 construidos que disfruta de orientación sureste (sol de...'\n",
    "```\n"
   ]
  },
  {
   "cell_type": "markdown",
   "id": "6884f2d0-e381-42bc-a346-c0f2aa9e029f",
   "metadata": {},
   "source": [
    "Selector: \n",
    "```css\n",
    "#main-content > section.items-container.discard-animation-core-vitals\n",
    "```\n",
    "\n",
    "#main-content > section.items-container.discard-animation-core-vitals > article:nth-child(1) > div > a\n"
   ]
  },
  {
   "cell_type": "code",
   "execution_count": 4,
   "id": "2aefe6ed-8aba-49ab-a57e-6c065ce4e354",
   "metadata": {
    "tags": []
   },
   "outputs": [
    {
     "name": "stderr",
     "output_type": "stream",
     "text": [
      "2021-07-17 20:43:07 [scrapy.utils.log] INFO: Scrapy 2.5.0 started (bot: scrapybot)\n",
      "2021-07-17 20:43:07 [scrapy.utils.log] INFO: Versions: lxml 4.6.3.0, libxml2 2.9.4, cssselect 1.1.0, parsel 1.6.0, w3lib 1.22.0, Twisted 21.2.0, Python 3.9.6 | packaged by conda-forge | (default, Jul 11 2021, 03:35:11) - [Clang 11.1.0 ], pyOpenSSL 20.0.1 (OpenSSL 1.1.1k  25 Mar 2021), cryptography 3.4.7, Platform macOS-11.4-arm64-arm-64bit\n",
      "2021-07-17 20:43:07 [scrapy.utils.log] DEBUG: Using reactor: twisted.internet.selectreactor.SelectReactor\n",
      "2021-07-17 20:43:07 [scrapy.crawler] INFO: Overridden settings:\n",
      "{'CLOSESPIDER_PAGECOUNT': 3,\n",
      " 'DOWNLOAD_DELAY': 15,\n",
      " 'LOG_LEVEL': 30,\n",
      " 'USER_AGENT': 'Mozilla/4.0 (compatible; MSIE 7.0; Windows NT 5.1)'}\n"
     ]
    }
   ],
   "source": [
    "process = CrawlerProcess({\n",
    "    'USER_AGENT': 'Mozilla/4.0 (compatible; MSIE 7.0; Windows NT 5.1)'\n",
    "})\n",
    "\n",
    "process.crawl(IdeaSpider)\n",
    "process.start()"
   ]
  },
  {
   "cell_type": "code",
   "execution_count": null,
   "id": "e5590fbb-fbac-441c-b00e-8976978bf4f7",
   "metadata": {},
   "outputs": [],
   "source": []
  }
 ],
 "metadata": {
  "kernelspec": {
   "display_name": "py39_scrapy",
   "language": "python",
   "name": "py39_scrapy"
  },
  "language_info": {
   "codemirror_mode": {
    "name": "ipython",
    "version": 3
   },
   "file_extension": ".py",
   "mimetype": "text/x-python",
   "name": "python",
   "nbconvert_exporter": "python",
   "pygments_lexer": "ipython3",
   "version": "3.9.6"
  }
 },
 "nbformat": 4,
 "nbformat_minor": 5
}
